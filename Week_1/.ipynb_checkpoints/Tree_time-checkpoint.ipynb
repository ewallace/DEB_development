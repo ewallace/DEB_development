{
 "cells": [
  {
   "cell_type": "markdown",
   "id": "f840ebfc",
   "metadata": {},
   "source": [
    "## Class 1\n",
    "Revising basic pandas and seaborn  \n",
    "Revising basic statistical tests  \n",
    "Examining sources of error in data  "
   ]
  },
  {
   "cell_type": "markdown",
   "id": "f0a881d5",
   "metadata": {},
   "source": [
    "### How reliable is your data?"
   ]
  },
  {
   "cell_type": "markdown",
   "id": "0d2658b5",
   "metadata": {},
   "source": [
    "Measuring tree diamenter at breast height (DBH) is a standard ecological measurement.\n",
    "\n",
    "Díaz, S., Kattge, J., Cornelissen, J. et al. The global spectrum of plant form and function. Nature 529, 167–171 (2016). https://doi.org/10.1038/nature16489\n",
    "    \n",
    "    \n",
    "    \n"
   ]
  },
  {
   "cell_type": "markdown",
   "id": "3e267c0f",
   "metadata": {},
   "source": [
    "### Method. \n",
    "https://www.youtube.com/watch?v=JLc4UjOpC0s\n",
    "\n",
    "Using a tape measure or string measure round each tree in the two lines of trees outside Ashworth.  \n",
    "Note whether each tree is a sycamore (lobed leaves) or a beech (smooth margined leaves)  \n",
    "https://www.woodlandtrust.org.uk/trees-woods-and-wildlife/british-trees/\n",
    "\n",
    "Once all the trees have been measured by one person in the group, go round again with a second person measuring.   "
   ]
  },
  {
   "cell_type": "markdown",
   "id": "4edfd19d",
   "metadata": {},
   "source": [
    "### Data Entry. \n",
    "Make a python dataframe for your data from lists of tree number, row, species, DBH"
   ]
  },
  {
   "cell_type": "code",
   "execution_count": 2,
   "id": "3de5db29",
   "metadata": {},
   "outputs": [],
   "source": [
    "# Analysis modules\n",
    "import numpy as np\n",
    "import pandas as pd\n",
    "import matplotlib as mpl\n",
    "import matplotlib.pyplot as plt\n",
    "import seaborn as sns\n",
    "import scipy.stats as stats\n",
    "from scipy.stats import shapiro"
   ]
  },
  {
   "cell_type": "markdown",
   "id": "2514b20c",
   "metadata": {},
   "source": [
    "Enter your data into python lists."
   ]
  },
  {
   "cell_type": "code",
   "execution_count": 3,
   "id": "3425b081",
   "metadata": {},
   "outputs": [],
   "source": [
    "Tree = [1,2,3,4,5,6,7,8,9,10,11,12,13,14,15,16,17,18,19,20]\n",
    "Row = [1,1,1,1,1,1,1,1,1,1,2,2,2,2,2,2,2,2,2,2]\n",
    "Species = ['s','s','s','s','s','b','b','b','b','b','s','s','s','s','s','b','b','b','b','b']\n",
    "P_DBH = [161,139,148,174,107,217,210,219,418,238,134,145,167,122,123,243,256,212,180,190]\n",
    "C_DBH = [162,142,147,175,107,200,206,220,272,233,134,153,166,123,130,256,220,215,178,185]"
   ]
  },
  {
   "cell_type": "markdown",
   "id": "14f56c62",
   "metadata": {},
   "source": [
    "Combine lists into a dataframe"
   ]
  },
  {
   "cell_type": "code",
   "execution_count": 4,
   "id": "147ef047",
   "metadata": {},
   "outputs": [],
   "source": [
    "zipped = list(zip(Tree, Row, Species, P_DBH,C_DBH))\n",
    "df = pd.DataFrame(zipped, columns=['Tree','Row', 'Species', 'P_DBH','C_DBH'])"
   ]
  },
  {
   "cell_type": "markdown",
   "id": "781100f8",
   "metadata": {},
   "source": [
    "We now have a pandas dataframe.  It has an index running along hte left hand, column names on the top.  There are useful fucntions for checkign adn summarising it."
   ]
  },
  {
   "cell_type": "markdown",
   "id": "1e1bc4b2",
   "metadata": {},
   "source": [
    "#### Check things look right"
   ]
  },
  {
   "cell_type": "code",
   "execution_count": 49,
   "id": "ba8a49c8",
   "metadata": {},
   "outputs": [
    {
     "data": {
      "text/plain": [
       "(20, 5)"
      ]
     },
     "execution_count": 49,
     "metadata": {},
     "output_type": "execute_result"
    }
   ],
   "source": [
    "df.shape"
   ]
  },
  {
   "cell_type": "code",
   "execution_count": 50,
   "id": "72f0c431",
   "metadata": {},
   "outputs": [
    {
     "data": {
      "text/html": [
       "<div>\n",
       "<style scoped>\n",
       "    .dataframe tbody tr th:only-of-type {\n",
       "        vertical-align: middle;\n",
       "    }\n",
       "\n",
       "    .dataframe tbody tr th {\n",
       "        vertical-align: top;\n",
       "    }\n",
       "\n",
       "    .dataframe thead th {\n",
       "        text-align: right;\n",
       "    }\n",
       "</style>\n",
       "<table border=\"1\" class=\"dataframe\">\n",
       "  <thead>\n",
       "    <tr style=\"text-align: right;\">\n",
       "      <th></th>\n",
       "      <th>Tree</th>\n",
       "      <th>Row</th>\n",
       "      <th>Species</th>\n",
       "      <th>P_DBH</th>\n",
       "      <th>C_DBH</th>\n",
       "    </tr>\n",
       "  </thead>\n",
       "  <tbody>\n",
       "    <tr>\n",
       "      <th>0</th>\n",
       "      <td>1</td>\n",
       "      <td>1</td>\n",
       "      <td>s</td>\n",
       "      <td>161</td>\n",
       "      <td>162</td>\n",
       "    </tr>\n",
       "    <tr>\n",
       "      <th>1</th>\n",
       "      <td>2</td>\n",
       "      <td>1</td>\n",
       "      <td>s</td>\n",
       "      <td>139</td>\n",
       "      <td>142</td>\n",
       "    </tr>\n",
       "    <tr>\n",
       "      <th>2</th>\n",
       "      <td>3</td>\n",
       "      <td>1</td>\n",
       "      <td>s</td>\n",
       "      <td>148</td>\n",
       "      <td>147</td>\n",
       "    </tr>\n",
       "  </tbody>\n",
       "</table>\n",
       "</div>"
      ],
      "text/plain": [
       "   Tree  Row Species  P_DBH  C_DBH\n",
       "0     1    1       s    161    162\n",
       "1     2    1       s    139    142\n",
       "2     3    1       s    148    147"
      ]
     },
     "execution_count": 50,
     "metadata": {},
     "output_type": "execute_result"
    }
   ],
   "source": [
    "df.head(3)"
   ]
  },
  {
   "cell_type": "markdown",
   "id": "ebbbdd72",
   "metadata": {},
   "source": [
    "Summarising"
   ]
  },
  {
   "cell_type": "code",
   "execution_count": 43,
   "id": "e73fd0e4",
   "metadata": {},
   "outputs": [
    {
     "data": {
      "text/html": [
       "<div>\n",
       "<style scoped>\n",
       "    .dataframe tbody tr th:only-of-type {\n",
       "        vertical-align: middle;\n",
       "    }\n",
       "\n",
       "    .dataframe tbody tr th {\n",
       "        vertical-align: top;\n",
       "    }\n",
       "\n",
       "    .dataframe thead th {\n",
       "        text-align: right;\n",
       "    }\n",
       "</style>\n",
       "<table border=\"1\" class=\"dataframe\">\n",
       "  <thead>\n",
       "    <tr style=\"text-align: right;\">\n",
       "      <th></th>\n",
       "      <th>Tree</th>\n",
       "      <th>Row</th>\n",
       "      <th>P_DBH</th>\n",
       "      <th>C_DBH</th>\n",
       "    </tr>\n",
       "  </thead>\n",
       "  <tbody>\n",
       "    <tr>\n",
       "      <th>count</th>\n",
       "      <td>20.00000</td>\n",
       "      <td>20.000000</td>\n",
       "      <td>20.000000</td>\n",
       "      <td>20.000000</td>\n",
       "    </tr>\n",
       "    <tr>\n",
       "      <th>mean</th>\n",
       "      <td>10.50000</td>\n",
       "      <td>1.500000</td>\n",
       "      <td>190.150000</td>\n",
       "      <td>181.200000</td>\n",
       "    </tr>\n",
       "    <tr>\n",
       "      <th>std</th>\n",
       "      <td>5.91608</td>\n",
       "      <td>0.512989</td>\n",
       "      <td>69.267046</td>\n",
       "      <td>45.625016</td>\n",
       "    </tr>\n",
       "    <tr>\n",
       "      <th>min</th>\n",
       "      <td>1.00000</td>\n",
       "      <td>1.000000</td>\n",
       "      <td>107.000000</td>\n",
       "      <td>107.000000</td>\n",
       "    </tr>\n",
       "    <tr>\n",
       "      <th>25%</th>\n",
       "      <td>5.75000</td>\n",
       "      <td>1.000000</td>\n",
       "      <td>143.500000</td>\n",
       "      <td>145.750000</td>\n",
       "    </tr>\n",
       "    <tr>\n",
       "      <th>50%</th>\n",
       "      <td>10.50000</td>\n",
       "      <td>1.500000</td>\n",
       "      <td>177.000000</td>\n",
       "      <td>176.500000</td>\n",
       "    </tr>\n",
       "    <tr>\n",
       "      <th>75%</th>\n",
       "      <td>15.25000</td>\n",
       "      <td>2.000000</td>\n",
       "      <td>217.500000</td>\n",
       "      <td>216.250000</td>\n",
       "    </tr>\n",
       "    <tr>\n",
       "      <th>max</th>\n",
       "      <td>20.00000</td>\n",
       "      <td>2.000000</td>\n",
       "      <td>418.000000</td>\n",
       "      <td>272.000000</td>\n",
       "    </tr>\n",
       "  </tbody>\n",
       "</table>\n",
       "</div>"
      ],
      "text/plain": [
       "           Tree        Row       P_DBH       C_DBH\n",
       "count  20.00000  20.000000   20.000000   20.000000\n",
       "mean   10.50000   1.500000  190.150000  181.200000\n",
       "std     5.91608   0.512989   69.267046   45.625016\n",
       "min     1.00000   1.000000  107.000000  107.000000\n",
       "25%     5.75000   1.000000  143.500000  145.750000\n",
       "50%    10.50000   1.500000  177.000000  176.500000\n",
       "75%    15.25000   2.000000  217.500000  216.250000\n",
       "max    20.00000   2.000000  418.000000  272.000000"
      ]
     },
     "execution_count": 43,
     "metadata": {},
     "output_type": "execute_result"
    }
   ],
   "source": [
    "df.describe()"
   ]
  },
  {
   "cell_type": "markdown",
   "id": "0e9fe363",
   "metadata": {},
   "source": [
    "Each column in the dataframe is a series.  This is a bit like a python list, but has an order, index and, like dataframes, there are functions to describe and summarise them.  A sereis can be called in different ways.  It can be assigned to a variable:"
   ]
  },
  {
   "cell_type": "code",
   "execution_count": 5,
   "id": "4f02d9f7",
   "metadata": {},
   "outputs": [],
   "source": [
    "P = df[\"P_DBH\"]"
   ]
  },
  {
   "cell_type": "code",
   "execution_count": 6,
   "id": "52bd77e3",
   "metadata": {},
   "outputs": [
    {
     "data": {
      "text/plain": [
       "418"
      ]
     },
     "execution_count": 6,
     "metadata": {},
     "output_type": "execute_result"
    }
   ],
   "source": [
    "max(P)"
   ]
  },
  {
   "cell_type": "code",
   "execution_count": 10,
   "id": "de769a93",
   "metadata": {},
   "outputs": [
    {
     "data": {
      "text/plain": [
       "418"
      ]
     },
     "execution_count": 10,
     "metadata": {},
     "output_type": "execute_result"
    }
   ],
   "source": [
    "P.max()"
   ]
  },
  {
   "cell_type": "markdown",
   "id": "3a749a35",
   "metadata": {},
   "source": [
    "Or called directly within a function, either explictly:"
   ]
  },
  {
   "cell_type": "code",
   "execution_count": 7,
   "id": "0b33d9de",
   "metadata": {},
   "outputs": [
    {
     "data": {
      "text/plain": [
       "418"
      ]
     },
     "execution_count": 7,
     "metadata": {},
     "output_type": "execute_result"
    }
   ],
   "source": [
    "max(df[\"P_DBH\"])"
   ]
  },
  {
   "cell_type": "markdown",
   "id": "037f6c50",
   "metadata": {},
   "source": [
    "Or simply (if the column. name has no spaces, or odd characters)"
   ]
  },
  {
   "cell_type": "code",
   "execution_count": 8,
   "id": "a8195a61",
   "metadata": {},
   "outputs": [
    {
     "data": {
      "text/plain": [
       "418"
      ]
     },
     "execution_count": 8,
     "metadata": {},
     "output_type": "execute_result"
    }
   ],
   "source": [
    "max(df.P_DBH)"
   ]
  },
  {
   "cell_type": "markdown",
   "id": "eb775538",
   "metadata": {},
   "source": [
    "Other functions you can use to summarise a series:  \n",
    "    \n",
    "    P.min()\n",
    "    P.mean()\n",
    "    P.median()\n",
    "    P.std()\n",
    "    P.skew()\n",
    "    P.quantile(0.5)\n",
    "    P.nlargest(3)\n",
    "    P.sample(2)\n",
    "    P.head(3\n",
    "    P.value_counts()\n",
    "    \n",
    "    "
   ]
  },
  {
   "cell_type": "markdown",
   "id": "2cec2c32",
   "metadata": {},
   "source": [
    "### Do we have reliable measures?"
   ]
  },
  {
   "cell_type": "code",
   "execution_count": 53,
   "id": "339ba580",
   "metadata": {},
   "outputs": [
    {
     "data": {
      "image/png": "[encoded data removed]",
      "text/plain": [
       "<Figure size 432x288 with 1 Axes>"
      ]
     },
     "metadata": {
      "needs_background": "light"
     },
     "output_type": "display_data"
    }
   ],
   "source": [
    "ax = sns.regplot(x=\"P_DBH\", y=\"C_DBH\", data=df)"
   ]
  },
  {
   "cell_type": "markdown",
   "id": "e488862f",
   "metadata": {},
   "source": [
    "We will exclude the outlier (low crown)"
   ]
  },
  {
   "cell_type": "code",
   "execution_count": 51,
   "id": "f465f642",
   "metadata": {},
   "outputs": [],
   "source": [
    "df = df[df.P_DBH < 400]"
   ]
  },
  {
   "cell_type": "code",
   "execution_count": 52,
   "id": "bb5e78eb",
   "metadata": {},
   "outputs": [
    {
     "data": {
      "image/png": "[encoded data removed]",
      "text/plain": [
       "<Figure size 432x288 with 1 Axes>"
      ]
     },
     "metadata": {
      "needs_background": "light"
     },
     "output_type": "display_data"
    }
   ],
   "source": [
    "ax = sns.regplot(x=\"P_DBH\", y=\"C_DBH\", data=df)"
   ]
  },
  {
   "cell_type": "markdown",
   "id": "131c72e0",
   "metadata": {},
   "source": [
    "Better!  \n",
    "More variation on larger trees. "
   ]
  },
  {
   "cell_type": "markdown",
   "id": "da999f5a",
   "metadata": {},
   "source": [
    "Are there significant differeneces between the measures by each person?"
   ]
  },
  {
   "cell_type": "markdown",
   "id": "7bebb7b2",
   "metadata": {},
   "source": [
    "#### Paired t test\n",
    "Assumptions:  \n",
    "Continous dependent variable  \n",
    "Independant observations   \n",
    "Normally distributed dependent variable (at least largely - the test is quite robust to this)  \n",
    "No major outliers  "
   ]
  },
  {
   "cell_type": "markdown",
   "id": "e71dfc9b",
   "metadata": {},
   "source": [
    "Check normalcy of data"
   ]
  },
  {
   "cell_type": "code",
   "execution_count": 54,
   "id": "c17390d0",
   "metadata": {},
   "outputs": [
    {
     "data": {
      "text/plain": [
       "<AxesSubplot:xlabel='P_DBH', ylabel='Count'>"
      ]
     },
     "execution_count": 54,
     "metadata": {},
     "output_type": "execute_result"
    },
    {
     "data": {
      "image/png": "[encoded data removed]",
      "text/plain": [
       "<Figure size 432x288 with 1 Axes>"
      ]
     },
     "metadata": {
      "needs_background": "light"
     },
     "output_type": "display_data"
    }
   ],
   "source": [
    "sns.histplot(data=df, x='P_DBH')"
   ]
  },
  {
   "cell_type": "code",
   "execution_count": 56,
   "id": "ffb8e485",
   "metadata": {},
   "outputs": [
    {
     "name": "stdout",
     "output_type": "stream",
     "text": [
      "Statistics=0.957, p=0.518\n",
      "Sample looks Gaussian (fail to reject H0)\n"
     ]
    }
   ],
   "source": [
    "# test for P's measures\n",
    "stat, p = shapiro(df['P_DBH'])\n",
    "print('Statistics=%.3f, p=%.3f' % (stat, p))\n",
    "\n",
    "alpha = 0.05\n",
    "if p > alpha:\n",
    "\tprint('Sample looks Gaussian (fail to reject H0)')\n",
    "else:\n",
    "\tprint('Sample does not look Gaussian (reject H0)')"
   ]
  },
  {
   "cell_type": "code",
   "execution_count": 55,
   "id": "1a4e1d51",
   "metadata": {},
   "outputs": [
    {
     "data": {
      "text/plain": [
       "<AxesSubplot:xlabel='C_DBH', ylabel='Count'>"
      ]
     },
     "execution_count": 55,
     "metadata": {},
     "output_type": "execute_result"
    },
    {
     "data": {
      "image/png": "[encoded data removed]",
      "text/plain": [
       "<Figure size 432x288 with 1 Axes>"
      ]
     },
     "metadata": {
      "needs_background": "light"
     },
     "output_type": "display_data"
    }
   ],
   "source": [
    "sns.histplot(data=df, x='C_DBH')"
   ]
  },
  {
   "cell_type": "code",
   "execution_count": 57,
   "id": "12f43bac",
   "metadata": {},
   "outputs": [
    {
     "name": "stdout",
     "output_type": "stream",
     "text": [
      "Statistics=0.976, p=0.884\n",
      "Sample looks Gaussian (fail to reject H0)\n"
     ]
    }
   ],
   "source": [
    "# test for C's measures\n",
    "stat, p = shapiro(df['C_DBH'])\n",
    "print('Statistics=%.3f, p=%.3f' % (stat, p))\n",
    "\n",
    "alpha = 0.05\n",
    "if p > alpha:\n",
    "\tprint('Sample looks Gaussian (fail to reject H0)')\n",
    "else:\n",
    "\tprint('Sample does not look Gaussian (reject H0)')"
   ]
  },
  {
   "cell_type": "code",
   "execution_count": 58,
   "id": "fbd1ec75",
   "metadata": {},
   "outputs": [
    {
     "data": {
      "text/plain": [
       "Ttest_relResult(statistic=-0.736166309298441, pvalue=0.47111523804332167)"
      ]
     },
     "execution_count": 58,
     "metadata": {},
     "output_type": "execute_result"
    }
   ],
   "source": [
    "stats.ttest_rel(df['C_DBH'], df['P_DBH'])"
   ]
  },
  {
   "cell_type": "markdown",
   "id": "24c0eb34",
   "metadata": {},
   "source": [
    "Cannot reject the null hypothesis - the two sets of measurements are not significantly different"
   ]
  },
  {
   "cell_type": "markdown",
   "id": "0a73e129",
   "metadata": {},
   "source": [
    "#### Average the two measurements"
   ]
  },
  {
   "cell_type": "code",
   "execution_count": 8,
   "id": "81d4781d",
   "metadata": {},
   "outputs": [],
   "source": [
    "df['Av_DBH'] = df[['C_DBH','P_DBH']].mean(axis=1)"
   ]
  },
  {
   "cell_type": "code",
   "execution_count": 59,
   "id": "c20963ec",
   "metadata": {},
   "outputs": [
    {
     "data": {
      "text/html": [
       "<div>\n",
       "<style scoped>\n",
       "    .dataframe tbody tr th:only-of-type {\n",
       "        vertical-align: middle;\n",
       "    }\n",
       "\n",
       "    .dataframe tbody tr th {\n",
       "        vertical-align: top;\n",
       "    }\n",
       "\n",
       "    .dataframe thead th {\n",
       "        text-align: right;\n",
       "    }\n",
       "</style>\n",
       "<table border=\"1\" class=\"dataframe\">\n",
       "  <thead>\n",
       "    <tr style=\"text-align: right;\">\n",
       "      <th></th>\n",
       "      <th>Tree</th>\n",
       "      <th>Row</th>\n",
       "      <th>Species</th>\n",
       "      <th>P_DBH</th>\n",
       "      <th>C_DBH</th>\n",
       "      <th>Av_DBH</th>\n",
       "    </tr>\n",
       "  </thead>\n",
       "  <tbody>\n",
       "    <tr>\n",
       "      <th>0</th>\n",
       "      <td>1</td>\n",
       "      <td>1</td>\n",
       "      <td>Acer_pseudoplatanus</td>\n",
       "      <td>161</td>\n",
       "      <td>162</td>\n",
       "      <td>161.5</td>\n",
       "    </tr>\n",
       "    <tr>\n",
       "      <th>1</th>\n",
       "      <td>2</td>\n",
       "      <td>1</td>\n",
       "      <td>Acer_pseudoplatanus</td>\n",
       "      <td>139</td>\n",
       "      <td>142</td>\n",
       "      <td>140.5</td>\n",
       "    </tr>\n",
       "    <tr>\n",
       "      <th>2</th>\n",
       "      <td>3</td>\n",
       "      <td>1</td>\n",
       "      <td>Acer_pseudoplatanus</td>\n",
       "      <td>148</td>\n",
       "      <td>147</td>\n",
       "      <td>147.5</td>\n",
       "    </tr>\n",
       "  </tbody>\n",
       "</table>\n",
       "</div>"
      ],
      "text/plain": [
       "   Tree  Row              Species  P_DBH  C_DBH  Av_DBH\n",
       "0     1    1  Acer_pseudoplatanus    161    162   161.5\n",
       "1     2    1  Acer_pseudoplatanus    139    142   140.5\n",
       "2     3    1  Acer_pseudoplatanus    148    147   147.5"
      ]
     },
     "execution_count": 59,
     "metadata": {},
     "output_type": "execute_result"
    }
   ],
   "source": [
    "df.head(3)"
   ]
  },
  {
   "cell_type": "markdown",
   "id": "a58cb0c4",
   "metadata": {},
   "source": [
    "### Are the species different?"
   ]
  },
  {
   "cell_type": "markdown",
   "id": "6e4d5503",
   "metadata": {},
   "source": [
    "Give species names not letters"
   ]
  },
  {
   "cell_type": "code",
   "execution_count": 15,
   "id": "5e384465",
   "metadata": {},
   "outputs": [],
   "source": [
    "df['Species'] = df['Species'].replace({'s':'Acer_pseudoplatanus', 'b':'Fagus_sylvatica'})"
   ]
  },
  {
   "cell_type": "code",
   "execution_count": 16,
   "id": "7333d320",
   "metadata": {},
   "outputs": [
    {
     "data": {
      "text/html": [
       "<div>\n",
       "<style scoped>\n",
       "    .dataframe tbody tr th:only-of-type {\n",
       "        vertical-align: middle;\n",
       "    }\n",
       "\n",
       "    .dataframe tbody tr th {\n",
       "        vertical-align: top;\n",
       "    }\n",
       "\n",
       "    .dataframe thead th {\n",
       "        text-align: right;\n",
       "    }\n",
       "</style>\n",
       "<table border=\"1\" class=\"dataframe\">\n",
       "  <thead>\n",
       "    <tr style=\"text-align: right;\">\n",
       "      <th></th>\n",
       "      <th>Tree</th>\n",
       "      <th>Row</th>\n",
       "      <th>P_DBH</th>\n",
       "      <th>C_DBH</th>\n",
       "      <th>Av_DBH</th>\n",
       "    </tr>\n",
       "    <tr>\n",
       "      <th>Species</th>\n",
       "      <th></th>\n",
       "      <th></th>\n",
       "      <th></th>\n",
       "      <th></th>\n",
       "      <th></th>\n",
       "    </tr>\n",
       "  </thead>\n",
       "  <tbody>\n",
       "    <tr>\n",
       "      <th>Acer_pseudoplatanus</th>\n",
       "      <td>8.000000</td>\n",
       "      <td>1.500000</td>\n",
       "      <td>142.000000</td>\n",
       "      <td>143.900000</td>\n",
       "      <td>142.950000</td>\n",
       "    </tr>\n",
       "    <tr>\n",
       "      <th>Fagus_sylvatica</th>\n",
       "      <td>13.444444</td>\n",
       "      <td>1.555556</td>\n",
       "      <td>218.333333</td>\n",
       "      <td>212.555556</td>\n",
       "      <td>215.444444</td>\n",
       "    </tr>\n",
       "  </tbody>\n",
       "</table>\n",
       "</div>"
      ],
      "text/plain": [
       "                          Tree       Row       P_DBH       C_DBH      Av_DBH\n",
       "Species                                                                     \n",
       "Acer_pseudoplatanus   8.000000  1.500000  142.000000  143.900000  142.950000\n",
       "Fagus_sylvatica      13.444444  1.555556  218.333333  212.555556  215.444444"
      ]
     },
     "execution_count": 16,
     "metadata": {},
     "output_type": "execute_result"
    }
   ],
   "source": [
    "df.groupby('Species').mean()"
   ]
  },
  {
   "cell_type": "code",
   "execution_count": 63,
   "id": "8e9739b2",
   "metadata": {},
   "outputs": [
    {
     "data": {
      "text/plain": [
       "<AxesSubplot:xlabel='Species', ylabel='Av_DBH'>"
      ]
     },
     "execution_count": 63,
     "metadata": {},
     "output_type": "execute_result"
    },
    {
     "data": {
      "image/png": "[encoded data removed]",
      "text/plain": [
       "<Figure size 432x288 with 1 Axes>"
      ]
     },
     "metadata": {
      "needs_background": "light"
     },
     "output_type": "display_data"
    }
   ],
   "source": [
    "sns.swarmplot(x=\"Species\", y=\"Av_DBH\", data=df)"
   ]
  },
  {
   "cell_type": "markdown",
   "id": "9e181f35",
   "metadata": {},
   "source": [
    "Are the DBH measures by species normally distributed?"
   ]
  },
  {
   "cell_type": "code",
   "execution_count": 22,
   "id": "c109fea7",
   "metadata": {},
   "outputs": [],
   "source": [
    "beech = df[df.Species == \"Fagus_sylvatica\"]\n",
    "maple = df[df.Species == \"Acer_pseudoplatanus\"]"
   ]
  },
  {
   "cell_type": "code",
   "execution_count": 20,
   "id": "b47c7f9e",
   "metadata": {},
   "outputs": [
    {
     "data": {
      "text/plain": [
       "<AxesSubplot:xlabel='Av_DBH', ylabel='Count'>"
      ]
     },
     "execution_count": 20,
     "metadata": {},
     "output_type": "execute_result"
    },
    {
     "data": {
      "image/png": "[encoded data removed]",
      "text/plain": [
       "<Figure size 432x288 with 1 Axes>"
      ]
     },
     "metadata": {
      "needs_background": "light"
     },
     "output_type": "display_data"
    }
   ],
   "source": [
    "sns.histplot(data=beech, x='Av_DBH')"
   ]
  },
  {
   "cell_type": "code",
   "execution_count": 23,
   "id": "c94f39ef",
   "metadata": {},
   "outputs": [
    {
     "data": {
      "text/plain": [
       "<AxesSubplot:xlabel='Av_DBH', ylabel='Count'>"
      ]
     },
     "execution_count": 23,
     "metadata": {},
     "output_type": "execute_result"
    },
    {
     "data": {
      "image/png": "[encoded data removed]",
      "text/plain": [
       "<Figure size 432x288 with 1 Axes>"
      ]
     },
     "metadata": {
      "needs_background": "light"
     },
     "output_type": "display_data"
    }
   ],
   "source": [
    "sns.histplot(data=maple, x='Av_DBH')"
   ]
  },
  {
   "cell_type": "markdown",
   "id": "6329ed5b",
   "metadata": {},
   "source": [
    "Don't look very normal.  Use the Shaprio-Wilkes test to check"
   ]
  },
  {
   "cell_type": "code",
   "execution_count": 25,
   "id": "d7221260",
   "metadata": {},
   "outputs": [
    {
     "name": "stdout",
     "output_type": "stream",
     "text": [
      "Statistics=0.963, p=0.828\n",
      "Sample looks Gaussian (fail to reject H0)\n"
     ]
    }
   ],
   "source": [
    "# test for beech\n",
    "stat, p = shapiro(beech['Av_DBH'])\n",
    "print('Statistics=%.3f, p=%.3f' % (stat, p))\n",
    "\n",
    "alpha = 0.05\n",
    "if p > alpha:\n",
    "\tprint('Sample looks Gaussian (fail to reject H0)')\n",
    "else:\n",
    "\tprint('Sample does not look Gaussian (reject H0)')"
   ]
  },
  {
   "cell_type": "code",
   "execution_count": 26,
   "id": "5bf30472",
   "metadata": {},
   "outputs": [
    {
     "name": "stdout",
     "output_type": "stream",
     "text": [
      "Statistics=0.982, p=0.976\n",
      "Sample looks Gaussian (fail to reject H0)\n"
     ]
    }
   ],
   "source": [
    "# ntest for maple\n",
    "stat, p = shapiro(maple['Av_DBH'])\n",
    "print('Statistics=%.3f, p=%.3f' % (stat, p))\n",
    "\n",
    "alpha = 0.05\n",
    "if p > alpha:\n",
    "\tprint('Sample looks Gaussian (fail to reject H0)')\n",
    "else:\n",
    "\tprint('Sample does not look Gaussian (reject H0)')"
   ]
  },
  {
   "cell_type": "markdown",
   "id": "976dacc5",
   "metadata": {},
   "source": [
    "With this confirmation that the DBH distributions are unlikely to be non-normal we'll use a t-test to see if the two species differ in DBH"
   ]
  },
  {
   "cell_type": "markdown",
   "id": "31b6d50b",
   "metadata": {},
   "source": [
    "### T-test"
   ]
  },
  {
   "cell_type": "code",
   "execution_count": 68,
   "id": "afd2600b",
   "metadata": {},
   "outputs": [
    {
     "data": {
      "text/plain": [
       "Ttest_indResult(statistic=-7.1309619006666205, pvalue=1.6834757981392824e-06)"
      ]
     },
     "execution_count": 68,
     "metadata": {},
     "output_type": "execute_result"
    }
   ],
   "source": [
    "stats.ttest_ind(df['Av_DBH'][df['Species'] == 'Acer_pseudoplatanus'],\n",
    "                df['Av_DBH'][df['Species'] == 'Fagus_sylvatica'])"
   ]
  },
  {
   "cell_type": "markdown",
   "id": "ef65aa69",
   "metadata": {},
   "source": [
    "### Are the rows different?"
   ]
  },
  {
   "cell_type": "code",
   "execution_count": 64,
   "id": "15383a1e",
   "metadata": {},
   "outputs": [
    {
     "data": {
      "text/html": [
       "<div>\n",
       "<style scoped>\n",
       "    .dataframe tbody tr th:only-of-type {\n",
       "        vertical-align: middle;\n",
       "    }\n",
       "\n",
       "    .dataframe tbody tr th {\n",
       "        vertical-align: top;\n",
       "    }\n",
       "\n",
       "    .dataframe thead th {\n",
       "        text-align: right;\n",
       "    }\n",
       "</style>\n",
       "<table border=\"1\" class=\"dataframe\">\n",
       "  <thead>\n",
       "    <tr style=\"text-align: right;\">\n",
       "      <th></th>\n",
       "      <th>Tree</th>\n",
       "      <th>P_DBH</th>\n",
       "      <th>C_DBH</th>\n",
       "      <th>Av_DBH</th>\n",
       "    </tr>\n",
       "    <tr>\n",
       "      <th>Row</th>\n",
       "      <th></th>\n",
       "      <th></th>\n",
       "      <th></th>\n",
       "      <th></th>\n",
       "    </tr>\n",
       "  </thead>\n",
       "  <tbody>\n",
       "    <tr>\n",
       "      <th>1</th>\n",
       "      <td>5.111111</td>\n",
       "      <td>179.222222</td>\n",
       "      <td>176.888889</td>\n",
       "      <td>178.055556</td>\n",
       "    </tr>\n",
       "    <tr>\n",
       "      <th>2</th>\n",
       "      <td>15.500000</td>\n",
       "      <td>177.200000</td>\n",
       "      <td>176.000000</td>\n",
       "      <td>176.600000</td>\n",
       "    </tr>\n",
       "  </tbody>\n",
       "</table>\n",
       "</div>"
      ],
      "text/plain": [
       "          Tree       P_DBH       C_DBH      Av_DBH\n",
       "Row                                               \n",
       "1     5.111111  179.222222  176.888889  178.055556\n",
       "2    15.500000  177.200000  176.000000  176.600000"
      ]
     },
     "execution_count": 64,
     "metadata": {},
     "output_type": "execute_result"
    }
   ],
   "source": [
    "df.groupby('Row').mean()"
   ]
  },
  {
   "cell_type": "code",
   "execution_count": 65,
   "id": "6c70ece9",
   "metadata": {},
   "outputs": [
    {
     "data": {
      "text/plain": [
       "<AxesSubplot:xlabel='Row', ylabel='Av_DBH'>"
      ]
     },
     "execution_count": 65,
     "metadata": {},
     "output_type": "execute_result"
    },
    {
     "data": {
      "image/png": "[encoded data removed]",
      "text/plain": [
       "<Figure size 432x288 with 1 Axes>"
      ]
     },
     "metadata": {
      "needs_background": "light"
     },
     "output_type": "display_data"
    }
   ],
   "source": [
    "sns.swarmplot(x=\"Row\", y=\"Av_DBH\", data=df)\n"
   ]
  },
  {
   "cell_type": "code",
   "execution_count": 69,
   "id": "d992f308",
   "metadata": {},
   "outputs": [
    {
     "data": {
      "text/plain": [
       "Ttest_indResult(statistic=0.07167791278239664, pvalue=0.9436947593843594)"
      ]
     },
     "execution_count": 69,
     "metadata": {},
     "output_type": "execute_result"
    }
   ],
   "source": [
    "stats.ttest_ind(df['Av_DBH'][df['Row'] == 1],\n",
    "                df['Av_DBH'][df['Row'] == 2])"
   ]
  },
  {
   "cell_type": "code",
   "execution_count": null,
   "id": "d08b137a",
   "metadata": {},
   "outputs": [],
   "source": []
  }
 ],
 "metadata": {
  "kernelspec": {
   "display_name": "Python 3 (ipykernel)",
   "language": "python",
   "name": "python3"
  },
  "language_info": {
   "codemirror_mode": {
    "name": "ipython",
    "version": 3
   },
   "file_extension": ".py",
   "mimetype": "text/x-python",
   "name": "python",
   "nbconvert_exporter": "python",
   "pygments_lexer": "ipython3",
   "version": "3.8.11"
  }
 },
 "nbformat": 4,
 "nbformat_minor": 5
}
