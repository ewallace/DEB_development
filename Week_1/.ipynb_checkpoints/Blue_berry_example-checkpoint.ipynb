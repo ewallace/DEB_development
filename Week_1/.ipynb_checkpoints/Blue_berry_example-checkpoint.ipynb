{
 "cells": [
  {
   "cell_type": "markdown",
   "id": "23827cfe",
   "metadata": {},
   "source": [
    "### Blueberry production"
   ]
  },
  {
   "cell_type": "raw",
   "id": "ff0d4e57",
   "metadata": {},
   "source": []
  },
  {
   "cell_type": "code",
   "execution_count": 2,
   "id": "a93df18c",
   "metadata": {},
   "outputs": [],
   "source": [
    "# Analysis modules\n",
    "import numpy as np\n",
    "import pandas as pd\n",
    "import matplotlib as mpl\n",
    "import matplotlib.pyplot as plt\n",
    "import seaborn as sns"
   ]
  },
  {
   "cell_type": "markdown",
   "id": "1838d1a5",
   "metadata": {},
   "source": [
    "Crop production worldwide for a huge range of crops is available here:\n",
    "\n",
    "    https://www.fao.org/faostat/en/#data/QCL\n",
    "        \n",
    "Download the data for blueberries from North and South America, Europe, Africa and total world production"
   ]
  },
  {
   "cell_type": "code",
   "execution_count": 3,
   "id": "2cfd3043",
   "metadata": {},
   "outputs": [],
   "source": [
    "df = pd.read_csv('../Datasets/FAOSTAT_data_blueberries.csv')"
   ]
  },
  {
   "cell_type": "code",
   "execution_count": 4,
   "id": "caa6486e",
   "metadata": {},
   "outputs": [
    {
     "data": {
      "text/html": [
       "<div>\n",
       "<style scoped>\n",
       "    .dataframe tbody tr th:only-of-type {\n",
       "        vertical-align: middle;\n",
       "    }\n",
       "\n",
       "    .dataframe tbody tr th {\n",
       "        vertical-align: top;\n",
       "    }\n",
       "\n",
       "    .dataframe thead th {\n",
       "        text-align: right;\n",
       "    }\n",
       "</style>\n",
       "<table border=\"1\" class=\"dataframe\">\n",
       "  <thead>\n",
       "    <tr style=\"text-align: right;\">\n",
       "      <th></th>\n",
       "      <th>Domain Code</th>\n",
       "      <th>Domain</th>\n",
       "      <th>Area Code (FAO)</th>\n",
       "      <th>Area</th>\n",
       "      <th>Element Code</th>\n",
       "      <th>Element</th>\n",
       "      <th>Item Code (FAO)</th>\n",
       "      <th>Item</th>\n",
       "      <th>Year Code</th>\n",
       "      <th>Year</th>\n",
       "      <th>Unit</th>\n",
       "      <th>Value</th>\n",
       "      <th>Flag</th>\n",
       "      <th>Flag Description</th>\n",
       "    </tr>\n",
       "  </thead>\n",
       "  <tbody>\n",
       "    <tr>\n",
       "      <th>0</th>\n",
       "      <td>QCL</td>\n",
       "      <td>Crops and livestock products</td>\n",
       "      <td>5000</td>\n",
       "      <td>World</td>\n",
       "      <td>5312</td>\n",
       "      <td>Area harvested</td>\n",
       "      <td>552</td>\n",
       "      <td>Blueberries</td>\n",
       "      <td>1961</td>\n",
       "      <td>1961</td>\n",
       "      <td>ha</td>\n",
       "      <td>3023.0</td>\n",
       "      <td>A</td>\n",
       "      <td>Aggregate, may include official, semi-official...</td>\n",
       "    </tr>\n",
       "    <tr>\n",
       "      <th>1</th>\n",
       "      <td>QCL</td>\n",
       "      <td>Crops and livestock products</td>\n",
       "      <td>5000</td>\n",
       "      <td>World</td>\n",
       "      <td>5312</td>\n",
       "      <td>Area harvested</td>\n",
       "      <td>552</td>\n",
       "      <td>Blueberries</td>\n",
       "      <td>1962</td>\n",
       "      <td>1962</td>\n",
       "      <td>ha</td>\n",
       "      <td>2969.0</td>\n",
       "      <td>A</td>\n",
       "      <td>Aggregate, may include official, semi-official...</td>\n",
       "    </tr>\n",
       "    <tr>\n",
       "      <th>2</th>\n",
       "      <td>QCL</td>\n",
       "      <td>Crops and livestock products</td>\n",
       "      <td>5000</td>\n",
       "      <td>World</td>\n",
       "      <td>5312</td>\n",
       "      <td>Area harvested</td>\n",
       "      <td>552</td>\n",
       "      <td>Blueberries</td>\n",
       "      <td>1963</td>\n",
       "      <td>1963</td>\n",
       "      <td>ha</td>\n",
       "      <td>4147.0</td>\n",
       "      <td>A</td>\n",
       "      <td>Aggregate, may include official, semi-official...</td>\n",
       "    </tr>\n",
       "  </tbody>\n",
       "</table>\n",
       "</div>"
      ],
      "text/plain": [
       "  Domain Code                        Domain  Area Code (FAO)   Area  \\\n",
       "0         QCL  Crops and livestock products             5000  World   \n",
       "1         QCL  Crops and livestock products             5000  World   \n",
       "2         QCL  Crops and livestock products             5000  World   \n",
       "\n",
       "   Element Code         Element  Item Code (FAO)         Item  Year Code  \\\n",
       "0          5312  Area harvested              552  Blueberries       1961   \n",
       "1          5312  Area harvested              552  Blueberries       1962   \n",
       "2          5312  Area harvested              552  Blueberries       1963   \n",
       "\n",
       "   Year Unit   Value Flag                                   Flag Description  \n",
       "0  1961   ha  3023.0    A  Aggregate, may include official, semi-official...  \n",
       "1  1962   ha  2969.0    A  Aggregate, may include official, semi-official...  \n",
       "2  1963   ha  4147.0    A  Aggregate, may include official, semi-official...  "
      ]
     },
     "execution_count": 4,
     "metadata": {},
     "output_type": "execute_result"
    }
   ],
   "source": [
    "df.head(3)"
   ]
  },
  {
   "cell_type": "code",
   "execution_count": 5,
   "id": "0068d3d4",
   "metadata": {},
   "outputs": [
    {
     "data": {
      "text/plain": [
       "(821, 14)"
      ]
     },
     "execution_count": 5,
     "metadata": {},
     "output_type": "execute_result"
    }
   ],
   "source": [
    "df.shape"
   ]
  },
  {
   "cell_type": "markdown",
   "id": "1d20bd42",
   "metadata": {},
   "source": [
    "Check colum names"
   ]
  },
  {
   "cell_type": "code",
   "execution_count": 7,
   "id": "e807c7fe",
   "metadata": {},
   "outputs": [
    {
     "data": {
      "text/plain": [
       "array(['Domain Code', 'Domain', 'Area Code (FAO)', 'Area', 'Element Code',\n",
       "       'Element', 'Item Code (FAO)', 'Item', 'Year Code', 'Year', 'Unit',\n",
       "       'Value', 'Flag', 'Flag Description'], dtype=object)"
      ]
     },
     "execution_count": 7,
     "metadata": {},
     "output_type": "execute_result"
    }
   ],
   "source": [
    "df.columns.values"
   ]
  },
  {
   "cell_type": "markdown",
   "id": "bea5fcfb",
   "metadata": {},
   "source": [
    "Trim to useful columns"
   ]
  },
  {
   "cell_type": "code",
   "execution_count": 8,
   "id": "9066bdef",
   "metadata": {},
   "outputs": [],
   "source": [
    "bb = df[['Area', 'Year','Value']]"
   ]
  },
  {
   "cell_type": "markdown",
   "id": "00d239c4",
   "metadata": {},
   "source": [
    "Rename Value as Hectares"
   ]
  },
  {
   "cell_type": "code",
   "execution_count": 13,
   "id": "49f2cca7",
   "metadata": {},
   "outputs": [],
   "source": [
    "bb = bb.rename(columns = {'Value':'Hectares'}, errors=\"raise\")"
   ]
  },
  {
   "cell_type": "code",
   "execution_count": 14,
   "id": "528ecfaa",
   "metadata": {},
   "outputs": [
    {
     "data": {
      "text/html": [
       "<div>\n",
       "<style scoped>\n",
       "    .dataframe tbody tr th:only-of-type {\n",
       "        vertical-align: middle;\n",
       "    }\n",
       "\n",
       "    .dataframe tbody tr th {\n",
       "        vertical-align: top;\n",
       "    }\n",
       "\n",
       "    .dataframe thead th {\n",
       "        text-align: right;\n",
       "    }\n",
       "</style>\n",
       "<table border=\"1\" class=\"dataframe\">\n",
       "  <thead>\n",
       "    <tr style=\"text-align: right;\">\n",
       "      <th></th>\n",
       "      <th>Area</th>\n",
       "      <th>Year</th>\n",
       "      <th>Hectares</th>\n",
       "    </tr>\n",
       "  </thead>\n",
       "  <tbody>\n",
       "    <tr>\n",
       "      <th>0</th>\n",
       "      <td>World</td>\n",
       "      <td>1961</td>\n",
       "      <td>3023.0</td>\n",
       "    </tr>\n",
       "    <tr>\n",
       "      <th>1</th>\n",
       "      <td>World</td>\n",
       "      <td>1962</td>\n",
       "      <td>2969.0</td>\n",
       "    </tr>\n",
       "    <tr>\n",
       "      <th>2</th>\n",
       "      <td>World</td>\n",
       "      <td>1963</td>\n",
       "      <td>4147.0</td>\n",
       "    </tr>\n",
       "  </tbody>\n",
       "</table>\n",
       "</div>"
      ],
      "text/plain": [
       "    Area  Year  Hectares\n",
       "0  World  1961    3023.0\n",
       "1  World  1962    2969.0\n",
       "2  World  1963    4147.0"
      ]
     },
     "execution_count": 14,
     "metadata": {},
     "output_type": "execute_result"
    }
   ],
   "source": [
    "bb.head(3)"
   ]
  },
  {
   "cell_type": "code",
   "execution_count": 17,
   "id": "e948543f",
   "metadata": {},
   "outputs": [
    {
     "data": {
      "text/plain": [
       "<AxesSubplot:xlabel='Year', ylabel='Hectares'>"
      ]
     },
     "execution_count": 17,
     "metadata": {},
     "output_type": "execute_result"
    },
    {
     "data": {
      "image/png": "[encoded data removed]",
      "text/plain": [
       "<Figure size 432x288 with 1 Axes>"
      ]
     },
     "metadata": {
      "needs_background": "light"
     },
     "output_type": "display_data"
    }
   ],
   "source": [
    "sns.lineplot(data=bb, x=\"Year\", y=\"Hectares\", hue=\"Area\")"
   ]
  },
  {
   "cell_type": "markdown",
   "id": "c8478686",
   "metadata": {},
   "source": [
    "Make this look better"
   ]
  },
  {
   "cell_type": "code",
   "execution_count": null,
   "id": "074aea81",
   "metadata": {},
   "outputs": [],
   "source": []
  }
 ],
 "metadata": {
  "kernelspec": {
   "display_name": "Python 3 (ipykernel)",
   "language": "python",
   "name": "python3"
  },
  "language_info": {
   "codemirror_mode": {
    "name": "ipython",
    "version": 3
   },
   "file_extension": ".py",
   "mimetype": "text/x-python",
   "name": "python",
   "nbconvert_exporter": "python",
   "pygments_lexer": "ipython3",
   "version": "3.8.11"
  }
 },
 "nbformat": 4,
 "nbformat_minor": 5
}
