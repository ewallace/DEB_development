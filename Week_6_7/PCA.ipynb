{
 "cells": [
  {
   "cell_type": "markdown",
   "id": "8c2b5a45",
   "metadata": {},
   "source": [
    "### Simplifying multidimensional data"
   ]
  },
  {
   "cell_type": "markdown",
   "id": "cec733ee",
   "metadata": {},
   "source": [
    "PCA is atechique commonly used to manage multidimensional data by reducing the dimensions.\n",
    "Here is a dataset on the genetics of brown trout populations.\n",
    "\n",
    "Klutsch, Cornelya et al. (2021), STR data from: Temporal analysis shows relaxed genetic erosion following improved stocking practices in a subarctic transnational brown trout population, Dryad, Dataset, https://doi.org/10.5061/dryad.hx3ffbgf7\n",
    "\n",
    "https://doi.org/10.1038/s41598-021-96681-1\n",
    "\n",
    "\n",
    "We used genetic (i.e., 16 short tandem repeats) and morphological (i.e., length and weight) measurements of 593 contemporary and historical brown trout (Salmo trutta) samples to study fine-scale and short-term impacts of different management practices."
   ]
  },
  {
   "cell_type": "markdown",
   "id": "8824752c",
   "metadata": {},
   "source": [
    "The dataset has genotying data for microsatellite (short repeats) in the trout genome, for samples form differnt sites and differnt times.  How do the samples vary?"
   ]
  },
  {
   "cell_type": "code",
   "execution_count": null,
   "id": "faacda88",
   "metadata": {},
   "outputs": [],
   "source": [
    "https://datadryad.org/stash/downloads/file_stream/1221634"
   ]
  }
 ],
 "metadata": {
  "kernelspec": {
   "display_name": "Python 3 (ipykernel)",
   "language": "python",
   "name": "python3"
  },
  "language_info": {
   "codemirror_mode": {
    "name": "ipython",
    "version": 3
   },
   "file_extension": ".py",
   "mimetype": "text/x-python",
   "name": "python",
   "nbconvert_exporter": "python",
   "pygments_lexer": "ipython3",
   "version": "3.8.13"
  }
 },
 "nbformat": 4,
 "nbformat_minor": 5
}
