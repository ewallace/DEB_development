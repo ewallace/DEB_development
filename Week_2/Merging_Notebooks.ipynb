{
 "cells": [
  {
   "cell_type": "code",
   "execution_count": 1,
   "id": "fbd2c9ca",
   "metadata": {},
   "outputs": [],
   "source": [
    "import nbformat\n",
    "\n"
   ]
  },
  {
   "cell_type": "code",
   "execution_count": 2,
   "id": "1a60ed76",
   "metadata": {},
   "outputs": [
    {
     "name": "stdout",
     "output_type": "stream",
     "text": [
      "\u001b[31mClass_3_tidy_data.ipynb\u001b[m\u001b[m  Merging_Notebooks.ipynb\r\n",
      "\u001b[31mClass_4.ipynb\u001b[m\u001b[m            \u001b[31mWeek2_introduction.ipynb\u001b[m\u001b[m\r\n"
     ]
    }
   ],
   "source": [
    "! ls *.ipynb"
   ]
  },
  {
   "cell_type": "code",
   "execution_count": 4,
   "id": "e6bd36ba",
   "metadata": {},
   "outputs": [],
   "source": [
    "# Reading the notebooks\n",
    "first_notebook = nbformat.read('Week2_introduction.ipynb', 4)\n",
    "second_notebook = nbformat.read('Class_3_tidy_data.ipynb', 4)\n",
    "\n",
    "# Creating a new notebook\n",
    "final_notebook = nbformat.v4.new_notebook(metadata=first_notebook.metadata)\n",
    "\n",
    "# Concatenating the notebooks\n",
    "final_notebook.cells = first_notebook.cells + second_notebook.cells\n",
    "\n",
    "# Saving the new notebook \n",
    "nbformat.write(final_notebook, 'Class_3.ipynb')"
   ]
  },
  {
   "cell_type": "code",
   "execution_count": null,
   "id": "d8bfd054",
   "metadata": {},
   "outputs": [],
   "source": []
  }
 ],
 "metadata": {
  "kernelspec": {
   "display_name": "Python 3 (ipykernel)",
   "language": "python",
   "name": "python3"
  },
  "language_info": {
   "codemirror_mode": {
    "name": "ipython",
    "version": 3
   },
   "file_extension": ".py",
   "mimetype": "text/x-python",
   "name": "python",
   "nbconvert_exporter": "python",
   "pygments_lexer": "ipython3",
   "version": "3.8.13"
  }
 },
 "nbformat": 4,
 "nbformat_minor": 5
}
