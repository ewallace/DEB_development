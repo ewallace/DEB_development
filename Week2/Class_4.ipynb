{
 "cells": [
  {
   "cell_type": "markdown",
   "id": "10d03e30",
   "metadata": {},
   "source": [
    "### Cleaning, tidying and re-arranging your data\n",
    "\n",
    "Practice with a real data set"
   ]
  },
  {
   "cell_type": "code",
   "execution_count": 3,
   "id": "418db4b6",
   "metadata": {},
   "outputs": [],
   "source": [
    "# Analysis modules\n",
    "import numpy as np\n",
    "import pandas as pd\n",
    "import matplotlib as mpl\n",
    "import matplotlib.pyplot as plt\n",
    "import seaborn as sns"
   ]
  },
  {
   "cell_type": "code",
   "execution_count": null,
   "id": "1f4424a9",
   "metadata": {},
   "outputs": [],
   "source": []
  },
  {
   "cell_type": "markdown",
   "id": "66ef8d62",
   "metadata": {},
   "source": [
    "### Exploring"
   ]
  },
  {
   "cell_type": "markdown",
   "id": "7609ea3d",
   "metadata": {},
   "source": [
    "Crop production worldwide for a huge range of crops is available here:\n",
    "\n",
    "    https://www.fao.org/faostat/en/#data/QCL\n",
    "        \n",
    "Download the data for blueberries from North and South America, Europe, Africa and total world production"
   ]
  },
  {
   "cell_type": "code",
   "execution_count": 49,
   "id": "22a36590",
   "metadata": {},
   "outputs": [],
   "source": [
    "df = pd.read_csv('../Datasets/FAOSTAT_data_blueberries.csv')"
   ]
  },
  {
   "cell_type": "code",
   "execution_count": 50,
   "id": "b5e016e7",
   "metadata": {},
   "outputs": [
    {
     "data": {
      "text/html": [
       "<div>\n",
       "<style scoped>\n",
       "    .dataframe tbody tr th:only-of-type {\n",
       "        vertical-align: middle;\n",
       "    }\n",
       "\n",
       "    .dataframe tbody tr th {\n",
       "        vertical-align: top;\n",
       "    }\n",
       "\n",
       "    .dataframe thead th {\n",
       "        text-align: right;\n",
       "    }\n",
       "</style>\n",
       "<table border=\"1\" class=\"dataframe\">\n",
       "  <thead>\n",
       "    <tr style=\"text-align: right;\">\n",
       "      <th></th>\n",
       "      <th>Domain Code</th>\n",
       "      <th>Domain</th>\n",
       "      <th>Area Code (FAO)</th>\n",
       "      <th>Area</th>\n",
       "      <th>Element Code</th>\n",
       "      <th>Element</th>\n",
       "      <th>Item Code (FAO)</th>\n",
       "      <th>Item</th>\n",
       "      <th>Year Code</th>\n",
       "      <th>Year</th>\n",
       "      <th>Unit</th>\n",
       "      <th>Value</th>\n",
       "      <th>Flag</th>\n",
       "      <th>Flag Description</th>\n",
       "    </tr>\n",
       "  </thead>\n",
       "  <tbody>\n",
       "    <tr>\n",
       "      <th>0</th>\n",
       "      <td>QCL</td>\n",
       "      <td>Crops and livestock products</td>\n",
       "      <td>10</td>\n",
       "      <td>Australia</td>\n",
       "      <td>5312</td>\n",
       "      <td>Area harvested</td>\n",
       "      <td>552</td>\n",
       "      <td>Blueberries</td>\n",
       "      <td>1991</td>\n",
       "      <td>1991</td>\n",
       "      <td>ha</td>\n",
       "      <td>202.0</td>\n",
       "      <td>Im</td>\n",
       "      <td>FAO data based on imputation methodology</td>\n",
       "    </tr>\n",
       "    <tr>\n",
       "      <th>1</th>\n",
       "      <td>QCL</td>\n",
       "      <td>Crops and livestock products</td>\n",
       "      <td>10</td>\n",
       "      <td>Australia</td>\n",
       "      <td>5312</td>\n",
       "      <td>Area harvested</td>\n",
       "      <td>552</td>\n",
       "      <td>Blueberries</td>\n",
       "      <td>1992</td>\n",
       "      <td>1992</td>\n",
       "      <td>ha</td>\n",
       "      <td>212.0</td>\n",
       "      <td>Im</td>\n",
       "      <td>FAO data based on imputation methodology</td>\n",
       "    </tr>\n",
       "    <tr>\n",
       "      <th>2</th>\n",
       "      <td>QCL</td>\n",
       "      <td>Crops and livestock products</td>\n",
       "      <td>10</td>\n",
       "      <td>Australia</td>\n",
       "      <td>5312</td>\n",
       "      <td>Area harvested</td>\n",
       "      <td>552</td>\n",
       "      <td>Blueberries</td>\n",
       "      <td>1993</td>\n",
       "      <td>1993</td>\n",
       "      <td>ha</td>\n",
       "      <td>NaN</td>\n",
       "      <td>M</td>\n",
       "      <td>Data not available</td>\n",
       "    </tr>\n",
       "  </tbody>\n",
       "</table>\n",
       "</div>"
      ],
      "text/plain": [
       "  Domain Code                        Domain  Area Code (FAO)       Area  \\\n",
       "0         QCL  Crops and livestock products               10  Australia   \n",
       "1         QCL  Crops and livestock products               10  Australia   \n",
       "2         QCL  Crops and livestock products               10  Australia   \n",
       "\n",
       "   Element Code         Element  Item Code (FAO)         Item  Year Code  \\\n",
       "0          5312  Area harvested              552  Blueberries       1991   \n",
       "1          5312  Area harvested              552  Blueberries       1992   \n",
       "2          5312  Area harvested              552  Blueberries       1993   \n",
       "\n",
       "   Year Unit  Value Flag                          Flag Description  \n",
       "0  1991   ha  202.0   Im  FAO data based on imputation methodology  \n",
       "1  1992   ha  212.0   Im  FAO data based on imputation methodology  \n",
       "2  1993   ha    NaN    M                        Data not available  "
      ]
     },
     "execution_count": 50,
     "metadata": {},
     "output_type": "execute_result"
    }
   ],
   "source": [
    "df.head(3)"
   ]
  },
  {
   "cell_type": "code",
   "execution_count": 51,
   "id": "442965ec",
   "metadata": {},
   "outputs": [
    {
     "data": {
      "text/plain": [
       "(3641, 14)"
      ]
     },
     "execution_count": 51,
     "metadata": {},
     "output_type": "execute_result"
    }
   ],
   "source": [
    "df.shape"
   ]
  },
  {
   "cell_type": "code",
   "execution_count": 52,
   "id": "85fb1f7a",
   "metadata": {},
   "outputs": [
    {
     "data": {
      "text/plain": [
       "array(['Domain Code', 'Domain', 'Area Code (FAO)', 'Area', 'Element Code',\n",
       "       'Element', 'Item Code (FAO)', 'Item', 'Year Code', 'Year', 'Unit',\n",
       "       'Value', 'Flag', 'Flag Description'], dtype=object)"
      ]
     },
     "execution_count": 52,
     "metadata": {},
     "output_type": "execute_result"
    }
   ],
   "source": [
    "df.columns.values"
   ]
  },
  {
   "cell_type": "markdown",
   "id": "a66de270",
   "metadata": {},
   "source": [
    "The \"Element\" and \"Unit\" columns are labels for the \"Values\""
   ]
  },
  {
   "cell_type": "code",
   "execution_count": 57,
   "id": "1e62b612",
   "metadata": {},
   "outputs": [
    {
     "data": {
      "text/plain": [
       "array(['Area harvested', 'Yield', 'Production'], dtype=object)"
      ]
     },
     "execution_count": 57,
     "metadata": {},
     "output_type": "execute_result"
    }
   ],
   "source": [
    "df[\"Element\"].unique()"
   ]
  },
  {
   "cell_type": "code",
   "execution_count": 56,
   "id": "c4651e6e",
   "metadata": {},
   "outputs": [
    {
     "data": {
      "text/plain": [
       "array(['ha', 'hg/ha', 'tonnes'], dtype=object)"
      ]
     },
     "execution_count": 56,
     "metadata": {},
     "output_type": "execute_result"
    }
   ],
   "source": [
    "df[\"Unit\"].unique()"
   ]
  },
  {
   "cell_type": "markdown",
   "id": "eae842dd",
   "metadata": {},
   "source": [
    "There is lots of rubbish here we don't need.  \n",
    "We can make a new dataframe from selected columns:"
   ]
  },
  {
   "cell_type": "code",
   "execution_count": 58,
   "id": "568687e3",
   "metadata": {},
   "outputs": [],
   "source": [
    "bb = df[['Area', 'Year','Element', 'Unit','Value']]"
   ]
  },
  {
   "cell_type": "markdown",
   "id": "150b22a8",
   "metadata": {},
   "source": [
    "or drop columns from the dataframe"
   ]
  },
  {
   "cell_type": "code",
   "execution_count": 54,
   "id": "f108fabd",
   "metadata": {},
   "outputs": [],
   "source": [
    "bb = df.drop(columns=['Domain Code', 'Domain', 'Area Code (FAO)', 'Element Code', 'Item Code (FAO)', 'Item', 'Year Code', 'Flag', 'Flag Description'])"
   ]
  },
  {
   "cell_type": "code",
   "execution_count": 59,
   "id": "45266cef",
   "metadata": {},
   "outputs": [
    {
     "data": {
      "text/html": [
       "<div>\n",
       "<style scoped>\n",
       "    .dataframe tbody tr th:only-of-type {\n",
       "        vertical-align: middle;\n",
       "    }\n",
       "\n",
       "    .dataframe tbody tr th {\n",
       "        vertical-align: top;\n",
       "    }\n",
       "\n",
       "    .dataframe thead th {\n",
       "        text-align: right;\n",
       "    }\n",
       "</style>\n",
       "<table border=\"1\" class=\"dataframe\">\n",
       "  <thead>\n",
       "    <tr style=\"text-align: right;\">\n",
       "      <th></th>\n",
       "      <th>Area</th>\n",
       "      <th>Year</th>\n",
       "      <th>Element</th>\n",
       "      <th>Unit</th>\n",
       "      <th>Value</th>\n",
       "    </tr>\n",
       "  </thead>\n",
       "  <tbody>\n",
       "    <tr>\n",
       "      <th>0</th>\n",
       "      <td>Australia</td>\n",
       "      <td>1991</td>\n",
       "      <td>Area harvested</td>\n",
       "      <td>ha</td>\n",
       "      <td>202.0</td>\n",
       "    </tr>\n",
       "    <tr>\n",
       "      <th>1</th>\n",
       "      <td>Australia</td>\n",
       "      <td>1992</td>\n",
       "      <td>Area harvested</td>\n",
       "      <td>ha</td>\n",
       "      <td>212.0</td>\n",
       "    </tr>\n",
       "    <tr>\n",
       "      <th>2</th>\n",
       "      <td>Australia</td>\n",
       "      <td>1993</td>\n",
       "      <td>Area harvested</td>\n",
       "      <td>ha</td>\n",
       "      <td>NaN</td>\n",
       "    </tr>\n",
       "  </tbody>\n",
       "</table>\n",
       "</div>"
      ],
      "text/plain": [
       "        Area  Year         Element Unit  Value\n",
       "0  Australia  1991  Area harvested   ha  202.0\n",
       "1  Australia  1992  Area harvested   ha  212.0\n",
       "2  Australia  1993  Area harvested   ha    NaN"
      ]
     },
     "execution_count": 59,
     "metadata": {},
     "output_type": "execute_result"
    }
   ],
   "source": [
    "bb.head(3)"
   ]
  },
  {
   "cell_type": "markdown",
   "id": "10d137dd",
   "metadata": {},
   "source": [
    "Let's look first at the hectares of land cropped for blueberries.  We'll subset the dataframe to get just the rows with 'Area harvested' in the 'Element' column."
   ]
  },
  {
   "cell_type": "code",
   "execution_count": 61,
   "id": "e15f5ae3",
   "metadata": {},
   "outputs": [],
   "source": [
    "bb_land = bb[bb[\"Element\"]=='Area harvested']"
   ]
  },
  {
   "cell_type": "markdown",
   "id": "d68351bc",
   "metadata": {},
   "source": [
    "Value is a bit ambiguous.   We'll rename it hectares"
   ]
  },
  {
   "cell_type": "code",
   "execution_count": 62,
   "id": "55bd4a30",
   "metadata": {},
   "outputs": [],
   "source": [
    "bb_land = bb_land.rename(columns = {'Value':'Hectares'}, errors=\"raise\")"
   ]
  },
  {
   "cell_type": "markdown",
   "id": "a444b15c",
   "metadata": {},
   "source": [
    "#### Transforming data   "
   ]
  },
  {
   "cell_type": "markdown",
   "id": "bcef4c9b",
   "metadata": {},
   "source": [
    "Let's convert hectares to the international unit of measurement of the size of Wales (or football pitches).  \n",
    "Wales is 2.0779 Million hecatares  \n",
    "A hectares is 1.86 Football pitches  "
   ]
  },
  {
   "cell_type": "code",
   "execution_count": 30,
   "id": "4613d2f2",
   "metadata": {},
   "outputs": [],
   "source": [
    "bb_land[\"Wales\"] = bb_land[\"Hectares\"]/2077900_land"
   ]
  },
  {
   "cell_type": "code",
   "execution_count": 31,
   "id": "a38b70a2",
   "metadata": {},
   "outputs": [],
   "source": [
    "bb_land[\"Pitches\"] = bb_land[\"Hectares\"]*1.86"
   ]
  },
  {
   "cell_type": "code",
   "execution_count": 63,
   "id": "83b12af2",
   "metadata": {},
   "outputs": [
    {
     "data": {
      "text/html": [
       "<div>\n",
       "<style scoped>\n",
       "    .dataframe tbody tr th:only-of-type {\n",
       "        vertical-align: middle;\n",
       "    }\n",
       "\n",
       "    .dataframe tbody tr th {\n",
       "        vertical-align: top;\n",
       "    }\n",
       "\n",
       "    .dataframe thead th {\n",
       "        text-align: right;\n",
       "    }\n",
       "</style>\n",
       "<table border=\"1\" class=\"dataframe\">\n",
       "  <thead>\n",
       "    <tr style=\"text-align: right;\">\n",
       "      <th></th>\n",
       "      <th>Area</th>\n",
       "      <th>Year</th>\n",
       "      <th>Element</th>\n",
       "      <th>Unit</th>\n",
       "      <th>Hectares</th>\n",
       "    </tr>\n",
       "  </thead>\n",
       "  <tbody>\n",
       "    <tr>\n",
       "      <th>0</th>\n",
       "      <td>Australia</td>\n",
       "      <td>1991</td>\n",
       "      <td>Area harvested</td>\n",
       "      <td>ha</td>\n",
       "      <td>202.0</td>\n",
       "    </tr>\n",
       "    <tr>\n",
       "      <th>1</th>\n",
       "      <td>Australia</td>\n",
       "      <td>1992</td>\n",
       "      <td>Area harvested</td>\n",
       "      <td>ha</td>\n",
       "      <td>212.0</td>\n",
       "    </tr>\n",
       "    <tr>\n",
       "      <th>2</th>\n",
       "      <td>Australia</td>\n",
       "      <td>1993</td>\n",
       "      <td>Area harvested</td>\n",
       "      <td>ha</td>\n",
       "      <td>NaN</td>\n",
       "    </tr>\n",
       "  </tbody>\n",
       "</table>\n",
       "</div>"
      ],
      "text/plain": [
       "        Area  Year         Element Unit  Hectares\n",
       "0  Australia  1991  Area harvested   ha     202.0\n",
       "1  Australia  1992  Area harvested   ha     212.0\n",
       "2  Australia  1993  Area harvested   ha       NaN"
      ]
     },
     "execution_count": 63,
     "metadata": {},
     "output_type": "execute_result"
    }
   ],
   "source": [
    "bb_land.head(3)"
   ]
  },
  {
   "cell_type": "code",
   "execution_count": 65,
   "id": "de2af344",
   "metadata": {},
   "outputs": [],
   "source": [
    "bb_land[\"Region\"] = bb_land[\"Area\"]*12"
   ]
  },
  {
   "cell_type": "code",
   "execution_count": 66,
   "id": "d1d7b79c",
   "metadata": {},
   "outputs": [
    {
     "data": {
      "text/html": [
       "<div>\n",
       "<style scoped>\n",
       "    .dataframe tbody tr th:only-of-type {\n",
       "        vertical-align: middle;\n",
       "    }\n",
       "\n",
       "    .dataframe tbody tr th {\n",
       "        vertical-align: top;\n",
       "    }\n",
       "\n",
       "    .dataframe thead th {\n",
       "        text-align: right;\n",
       "    }\n",
       "</style>\n",
       "<table border=\"1\" class=\"dataframe\">\n",
       "  <thead>\n",
       "    <tr style=\"text-align: right;\">\n",
       "      <th></th>\n",
       "      <th>Area</th>\n",
       "      <th>Year</th>\n",
       "      <th>Element</th>\n",
       "      <th>Unit</th>\n",
       "      <th>Hectares</th>\n",
       "      <th>Region</th>\n",
       "    </tr>\n",
       "  </thead>\n",
       "  <tbody>\n",
       "    <tr>\n",
       "      <th>0</th>\n",
       "      <td>Australia</td>\n",
       "      <td>1991</td>\n",
       "      <td>Area harvested</td>\n",
       "      <td>ha</td>\n",
       "      <td>202.0</td>\n",
       "      <td>AustraliaAustraliaAustraliaAustraliaAustraliaA...</td>\n",
       "    </tr>\n",
       "    <tr>\n",
       "      <th>1</th>\n",
       "      <td>Australia</td>\n",
       "      <td>1992</td>\n",
       "      <td>Area harvested</td>\n",
       "      <td>ha</td>\n",
       "      <td>212.0</td>\n",
       "      <td>AustraliaAustraliaAustraliaAustraliaAustraliaA...</td>\n",
       "    </tr>\n",
       "    <tr>\n",
       "      <th>2</th>\n",
       "      <td>Australia</td>\n",
       "      <td>1993</td>\n",
       "      <td>Area harvested</td>\n",
       "      <td>ha</td>\n",
       "      <td>NaN</td>\n",
       "      <td>AustraliaAustraliaAustraliaAustraliaAustraliaA...</td>\n",
       "    </tr>\n",
       "  </tbody>\n",
       "</table>\n",
       "</div>"
      ],
      "text/plain": [
       "        Area  Year         Element Unit  Hectares  \\\n",
       "0  Australia  1991  Area harvested   ha     202.0   \n",
       "1  Australia  1992  Area harvested   ha     212.0   \n",
       "2  Australia  1993  Area harvested   ha       NaN   \n",
       "\n",
       "                                              Region  \n",
       "0  AustraliaAustraliaAustraliaAustraliaAustraliaA...  \n",
       "1  AustraliaAustraliaAustraliaAustraliaAustraliaA...  \n",
       "2  AustraliaAustraliaAustraliaAustraliaAustraliaA...  "
      ]
     },
     "execution_count": 66,
     "metadata": {},
     "output_type": "execute_result"
    }
   ],
   "source": [
    "bb_land.head(3)"
   ]
  },
  {
   "cell_type": "markdown",
   "id": "00f49a54",
   "metadata": {},
   "source": [
    "Tidying that up..."
   ]
  },
  {
   "cell_type": "code",
   "execution_count": 67,
   "id": "9e179cc7",
   "metadata": {},
   "outputs": [
    {
     "data": {
      "text/html": [
       "<div>\n",
       "<style scoped>\n",
       "    .dataframe tbody tr th:only-of-type {\n",
       "        vertical-align: middle;\n",
       "    }\n",
       "\n",
       "    .dataframe tbody tr th {\n",
       "        vertical-align: top;\n",
       "    }\n",
       "\n",
       "    .dataframe thead th {\n",
       "        text-align: right;\n",
       "    }\n",
       "</style>\n",
       "<table border=\"1\" class=\"dataframe\">\n",
       "  <thead>\n",
       "    <tr style=\"text-align: right;\">\n",
       "      <th></th>\n",
       "      <th>Area</th>\n",
       "      <th>Year</th>\n",
       "      <th>Element</th>\n",
       "      <th>Unit</th>\n",
       "      <th>Hectares</th>\n",
       "    </tr>\n",
       "  </thead>\n",
       "  <tbody>\n",
       "    <tr>\n",
       "      <th>0</th>\n",
       "      <td>Australia</td>\n",
       "      <td>1991</td>\n",
       "      <td>Area harvested</td>\n",
       "      <td>ha</td>\n",
       "      <td>202.0</td>\n",
       "    </tr>\n",
       "    <tr>\n",
       "      <th>1</th>\n",
       "      <td>Australia</td>\n",
       "      <td>1992</td>\n",
       "      <td>Area harvested</td>\n",
       "      <td>ha</td>\n",
       "      <td>212.0</td>\n",
       "    </tr>\n",
       "    <tr>\n",
       "      <th>2</th>\n",
       "      <td>Australia</td>\n",
       "      <td>1993</td>\n",
       "      <td>Area harvested</td>\n",
       "      <td>ha</td>\n",
       "      <td>NaN</td>\n",
       "    </tr>\n",
       "  </tbody>\n",
       "</table>\n",
       "</div>"
      ],
      "text/plain": [
       "        Area  Year         Element Unit  Hectares\n",
       "0  Australia  1991  Area harvested   ha     202.0\n",
       "1  Australia  1992  Area harvested   ha     212.0\n",
       "2  Australia  1993  Area harvested   ha       NaN"
      ]
     },
     "execution_count": 67,
     "metadata": {},
     "output_type": "execute_result"
    }
   ],
   "source": [
    "bb_land.drop(columns=['Region'], inplace=True)\n",
    "bb_land.head(3)"
   ]
  },
  {
   "cell_type": "code",
   "execution_count": null,
   "id": "8347a5fa",
   "metadata": {},
   "outputs": [],
   "source": []
  },
  {
   "cell_type": "markdown",
   "id": "39ba782d",
   "metadata": {},
   "source": [
    "Which regions do we have?"
   ]
  },
  {
   "cell_type": "code",
   "execution_count": 101,
   "id": "f3f05e99",
   "metadata": {},
   "outputs": [
    {
     "data": {
      "text/plain": [
       "array(['Australia', 'Austria', 'Belgium', 'Bulgaria', 'Canada', 'China',\n",
       "       'China, Taiwan Province of', 'Croatia', 'Denmark', 'Estonia',\n",
       "       'Finland', 'France', 'Germany', 'Greece', 'Hungary', 'Italy',\n",
       "       'Japan', 'Kyrgyzstan', 'Latvia', 'Lithuania', 'Malta', 'Mexico',\n",
       "       'Morocco', 'Netherlands', 'New Zealand', 'Norway', 'Peru',\n",
       "       'Poland', 'Portugal', 'Romania', 'Russian Federation', 'Slovakia',\n",
       "       'Slovenia', 'Spain', 'Sweden', 'Switzerland', 'Ukraine',\n",
       "       'United States of America', 'USSR', 'Uzbekistan'], dtype=object)"
      ]
     },
     "execution_count": 101,
     "metadata": {},
     "output_type": "execute_result"
    }
   ],
   "source": [
    "bb[\"Area\"].unique()"
   ]
  },
  {
   "cell_type": "markdown",
   "id": "69f06c74",
   "metadata": {},
   "source": [
    "### Lamba functions for transforming data"
   ]
  },
  {
   "cell_type": "code",
   "execution_count": null,
   "id": "0baaf29f",
   "metadata": {},
   "outputs": [],
   "source": [
    "df.rename(index=lambda s: 'Field_' + str(s))"
   ]
  },
  {
   "cell_type": "markdown",
   "id": "8c865696",
   "metadata": {},
   "source": [
    "### Subsetting by Column"
   ]
  },
  {
   "cell_type": "markdown",
   "id": "802978dd",
   "metadata": {},
   "source": [
    "### Subsetting by Row"
   ]
  },
  {
   "cell_type": "markdown",
   "id": "b212fc8b",
   "metadata": {},
   "source": [
    "### Conditional Subsetting"
   ]
  },
  {
   "cell_type": "markdown",
   "id": "5afd3505",
   "metadata": {},
   "source": [
    "### Re-arranging  \n",
    "You have already transformed a dataframe, but oftern much bigger changes are needed.  \n",
    "switching between Long form and wide form"
   ]
  },
  {
   "cell_type": "markdown",
   "id": "560b83e9",
   "metadata": {},
   "source": [
    "### Group by"
   ]
  },
  {
   "cell_type": "code",
   "execution_count": null,
   "id": "a5764c52",
   "metadata": {},
   "outputs": [],
   "source": [
    "### Heirarchical indexing"
   ]
  },
  {
   "cell_type": "code",
   "execution_count": null,
   "id": "91c35875",
   "metadata": {},
   "outputs": [],
   "source": []
  },
  {
   "cell_type": "code",
   "execution_count": null,
   "id": "8c09ba8d",
   "metadata": {},
   "outputs": [],
   "source": []
  },
  {
   "cell_type": "markdown",
   "id": "dbb21701",
   "metadata": {},
   "source": [
    "#### Melting and pivoting"
   ]
  }
 ],
 "metadata": {
  "kernelspec": {
   "display_name": "Python 3 (ipykernel)",
   "language": "python",
   "name": "python3"
  },
  "language_info": {
   "codemirror_mode": {
    "name": "ipython",
    "version": 3
   },
   "file_extension": ".py",
   "mimetype": "text/x-python",
   "name": "python",
   "nbconvert_exporter": "python",
   "pygments_lexer": "ipython3",
   "version": "3.8.11"
  }
 },
 "nbformat": 4,
 "nbformat_minor": 5
}
