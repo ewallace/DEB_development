{
 "cells": [
  {
   "cell_type": "code",
   "execution_count": 2,
   "id": "9ae5c8be",
   "metadata": {},
   "outputs": [
    {
     "name": "stdout",
     "output_type": "stream",
     "text": [
      "Class_5_Plots.ipynb         Merging_notebooks.ipynb\r\n",
      "Class_5_making_charts.ipynb\r\n"
     ]
    }
   ],
   "source": [
    "! ls *.ipynb"
   ]
  },
  {
   "cell_type": "code",
   "execution_count": 3,
   "id": "051da344",
   "metadata": {},
   "outputs": [],
   "source": [
    "import nbformat\n",
    "\n",
    "# Reading the notebooks\n",
    "first_notebook = nbformat.read('Class_5_making_charts.ipynb', 4)\n",
    "second_notebook = nbformat.read('Class_5_Plots.ipynb', 4)\n",
    "\n",
    "# Creating a new notebook\n",
    "final_notebook = nbformat.v4.new_notebook(metadata=first_notebook.metadata)\n",
    "\n",
    "# Concatenating the notebooks\n",
    "final_notebook.cells = first_notebook.cells + second_notebook.cells\n",
    "\n",
    "# Saving the new notebook \n",
    "nbformat.write(final_notebook, 'Class_5.ipynb')"
   ]
  },
  {
   "cell_type": "code",
   "execution_count": null,
   "id": "67876d71",
   "metadata": {},
   "outputs": [],
   "source": []
  }
 ],
 "metadata": {
  "kernelspec": {
   "display_name": "Python 3 (ipykernel)",
   "language": "python",
   "name": "python3"
  },
  "language_info": {
   "codemirror_mode": {
    "name": "ipython",
    "version": 3
   },
   "file_extension": ".py",
   "mimetype": "text/x-python",
   "name": "python",
   "nbconvert_exporter": "python",
   "pygments_lexer": "ipython3",
   "version": "3.8.11"
  }
 },
 "nbformat": 4,
 "nbformat_minor": 5
}
