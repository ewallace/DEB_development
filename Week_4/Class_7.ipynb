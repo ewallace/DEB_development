{
 "cells": [
  {
   "cell_type": "markdown",
   "id": "b0907c6c",
   "metadata": {},
   "source": [
    "## Class 7  \n",
    "### mixing and matching data - joining, merging"
   ]
  },
  {
   "cell_type": "code",
   "execution_count": 1,
   "id": "1a313310",
   "metadata": {},
   "outputs": [],
   "source": [
    "# Analysis modules\n",
    "import numpy as np\n",
    "import pandas as pd\n",
    "import matplotlib as mpl\n",
    "import matplotlib.pyplot as plt\n",
    "import seaborn as sns"
   ]
  },
  {
   "cell_type": "code",
   "execution_count": null,
   "id": "5598e462",
   "metadata": {},
   "outputs": [],
   "source": [
    "### concatening multiple data files with same structure.\n",
    "Example a folder of time series, or individual RNA-Seq outputs\n",
    "May need to add column with file name"
   ]
  },
  {
   "cell_type": "code",
   "execution_count": null,
   "id": "d59b23f8",
   "metadata": {},
   "outputs": [],
   "source": []
  },
  {
   "cell_type": "code",
   "execution_count": null,
   "id": "5d55b2b2",
   "metadata": {},
   "outputs": [],
   "source": [
    "### scraping websites"
   ]
  },
  {
   "cell_type": "code",
   "execution_count": 27,
   "id": "f30c704f",
   "metadata": {},
   "outputs": [],
   "source": [
    "# Downloading contents of the web page\n",
    "url = \"https://www.climatestotravel.com/climate/greenland\"\n",
    "data = requests.get(url).text\n",
    "\n",
    "# Creating BeautifulSoup object\n",
    "soup = BeautifulSoup(data, 'html.parser')"
   ]
  },
  {
   "cell_type": "code",
   "execution_count": 29,
   "id": "2e9ef61a",
   "metadata": {},
   "outputs": [
    {
     "name": "stdout",
     "output_type": "stream",
     "text": [
      "['cities']\n",
      "['precipit']\n",
      "['sole']\n",
      "['mare']\n",
      "['cities']\n",
      "['precipit']\n",
      "['sole']\n",
      "['mare']\n",
      "['cities']\n",
      "['precipit']\n",
      "['sole']\n",
      "['cities']\n"
     ]
    }
   ],
   "source": [
    "# Verifying tables and their classes\n",
    "for table in soup.find_all('table'):\n",
    "    print(table.get('class'))"
   ]
  },
  {
   "cell_type": "code",
   "execution_count": 30,
   "id": "f358340f",
   "metadata": {},
   "outputs": [],
   "source": [
    "# Creating list with all tables\n",
    "tables = soup.find_all('table')\n",
    "\n",
    "#  Looking for the table with the classes 'wikitable' and 'sortable'\n",
    "table = soup.find('table', class_='wikitable sortable')"
   ]
  },
  {
   "cell_type": "code",
   "execution_count": null,
   "id": "9745b71c",
   "metadata": {},
   "outputs": [],
   "source": []
  },
  {
   "cell_type": "markdown",
   "id": "acadfc0f",
   "metadata": {},
   "source": [
    "How many tables do we find on that website?"
   ]
  },
  {
   "cell_type": "code",
   "execution_count": 21,
   "id": "4b6827ce",
   "metadata": {},
   "outputs": [
    {
     "data": {
      "text/plain": [
       "12"
      ]
     },
     "execution_count": 21,
     "metadata": {},
     "output_type": "execute_result"
    }
   ],
   "source": [
    "len(all_tables)"
   ]
  },
  {
   "cell_type": "code",
   "execution_count": 20,
   "id": "1b163c13",
   "metadata": {},
   "outputs": [
    {
     "data": {
      "text/plain": [
       "<table class=\"cities\"><caption>Ilulissat - Average temperatures (1991-2020) </caption><colgroup><col/><col class=\"celsius\" span=\"3\"/><col class=\"fahrenheit\" span=\"3\"/></colgroup><tr class=\"title-table-new\"><th scope=\"col\">Month</th><th scope=\"col\" title=\"Average low temperatures (degrees Celsius)\">Min (°C)</th><th scope=\"col\" title=\"Average high temperatures (degrees Celsius)\">Max (°C)</th><th scope=\"col\" title=\"Average daily temperature (degrees Celsius)\">Mean (°C)</th><th scope=\"col\" title=\"Average low temperatures (degrees Fahrenheit)\">Min (°F)</th><th scope=\"col\" title=\"Average high temperatures (degrees Fahrenheit)\">Max (°F)</th><th scope=\"col\" title=\"Average daily temperature (degrees Fahrenheit)\">Mean (°F)</th></tr><tr class=\"min-table\"><th scope=\"row\" title=\"January\">January</th><td>-16.2</td><td>-9.2</td><td>-12.7</td><td>3</td><td>15</td><td>9.1</td></tr><tr class=\"min-table\"><th scope=\"row\" title=\"February\">February</th><td>-18.8</td><td>-11.4</td><td>-15.1</td><td>-2</td><td>11</td><td>4.8</td></tr><tr class=\"min-table\"><th scope=\"row\" title=\"March\">March</th><td>-18.8</td><td>-11</td><td>-14.9</td><td>-2</td><td>12</td><td>5.2</td></tr><tr class=\"min-table\"><th scope=\"row\" title=\"April\">April</th><td>-11.6</td><td>-4.1</td><td>-7.8</td><td>11</td><td>25</td><td>17.9</td></tr><tr class=\"min-table\"><th scope=\"row\" title=\"May\">May</th><td>-3.2</td><td>2.9</td><td>-0.2</td><td>26</td><td>37</td><td>31.7</td></tr><tr class=\"min-table\"><th scope=\"row\" title=\"June\">June</th><td>2.8</td><td>9</td><td>5.9</td><td>37</td><td>48</td><td>42.6</td></tr><tr class=\"min-table\"><th scope=\"row\" title=\"July\">July</th><td>5</td><td>11.5</td><td>8.2</td><td>41</td><td>53</td><td>46.8</td></tr><tr class=\"min-table\"><th scope=\"row\" title=\"August\">August</th><td>3.3</td><td>9.8</td><td>6.6</td><td>38</td><td>50</td><td>43.8</td></tr><tr class=\"min-table\"><th scope=\"row\" title=\"September\">September</th><td>-0.3</td><td>5.3</td><td>2.5</td><td>31</td><td>42</td><td>36.5</td></tr><tr class=\"min-table\"><th scope=\"row\" title=\"October\">October</th><td>-5.7</td><td>-0.2</td><td>-3</td><td>22</td><td>32</td><td>26.7</td></tr><tr class=\"min-table\"><th scope=\"row\" title=\"November\">November</th><td>-10.2</td><td>-4</td><td>-7.1</td><td>14</td><td>25</td><td>19.2</td></tr><tr class=\"min-table\"><th scope=\"row\" title=\"December\">December</th><td>-12.7</td><td>-6.3</td><td>-9.5</td><td>9</td><td>21</td><td>14.9</td></tr><tr class=\"min-table\"><th scope=\"row\" title=\"Year\">Year</th><td>-7.1</td><td>-0.6</td><td>-3.85</td><td>19.2</td><td>31</td><td>25</td></tr></table>"
      ]
     },
     "execution_count": 20,
     "metadata": {},
     "output_type": "execute_result"
    }
   ],
   "source": [
    "all_tables[0]"
   ]
  },
  {
   "cell_type": "code",
   "execution_count": 24,
   "id": "fae1ffa8",
   "metadata": {},
   "outputs": [],
   "source": [
    "table1 = all_tables[0]"
   ]
  },
  {
   "cell_type": "code",
   "execution_count": 25,
   "id": "40fe9802",
   "metadata": {},
   "outputs": [
    {
     "name": "stdout",
     "output_type": "stream",
     "text": [
      "-16.2                         3                   9.1       \n",
      "-18.8                         -2                  4.8       \n",
      "-18.8                         -2                  5.2       \n",
      "-11.6                         11                  17.9      \n",
      "-3.2                          26                  31.7      \n",
      "2.8                           37                  42.6      \n",
      "5                             41                  46.8      \n",
      "3.3                           38                  43.8      \n",
      "-0.3                          31                  36.5      \n",
      "-5.7                          22                  26.7      \n",
      "-10.2                         14                  19.2      \n",
      "-12.7                         9                   14.9      \n",
      "-7.1                          19.2                25        \n"
     ]
    }
   ],
   "source": [
    "for tr in table1.select('tr:has(td)'):\n",
    "    tds = [td.get_text(strip=True) for td in tr.select('td')]\n",
    "    print('{:<30}{:<20}{:<10}'.format(tds[0], tds[3], tds[5]))"
   ]
  },
  {
   "cell_type": "code",
   "execution_count": null,
   "id": "b96eacd1",
   "metadata": {},
   "outputs": [],
   "source": []
  },
  {
   "cell_type": "code",
   "execution_count": null,
   "id": "175fb62b",
   "metadata": {},
   "outputs": [],
   "source": []
  },
  {
   "cell_type": "code",
   "execution_count": null,
   "id": "23f05312",
   "metadata": {},
   "outputs": [],
   "source": []
  },
  {
   "cell_type": "code",
   "execution_count": null,
   "id": "f3db5b3f",
   "metadata": {},
   "outputs": [],
   "source": []
  },
  {
   "cell_type": "code",
   "execution_count": null,
   "id": "79c814b6",
   "metadata": {},
   "outputs": [],
   "source": [
    "tables = soup.find_all(\"table\")  # returns a list of tables\n",
    "second_table = tables[1]"
   ]
  },
  {
   "cell_type": "code",
   "execution_count": 13,
   "id": "a50ea225",
   "metadata": {},
   "outputs": [],
   "source": [
    "url='https://www.climatestotravel.com/climate/greenland'\n",
    "#Create a handle, page, to handle the contents of the website\n",
    "page = requests.get(url)"
   ]
  },
  {
   "cell_type": "code",
   "execution_count": 14,
   "id": "4e7c31e6",
   "metadata": {},
   "outputs": [],
   "source": [
    "#Store the contents of the website under doc\n",
    "doc = lh.fromstring(page.content)\n"
   ]
  },
  {
   "cell_type": "code",
   "execution_count": 15,
   "id": "a9566b5a",
   "metadata": {},
   "outputs": [],
   "source": [
    "#Parse data that are stored between <tr>..</tr> of HTML\n",
    "tr_elements = doc.xpath('//table')"
   ]
  },
  {
   "cell_type": "code",
   "execution_count": 16,
   "id": "a27a5e1c",
   "metadata": {},
   "outputs": [
    {
     "data": {
      "text/plain": [
       "[16, 15, 41, 41, 16, 15, 41, 41, 16, 15, 41, 16]"
      ]
     },
     "execution_count": 16,
     "metadata": {},
     "output_type": "execute_result"
    }
   ],
   "source": [
    "#Check the length of the first 12 rows\n",
    "[len(T) for T in tr_elements[:12]]"
   ]
  },
  {
   "cell_type": "markdown",
   "id": "3512278b",
   "metadata": {},
   "source": [
    "### merging duplicate lines"
   ]
  },
  {
   "cell_type": "code",
   "execution_count": null,
   "id": "d1ec54ad",
   "metadata": {},
   "outputs": [],
   "source": [
    "list_common_names = (names.groupby(scientific name\").apply(lambda x: \",\".join(x['common name'])).to_frame('common name').reset_index()0)"
   ]
  },
  {
   "cell_type": "code",
   "execution_count": null,
   "id": "661ad325",
   "metadata": {},
   "outputs": [],
   "source": []
  },
  {
   "cell_type": "code",
   "execution_count": null,
   "id": "ecb2985b",
   "metadata": {},
   "outputs": [],
   "source": []
  }
 ],
 "metadata": {
  "kernelspec": {
   "display_name": "Python 3 (ipykernel)",
   "language": "python",
   "name": "python3"
  },
  "language_info": {
   "codemirror_mode": {
    "name": "ipython",
    "version": 3
   },
   "file_extension": ".py",
   "mimetype": "text/x-python",
   "name": "python",
   "nbconvert_exporter": "python",
   "pygments_lexer": "ipython3",
   "version": "3.8.13"
  }
 },
 "nbformat": 4,
 "nbformat_minor": 5
}
