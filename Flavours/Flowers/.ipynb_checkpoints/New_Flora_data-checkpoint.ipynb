{
 "cells": [
  {
   "cell_type": "code",
   "execution_count": null,
   "metadata": {},
   "outputs": [],
   "source": []
  },
  {
   "cell_type": "markdown",
   "metadata": {},
   "source": [
    "## Trialing the new UK Flora dataset for data exploration  \n",
    "\n",
    "The dataset contains a current inventory of vascular plant species and their attributes present in the flora of Britain and Ireland. The species list is based on the most recent key to the flora of Britain and Ireland, with taxon names linked to unique Kew taxon identifiers and the World Checklist of Vascular Plants, and includes both native and non-native species. Attribute data stem from a variety of sources to give an overview of the current state of the vascular flora. Attributes include functional traits, distribution and ecologically relevant data (e.g. genome size, chromosome numbers, spatial distribution, growth form, hybridization metrics and native/non-native status). The data include previously unpublished genome size measurements, chromosome counts and CSR life strategy assessments. The database aims to provide an up-to-date starting point for flora-wide analyses.\n",
    "\n",
    "This dataset will be available under the terms of the Open Government Licence https://eidc.ceh.ac.uk/licences/OGL/plain\n",
    "Publication date: 2021-09-20\n",
    "\n",
    "https://catalogue.ceh.ac.uk/documents/9f097d82-7560-4ed2-af13-604a9110cf6d\n",
    "\n",
    "\n",
    "Need to register to download the data.\n",
    "\n",
    "You must always use the following attribution statement to acknowledge the source of the information: \"Contains data supplied by Natural Environment Research Council.\"\n",
    "\n",
    "You must include any copyright notice identified in the metadata record for the Data on all copies of the Data, publications and reports, including but not limited to, use in presentations to any audience.\n",
    "\n",
    "You will ensure that citation of any relevant key publications, Digital Object Identifiers and any other required acknowledgments identified in the metadata record for the Data are included in full in the reference list of any reports or publications that describe any research in which the Data have been used.\n",
    "\n",
    "\n",
    "Downloaded the data and the supporting information"
   ]
  },
  {
   "cell_type": "code",
   "execution_count": 2,
   "metadata": {},
   "outputs": [
    {
     "name": "stdout",
     "output_type": "stream",
     "text": [
      "BI_main.csv      GS_BI.csv        GS_Kew_BI.csv    chrom_num_BI.csv\n"
     ]
    }
   ],
   "source": [
    "! ls New_Flora_datasets/data"
   ]
  },
  {
   "cell_type": "code",
   "execution_count": 3,
   "metadata": {},
   "outputs": [
    {
     "name": "stdout",
     "output_type": "stream",
     "text": [
      "==> New_Flora_datasets/data/BI_main.csv <==\n",
      "kew_id,unclear_species_marker,extinct_species_marker,taxon_name,taxon_name_binom,authors,taxon_name_WCVP,authors_WCVP,order,family,genus,subgenus,section,subsection,series,species,group,aggregate,members_of_agg.,taxonomic_status,accepted_kew_id,accepted_name,accepted_authors,imperfect_match_with_Stace_IV,WCVP_URL,POWO_URL,IPNI_URL,accepted_WCVP_URL,StaceIV_nativity,Atlas_nativity_viaALIENATT_PLANTATT,Stace_Crawley_nativity_aliens,SLA,LDMC,seed_mass,leaf_area,mean_veg_height,max_veg_height,L_PLANTATT,F_PLANTATT,R_PLANTATT,N_PLANTATT,S_PLANTATT,L_Doring,F_Doring,R_Doring,N_Doring,S_Doring,T_Doring,ECPE_CSR,predicted_CSR,growth_form,succulence,life_form,biome,origin,TDWG_level_1_code,GB_Man_hectads_post2000,Ire_hectads_post2000,CI_hectads_post2000,GB_Man_hectads_1987_1999,Ire_hectads_1987_1999,CI_hectads_1987_1999,GB_Man_hectads_2000_2009,Ire_hectads_2000_2009,CI_hectads_2000_2009,GB_Man_hectads_2010_2019,Ire_hectads_2010_2019,CI_hectads_2010_2019,hybrid_propensity,scaled_hybrid_propensity,BOLD_link1,BOLD_link2,BOLD_link3,GS_1C_pg,GS_2C_pg,GS_1C_Mbp,GS_2C_Mbp,from_BI_material,data_source,sporophytic_chromosome_number,infraspecific_variation_chrom_number,other_reported_sporophytic_chromosome_number,source_of_other_chrom_num\n",
      "60468511-2,,,Abies alba Mill.,Abies alba,Mill.,Abies alba,Mill.,Pinales,Pinaceae,Abies,,,,,alba,,,,Accepted,,,,,https://wcvp.science.kew.org/taxon/60468511-2,http://plantsoftheworldonline.org/taxon/60468511-2,https://ipni.org/n/60468511-2,,Neo-natd,AN,Neo,7.698508098,0.529816331,65.61283431,255.0291582,46.84389333,68,NA,NA,NA,NA,NA,3,NA,NA,NA,0,5,NA,S,Tree,NA,phanerophyte / tree,,mountains in C Europe,1,382,230,0,230,28,0,120,179,0,303,89,0,NA,NA,NA,NA,NA,17.27,34.54,16891.68,33783.36,n,�marda et al. 2019,NA,NA,24,\"�marda et al. 2019, Zonneveld, 2019\"\n",
      "325658-2,,,Abies amabilis Douglas ex J.Forbes,Abies amabilis,Douglas ex J.Forbes,Abies amabilis,(Douglas ex Loudon) J.Forbes,Pinales,Pinaceae,Abies,,,,,amabilis,,,,Accepted,,,,,https://wcvp.science.kew.org/taxon/325658-2,http://plantsoftheworldonline.org/taxon/325658-2,https://ipni.org/n/325658-2,,,,,86.69076923,NA,42.27712579,NA,50.14852174,75,NA,NA,NA,NA,NA,NA,NA,NA,NA,NA,NA,NA,NA,Tree,NA,phanerophyte / tree,,W N America,7,11,0,0,7,0,0,5,0,0,8,0,0,NA,NA,NA,NA,NA,NA,NA,NA,NA,NA,NA,NA,NA,NA,NA\n",
      "\n",
      "==> New_Flora_datasets/data/GS_BI.csv <==\n",
      "kew_id,taxon_name,taxon_name_binom,authors,GS_2C_pg,GS_1C_pg,GS_2C_Mbp,GS_1C_Mbp,from_BI_material,data_source,ID\n",
      "781250-1,Acer campestre L.,Acer campestre,L.,1.62,0.81,1584.36,792.18,y,Kew,1\n",
      "781462-1,Acer pseudoplatanus L.,Acer pseudoplatanus,L.,3.18,1.59,3110.04,1555.02,y,Kew,1\n",
      "\n",
      "==> New_Flora_datasets/data/GS_Kew_BI.csv <==\n",
      "kew_id,taxon_name,taxon_name_binom,authors,MSB_number,standard_species,standard_2C_pg,buffer,buffer_composition,buffer_origin,GS_2C_pg,GS_1C_pg,GS_2C_Mbp,GS_1C_Mbp,cv_sample,cv_standard,matched_by_synonym,cited_name\n",
      "781250-1,Acer campestre L.,Acer campestre,L.,,Petroselinum crispum (Mill.) Nyman ex A.W.Hill �Champion Moss Curled�,4.5,General purpose buffer 3%PVPBmet,Spermine.4HCl 0.5mM - Sodium citrate 30mM - MOPS 20mM - KCl 80mM - NaCl 20mM - Triton X-100 0.5% - PVP 40 3% - beta-Mercaptoethanol,\"Loureiro, J., Rodriguez, E., Dole�el, J. and Santos, C. Two new nuclear isolation buffers for plant DNA flow cytometry: a test with 37 species. Annals of botany, 100(4), 875-888 (2007).\",1.62,0.81,1584.36,792.18,2.94,2.7,,\n",
      "781462-1,Acer pseudoplatanus L.,Acer pseudoplatanus,L.,,Petroselinum crispum (Mill.) Nyman ex A.W.Hill �Champion Moss Curled�,4.5,CyStain PI OxProtect,NA,https://eu.sysmex-flowcytometry.com/reagents/cystain-ploidy-dna-analysis/2964/cystain-pi-oxprotect?c=116,3.18,1.59,3110.04,1555.02,2.49,2.43,,\n",
      "\n",
      "==> New_Flora_datasets/data/chrom_num_BI.csv <==\n",
      "kew_id,taxon_name,cited_name,sporophytic_chromosome_number,notes,unambiguous_match,number_identical_observations,,,,,\n",
      "781250-1,Acer campestre L.,Acer campestre L.,26,,y,1,,,,,\n",
      "77067622-1,Achillea maritima (L.) Ehrhend. & Y.P.Guo,Diotis maritima (L.) Sm.,18,,n,1,,,,,\n"
     ]
    }
   ],
   "source": [
    "! head -3 New_Flora_datasets/data/*.csv"
   ]
  },
  {
   "cell_type": "code",
   "execution_count": 1,
   "metadata": {},
   "outputs": [
    {
     "ename": "ImportError",
     "evalue": "No module named 'pandas'",
     "output_type": "error",
     "traceback": [
      "\u001b[0;31m---------------------------------------------------------------------------\u001b[0m",
      "\u001b[0;31mImportError\u001b[0m                               Traceback (most recent call last)",
      "\u001b[0;32m<ipython-input-1-5a599964a653>\u001b[0m in \u001b[0;36m<module>\u001b[0;34m()\u001b[0m\n\u001b[1;32m      1\u001b[0m \u001b[0;31m# Analysis modules\u001b[0m\u001b[0;34m\u001b[0m\u001b[0;34m\u001b[0m\u001b[0m\n\u001b[1;32m      2\u001b[0m \u001b[0;32mimport\u001b[0m \u001b[0mnumpy\u001b[0m \u001b[0;32mas\u001b[0m \u001b[0mnp\u001b[0m\u001b[0;34m\u001b[0m\u001b[0m\n\u001b[0;32m----> 3\u001b[0;31m \u001b[0;32mimport\u001b[0m \u001b[0mpandas\u001b[0m \u001b[0;32mas\u001b[0m \u001b[0mpd\u001b[0m\u001b[0;34m\u001b[0m\u001b[0m\n\u001b[0m\u001b[1;32m      4\u001b[0m \u001b[0;32mimport\u001b[0m \u001b[0mmatplotlib\u001b[0m \u001b[0;32mas\u001b[0m \u001b[0mmpl\u001b[0m\u001b[0;34m\u001b[0m\u001b[0m\n\u001b[1;32m      5\u001b[0m \u001b[0;32mimport\u001b[0m \u001b[0mmatplotlib\u001b[0m\u001b[0;34m.\u001b[0m\u001b[0mpyplot\u001b[0m \u001b[0;32mas\u001b[0m \u001b[0mplt\u001b[0m\u001b[0;34m\u001b[0m\u001b[0m\n",
      "\u001b[0;31mImportError\u001b[0m: No module named 'pandas'"
     ]
    }
   ],
   "source": [
    "# Analysis modules\n",
    "import numpy as np\n",
    "import pandas as pd\n",
    "import matplotlib as mpl\n",
    "import matplotlib.pyplot as plt\n",
    "import seaborn as sns\n",
    "import scipy\n",
    "import statsmodels.api as sm\n",
    "np.set_printoptions(precision=5, suppress=True)  # suppress scientific floatation \n",
    "sns.set(color_codes=True)\n",
    "%matplotlib inline\n",
    "pd.set_option('display.max_columns', 500)\n",
    "pd.set_option('display.max_rows', 500)"
   ]
  },
  {
   "cell_type": "code",
   "execution_count": null,
   "metadata": {},
   "outputs": [],
   "source": []
  }
 ],
 "metadata": {
  "kernelspec": {
   "display_name": "python3_5_ete3",
   "language": "python",
   "name": "python3_5_ete3"
  },
  "language_info": {
   "codemirror_mode": {
    "name": "ipython",
    "version": 3
   },
   "file_extension": ".py",
   "mimetype": "text/x-python",
   "name": "python",
   "nbconvert_exporter": "python",
   "pygments_lexer": "ipython3",
   "version": "3.5.5"
  }
 },
 "nbformat": 4,
 "nbformat_minor": 2
}
