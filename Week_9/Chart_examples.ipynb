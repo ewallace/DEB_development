{
 "cells": [
  {
   "cell_type": "code",
   "execution_count": 1,
   "id": "0f64a9ee",
   "metadata": {},
   "outputs": [],
   "source": [
    "# Analysis modules\n",
    "import numpy as np\n",
    "import pandas as pd\n",
    "import matplotlib as mpl\n",
    "import matplotlib.pyplot as plt\n",
    "import seaborn as sns"
   ]
  },
  {
   "cell_type": "code",
   "execution_count": 2,
   "id": "8a682a78",
   "metadata": {},
   "outputs": [],
   "source": [
    "df = pd.read_csv('Infection_TPM.csv')"
   ]
  },
  {
   "cell_type": "code",
   "execution_count": 3,
   "id": "b3a7fb8e",
   "metadata": {},
   "outputs": [
    {
     "data": {
      "text/html": [
       "<div>\n",
       "<style scoped>\n",
       "    .dataframe tbody tr th:only-of-type {\n",
       "        vertical-align: middle;\n",
       "    }\n",
       "\n",
       "    .dataframe tbody tr th {\n",
       "        vertical-align: top;\n",
       "    }\n",
       "\n",
       "    .dataframe thead th {\n",
       "        text-align: right;\n",
       "    }\n",
       "</style>\n",
       "<table border=\"1\" class=\"dataframe\">\n",
       "  <thead>\n",
       "    <tr style=\"text-align: right;\">\n",
       "      <th></th>\n",
       "      <th>Gene_ID</th>\n",
       "      <th>Pathway</th>\n",
       "      <th>Protein_stablility (minutes)</th>\n",
       "      <th>Protein_levels(mg/L)</th>\n",
       "      <th>Control_Flower</th>\n",
       "      <th>Infected_Flower</th>\n",
       "    </tr>\n",
       "  </thead>\n",
       "  <tbody>\n",
       "    <tr>\n",
       "      <th>0</th>\n",
       "      <td>NLR_1</td>\n",
       "      <td>NLR</td>\n",
       "      <td>30</td>\n",
       "      <td>23</td>\n",
       "      <td>34</td>\n",
       "      <td>45</td>\n",
       "    </tr>\n",
       "    <tr>\n",
       "      <th>1</th>\n",
       "      <td>NLR_2</td>\n",
       "      <td>NLR</td>\n",
       "      <td>120</td>\n",
       "      <td>400</td>\n",
       "      <td>1</td>\n",
       "      <td>33</td>\n",
       "    </tr>\n",
       "    <tr>\n",
       "      <th>2</th>\n",
       "      <td>JA_34</td>\n",
       "      <td>JA</td>\n",
       "      <td>120</td>\n",
       "      <td>2</td>\n",
       "      <td>3</td>\n",
       "      <td>321</td>\n",
       "    </tr>\n",
       "    <tr>\n",
       "      <th>3</th>\n",
       "      <td>JA_13</td>\n",
       "      <td>JA</td>\n",
       "      <td>1440</td>\n",
       "      <td>56</td>\n",
       "      <td>5</td>\n",
       "      <td>45</td>\n",
       "    </tr>\n",
       "    <tr>\n",
       "      <th>4</th>\n",
       "      <td>JA_5</td>\n",
       "      <td>JA</td>\n",
       "      <td>800</td>\n",
       "      <td>72</td>\n",
       "      <td>21</td>\n",
       "      <td>34</td>\n",
       "    </tr>\n",
       "    <tr>\n",
       "      <th>5</th>\n",
       "      <td>Aux_3</td>\n",
       "      <td>Aux</td>\n",
       "      <td>5</td>\n",
       "      <td>12</td>\n",
       "      <td>4</td>\n",
       "      <td>72</td>\n",
       "    </tr>\n",
       "    <tr>\n",
       "      <th>6</th>\n",
       "      <td>Aux_4</td>\n",
       "      <td>Aux</td>\n",
       "      <td>8</td>\n",
       "      <td>700</td>\n",
       "      <td>6</td>\n",
       "      <td>23</td>\n",
       "    </tr>\n",
       "  </tbody>\n",
       "</table>\n",
       "</div>"
      ],
      "text/plain": [
       "  Gene_ID Pathway  Protein_stablility (minutes)  Protein_levels(mg/L)  \\\n",
       "0   NLR_1     NLR                            30                    23   \n",
       "1   NLR_2     NLR                           120                   400   \n",
       "2   JA_34      JA                           120                     2   \n",
       "3   JA_13      JA                          1440                    56   \n",
       "4    JA_5      JA                           800                    72   \n",
       "5   Aux_3     Aux                             5                    12   \n",
       "6   Aux_4     Aux                             8                   700   \n",
       "\n",
       "   Control_Flower  Infected_Flower  \n",
       "0              34               45  \n",
       "1               1               33  \n",
       "2               3              321  \n",
       "3               5               45  \n",
       "4              21               34  \n",
       "5               4               72  \n",
       "6               6               23  "
      ]
     },
     "execution_count": 3,
     "metadata": {},
     "output_type": "execute_result"
    }
   ],
   "source": [
    "df"
   ]
  },
  {
   "cell_type": "code",
   "execution_count": 4,
   "id": "2dd2b195",
   "metadata": {},
   "outputs": [
    {
     "data": {
      "text/plain": [
       "<AxesSubplot:xlabel='Control_Flower', ylabel='Infected_Flower'>"
      ]
     },
     "execution_count": 4,
     "metadata": {},
     "output_type": "execute_result"
    },
    {
     "data": {
      "image/png": "[encoded data removed]",
      "text/plain": [
       "<Figure size 432x288 with 1 Axes>"
      ]
     },
     "metadata": {
      "needs_background": "light"
     },
     "output_type": "display_data"
    }
   ],
   "source": [
    "sns.scatterplot(data=df, x=\"Control_Flower\", y=\"Infected_Flower\")"
   ]
  },
  {
   "cell_type": "code",
   "execution_count": null,
   "id": "9743f696",
   "metadata": {},
   "outputs": [],
   "source": []
  }
 ],
 "metadata": {
  "kernelspec": {
   "display_name": "Python 3 (ipykernel)",
   "language": "python",
   "name": "python3"
  },
  "language_info": {
   "codemirror_mode": {
    "name": "ipython",
    "version": 3
   },
   "file_extension": ".py",
   "mimetype": "text/x-python",
   "name": "python",
   "nbconvert_exporter": "python",
   "pygments_lexer": "ipython3",
   "version": "3.8.11"
  }
 },
 "nbformat": 4,
 "nbformat_minor": 5
}
