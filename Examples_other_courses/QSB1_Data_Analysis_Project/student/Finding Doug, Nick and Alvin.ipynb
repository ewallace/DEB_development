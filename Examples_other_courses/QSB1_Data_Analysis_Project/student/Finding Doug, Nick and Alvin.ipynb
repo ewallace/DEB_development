{
 "cells": [
  {
   "cell_type": "markdown",
   "metadata": {
    "collapsed": false,
    "deletable": false,
    "editable": false,
    "nbgrader": {
     "grade": false,
     "grade_id": "DAP_instructions",
     "locked": true,
     "schema_version": 3,
     "solution": false,
     "task": false
    }
   },
   "source": [
    "# QSB-1 Data Analysis Project: Instructions\n",
    "\n",
    "### Marking Scheme\n",
    "\n",
    "**Tasks 1, 2 and 3** ask you to write functions to perform specified tasks. Please complete the functions in the markdown cells provided, removing the `# YOUR CODE HERE` and `raise NotImplementedError()` text from the cell and replacing with your own code. These functions will be automatically marked by a computer, which will test whether your functions perform the required operations and award marks where those tests pass. You will receive partial marks if your code runs but fails to perform some of the requirements, but you will not receive any marks if you code produces an error or fails to return any valid values. It is critical that your functions are named as specified in the questions and that they return the values requested, without any additional output.\n",
    "\n",
    "Please see **this video** for a full description of how to use the autograder cells to test your functions.\n",
    "\n",
    "**Tasks 4 to 9** are manually marked, according to the marks shown beside each question. In this section, you will be scored on correct coding, appropriate choice of tables or graphs and in presenting them in accordance with good principles for the display of data (such as using appropriate axis labels and titles).\n",
    "\n",
    "### Plagiarism and collusion\n",
    "\n",
    "This data analysis project forms a part of your course assessment and **must be your own work**. You are encouraged to use the self study notebooks, workshop notebooks, internet search and online Python documentation, and to use or adapt code examples from each of those sources.  However you must not help or receive help from anyone, and must not use code written by other students.\n",
    "\n",
    "You must use Python comments (#) to give the source of any code you have taken or adapted from other sources unless it is from the course notebooks and workshop material.\n",
    "\n",
    "All work will be checked for evidence of plagiarism and collusion - please familiarise yourself with the information on plagiarism in the course handbook.\n",
    "\n",
    "### Deadline and submission information\n",
    "\n",
    "This workbook will be automatically submitted at 2pm on Monday 7th December, which is the deadline for this assignment. You do not need to do anything to submit other than ensure your notebook is saved (Click File>Save to the upper left hand side of this page).\n"
   ]
  },
  {
   "cell_type": "markdown",
   "metadata": {
    "collapsed": false,
    "deletable": false,
    "editable": false,
    "nbgrader": {
     "grade": false,
     "grade_id": "DAP_intro",
     "locked": true,
     "schema_version": 3,
     "solution": false,
     "task": false
    }
   },
   "source": [
    "# Analysing SARS-Cov-2 sequence data: searching for Doug, Nick and Alvin \n",
    "\n",
    "Since viral genomes mutate over time, molecular epidemiologists are able to track the spread of viral variants by sequencing the viral genomes as cases arise. In this study, we will analyse 67,243 sequences from the SARS-CoV-2 genomes sequenced by [COVID-19 Genomics UK (COG-UK)](https://www.cogconsortium.uk) to detect mutations. We will concentrate our search on the Spike protein, the surface glycoprotein that studs the virus surface and is responsible for cell entry by binding to angiotensin-converting enzyme 2 (ACE2) on the host cell. \n",
    "\n",
    "In this project you will study three amino acid mutations in the Spike protein that have been identified in public SARS-CoV-2 sequence databases. \n",
    "<div style=\"text-align: center\">\n",
    "<img src=\"spike_tr.png\" width=\"90%\" align=\"middle\" />\n",
    "</div>\n",
    "\n",
    "## Who are Doug, Nick and Alvin?\n",
    "\n",
    " Two viral phylogenomics researchers working in Professor Andrew Rambaut's group at the University of Edinburgh, Aine O'Toole and Verity Hill, named the D614G mutant Doug, with wild-type viral strains lacking the mutation (D614) called Dougless. As more mutations were discovered, Nick (N439K) / Nickless and Alvin (A222V) followed, continuing this nerdy but hilarious unofficial naming convention.\n",
    " \n",
    "<div style=\"text-align: center\">\n",
    " <img src=\"cartoon.png\" width=\"50%\" align=\"middle\"/>\n",
    "</div>\n"
   ]
  },
  {
   "cell_type": "markdown",
   "metadata": {
    "collapsed": false,
    "deletable": false,
    "editable": false,
    "nbgrader": {
     "grade": false,
     "grade_id": "part1_intro",
     "locked": true,
     "remove": false,
     "schema_version": 3,
     "solution": false,
     "task": false
    }
   },
   "source": [
    "# Part 1\n",
    "\n",
    "Sequences in the [COVID-19 Genomics UK (COG-UK)](https://www.cogconsortium.uk) database can be freely downloaded but must be processed to extract the Spike protein sequences and to filter out any sequences that contain poor sequence quality that might affect the analysis. Here, you will write functions that could be used to perform parts of the extraction and validation of the DNA sequences.\n",
    "\n",
    "You may be wondering why we're talking about analysing DNA sequences when the SARS-CoV2 virus, as a member of the Coronaviridae, has a positive-stranded RNA genome. This is because the genomes are published as DNA sequences since the RNA sequence is converted to DNA during a process of PCR amplification prior to genome sequencing, therefore they use Thymidine (T) rather then Uracil (U). "
   ]
  },
  {
   "cell_type": "markdown",
   "metadata": {
    "collapsed": false,
    "deletable": false,
    "editable": false,
    "nbgrader": {
     "grade": false,
     "grade_id": "task1_intro",
     "locked": true,
     "schema_version": 3,
     "solution": false,
     "task": false
    }
   },
   "source": [
    "## Task 1: Processing DNA sequences\n",
    "\n",
    "One of the tasks that bioinformaticians need to do is to detect protein-coding genes by looking for start and stop codons in the sequenced viral genomes. Write a Python function named `'start_present'` in the following code cell that takes a single DNA sequence (string) as an argument and returns the Boolean value `True` if the sequence **starts with** 'ATG' and `False` if it does not. **(2 marks)**\n"
   ]
  },
  {
   "cell_type": "code",
   "execution_count": 0,
   "metadata": {
    "collapsed": false,
    "deletable": false,
    "nbgrader": {
     "cell_type": "code",
     "checksum": "efdfd2e5c89350e3a0016b3702f9262c",
     "grade": false,
     "grade_id": "task1",
     "locked": false,
     "schema_version": 3,
     "solution": true,
     "task": false
    }
   },
   "outputs": [
   ],
   "source": [
    "def start_present(dna_seq):\n",
    "    # YOUR CODE HERE\n",
    "    raise NotImplementedError()"
   ]
  },
  {
   "cell_type": "markdown",
   "metadata": {
    "collapsed": false,
    "deletable": false,
    "editable": false,
    "nbgrader": {
     "grade": false,
     "grade_id": "task2_intro",
     "locked": true,
     "schema_version": 3,
     "solution": false,
     "task": false
    }
   },
   "source": [
    "## Task 2: Filtering valid DNA sequences\n",
    "\n",
    "\n",
    "DNA sequences in public databases may be incomplete or may contain regions of unknown sequence, where the letter 'N' or 'n' is used to indicate that the sequence is ambiguous for that nucleotide position. For example, the DNA sequence 'GGTCACN' contains an ambiguous nucleotide at the last position. \n",
    "\n",
    "We may also be interested in filtering out sequences that are too long or short from our analyses: for example, the SARS-CoV-2 Spike Protein sequence data that are provided later in this project were filtered by removing any sequences that were not 3822 nucleotides in length, to remove sequences that may be truncated or erroneous.\n",
    "\n",
    "Write a Python function named `'filter_seq'` in the following code cell that takes a **list of DNA sequences** as an argument and returns a **list** containing only those sequences that pass the following two criteria:\n",
    "\n",
    "1. The sequence contains only the nucleotide letters A, C, G or T, or their lowercase equivalents, and no ambiguous nucleotides (N or n). **(3 marks)**\n",
    "2. The sequence must be exactly 72 nucleotides long. **(2 marks)**\n",
    "\n",
    "In addition: \n",
    "* Your function must accept DNA sequences in the argument to be in lowercase, UPPERCASE or a mixture of both. All sequences that meet the criteria must be returned in UPPERCASE. **(2 marks)**\n",
    "* Your function must have a valid function docstring (any text is acceptable). **(1 mark)**\n",
    "\n",
    "You will gain partial credit if your function runs but implements only some of the above criteria."
   ]
  },
  {
   "cell_type": "code",
   "execution_count": 0,
   "metadata": {
    "collapsed": false,
    "deletable": false,
    "nbgrader": {
     "cell_type": "code",
     "checksum": "dc11acda0461956e9fe10037963d9120",
     "grade": false,
     "grade_id": "task2",
     "locked": false,
     "schema_version": 3,
     "solution": true,
     "task": false
    }
   },
   "outputs": [
   ],
   "source": [
    "def filter_seq(dna_seqs):\n",
    "    # YOUR CODE HERE\n",
    "    raise NotImplementedError()"
   ]
  },
  {
   "cell_type": "markdown",
   "metadata": {
    "collapsed": false,
    "deletable": false,
    "editable": false,
    "nbgrader": {
     "grade": false,
     "grade_id": "task3_intro",
     "locked": true,
     "schema_version": 3,
     "solution": false,
     "task": false
    }
   },
   "source": [
    "## Task 3: Calling protein sequence variants\n",
    "\n",
    "We are interested in studying amino acid mutations in our SARS-Cov-2 Spike protein sequences, therefore we need a way to detect which amino acid is at a particular position in the protein. For example, if we're looking for the 'Doug' mutation, we would want to look at position 614 in the protein to determine whether it is an aspartate (D) or glycine (G) amino acid residue. Since we're starting with a DNA sequence, we'll need to first translate our DNA to protein, then look up the amino acid at the specified position.\n",
    "\n",
    "Write a Python function named `'call_variant'` in the following code cell that takes two arguments. The first argument is a single DNA sequence which you can assume is in UPPERCASE and contains only the letters A, C, G or T.\n",
    "\n",
    "Within your function you should translate the DNA sequence into an amino acid sequence.\n",
    "\n",
    "The second argument of the function `'call_variant'` is a position in the amino acid sequence. Your function should return the amino acid letter at this position in the amino acid sequence you have constructed. For example, if your translated DNA sequence is 'VRPL' and the required position is 2, then your function should return amino acid letter 'R'. (Remember that the second position in a string is at index 1.) **(5 marks)**\n",
    "\n",
    "If the position passed to the function is zero or is beyond the end of the amino acid sequence your function should **return** the string 'Error'. *Please ensure that your function returns and does not print this string.* **(5 marks)**\n",
    "\n"
   ]
  },
  {
   "cell_type": "code",
   "execution_count": 0,
   "metadata": {
    "collapsed": false,
    "deletable": false,
    "nbgrader": {
     "cell_type": "code",
     "checksum": "cb295906be979bdb83bc309023e2fb88",
     "grade": false,
     "grade_id": "task3",
     "locked": false,
     "schema_version": 3,
     "solution": true,
     "task": false
    }
   },
   "outputs": [
   ],
   "source": [
    "def call_variant(dna_seq, position):\n",
    "    # YOUR CODE HERE\n",
    "    raise NotImplementedError()"
   ]
  },
  {
   "cell_type": "markdown",
   "metadata": {
    "collapsed": false,
    "deletable": false,
    "editable": false,
    "nbgrader": {
     "grade": false,
     "grade_id": "part2",
     "locked": true,
     "schema_version": 3,
     "solution": false,
     "task": false
    }
   },
   "source": [
    "# Part 2: Exploring SARS-CoV-2 Spike Protein Sequences\n",
    "\n",
    "For the second part of this analysis, in early November more than 100,000 sequences were downloaded from the COG-UK database and filtered using functions similar to those you have implemented above to extract full length Spike nucleotide sequence without ambiguous nucleotide calls, and to extract the amino acid calls at positions 222, 439 and 614.\n",
    "\n",
    "You have been given a CSV file called [spike_proteins.csv](spike_proteins.csv) of this processed SARS-CoV-2 Spike protein sequence data. The code below will load this CSV file as a Pandas dataframe. It also sets the 'month_name' column as an ordered categorical variable so that plots and tables are ordered chronologically (something we have not covered in the course).\n",
    "\n",
    "**Run the following code cell to read in the SARS-CoV-2 protein sequence dataset.**\n"
   ]
  },
  {
   "cell_type": "code",
   "execution_count": 0,
   "metadata": {
    "collapsed": false,
    "deletable": false,
    "editable": false,
    "nbgrader": {
     "grade": false,
     "grade_id": "read_csv",
     "locked": true,
     "schema_version": 3,
     "solution": false,
     "task": false
    }
   },
   "outputs": [
   ],
   "source": [
    "import pandas as pd\n",
    "from pandas.api.types import CategoricalDtype\n",
    "\n",
    "# Read in SARS-CoV-2 Spike Protein Sequences into a pandas dataframe\n",
    "spike_df = pd.read_csv('spike_proteins.csv')\n",
    "\n",
    "# Set the type of the variable month_name as categorical ordinal so that plots and tables are ordered chronologically\n",
    "cat_type = CategoricalDtype(categories=['January', 'February', 'March', 'April', 'May', 'June', 'July', 'August', 'September', 'October', 'November', 'December'], ordered=True)\n",
    "spike_df['month_name'] = spike_df['month_name'].astype(cat_type)\n",
    "\n",
    "# Output the first 10 rows\n",
    "print(spike_df.head(10))\n",
    "\n",
    "# Output the number of rows and columns\n",
    "spike_df.shape"
   ]
  },
  {
   "cell_type": "markdown",
   "metadata": {
    "collapsed": false,
    "deletable": false,
    "editable": false,
    "nbgrader": {
     "grade": false,
     "grade_id": "dataframe_variables",
     "locked": true,
     "schema_version": 3,
     "solution": false,
     "task": false
    }
   },
   "source": [
    "Each row represents one viral isolate from the COG_UK sequence database. The dataframe has the following variables (column headers):\n",
    "\n",
    "* **sequence_name**: Unique identifier for the viral isolate sequencing record\n",
    "* **country**: UK Country of Origin of the sample\n",
    "* **sample_date**: Date of sample collection in the format YYYY-MM-DD\n",
    "* **epi_week**:  Epidemiological week: the number of weeks since the start of the year\n",
    "* **position_614**: Amino acid letter at position 614\n",
    "* **position_439**: Amino acid letter at position 439\n",
    "* **position_222**: Amino acid letter at position 222\n",
    "* **S_mutations**: The total number of amino acid changes (also known as synonymous mutations) compared to the sequence of the first ever sequenced genome, [Wuhan-Hu-1] (https://www.ncbi.nlm.nih.gov/nuccore/1798174254)\n",
    "* **month_name**: The name of the month in which the sample was taken\n",
    "* **month**: Numeric coded month of sample collection (1=January, 2=February, etc)"
   ]
  },
  {
   "cell_type": "markdown",
   "metadata": {
    "collapsed": false,
    "deletable": false,
    "editable": false,
    "nbgrader": {
     "grade": false,
     "grade_id": "task4",
     "locked": true,
     "schema_version": 3,
     "solution": false,
     "task": false
    }
   },
   "source": [
    "## Task 4\n",
    "\n",
    "What are the **types** of each of the variables in this dataset? Put your answers in the following markdown cell. **(Formative question: 0 marks)**"
   ]
  },
  {
   "cell_type": "markdown",
   "metadata": {
    "collapsed": false
   },
   "source": [
    "### Write your answer to Task 4 in this cell\n",
    "\n",
    "* sequence_name:\n",
    "* country:\n",
    "* sample_date:\n",
    "* epi_week:\n",
    "* position_614:\n",
    "* position_439:\n",
    "* position_222:\n",
    "* S_mutations:\n",
    "* month_name:\n",
    "* month:"
   ]
  },
  {
   "cell_type": "markdown",
   "metadata": {
    "collapsed": false,
    "deletable": false,
    "editable": false,
    "nbgrader": {
     "grade": false,
     "grade_id": "task5question",
     "locked": true,
     "schema_version": 3,
     "solution": false,
     "task": false
    }
   },
   "source": [
    "## Task 5\n",
    "\n",
    "Using the code cell below, plot an appropriate graph to show the number of sequences collected in each calendar month. **(5 marks)**\n"
   ]
  },
  {
   "cell_type": "code",
   "execution_count": 0,
   "metadata": {
    "collapsed": false,
    "deletable": false,
    "nbgrader": {
     "cell_type": "code",
     "checksum": "3d29244a5bea7a752b0e81cd0ba29c30",
     "grade": true,
     "grade_id": "task5_manualgrader",
     "locked": false,
     "points": 5,
     "schema_version": 3,
     "solution": true,
     "task": false
    }
   },
   "outputs": [
   ],
   "source": [
    "# YOUR CODE HERE\n",
    "raise NotImplementedError()"
   ]
  },
  {
   "cell_type": "markdown",
   "metadata": {
    "collapsed": false,
    "deletable": false,
    "editable": false,
    "nbgrader": {
     "grade": false,
     "grade_id": "task6question",
     "locked": true,
     "schema_version": 3,
     "solution": false,
     "task": false
    }
   },
   "source": [
    "## Task 6\n",
    "\n",
    "Using the code cell below, create and print three frequency tables of the amino acid letters in each of the positions 222, 439 and 614. **(3 marks)**"
   ]
  },
  {
   "cell_type": "code",
   "execution_count": 0,
   "metadata": {
    "collapsed": false,
    "deletable": false,
    "nbgrader": {
     "cell_type": "code",
     "checksum": "d96505b6b9e6c5b38ae8f70cbfe98121",
     "grade": true,
     "grade_id": "task6_manualgrader",
     "locked": false,
     "points": 3,
     "schema_version": 3,
     "solution": true,
     "task": false
    }
   },
   "outputs": [
   ],
   "source": [
    "# YOUR CODE HERE\n",
    "raise NotImplementedError()"
   ]
  },
  {
   "cell_type": "markdown",
   "metadata": {
    "collapsed": false,
    "deletable": false,
    "editable": false,
    "nbgrader": {
     "grade": false,
     "grade_id": "task7question",
     "locked": true,
     "schema_version": 3,
     "solution": false,
     "task": false
    }
   },
   "source": [
    "## Task 7\n",
    "\n",
    "Is there an association between amino acid letter in position 614 and calendar month? \n",
    "\n",
    "In the code cell below, create an appropriate table to show the frequency of the amino acid letters at position 614 in each calendar month. **(5 marks)**"
   ]
  },
  {
   "cell_type": "code",
   "execution_count": 0,
   "metadata": {
    "collapsed": false,
    "deletable": false,
    "nbgrader": {
     "cell_type": "code",
     "checksum": "ccb40f0312770e1c22eb563071bd6f34",
     "grade": true,
     "grade_id": "task7_manualgrader",
     "locked": false,
     "points": 5,
     "schema_version": 3,
     "solution": true,
     "task": false
    }
   },
   "outputs": [
   ],
   "source": [
    "# YOUR CODE HERE\n",
    "raise NotImplementedError()"
   ]
  },
  {
   "cell_type": "markdown",
   "metadata": {
    "collapsed": false,
    "deletable": false,
    "editable": false,
    "nbgrader": {
     "grade": false,
     "grade_id": "task8question",
     "locked": true,
     "schema_version": 3,
     "solution": false,
     "task": false
    }
   },
   "source": [
    "## Task 8\n",
    "\n",
    "In the code cell below, create an appropriate graph of the **relative frequency** of amino acid letters in each month. **(5 marks)**"
   ]
  },
  {
   "cell_type": "code",
   "execution_count": 0,
   "metadata": {
    "collapsed": false,
    "deletable": false,
    "nbgrader": {
     "cell_type": "code",
     "checksum": "02d6ea1558d1471c44d5d543cd50c742",
     "grade": true,
     "grade_id": "task8_manualgrader",
     "locked": false,
     "points": 5,
     "schema_version": 3,
     "solution": true,
     "task": false
    }
   },
   "outputs": [
   ],
   "source": [
    "# YOUR CODE HERE\n",
    "raise NotImplementedError()"
   ]
  },
  {
   "cell_type": "markdown",
   "metadata": {
    "collapsed": false,
    "deletable": false,
    "editable": false,
    "nbgrader": {
     "grade": false,
     "grade_id": "task9question",
     "locked": true,
     "schema_version": 3,
     "solution": false,
     "task": false
    }
   },
   "source": [
    "## Task 9\n",
    "\n",
    "Based on the above table and graph, do you think that glycine (G) has replaced aspartate (D) at position 614 in the UK population? Write your answer in the following markdown cell. **(1 mark)**"
   ]
  },
  {
   "cell_type": "markdown",
   "metadata": {
    "collapsed": false,
    "deletable": false,
    "nbgrader": {
     "cell_type": "markdown",
     "checksum": "86a7e449adc93121279020c241cf50f9",
     "grade": true,
     "grade_id": "task9_manualgrader",
     "locked": false,
     "points": 1,
     "schema_version": 3,
     "solution": true,
     "task": false
    }
   },
   "source": [
    "YOUR ANSWER HERE"
   ]
  },
  {
   "cell_type": "markdown",
   "metadata": {
    "collapsed": false
   },
   "source": [
    "# Autograder Test Cells\n",
    "\n",
    "You can use the autograder tests below to test that your functions are working correctly. If your function is correct, running the cell will print a message stating that the test has passed. If there is an error in your function, the code cell will produce an Assertion Error. You may also add additional code cells in this notebook to help you to debug your code, but please remove these prior to the project submission date.\n",
    "\n",
    "Please note that you must run the cell containing your functions before running these cells. If you have made changes to a function, you must re-run that cell before running a test again to get an accurate result. "
   ]
  },
  {
   "cell_type": "markdown",
   "metadata": {
    "collapsed": false,
    "deletable": false,
    "editable": false,
    "nbgrader": {
     "grade": false,
     "grade_id": "6d9184",
     "locked": true,
     "schema_version": 3,
     "solution": false,
     "task": false
    }
   },
   "source": [
    "### Task 1 Autograder"
   ]
  },
  {
   "cell_type": "code",
   "execution_count": 0,
   "metadata": {
    "collapsed": false,
    "deletable": false,
    "editable": false,
    "nbgrader": {
     "grade": true,
     "grade_id": "task1_autograder",
     "locked": true,
     "points": 2,
     "schema_version": 3,
     "solution": false,
     "task": false
    }
   },
   "outputs": [
   ],
   "source": [
    "# Check that the function start_present() returns the correct output for several different inputs.\n",
    "# This cell will run without error if start_present() works as specified.\n",
    "from nose.tools import assert_equal\n",
    "assert_equal(start_present('ATGGTAGCAGGCTATTAA'), True)\n",
    "assert_equal(start_present('TGTAGGCATTAAATGTATGA'), False)\n",
    "assert_equal(start_present('GGCTGTAGGCATGTATGA'), False) #internal ATG - should not be detected\n",
    "assert_equal(start_present('ATGTGTAGGCATTAGATGTATG'), True) #mutliplt ATG codons (including at start)\n",
    "### END HIDDEN TESTS\n",
    "print('Test passed: function start_present() is working correctly.')"
   ]
  },
  {
   "cell_type": "markdown",
   "metadata": {
    "collapsed": false,
    "deletable": false,
    "editable": false,
    "nbgrader": {
     "grade": false,
     "grade_id": "def095",
     "locked": true,
     "schema_version": 3,
     "solution": false,
     "task": false
    }
   },
   "source": [
    "### Task 2 Autograders\n",
    "\n",
    "This task has four requirements for which marks are assigned, therefore there are four autograders that must all pass for full marks."
   ]
  },
  {
   "cell_type": "code",
   "execution_count": 0,
   "metadata": {
    "collapsed": false,
    "deletable": false,
    "editable": false,
    "nbgrader": {
     "grade": true,
     "grade_id": "task2_autograder1_Nfilter",
     "locked": true,
     "points": 3,
     "schema_version": 3,
     "solution": false,
     "task": false
    }
   },
   "outputs": [
   ],
   "source": [
    "# Check that filter_seq() excludes sequences containing ambiguous (N) nucleotides.\n",
    "# This cell will execute without error if filter_seq() is correctly excluding sequences containing N nucleotides.\n",
    "\n",
    "from nose.tools import assert_equal\n",
    "test_seqs_N=['CCGATTAGGACCATCTAATGCACTTGTTACAAGACTTCTTTTAAATACTTTCTTCCTGCCCAGTAGCGGATG', 'ATAATGGTTGTTGCCAGCCGGTGTGGAAGGTAACAGCACCGGTGCGAGCCTAATGTGCCGTCTCCACCAACA', 'TAGTATACGTCTAGGCGTCACCCGCCATCTCTGTGCAGGTGGGCCGACGAGACATTGTCCCTGATTTCTCCA', 'TGCACTACCGTCANNTACGCTAGTATGCGTTCTTCCTTCCAGAGGTATGTGGCTGCGTGGTCAAAAGTGCGG', 'CATTCGTATTTGCTCCTCGTGTTTACTCTCACAAACTTGACCTGGAGNANAAGGAGATGCTTCTTGTGGAAC']\n",
    "correct_seqs=['CCGATTAGGACCATCTAATGCACTTGTTACAAGACTTCTTTTAAATACTTTCTTCCTGCCCAGTAGCGGATG', 'ATAATGGTTGTTGCCAGCCGGTGTGGAAGGTAACAGCACCGGTGCGAGCCTAATGTGCCGTCTCCACCAACA', 'TAGTATACGTCTAGGCGTCACCCGCCATCTCTGTGCAGGTGGGCCGACGAGACATTGTCCCTGATTTCTCCA']\n",
    "\n",
    "assert_equal(filter_seq(test_seqs_N), correct_seqs)\n",
    "print('Test 1 of 4 passed: filter_seq excluded sequences with N nucleotides.')"
   ]
  },
  {
   "cell_type": "code",
   "execution_count": 0,
   "metadata": {
    "collapsed": false,
    "deletable": false,
    "editable": false,
    "nbgrader": {
     "grade": true,
     "grade_id": "task2_autograder2_length",
     "locked": true,
     "points": 2,
     "schema_version": 3,
     "solution": false,
     "task": false
    }
   },
   "outputs": [
   ],
   "source": [
    "# Check that filter_seq() removes sequences that are not 72 nucleotides long.\n",
    "# This cell will execute without error if filter_seq() excludes sequences that are not exactly 72 nucleotides in length.\n",
    "\n",
    "from nose.tools import assert_equal\n",
    "test_seqs_length=['CCGATTAGGACCATCTAATGCACTTGTTACAAGACTTCTTTTAAATACTTTCTTCCTGCCCAGTAGCGGATG', 'ATAATGGTTGTTGCCAGCCGGTGTGGAAGGTAACAGCACCGGTGCGAGCCTAATGTGCCGTCTCCACCAACA', 'TAGTATACGTCTAGGCGTCACCCGCCATCTCTGTGCAGGTGGGCCGACGAGACATTGTCCCTGATTTCTCCA', 'CTACTAATAGCACACACGGGGCAATACCAGCACAAGCTAGTCTCGCGGGAACGCTCGTCAGCATACGAAAGAGC', 'CTTGGGTGTTT']\n",
    "correct_seqs=['CCGATTAGGACCATCTAATGCACTTGTTACAAGACTTCTTTTAAATACTTTCTTCCTGCCCAGTAGCGGATG', 'ATAATGGTTGTTGCCAGCCGGTGTGGAAGGTAACAGCACCGGTGCGAGCCTAATGTGCCGTCTCCACCAACA', 'TAGTATACGTCTAGGCGTCACCCGCCATCTCTGTGCAGGTGGGCCGACGAGACATTGTCCCTGATTTCTCCA']\n",
    "assert_equal(filter_seq(test_seqs_length), correct_seqs)\n",
    "print('Test 2 of 4 passed: filter_seq excluded sequences not of 72 nucleotides in length')"
   ]
  },
  {
   "cell_type": "code",
   "execution_count": 0,
   "metadata": {
    "collapsed": false,
    "deletable": false,
    "editable": false,
    "nbgrader": {
     "grade": true,
     "grade_id": "task2_autograder3_case",
     "locked": true,
     "points": 2,
     "schema_version": 3,
     "solution": false,
     "task": false
    }
   },
   "outputs": [
   ],
   "source": [
    "# Check that filter_seq() converts all sequences to UPPERCASE\n",
    "# This cell will execute without error filter_seq() converts all returned sequences to uppercase\n",
    "from nose.tools import assert_equal\n",
    "test_seqs_case=['CCGATTAGGACCATCTAATGCACTTGTTACAAGACTTCTTTTAAATACTTTCTTCCTGCCCAGTAGCGGATG', 'ataatggttgttgccagccggtgtggaaggtaacagcaccggtgcgagcctaatgtgccgtctccaccaaca', 'tagtatacgtctAGGCGTCACCCGCCATCTCTGTGCAGGTGGGCCGACGAGAcatTGTCCCTGATTTCTccT']\n",
    "correct_seqs=['CCGATTAGGACCATCTAATGCACTTGTTACAAGACTTCTTTTAAATACTTTCTTCCTGCCCAGTAGCGGATG', 'ATAATGGTTGTTGCCAGCCGGTGTGGAAGGTAACAGCACCGGTGCGAGCCTAATGTGCCGTCTCCACCAACA', 'TAGTATACGTCTAGGCGTCACCCGCCATCTCTGTGCAGGTGGGCCGACGAGACATTGTCCCTGATTTCTCCT']\n",
    "assert_equal(filter_seq(test_seqs_case), correct_seqs)\n",
    "print('Test 3 of 4 passed: filter_seq accepted UPPERCASE and lowercase input and output in UPPERCASE')"
   ]
  },
  {
   "cell_type": "code",
   "execution_count": 0,
   "metadata": {
    "collapsed": false,
    "deletable": false,
    "editable": false,
    "nbgrader": {
     "grade": true,
     "grade_id": "task2_autograder4_docstring",
     "locked": true,
     "points": 1,
     "schema_version": 3,
     "solution": false,
     "task": false
    }
   },
   "outputs": [
   ],
   "source": [
    "# Check for a docstring in filter_seq()\n",
    "# This cell will execute without error filter_seq() has a docstring\n",
    "from nose.tools import assert_equal, assert_true\n",
    "assert_true(filter_seq.__doc__ is not None)\n",
    "print('Test 4 of 4 passed: filter_seq has a docstring')"
   ]
  },
  {
   "cell_type": "markdown",
   "metadata": {
    "collapsed": false,
    "deletable": false,
    "editable": false,
    "nbgrader": {
     "grade": false,
     "grade_id": "72b71f",
     "locked": true,
     "schema_version": 3,
     "solution": false,
     "task": false
    }
   },
   "source": [
    "### Task 3 Autograders\n",
    "\n",
    "This task has two components for which marks are assigned, therefore there are two autograders that must both pass for full marks. \n"
   ]
  },
  {
   "cell_type": "code",
   "execution_count": 0,
   "metadata": {
    "collapsed": false,
    "deletable": false,
    "editable": false,
    "nbgrader": {
     "grade": true,
     "grade_id": "task3_autograder1_function",
     "locked": true,
     "points": 5,
     "schema_version": 3,
     "solution": false,
     "task": false
    }
   },
   "outputs": [
   ],
   "source": [
    "# Check that call_variant() returns the correct output for several different inputs.\n",
    "from nose.tools import assert_equal\n",
    "assert_equal(call_variant('ATGCGACATTGGGATCTGTCTGTTGTCATTCGCGGAAAACATCCGTTCACGAGGCGGACACTGATTGACACGGTTTAA', 6 ), 'L')\n",
    "assert_equal(call_variant('ATGTTGCAAAGGTTAGGGAATAGGTTATAA', 4), 'R')\n",
    "print('Test 1 of 2 passed: call_variant() produced correct output for sequences within range')"
   ]
  },
  {
   "cell_type": "code",
   "execution_count": 0,
   "metadata": {
    "collapsed": false,
    "deletable": false,
    "editable": false,
    "nbgrader": {
     "grade": true,
     "grade_id": "task3_autograder2_error",
     "locked": true,
     "points": 5,
     "schema_version": 3,
     "solution": false,
     "task": false
    }
   },
   "outputs": [
   ],
   "source": [
    "# Check that call_variant() returns 'Error' if the position searched is outwith the translated protein sequence.\n",
    "from nose.tools import assert_equal\n",
    "assert_equal(call_variant('ATGCGACATTGGGATCTGTCTGTTGTCATTCGCGGAAAACATCCGTTCACGAGGCGGACACTGATTGACACGGTTTAA', 62 ), 'Error')\n",
    "assert_equal(call_variant('ATGTTGCAAAGGTTAGGGAATAGGTTATAA', 41), 'Error')\n",
    "assert_equal(call_variant('ATGTTGCAAAGGGTAACGGAGTTAGGGAATAGGTTATAA', 0), 'Error')\n",
    "print('Test 2 of 2 passed: call_variant() returned \"Error\" when position was either 0 or beyond the end of the protein sequence string.')"
   ]
  }
 ],
 "metadata": {
  "kernelspec": {
   "display_name": "Python 3 (system-wide)",
   "language": "python",
   "metadata": {
    "cocalc": {
     "description": "Python 3 programming language",
     "priority": 100,
     "url": "https://www.python.org/"
    }
   },
   "name": "python3"
  },
  "language_info": {
   "codemirror_mode": {
    "name": "ipython",
    "version": 3
   },
   "file_extension": ".py",
   "mimetype": "text/x-python",
   "name": "python",
   "nbconvert_exporter": "python",
   "pygments_lexer": "ipython3",
   "version": "3.8.5"
  }
 },
 "nbformat": 4,
 "nbformat_minor": 4
}