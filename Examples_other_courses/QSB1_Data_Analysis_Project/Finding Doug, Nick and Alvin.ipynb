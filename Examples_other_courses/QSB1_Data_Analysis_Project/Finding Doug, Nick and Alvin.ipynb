{
 "cells": [
  {
   "cell_type": "markdown",
   "metadata": {
    "collapsed": false,
    "nbgrader": {
     "grade": false,
     "grade_id": "DAP_instructions",
     "locked": true,
     "schema_version": 3,
     "solution": false,
     "task": false
    }
   },
   "source": [
    "# QSB-1 Data Analysis Project: Instructions\n",
    "\n",
    "### Marking Scheme\n",
    "\n",
    "**Tasks 1, 2 and 3** ask you to write functions to perform specified tasks. Please complete the functions in the markdown cells provided, removing the `# YOUR CODE HERE` and `raise NotImplementedError()` text from the cell and replacing with your own code. These functions will be automatically marked by a computer, which will test whether your functions perform the required operations and award marks where those tests pass. You will receive partial marks if your code runs but fails to perform some of the requirements, but you will not receive any marks if you code produces an error or fails to return any valid values. It is critical that your functions are named as specified in the questions and that they return the values requested, without any additional output.\n",
    "\n",
    "Please see **this video** for a full description of how to use the autograder cells to test your functions.\n",
    "\n",
    "**Tasks 4 to 9** are manually marked, according to the marks shown beside each question. In this section, you will be scored on correct coding, appropriate choice of tables or graphs and in presenting them in accordance with good principles for the display of data (such as using appropriate axis labels and titles).\n",
    "\n",
    "### Plagiarism and collusion\n",
    "\n",
    "This data analysis project forms a part of your course assessment and **must be your own work**. You are encouraged to use the self study notebooks, workshop notebooks, internet search and online Python documentation, and to use or adapt code examples from each of those sources.  However you must not help or receive help from anyone, and must not use code written by other students.\n",
    "\n",
    "You must use Python comments (#) to give the source of any code you have taken or adapted from other sources unless it is from the course notebooks and workshop material.\n",
    "\n",
    "All work will be checked for evidence of plagiarism and collusion - please familiarise yourself with the information on plagiarism in the course handbook.\n",
    "\n",
    "### Deadline and submission information\n",
    "\n",
    "This workbook will be automatically submitted at 2pm on Monday 7th December, which is the deadline for this assignment. You do not need to do anything to submit other than ensure your notebook is saved (Click File>Save to the upper left hand side of this page).\n"
   ]
  },
  {
   "cell_type": "markdown",
   "metadata": {
    "collapsed": false,
    "nbgrader": {
     "grade": false,
     "grade_id": "DAP_intro",
     "locked": true,
     "schema_version": 3,
     "solution": false,
     "task": false
    }
   },
   "source": [
    "# Analysing SARS-Cov-2 sequence data: searching for Doug, Nick and Alvin \n",
    "\n",
    "Since viral genomes mutate over time, molecular epidemiologists are able to track the spread of viral variants by sequencing the viral genomes as cases arise. In this study, we will analyse 67,243 sequences from the SARS-CoV-2 genomes sequenced by [COVID-19 Genomics UK (COG-UK)](https://www.cogconsortium.uk) to detect mutations. We will concentrate our search on the Spike protein, the surface glycoprotein that studs the virus surface and is responsible for cell entry by binding to angiotensin-converting enzyme 2 (ACE2) on the host cell. \n",
    "\n",
    "In this project you will study three amino acid mutations in the Spike protein that have been identified in public SARS-CoV-2 sequence databases. \n",
    "<div style=\"text-align: center\">\n",
    "<img src=\"spike_tr.png\" width=\"90%\" align=\"middle\" />\n",
    "</div>\n",
    "\n",
    "## Who are Doug, Nick and Alvin?\n",
    "\n",
    " Two viral phylogenomics researchers working in Professor Andrew Rambaut's group at the University of Edinburgh, Aine O'Toole and Verity Hill, named the D614G mutant Doug, with wild-type viral strains lacking the mutation (D614) called Dougless. As more mutations were discovered, Nick (N439K) / Nickless and Alvin (A222V) followed, continuing this nerdy but hilarious unofficial naming convention.\n",
    " \n",
    "<div style=\"text-align: center\">\n",
    " <img src=\"cartoon.png\" width=\"50%\" align=\"middle\"/>\n",
    "</div>\n"
   ]
  },
  {
   "cell_type": "markdown",
   "metadata": {
    "collapsed": false,
    "nbgrader": {
     "grade": false,
     "grade_id": "part1_intro",
     "locked": true,
     "remove": false,
     "schema_version": 3,
     "solution": false,
     "task": false
    }
   },
   "source": [
    "# Part 1\n",
    "\n",
    "Sequences in the [COVID-19 Genomics UK (COG-UK)](https://www.cogconsortium.uk) database can be freely downloaded but must be processed to extract the Spike protein sequences and to filter out any sequences that contain poor sequence quality that might affect the analysis. Here, you will write functions that could be used to perform parts of the extraction and validation of the DNA sequences.\n",
    "\n",
    "You may be wondering why we're talking about analysing DNA sequences when the SARS-CoV2 virus, as a member of the Coronaviridae, has a positive-stranded RNA genome. This is because the genomes are published as DNA sequences since the RNA sequence is converted to DNA during a process of PCR amplification prior to genome sequencing, therefore they use Thymidine (T) rather then Uracil (U). "
   ]
  },
  {
   "cell_type": "markdown",
   "metadata": {
    "collapsed": false,
    "nbgrader": {
     "grade": false,
     "grade_id": "task1_intro",
     "locked": true,
     "schema_version": 3,
     "solution": false,
     "task": false
    }
   },
   "source": [
    "## Task 1: Processing DNA sequences\n",
    "\n",
    "One of the tasks that bioinformaticians need to do is to detect protein-coding genes by looking for start and stop codons in the sequenced viral genomes. Write a Python function named `'start_present'` in the following code cell that takes a single DNA sequence (string) as an argument and returns the Boolean value `True` if the sequence **starts with** 'ATG' and `False` if it does not. **(2 marks)**\n"
   ]
  },
  {
   "cell_type": "code",
   "execution_count": 1,
   "metadata": {
    "collapsed": false,
    "nbgrader": {
     "grade": false,
     "grade_id": "task1",
     "locked": false,
     "schema_version": 3,
     "solution": true,
     "task": false
    }
   },
   "outputs": [
   ],
   "source": [
    "def start_present(dna_seq):\n",
    "    ### BEGIN SOLUTION\n",
    "    '''Returns True if dna_seq startwith ATG, else returns False'''\n",
    "    if dna_seq.startswith('ATG'):\n",
    "        return True\n",
    "    else:\n",
    "        return False\n",
    "    ### END SOLUTION"
   ]
  },
  {
   "cell_type": "markdown",
   "metadata": {
    "collapsed": false,
    "nbgrader": {
     "grade": false,
     "grade_id": "task2_intro",
     "locked": true,
     "schema_version": 3,
     "solution": false,
     "task": false
    }
   },
   "source": [
    "## Task 2: Filtering valid DNA sequences\n",
    "\n",
    "\n",
    "DNA sequences in public databases may be incomplete or may contain regions of unknown sequence, where the letter 'N' or 'n' is used to indicate that the sequence is ambiguous for that nucleotide position. For example, the DNA sequence 'GGTCACN' contains an ambiguous nucleotide at the last position. \n",
    "\n",
    "We may also be interested in filtering out sequences that are too long or short from our analyses: for example, the SARS-CoV-2 Spike Protein sequence data that are provided later in this project were filtered by removing any sequences that were not 3822 nucleotides in length, to remove sequences that may be truncated or erroneous.\n",
    "\n",
    "Write a Python function named `'filter_seq'` in the following code cell that takes a **list of DNA sequences** as an argument and returns a **list** containing only those sequences that pass the following two criteria:\n",
    "\n",
    "1. The sequence contains only the nucleotide letters A, C, G or T, or their lowercase equivalents, and no ambiguous nucleotides (N or n). **(3 marks)**\n",
    "2. The sequence must be exactly 72 nucleotides long. **(2 marks)**\n",
    "\n",
    "In addition: \n",
    "* Your function must accept DNA sequences in the argument to be in lowercase, UPPERCASE or a mixture of both. All sequences that meet the criteria must be returned in UPPERCASE. **(2 marks)**\n",
    "* Your function must have a valid function docstring (any text is acceptable). **(1 mark)**\n",
    "\n",
    "You will gain partial credit if your function runs but implements only some of the above criteria."
   ]
  },
  {
   "cell_type": "code",
   "execution_count": 2,
   "metadata": {
    "collapsed": false,
    "nbgrader": {
     "grade": false,
     "grade_id": "task2",
     "locked": false,
     "schema_version": 3,
     "solution": true,
     "task": false
    }
   },
   "outputs": [
   ],
   "source": [
    "def filter_seq(dna_seqs):\n",
    "    ### BEGIN SOLUTION\n",
    "    ''' Input: list of DNA sequences (strings)\n",
    "        Output: list of DNA sequences that pass filter\n",
    "    '''\n",
    "    output =[]\n",
    "    for seq in dna_seqs:\n",
    "        seq_upper=seq.upper()\n",
    "        if len(seq_upper)==72 and not 'N' in seq_upper:\n",
    "            output.append(seq_upper)\n",
    "    return output\n",
    "    ### END SOLUTION"
   ]
  },
  {
   "cell_type": "markdown",
   "metadata": {
    "collapsed": false,
    "nbgrader": {
     "grade": false,
     "grade_id": "task3_intro",
     "locked": true,
     "schema_version": 3,
     "solution": false,
     "task": false
    }
   },
   "source": [
    "## Task 3: Calling protein sequence variants\n",
    "\n",
    "We are interested in studying amino acid mutations in our SARS-Cov-2 Spike protein sequences, therefore we need a way to detect which amino acid is at a particular position in the protein. For example, if we're looking for the 'Doug' mutation, we would want to look at position 614 in the protein to determine whether it is an aspartate (D) or glycine (G) amino acid residue. Since we're starting with a DNA sequence, we'll need to first translate our DNA to protein, then look up the amino acid at the specified position.\n",
    "\n",
    "Write a Python function named `'call_variant'` in the following code cell that takes two arguments. The first argument is a single DNA sequence which you can assume is in UPPERCASE and contains only the letters A, C, G or T.\n",
    "\n",
    "Within your function you should translate the DNA sequence into an amino acid sequence.\n",
    "\n",
    "The second argument of the function `'call_variant'` is a position in the amino acid sequence. Your function should return the amino acid letter at this position in the amino acid sequence you have constructed. For example, if your translated DNA sequence is 'VRPL' and the required position is 2, then your function should return amino acid letter 'R'. (Remember that the second position in a string is at index 1.) **(5 marks)**\n",
    "\n",
    "If the position passed to the function is zero or is beyond the end of the amino acid sequence your function should **return** the string 'Error'. *Please ensure that your function returns and does not print this string.* **(5 marks)**\n",
    "\n"
   ]
  },
  {
   "cell_type": "code",
   "execution_count": 3,
   "metadata": {
    "collapsed": false,
    "nbgrader": {
     "grade": false,
     "grade_id": "task3",
     "locked": false,
     "schema_version": 3,
     "solution": true,
     "task": false
    }
   },
   "outputs": [
   ],
   "source": [
    "def call_variant(dna_seq, position):\n",
    "    ### BEGIN SOLUTION\n",
    "    table = { \n",
    "        'ATA':'I', 'ATC':'I', 'ATT':'I', 'ATG':'M',\n",
    "        'ACA':'T', 'ACC':'T', 'ACG':'T', 'ACT':'T',\n",
    "        'AAC':'N', 'AAT':'N', 'AAA':'K', 'AAG':'K',\n",
    "        'AGC':'S', 'AGT':'S', 'AGA':'R', 'AGG':'R',\n",
    "        'CTA':'L', 'CTC':'L', 'CTG':'L', 'CTT':'L',\n",
    "        'CCA':'P', 'CCC':'P', 'CCG':'P', 'CCT':'P',\n",
    "        'CAC':'H', 'CAT':'H', 'CAA':'Q', 'CAG':'Q',\n",
    "        'CGA':'R', 'CGC':'R', 'CGG':'R', 'CGT':'R',\n",
    "        'GTA':'V', 'GTC':'V', 'GTG':'V', 'GTT':'V',\n",
    "        'GCA':'A', 'GCC':'A', 'GCG':'A', 'GCT':'A',\n",
    "        'GAC':'D', 'GAT':'D', 'GAA':'E', 'GAG':'E',\n",
    "        'GGA':'G', 'GGC':'G', 'GGG':'G', 'GGT':'G',\n",
    "        'TCA':'S', 'TCC':'S', 'TCG':'S', 'TCT':'S',\n",
    "        'TTC':'F', 'TTT':'F', 'TTA':'L', 'TTG':'L',\n",
    "        'TAC':'Y', 'TAT':'Y', 'TAA':'_', 'TAG':'_',\n",
    "        'TGC':'C', 'TGT':'C', 'TGA':'_', 'TGG':'W',\n",
    "    } \n",
    "    protein=\"\" \n",
    "    if len(dna_seq)%3 == 0: \n",
    "        for i in range(0, len(dna_seq), 3): \n",
    "            codon = dna_seq[i:i + 3] \n",
    "            protein+= table[codon] \n",
    "    if 0 < position <= len(protein):\n",
    "        return protein[position-1]\n",
    "    else: \n",
    "        return 'Error'\n",
    "    ### END SOLUTION"
   ]
  },
  {
   "cell_type": "markdown",
   "metadata": {
    "collapsed": false,
    "nbgrader": {
     "grade": false,
     "grade_id": "part2",
     "locked": true,
     "schema_version": 3,
     "solution": false,
     "task": false
    }
   },
   "source": [
    "# Part 2: Exploring SARS-CoV-2 Spike Protein Sequences\n",
    "\n",
    "For the second part of this analysis, in early November more than 100,000 sequences were downloaded from the COG-UK database and filtered using functions similar to those you have implemented above to extract full length Spike nucleotide sequence without ambiguous nucleotide calls, and to extract the amino acid calls at positions 222, 439 and 614.\n",
    "\n",
    "You have been given a CSV file called [spike_proteins.csv](spike_proteins.csv) of this processed SARS-CoV-2 Spike protein sequence data. The code below will load this CSV file as a Pandas dataframe. It also sets the 'month_name' column as an ordered categorical variable so that plots and tables are ordered chronologically (something we have not covered in the course).\n",
    "\n",
    "**Run the following code cell to read in the SARS-CoV-2 protein sequence dataset.**\n"
   ]
  },
  {
   "cell_type": "code",
   "execution_count": 1,
   "metadata": {
    "collapsed": false,
    "nbgrader": {
     "grade": false,
     "grade_id": "read_csv",
     "locked": true,
     "schema_version": 3,
     "solution": false,
     "task": false
    }
   },
   "outputs": [
    {
     "name": "stdout",
     "output_type": "stream",
     "text": [
      "             sequence_name  country sample_date  epi_week position_614  \\\n",
      "0  England/PHEC-10E9A/2020  England  2020-01-29         5            D   \n",
      "1  England/PHEC-10EC7/2020  England  2020-02-08         6            D   \n",
      "2  England/PHEC-10EB8/2020  England  2020-02-08         6            D   \n",
      "3  England/PHEC-10F1F/2020  England  2020-02-09         7            D   \n",
      "4  England/PHEC-1AFD9/2020  England  2020-02-09         7            D   \n",
      "5  England/PHEC-1AFE8/2020  England  2020-02-13         7            D   \n",
      "6  England/PHEC-1B002/2020  England  2020-02-14         7            D   \n",
      "7  England/PHEC-1B06C/2020  England  2020-02-16         8            D   \n",
      "8  England/PHEC-20FFE/2020  England  2020-02-16         8            G   \n",
      "9  England/PHEC-1B04E/2020  England  2020-02-16         8            D   \n",
      "\n",
      "  position_439 position_222  S_mutations month_name  month  \n",
      "0            N            A            0    January      1  \n",
      "1            N            A            0   February      2  \n",
      "2            N            A            0   February      2  \n",
      "3            N            A            0   February      2  \n",
      "4            N            A            0   February      2  \n",
      "5            N            A            0   February      2  \n",
      "6            N            A            0   February      2  \n",
      "7            N            A            0   February      2  \n",
      "8            N            A            2   February      2  \n",
      "9            N            A            1   February      2  \n"
     ]
    },
    {
     "data": {
      "text/plain": [
       "(67243, 10)"
      ]
     },
     "execution_count": 1,
     "metadata": {
     },
     "output_type": "execute_result"
    }
   ],
   "source": [
    "import pandas as pd\n",
    "from pandas.api.types import CategoricalDtype\n",
    "\n",
    "# Read in SARS-CoV-2 Spike Protein Sequences into a pandas dataframe\n",
    "spike_df = pd.read_csv('spike_proteins.csv')\n",
    "\n",
    "# Set the type of the variable month_name as categorical ordinal so that plots and tables are ordered chronologically\n",
    "cat_type = CategoricalDtype(categories=['January', 'February', 'March', 'April', 'May', 'June', 'July', 'August', 'September', 'October', 'November', 'December'], ordered=True)\n",
    "spike_df['month_name'] = spike_df['month_name'].astype(cat_type)\n",
    "\n",
    "# Output the first 10 rows\n",
    "print(spike_df.head(10))\n",
    "\n",
    "# Output the number of rows and columns\n",
    "spike_df.shape"
   ]
  },
  {
   "cell_type": "markdown",
   "metadata": {
    "collapsed": false,
    "nbgrader": {
     "grade": false,
     "grade_id": "dataframe_variables",
     "locked": true,
     "schema_version": 3,
     "solution": false,
     "task": false
    }
   },
   "source": [
    "Each row represents one viral isolate from the COG_UK sequence database. The dataframe has the following variables (column headers):\n",
    "\n",
    "* **sequence_name**: Unique identifier for the viral isolate sequencing record\n",
    "* **country**: UK Country of Origin of the sample\n",
    "* **sample_date**: Date of sample collection in the format YYYY-MM-DD\n",
    "* **epi_week**:  Epidemiological week: the number of weeks since the start of the year\n",
    "* **position_614**: Amino acid letter at position 614\n",
    "* **position_439**: Amino acid letter at position 439\n",
    "* **position_222**: Amino acid letter at position 222\n",
    "* **S_mutations**: The total number of amino acid changes (also known as synonymous mutations) compared to the sequence of the first ever sequenced genome, [Wuhan-Hu-1] (https://www.ncbi.nlm.nih.gov/nuccore/1798174254)\n",
    "* **month_name**: The name of the month in which the sample was taken\n",
    "* **month**: Numeric coded month of sample collection (1=January, 2=February, etc)"
   ]
  },
  {
   "cell_type": "markdown",
   "metadata": {
    "collapsed": false,
    "nbgrader": {
     "grade": false,
     "grade_id": "task4",
     "locked": true,
     "schema_version": 3,
     "solution": false,
     "task": false
    }
   },
   "source": [
    "## Task 4\n",
    "\n",
    "What are the **types** of each of the variables in this dataset? Put your answers in the following markdown cell. **(Formative question: 0 marks)**"
   ]
  },
  {
   "cell_type": "markdown",
   "metadata": {
    "collapsed": false
   },
   "source": [
    "### Write your answer to Task 4 in this cell\n",
    "\n",
    "* sequence_name:\n",
    "* country:\n",
    "* sample_date:\n",
    "* epi_week:\n",
    "* position_614:\n",
    "* position_439:\n",
    "* position_222:\n",
    "* S_mutations:\n",
    "* month_name:\n",
    "* month:"
   ]
  },
  {
   "cell_type": "markdown",
   "metadata": {
    "collapsed": false,
    "nbgrader": {
     "grade": false,
     "grade_id": "task4_answers",
     "locked": false,
     "remove": true,
     "schema_version": 3,
     "solution": false,
     "task": false
    }
   },
   "source": [
    "### Task 4 answers (0 marks)\n",
    "=== BEGIN MARK SCHEME ===\n",
    "variable | type\n",
    ":---|:---\n",
    "sequence_name | categorical nominal\n",
    "country | categorical nominal\n",
    "sample_date | categorical ordinal\n",
    "epi_week | categorical ordinal or numerical discrete\n",
    "position_614 | categorical nominal\n",
    "position_439 | categorical nominal\n",
    "position_222 | categorical nominal\n",
    "S_mutations | numerical discrete\n",
    "month_name | categorical ordinal\n",
    "month | categorical ordinal or numerical discrete\n",
    "=== END MARK SCHEME ==="
   ]
  },
  {
   "cell_type": "markdown",
   "metadata": {
    "collapsed": false,
    "nbgrader": {
     "grade": false,
     "grade_id": "task5question",
     "locked": true,
     "schema_version": 3,
     "solution": false,
     "task": false
    }
   },
   "source": [
    "## Task 5\n",
    "\n",
    "Using the code cell below, plot an appropriate graph to show the number of sequences collected in each calendar month. **(5 marks)**\n"
   ]
  },
  {
   "cell_type": "code",
   "execution_count": 2,
   "metadata": {
    "collapsed": false,
    "nbgrader": {
     "grade": true,
     "grade_id": "task5_manualgrader",
     "locked": false,
     "points": 5,
     "schema_version": 3,
     "solution": true,
     "task": false
    }
   },
   "outputs": [
    {
     "data": {
      "image/png": "[encoded data removed]",
      "text/plain": [
       "<Figure size 432x288 with 1 Axes>"
      ]
     },
     "execution_count": 2,
     "metadata": {
      "image/png": {
       "height": 323,
       "width": 401
      },
      "needs_background": "light"
     },
     "output_type": "execute_result"
    }
   ],
   "source": [
    "### BEGIN SOLUTION\n",
    "%matplotlib inline\n",
    "import matplotlib.pyplot as plt\n",
    "\n",
    "# Create a frequency table of sequence counts each month.\n",
    "freq_table = spike_df['month_name'].value_counts(sort=False)\n",
    "\n",
    "# Create a bar plot of the frequency table.\n",
    "\n",
    "freq_table.plot.bar(facecolor='w', edgecolor='k');\n",
    "plt.xlabel('Month');\n",
    "plt.ylabel('Number of sequences');\n",
    "plt.title('Number of sequences for each month in the year 2020');\n",
    "### END SOLUTION"
   ]
  },
  {
   "cell_type": "markdown",
   "metadata": {
    "collapsed": false,
    "nbgrader": {
     "grade": false,
     "grade_id": "task6question",
     "locked": true,
     "schema_version": 3,
     "solution": false,
     "task": false
    }
   },
   "source": [
    "## Task 6\n",
    "\n",
    "Using the code cell below, create and print three frequency tables of the amino acid letters in each of the positions 222, 439 and 614. **(3 marks)**"
   ]
  },
  {
   "cell_type": "code",
   "execution_count": 6,
   "metadata": {
    "collapsed": false,
    "nbgrader": {
     "grade": true,
     "grade_id": "task6_manualgrader",
     "locked": false,
     "points": 3,
     "schema_version": 3,
     "solution": true,
     "task": false
    }
   },
   "outputs": [
    {
     "name": "stdout",
     "output_type": "stream",
     "text": [
      "A    48068\n",
      "V    19171\n",
      "S        2\n",
      "P        1\n",
      "F        1\n",
      "Name: position_222, dtype: int64\n",
      "N    66812\n",
      "K      431\n",
      "Name: position_439, dtype: int64\n",
      "G    62980\n",
      "D     4258\n",
      "N        5\n",
      "Name: position_614, dtype: int64\n"
     ]
    }
   ],
   "source": [
    "### BEGIN SOLUTION\n",
    "alvin  = spike_df['position_222'].value_counts()\n",
    "print(alvin)\n",
    "nick  = spike_df['position_439'].value_counts()\n",
    "print(nick)\n",
    "doug  = spike_df['position_614'].value_counts()\n",
    "print(doug)\n",
    "### END SOLUTION"
   ]
  },
  {
   "cell_type": "markdown",
   "metadata": {
    "collapsed": false,
    "nbgrader": {
     "grade": false,
     "grade_id": "task7question",
     "locked": true,
     "schema_version": 3,
     "solution": false,
     "task": false
    }
   },
   "source": [
    "## Task 7\n",
    "\n",
    "Is there an association between amino acid letter in position 614 and calendar month? \n",
    "\n",
    "In the code cell below, create an appropriate table to show the frequency of the amino acid letters at position 614 in each calendar month. **(5 marks)**"
   ]
  },
  {
   "cell_type": "code",
   "execution_count": 7,
   "metadata": {
    "collapsed": false,
    "nbgrader": {
     "grade": true,
     "grade_id": "task7_manualgrader",
     "locked": false,
     "points": 5,
     "schema_version": 3,
     "solution": true,
     "task": false
    }
   },
   "outputs": [
    {
     "data": {
      "text/html": [
       "<div>\n",
       "<style scoped>\n",
       "    .dataframe tbody tr th:only-of-type {\n",
       "        vertical-align: middle;\n",
       "    }\n",
       "\n",
       "    .dataframe tbody tr th {\n",
       "        vertical-align: top;\n",
       "    }\n",
       "\n",
       "    .dataframe thead th {\n",
       "        text-align: right;\n",
       "    }\n",
       "</style>\n",
       "<table border=\"1\" class=\"dataframe\">\n",
       "  <thead>\n",
       "    <tr style=\"text-align: right;\">\n",
       "      <th>position_614</th>\n",
       "      <th>D</th>\n",
       "      <th>G</th>\n",
       "      <th>N</th>\n",
       "    </tr>\n",
       "    <tr>\n",
       "      <th>month_name</th>\n",
       "      <th></th>\n",
       "      <th></th>\n",
       "      <th></th>\n",
       "    </tr>\n",
       "  </thead>\n",
       "  <tbody>\n",
       "    <tr>\n",
       "      <th>January</th>\n",
       "      <td>1</td>\n",
       "      <td>0</td>\n",
       "      <td>0</td>\n",
       "    </tr>\n",
       "    <tr>\n",
       "      <th>February</th>\n",
       "      <td>35</td>\n",
       "      <td>23</td>\n",
       "      <td>0</td>\n",
       "    </tr>\n",
       "    <tr>\n",
       "      <th>March</th>\n",
       "      <td>2374</td>\n",
       "      <td>3694</td>\n",
       "      <td>1</td>\n",
       "    </tr>\n",
       "    <tr>\n",
       "      <th>April</th>\n",
       "      <td>1623</td>\n",
       "      <td>10245</td>\n",
       "      <td>4</td>\n",
       "    </tr>\n",
       "    <tr>\n",
       "      <th>May</th>\n",
       "      <td>139</td>\n",
       "      <td>3540</td>\n",
       "      <td>0</td>\n",
       "    </tr>\n",
       "    <tr>\n",
       "      <th>June</th>\n",
       "      <td>64</td>\n",
       "      <td>5479</td>\n",
       "      <td>0</td>\n",
       "    </tr>\n",
       "    <tr>\n",
       "      <th>July</th>\n",
       "      <td>7</td>\n",
       "      <td>2247</td>\n",
       "      <td>0</td>\n",
       "    </tr>\n",
       "    <tr>\n",
       "      <th>August</th>\n",
       "      <td>9</td>\n",
       "      <td>5834</td>\n",
       "      <td>0</td>\n",
       "    </tr>\n",
       "    <tr>\n",
       "      <th>September</th>\n",
       "      <td>3</td>\n",
       "      <td>12346</td>\n",
       "      <td>0</td>\n",
       "    </tr>\n",
       "    <tr>\n",
       "      <th>October</th>\n",
       "      <td>3</td>\n",
       "      <td>19497</td>\n",
       "      <td>0</td>\n",
       "    </tr>\n",
       "    <tr>\n",
       "      <th>November</th>\n",
       "      <td>0</td>\n",
       "      <td>75</td>\n",
       "      <td>0</td>\n",
       "    </tr>\n",
       "  </tbody>\n",
       "</table>\n",
       "</div>"
      ],
      "text/plain": [
       "position_614     D      G  N\n",
       "month_name                  \n",
       "January          1      0  0\n",
       "February        35     23  0\n",
       "March         2374   3694  1\n",
       "April         1623  10245  4\n",
       "May            139   3540  0\n",
       "June            64   5479  0\n",
       "July             7   2247  0\n",
       "August           9   5834  0\n",
       "September        3  12346  0\n",
       "October          3  19497  0\n",
       "November         0     75  0"
      ]
     },
     "execution_count": 7,
     "metadata": {
     },
     "output_type": "execute_result"
    }
   ],
   "source": [
    "### BEGIN SOLUTION\n",
    "#Cross tab of frequency of D614G\n",
    "table = pd.crosstab(spike_df['month_name'], spike_df['position_614'])\n",
    "table\n",
    "### END SOLUTION"
   ]
  },
  {
   "cell_type": "markdown",
   "metadata": {
    "collapsed": false,
    "nbgrader": {
     "grade": false,
     "grade_id": "task8question",
     "locked": true,
     "schema_version": 3,
     "solution": false,
     "task": false
    }
   },
   "source": [
    "## Task 8\n",
    "\n",
    "In the code cell below, create an appropriate graph of the **relative frequency** of amino acid letters in each month. **(5 marks)**"
   ]
  },
  {
   "cell_type": "code",
   "execution_count": 8,
   "metadata": {
    "collapsed": false,
    "nbgrader": {
     "grade": true,
     "grade_id": "task8_manualgrader",
     "locked": false,
     "points": 5,
     "schema_version": 3,
     "solution": true,
     "task": false
    }
   },
   "outputs": [
    {
     "data": {
      "image/png": "[encoded data removed]",
      "text/plain": [
       "<Figure size 432x288 with 1 Axes>"
      ]
     },
     "execution_count": 8,
     "metadata": {
      "image/png": {
       "height": 323,
       "width": 394
      },
      "needs_background": "light"
     },
     "output_type": "execute_result"
    }
   ],
   "source": [
    "### BEGIN SOLUTION\n",
    "#Cross tab of frequency of D614G\n",
    "table = pd.crosstab(spike_df['month_name'], spike_df['position_614'], normalize='index')\n",
    "table.plot.bar()\n",
    "plt.xlabel('Month')\n",
    "plt.ylabel('Relative frequency of amino acid')\n",
    "plt.title('Change in relative frequency of amino acid at position 614')\n",
    "plt.legend(title='Amino acid');\n",
    "### END SOLUTION"
   ]
  },
  {
   "cell_type": "markdown",
   "metadata": {
    "collapsed": false,
    "nbgrader": {
     "grade": false,
     "grade_id": "task9question",
     "locked": true,
     "schema_version": 3,
     "solution": false,
     "task": false
    }
   },
   "source": [
    "## Task 9\n",
    "\n",
    "Based on the above table and graph, do you think that glycine (G) has replaced aspartate (D) at position 614 in the UK population? Write your answer in the following markdown cell. **(1 mark)**"
   ]
  },
  {
   "cell_type": "markdown",
   "metadata": {
    "collapsed": false,
    "nbgrader": {
     "grade": true,
     "grade_id": "task9_manualgrader",
     "locked": false,
     "points": 1,
     "schema_version": 3,
     "solution": true,
     "task": false
    }
   },
   "source": [
    "### Write your answer to Task 9 in this cell\n",
    "=== BEGIN MARK SCHEME ===\n",
    "\n",
    "Glycine had replaced aspartate at position 614 in the UK population by the summer.\n",
    "\n",
    "=== END MARK SCHEME ==="
   ]
  },
  {
   "cell_type": "markdown",
   "metadata": {
    "collapsed": false
   },
   "source": [
    "# Autograder Test Cells\n",
    "\n",
    "You can use the autograder tests below to test that your functions are working correctly. If your function is correct, running the cell will print a message stating that the test has passed. If there is an error in your function, the code cell will produce an Assertion Error. You may also add additional code cells in this notebook to help you to debug your code, but please remove these prior to the project submission date.\n",
    "\n",
    "Please note that you must run the cell containing your functions before running these cells. If you have made changes to a function, you must re-run that cell before running a test again to get an accurate result. "
   ]
  },
  {
   "cell_type": "markdown",
   "metadata": {
    "collapsed": false,
    "nbgrader": {
     "grade": false,
     "grade_id": "6d9184",
     "locked": true,
     "schema_version": 3,
     "solution": false,
     "task": false
    }
   },
   "source": [
    "### Task 1 Autograder"
   ]
  },
  {
   "cell_type": "code",
   "execution_count": 9,
   "metadata": {
    "collapsed": false,
    "nbgrader": {
     "grade": true,
     "grade_id": "task1_autograder",
     "locked": true,
     "points": 2,
     "schema_version": 3,
     "solution": false,
     "task": false
    }
   },
   "outputs": [
    {
     "name": "stdout",
     "output_type": "stream",
     "text": [
      "Test passed: function start_present() is working correctly.\n"
     ]
    }
   ],
   "source": [
    "# Check that the function start_present() returns the correct output for several different inputs.\n",
    "# This cell will run without error if start_present() works as specified.\n",
    "from nose.tools import assert_equal\n",
    "assert_equal(start_present('ATGGTAGCAGGCTATTAA'), True)\n",
    "assert_equal(start_present('TGTAGGCATTAAATGTATGA'), False)\n",
    "assert_equal(start_present('GGCTGTAGGCATGTATGA'), False) #internal ATG - should not be detected\n",
    "assert_equal(start_present('ATGTGTAGGCATTAGATGTATG'), True) #mutliplt ATG codons (including at start)\n",
    "### END HIDDEN TESTS\n",
    "print('Test passed: function start_present() is working correctly.')"
   ]
  },
  {
   "cell_type": "markdown",
   "metadata": {
    "collapsed": false,
    "nbgrader": {
     "grade": false,
     "grade_id": "def095",
     "locked": true,
     "schema_version": 3,
     "solution": false,
     "task": false
    }
   },
   "source": [
    "### Task 2 Autograders\n",
    "\n",
    "This task has four requirements for which marks are assigned, therefore there are four autograders that must all pass for full marks."
   ]
  },
  {
   "cell_type": "code",
   "execution_count": 10,
   "metadata": {
    "collapsed": false,
    "nbgrader": {
     "grade": true,
     "grade_id": "task2_autograder1_Nfilter",
     "locked": true,
     "points": 3,
     "schema_version": 3,
     "solution": false,
     "task": false
    }
   },
   "outputs": [
    {
     "name": "stdout",
     "output_type": "stream",
     "text": [
      "Test 1 of 4 passed: filter_seq excluded sequences with N nucleotides.\n"
     ]
    }
   ],
   "source": [
    "# Check that filter_seq() excludes sequences containing ambiguous (N) nucleotides.\n",
    "# This cell will execute without error if filter_seq() is correctly excluding sequences containing N nucleotides.\n",
    "\n",
    "from nose.tools import assert_equal\n",
    "test_seqs_N=['CCGATTAGGACCATCTAATGCACTTGTTACAAGACTTCTTTTAAATACTTTCTTCCTGCCCAGTAGCGGATG', 'ATAATGGTTGTTGCCAGCCGGTGTGGAAGGTAACAGCACCGGTGCGAGCCTAATGTGCCGTCTCCACCAACA', 'TAGTATACGTCTAGGCGTCACCCGCCATCTCTGTGCAGGTGGGCCGACGAGACATTGTCCCTGATTTCTCCA', 'TGCACTACCGTCANNTACGCTAGTATGCGTTCTTCCTTCCAGAGGTATGTGGCTGCGTGGTCAAAAGTGCGG', 'CATTCGTATTTGCTCCTCGTGTTTACTCTCACAAACTTGACCTGGAGNANAAGGAGATGCTTCTTGTGGAAC']\n",
    "correct_seqs=['CCGATTAGGACCATCTAATGCACTTGTTACAAGACTTCTTTTAAATACTTTCTTCCTGCCCAGTAGCGGATG', 'ATAATGGTTGTTGCCAGCCGGTGTGGAAGGTAACAGCACCGGTGCGAGCCTAATGTGCCGTCTCCACCAACA', 'TAGTATACGTCTAGGCGTCACCCGCCATCTCTGTGCAGGTGGGCCGACGAGACATTGTCCCTGATTTCTCCA']\n",
    "\n",
    "assert_equal(filter_seq(test_seqs_N), correct_seqs)\n",
    "print('Test 1 of 4 passed: filter_seq excluded sequences with N nucleotides.')"
   ]
  },
  {
   "cell_type": "code",
   "execution_count": 11,
   "metadata": {
    "collapsed": false,
    "nbgrader": {
     "grade": true,
     "grade_id": "task2_autograder2_length",
     "locked": true,
     "points": 2,
     "schema_version": 3,
     "solution": false,
     "task": false
    }
   },
   "outputs": [
    {
     "name": "stdout",
     "output_type": "stream",
     "text": [
      "Test 2 of 4 passed: filter_seq excluded sequences not of 72 nucleotides in length\n"
     ]
    }
   ],
   "source": [
    "# Check that filter_seq() removes sequences that are not 72 nucleotides long.\n",
    "# This cell will execute without error if filter_seq() excludes sequences that are not exactly 72 nucleotides in length.\n",
    "\n",
    "from nose.tools import assert_equal\n",
    "test_seqs_length=['CCGATTAGGACCATCTAATGCACTTGTTACAAGACTTCTTTTAAATACTTTCTTCCTGCCCAGTAGCGGATG', 'ATAATGGTTGTTGCCAGCCGGTGTGGAAGGTAACAGCACCGGTGCGAGCCTAATGTGCCGTCTCCACCAACA', 'TAGTATACGTCTAGGCGTCACCCGCCATCTCTGTGCAGGTGGGCCGACGAGACATTGTCCCTGATTTCTCCA', 'CTACTAATAGCACACACGGGGCAATACCAGCACAAGCTAGTCTCGCGGGAACGCTCGTCAGCATACGAAAGAGC', 'CTTGGGTGTTT']\n",
    "correct_seqs=['CCGATTAGGACCATCTAATGCACTTGTTACAAGACTTCTTTTAAATACTTTCTTCCTGCCCAGTAGCGGATG', 'ATAATGGTTGTTGCCAGCCGGTGTGGAAGGTAACAGCACCGGTGCGAGCCTAATGTGCCGTCTCCACCAACA', 'TAGTATACGTCTAGGCGTCACCCGCCATCTCTGTGCAGGTGGGCCGACGAGACATTGTCCCTGATTTCTCCA']\n",
    "assert_equal(filter_seq(test_seqs_length), correct_seqs)\n",
    "print('Test 2 of 4 passed: filter_seq excluded sequences not of 72 nucleotides in length')"
   ]
  },
  {
   "cell_type": "code",
   "execution_count": 12,
   "metadata": {
    "collapsed": false,
    "nbgrader": {
     "grade": true,
     "grade_id": "task2_autograder3_case",
     "locked": true,
     "points": 2,
     "schema_version": 3,
     "solution": false,
     "task": false
    }
   },
   "outputs": [
    {
     "name": "stdout",
     "output_type": "stream",
     "text": [
      "Test 3 of 4 passed: filter_seq accepted UPPERCASE and lowercase input and output in UPPERCASE\n"
     ]
    }
   ],
   "source": [
    "# Check that filter_seq() converts all sequences to UPPERCASE\n",
    "# This cell will execute without error filter_seq() converts all returned sequences to uppercase\n",
    "from nose.tools import assert_equal\n",
    "test_seqs_case=['CCGATTAGGACCATCTAATGCACTTGTTACAAGACTTCTTTTAAATACTTTCTTCCTGCCCAGTAGCGGATG', 'ataatggttgttgccagccggtgtggaaggtaacagcaccggtgcgagcctaatgtgccgtctccaccaaca', 'tagtatacgtctAGGCGTCACCCGCCATCTCTGTGCAGGTGGGCCGACGAGAcatTGTCCCTGATTTCTccT']\n",
    "correct_seqs=['CCGATTAGGACCATCTAATGCACTTGTTACAAGACTTCTTTTAAATACTTTCTTCCTGCCCAGTAGCGGATG', 'ATAATGGTTGTTGCCAGCCGGTGTGGAAGGTAACAGCACCGGTGCGAGCCTAATGTGCCGTCTCCACCAACA', 'TAGTATACGTCTAGGCGTCACCCGCCATCTCTGTGCAGGTGGGCCGACGAGACATTGTCCCTGATTTCTCCT']\n",
    "assert_equal(filter_seq(test_seqs_case), correct_seqs)\n",
    "print('Test 3 of 4 passed: filter_seq accepted UPPERCASE and lowercase input and output in UPPERCASE')"
   ]
  },
  {
   "cell_type": "code",
   "execution_count": 13,
   "metadata": {
    "collapsed": false,
    "nbgrader": {
     "grade": true,
     "grade_id": "task2_autograder4_docstring",
     "locked": true,
     "points": 1,
     "schema_version": 3,
     "solution": false,
     "task": false
    }
   },
   "outputs": [
    {
     "name": "stdout",
     "output_type": "stream",
     "text": [
      "Test 4 of 4 passed: filter_seq has a docstring\n"
     ]
    }
   ],
   "source": [
    "# Check for a docstring in filter_seq()\n",
    "# This cell will execute without error filter_seq() has a docstring\n",
    "from nose.tools import assert_equal, assert_true\n",
    "assert_true(filter_seq.__doc__ is not None)\n",
    "print('Test 4 of 4 passed: filter_seq has a docstring')"
   ]
  },
  {
   "cell_type": "markdown",
   "metadata": {
    "collapsed": false,
    "nbgrader": {
     "grade": false,
     "grade_id": "72b71f",
     "locked": true,
     "schema_version": 3,
     "solution": false,
     "task": false
    }
   },
   "source": [
    "### Task 3 Autograders\n",
    "\n",
    "This task has two components for which marks are assigned, therefore there are two autograders that must both pass for full marks. \n"
   ]
  },
  {
   "cell_type": "code",
   "execution_count": 14,
   "metadata": {
    "collapsed": false,
    "nbgrader": {
     "grade": true,
     "grade_id": "task3_autograder1_function",
     "locked": true,
     "points": 5,
     "schema_version": 3,
     "solution": false,
     "task": false
    }
   },
   "outputs": [
    {
     "name": "stdout",
     "output_type": "stream",
     "text": [
      "Test 1 of 2 passed: call_variant() produced correct output for sequences within range\n"
     ]
    }
   ],
   "source": [
    "# Check that call_variant() returns the correct output for several different inputs.\n",
    "from nose.tools import assert_equal\n",
    "assert_equal(call_variant('ATGCGACATTGGGATCTGTCTGTTGTCATTCGCGGAAAACATCCGTTCACGAGGCGGACACTGATTGACACGGTTTAA', 6 ), 'L')\n",
    "assert_equal(call_variant('ATGTTGCAAAGGTTAGGGAATAGGTTATAA', 4), 'R')\n",
    "print('Test 1 of 2 passed: call_variant() produced correct output for sequences within range')"
   ]
  },
  {
   "cell_type": "code",
   "execution_count": 15,
   "metadata": {
    "collapsed": false,
    "nbgrader": {
     "grade": true,
     "grade_id": "task3_autograder2_error",
     "locked": true,
     "points": 5,
     "schema_version": 3,
     "solution": false,
     "task": false
    }
   },
   "outputs": [
    {
     "name": "stdout",
     "output_type": "stream",
     "text": [
      "Test 2 of 2 passed: call_variant() returned \"Error\" when position was either 0 or beyond the end of the protein sequence string.\n"
     ]
    }
   ],
   "source": [
    "# Check that call_variant() returns 'Error' if the position searched is outwith the translated protein sequence.\n",
    "from nose.tools import assert_equal\n",
    "assert_equal(call_variant('ATGCGACATTGGGATCTGTCTGTTGTCATTCGCGGAAAACATCCGTTCACGAGGCGGACACTGATTGACACGGTTTAA', 62 ), 'Error')\n",
    "assert_equal(call_variant('ATGTTGCAAAGGTTAGGGAATAGGTTATAA', 41), 'Error')\n",
    "assert_equal(call_variant('ATGTTGCAAAGGGTAACGGAGTTAGGGAATAGGTTATAA', 0), 'Error')\n",
    "print('Test 2 of 2 passed: call_variant() returned \"Error\" when position was either 0 or beyond the end of the protein sequence string.')"
   ]
  }
 ],
 "metadata": {
  "kernelspec": {
   "display_name": "Python 3 (system-wide)",
   "language": "python",
   "metadata": {
    "cocalc": {
     "description": "Python 3 programming language",
     "priority": 100,
     "url": "https://www.python.org/"
    }
   },
   "name": "python3",
   "resource_dir": "/ext/jupyter/kernels/python3"
  },
  "language_info": {
   "codemirror_mode": {
    "name": "ipython",
    "version": 3
   },
   "file_extension": ".py",
   "mimetype": "text/x-python",
   "name": "python",
   "nbconvert_exporter": "python",
   "pygments_lexer": "ipython3",
   "version": "3.8.5"
  }
 },
 "nbformat": 4,
 "nbformat_minor": 4
}