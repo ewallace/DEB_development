{
 "cells": [
  {
   "cell_type": "markdown",
   "metadata": {
    "collapsed": false,
    "nbgrader": {
     "grade": false,
     "grade_id": "Instructions",
     "locked": true,
     "schema_version": 3,
     "solution": false,
     "task": false
    }
   },
   "source": [
    "# ITPPDS Mid Course Programming Project\n",
    "\n",
    "### <span style=\"color:red\">*Please read these instructions fully*</span>\n",
    "\n",
    "### Marking Scheme\n",
    "\n",
    "The four tasks in this notebook ask you to write functions to perform specified operations. Please complete the functions in the code cells provided, removing the `# YOUR CODE HERE` and `raise NotImplementedError()` text from the cell and replacing with your own code. Do not change the function names from those provided. These functions will be automatically marked by a computer, which will test whether your functions perform the required operations and award marks where those tests pass. You will receive partial marks if your code runs but fails to perform some of the requirements, but you will not receive any marks if you code produces an error or fails to return any valid values. It is critical that your functions are named as specified in the questions and that they return the values requested, without any additional output.\n",
    "\n",
    "Please see [**this video**](https://media.ed.ac.uk/media/Completing+CoCalc+Assignments.mov/1_gt6elgym) for a full description of how to use the autograder cells to test your functions. We highly recommend using the `Validate` button to check your notebook for errors and to run the autograders prior to submission. The `Validate` button restarts the Python kernel and runs each cell in turn, so ensures that the cells run in the same order as they will when being graded.\n",
    "\n",
    "The test is graded out of a total of 20 marks. The marks available for each question are details in individual mark schemes for each task.\n",
    "\n",
    "### Plagiarism and collusion\n",
    "\n",
    "This data analysis project forms a part of your course assessment and **must be your own work**. You are encouraged to use the self study notebooks, workshop notebooks, internet search and online Python documentation, and to use or adapt code examples from each of those sources.  However you must not help or receive help from anyone, and must not use code written by other students.\n",
    "\n",
    "Where you have taken or adapted from other sources that is greater than a single line, please use Python comments (#) to give the source of any code unless it is from the course notebooks and workshop material.\n",
    "\n",
    "All work will be checked for evidence of plagiarism and collusion. CoCalc notebooks retain a full file editing history and this may be reviewed.\n",
    "\n",
    "### Deadline and submission information\n",
    "\n",
    "This workbook will be automatically submitted at **2pm on Wednesday 2nd March**, which is the deadline for this assignment. You do not need to do anything to submit, other than ensure your notebook is saved (Click Save in the upper left hand side of this page). If you want to arrange for later collection, for example because you have been granted an extension to this assignment or would like to submit with late penalties applied, please email graeme.cowan@ed.ac.uk **before the deadline** so that alternative collection arrangements can be put in place.\n"
   ]
  },
  {
   "cell_type": "markdown",
   "metadata": {
    "collapsed": false,
    "nbgrader": {
     "grade": false,
     "grade_id": "Intro",
     "locked": true,
     "schema_version": 3,
     "solution": false,
     "task": false
    }
   },
   "source": [
    "<img style=\"float: right;\" src=\"./Darwins_finches.png\" width=\"500\" height=\"350\" >\n",
    "\n",
    "# Geospiza Morphology\n",
    "\n",
    "Geospiza are a genus of finches endemic to the Galapagos Islands that are also known as \"Darwin's finches\". A commonly used data science dataset is from experiments studying phenotypic variation among Geospiza ground-finches from six morphological measurements of museum specimens (wing length, tail length, tarsus length, bill length, bill width and bill depth) taken on adult males by H. S. Swarth for his monographic revision of the birds of the Galapagos (Swarth 1931). The combination of multiple measurements on each individual bird makes this dataset suitable for studying multivariate analyses and dimensionality reduction techniques. \n",
    "\n",
    "In the first part of this project, you are asked to write Python 3 functions that you might use to reformat or process phenotypic datasets such as the Geospiza morphology dataset."
   ]
  },
  {
   "cell_type": "markdown",
   "metadata": {
    "collapsed": false,
    "nbgrader": {
     "grade": false,
     "grade_id": "Task1_Question",
     "locked": true,
     "schema_version": 3,
     "solution": false,
     "task": false
    }
   },
   "source": [
    "# Task 1\n",
    "\n",
    "Write a function called **unique_species()** that takes a list of species names as an argument and returns a list of all unique species sampled *(1 mark)* sorted in alphabetical order (*1 mark*). Your function should have a valid docstring *(1 mark)*. Note: the list of all unique species sampled must be sorted within your function.\n",
    "\n",
    "A list of species is provided two cells below to enable you to test your function. The expected result from that list is `['G. fortis', 'G. magnirostris', 'G. propinqua']`, however your function must operate with any list of species names, not just the one provided.\n",
    "\n",
    "##### Marking scheme (3 marks total)\n",
    "* Function returns a list of unique species: 1 mark\n",
    "* and is sorted alphabetically: 1 mark\n",
    "* Function contains a valid docstring: 1 mark\n",
    "* No marks will be awarded to this question if the function does not run, for example due to a syntax error in the cell.\n",
    "\n",
    "You can check your answer with the Task 1 autograders 1-3 at the bottom of this assignment. If the message 'This test has passed' is displayed, you will receive the marks for that part of the question.\n"
   ]
  },
  {
   "cell_type": "code",
   "execution_count": 1,
   "metadata": {
    "collapsed": false,
    "nbgrader": {
     "grade": false,
     "grade_id": "Task1",
     "locked": false,
     "schema_version": 3,
     "solution": true,
     "task": false
    }
   },
   "outputs": [
   ],
   "source": [
    "# This cell must contain the function definition code only. Use the cell below for testing your function.\n",
    "def unique_species(species):\n",
    "    ### BEGIN SOLUTION\n",
    "    '''takes a list of species as an argument and generates a list of unique species'''\n",
    "    unique=[]\n",
    "    for s in species:\n",
    "        if not s in unique:\n",
    "            unique.append(s)\n",
    "    return sorted(unique)\n",
    "    ### END SOLUTION\n"
   ]
  },
  {
   "cell_type": "code",
   "execution_count": 2,
   "metadata": {
    "collapsed": false
   },
   "outputs": [
   ],
   "source": [
    "# Example testing code for task 1. Please delete any additional code you add to this cell after testing.\n",
    "species_list_a=['G. propinqua', 'G. fortis', 'G. propinqua', 'G. propinqua', 'G. propinqua', 'G. magnirostris', 'G. magnirostris', 'G. magnirostris', 'G. magnirostris', 'G. magnirostris', 'G. magnirostris', 'G. magnirostris', 'G. magnirostris', 'G. magnirostris', 'G. magnirostris', 'G. magnirostris', 'G. magnirostris', 'G. magnirostris', 'G. magnirostris', 'G. magnirostris', 'G. magnirostris', 'G. fortis', 'G. fortis', 'G. fortis', 'G. fortis', 'G. fortis', 'G. fortis', 'G. fortis', 'G. fortis', 'G. fortis', 'G. fortis', 'G. fortis', 'G. fortis','G. magnirostris', 'G. fortis', 'G. fortis', 'G. fortis', 'G. fortis', 'G. fortis', 'G. fortis', 'G. magnirostris', 'G. fortis']\n"
   ]
  },
  {
   "cell_type": "markdown",
   "metadata": {
    "collapsed": false,
    "nbgrader": {
     "grade": false,
     "grade_id": "Task2_Question",
     "locked": true,
     "schema_version": 3,
     "solution": false,
     "task": false
    }
   },
   "source": [
    "# Task 2\n",
    "\n",
    "We have a list of Geospiza species and bill lengths reproduced from a subset of H.S. Swarth's measurement data. Write a function called **generate_dict_max()** that takes two lists as arguments: a list of species and a list of bill lengths (floats). Your function should return a dictionary with unique species names as keys and maximum bill lengths for each species as the associated values *(3 marks)*. Your function may optionally have a docstring (not required), but if present please use a single line docstring to facilitate autograding of this task.\n",
    "\n",
    "You will gain 1 additional mark if your function, including the function definition line but excluding any docstring, contains six or fewer lines of code, or 2 marks if it contains only two lines. You have been taught enough Python to write the code in six or fewer lines - this simply requires an optimisation of the logic. To write the code in three or fewer lines will require a different approach to the problem and will likely need you to search web resources. n.b. Condensed code is not necessarily better code (often the opposite), however here this task is set to challenge your evaluation of different ways to achieve a task and to test your ability to use web resources. Please note that semi-colon line separators will be counted as newline characters.\n",
    "\n",
    "Two lists are provided in the cell below the function definition to allow you to test your code. From the two lists provided, your results should be `{'G. propinqua': 22.5, 'G. magnirostris': 25.0, 'G. fortis': 19.5}`. The order of keys in the dictionary does not matter.\n",
    "\n",
    "##### Marking scheme (5 marks total)\n",
    "* Function generates a dictionary of maximum bill lengths (values) for each species (keys): 3 marks\n",
    "* Function is 6 lines or fewer: 1 mark, or 2 lines or fewer: 2 marks (excluding the single line docstring)\n",
    "* No marks will be awarded to this question if the function does not run, for example due to a syntax error in the cell.\n",
    "\n",
    "You can check your answer with the Task 2 autograders 1-4 at the bottom of this assignment. If the message 'This test has passed' is displayed, you will receive the marks for that part of the question.\n"
   ]
  },
  {
   "cell_type": "code",
   "execution_count": 3,
   "metadata": {
    "collapsed": false,
    "nbgrader": {
     "grade": false,
     "grade_id": "Task2",
     "locked": false,
     "schema_version": 3,
     "solution": true,
     "task": false
    }
   },
   "outputs": [
   ],
   "source": [
    "# This cell must contain the function definition code only. Use the cell below for testing your function.\n",
    "def generate_dict_max(species, lengths):\n",
    "    ### BEGIN SOLUTION\n",
    "    '''Generates dictionary of species as keys and maximum values as values'''\n",
    "    # 1 line method\n",
    "    #return dict(sorted(list(zip(species, lengths)), key=lambda x: x[1]) )\n",
    "\n",
    "    # Another 1 line method\n",
    "    return {s:v for (s,v) in sorted(list(zip(species, lengths)), key=lambda x: x[1])}\n",
    "\n",
    "    # 5 line alternative\n",
    "    #out_dict={}\n",
    "    #for i, s in enumerate(species):\n",
    "    #    if s not in out_dict or lengths[i] > out_dict[s]:\n",
    "    #            out_dict[s]=values[i]\n",
    "    #return out_dict\n",
    "\n",
    "    ### END SOLUTION\n"
   ]
  },
  {
   "cell_type": "code",
   "execution_count": 4,
   "metadata": {
    "collapsed": false
   },
   "outputs": [
   ],
   "source": [
    "# Example testing code for Task 2. Please delete any additional code you add to this cell after your testing.\n",
    "species_list=['G. propinqua', 'G. propinqua', 'G. propinqua', 'G. propinqua', 'G. magnirostris', 'G. magnirostris', 'G. magnirostris', 'G. magnirostris', 'G. magnirostris', 'G. magnirostris', 'G. magnirostris', 'G. magnirostris', 'G. magnirostris', 'G. magnirostris', 'G. magnirostris', 'G. magnirostris', 'G. magnirostris', 'G. magnirostris', 'G. magnirostris', 'G. magnirostris', 'G. fortis', 'G. fortis', 'G. fortis', 'G. fortis', 'G. fortis', 'G. fortis', 'G. fortis', 'G. fortis', 'G. fortis', 'G. fortis', 'G. fortis', 'G. fortis', 'G. fortis', 'G. fortis', 'G. fortis', 'G. fortis', 'G. fortis', 'G. fortis', 'G. fortis', 'G. fortis', 'G. fortis', 'G. fortis', 'G. fortis', 'G. fortis', 'G. fortis', 'G. fortis', 'G. fortis', 'G. fortis', 'G. fortis', 'G. fortis']\n",
    "\n",
    "bill_length_list=[19.5, 20.0, 22.5, 21.0, 25.0, 22.5, 21.5, 22.0, 24.0, 22.2, 21.0, 21.0, 22.5, 24.0, 22.0, 22.5, 24.0, 20.2, 20.0, 21.5, 17.0, 15.2, 16.0, 16.8, 16.0, 16.0, 16.5, 17.0, 16.5, 15.8, 15.8, 16.0, 18.5, 19.5, 15.8, 19.5, 17.0, 16.2, 16.0, 15.0, 15.0, 15.0, 16.5, 15.8, 13.0, 15.0, 15.0, 17.0, 15.2, 16.5]\n"
   ]
  },
  {
   "cell_type": "markdown",
   "metadata": {
    "collapsed": false,
    "nbgrader": {
     "grade": false,
     "grade_id": "fc7e9a",
     "locked": true,
     "schema_version": 3,
     "solution": false,
     "task": false
    }
   },
   "source": [
    "# Managing Health Data - Community Health Index\n",
    "\n",
    "\n",
    "The Community Health Index Number (CHI number) is an identifier used to uniquely identify patients within the NHS in Scotland ([Link to NHS Scotland description ](https://www.ndc.scot.nhs.uk/Data-Dictionary/SMR-Datasets//Patient-Identification-and-Demographic-Information/Community-Health-Index-Number/)). Data scientists at Public Health Scotland maintain a library of tools to manage health data written in the R language called [phsmethods](https://github.com/Public-Health-Scotland/phsmethods), and in this part of the project we will replicate some of those tools in Python. \n",
    "\n",
    "<img src=\"CHI_number.png\" alt=\"CHI_number\" style=\"float: left; margin-right: 25px;\" />\n",
    "The CHI number is composed of each of the following elements in order:\n",
    "<br>\n",
    "<br>\n",
    "\n",
    "* Digits 1-6: Date of Birth in the format DDMMYY\n",
    "* Digits 7&8: Two further digits\n",
    "* Digit 9: an even number for female patients and an odd number for male patients\n",
    "* Digit 10: A modulus 11 check digit"
   ]
  },
  {
   "cell_type": "markdown",
   "metadata": {
    "collapsed": false,
    "nbgrader": {
     "grade": false,
     "grade_id": "Task3Question",
     "locked": true,
     "schema_version": 3,
     "solution": false,
     "task": false
    }
   },
   "source": [
    "# Task 3\n",
    "\n",
    "Write a Python 3 function named sex_from_chi() that takes a 10 digit CHI number as a **string** and returns the string 'Male' if the 9th digit in the CHI number is odd, and 'Female' if it is even (including zero) (2 marks). If too long or short a string is entered, your function should raise a ValueError, and if the CHI is entered as an integer value, the function should raise a TypeError. (2 marks). Your function must have a valid docstring (1 mark).\n",
    "\n",
    "#### Mark scheme (5 marks total)\n",
    "\n",
    "* Function returns 'Male' for odd 9th digit, 'Female' for even 9th digit - 2 marks\n",
    "* Function returns ValueError if the string is of incorrect length and TypeError if the CHI is entered as an integer value - 2 marks\n",
    "* Function has a valid docstring - 1 mark\n",
    "\n"
   ]
  },
  {
   "cell_type": "code",
   "execution_count": 5,
   "metadata": {
    "collapsed": false,
    "nbgrader": {
     "grade": false,
     "grade_id": "Task3",
     "locked": false,
     "schema_version": 3,
     "solution": true,
     "task": false
    }
   },
   "outputs": [
   ],
   "source": [
    "def sex_from_chi(chi): \n",
    "    ### BEGIN SOLUTION\n",
    "    \"\"\"\n",
    "    Function takes a 10 digit CHI number as a **string** and returns the string 'Male' if the 9th digit in the CHI number is odd,     and 'Female' if it is even (including zero).\n",
    "    \"\"\"\n",
    "    if type(chi) != str: raise TypeError(\"CHI must be a string\")\n",
    "    if len(chi) != 10: raise ValueError(\"CHI length must be 10\")\n",
    "    if int(chi[8])%2 == 0:\n",
    "        return 'Female'\n",
    "    else:\n",
    "        return 'Male'\n",
    "    ### END SOLUTION"
   ]
  },
  {
   "cell_type": "code",
   "execution_count": 6,
   "metadata": {
    "collapsed": false
   },
   "outputs": [
   ],
   "source": [
    "#artificially generated CHI numbers are provided here should you wish to use them to test your code\n",
    "#You can call you function in this cell, but please only define it in the answer cell above\n",
    "\n",
    "male_chi=\"0101011237\"\n",
    "female_chi=\"0101336489\"\n"
   ]
  },
  {
   "cell_type": "markdown",
   "metadata": {
    "collapsed": false,
    "nbgrader": {
     "grade": false,
     "grade_id": "c38a83",
     "locked": true,
     "schema_version": 3,
     "solution": false,
     "task": false
    }
   },
   "source": [
    "\n",
    "<img src=\"CHI_number_calc.png\" alt=\"CHI_number\" style=\"float: right; margin-right: 25px;\" /> \n",
    "\n",
    "### CHI number validation\n",
    "\n",
    "The digit in the 10th position is used to validate the first nine digits, to enable algorithmic checks to detect mistakes in manually entering the CHI number. \n",
    "\n",
    "Validation is achieved using the Modulus 11 algorithm, which is composed of four steps:\n",
    "\n",
    "1. Starting from the left, multiply each of the first nine digits by (11 - digit position). For example, the value of the digit at  position 1 would be multiplied by 10, value of digit position 2 by 9, value of digit position 3 by 8, and so on.\n",
    "\n",
    "2. Add the results of the nine multiplications together.\n",
    "\n",
    "3. Divide the total by 11 and obtain the modulus (remainder).\n",
    "\n",
    "4. Subtract the modulus (remainder) from 11 to get the calculated check digit. If the calculated check digit is 11, substitute a value of 0. If the calculated check digit is 10, then the first nine digits are invalid.\n"
   ]
  },
  {
   "cell_type": "markdown",
   "metadata": {
    "collapsed": false,
    "nbgrader": {
     "grade": false,
     "grade_id": "Task4question",
     "locked": true,
     "schema_version": 3,
     "solution": false,
     "task": false
    }
   },
   "source": [
    "# Task 4\n",
    "\n",
    "Write a Python 3 function called **`check_chi()`** that takes a 10 digit CHI number (as a string) as an argument and evaluates whether the CHI number is valid, according to the criteria listed below. \n",
    "\n",
    "If any of the following criteria are met, your function should return the string 'Invalid', otherwise, it should return 'Valid'. n.b. these strings are case sensitive.\n",
    "* CHI number is not a string (1 mark)\n",
    "* CHI number is <10 or >10 characters (1 mark)\n",
    "* Check number is not valid based on the first nine digits. *Hint: you will need to calculate the expected check digit according to the information above* (4 marks)\n",
    "\n",
    "Your function must have a valid docstring. (1 mark). Your function does **not** need to check that the 6 digit date of birth is a valid date. \n",
    "\n",
    "Your function must run without error to be awarded any marks for this question. To check the check digit, you will need to follow the instructions above to calculate the expected check digit, however you will score partial marks if your function successfully rejects invalid CHIs based on the other listed criteria but does not correct reject those with invalid check digits.\n",
    "\n",
    "#### Mark scheme (7 marks total)\n",
    "- Valid docstring - 1 mark\n",
    "- Rejects CHIs with each of the listed rejection criteria - 1 or 4 marks per criterion as listed above, total of 6 marks available.\n"
   ]
  },
  {
   "cell_type": "code",
   "execution_count": 7,
   "metadata": {
    "collapsed": false,
    "nbgrader": {
     "grade": false,
     "grade_id": "Task4",
     "locked": false,
     "schema_version": 3,
     "solution": true,
     "task": false
    }
   },
   "outputs": [
   ],
   "source": [
    "def check_chi(chi): \n",
    "    ### BEGIN SOLUTION\n",
    "    \"\"\"\n",
    "    Check CHI check digit is valid based length = 10, type=str, and modulus 11 check digit compatible \n",
    "    with digits 1-9 of the CHI number.\n",
    "    \"\"\"\n",
    "    if type(chi) != str or len(chi)!=10: \n",
    "        return 'Invalid'\n",
    "    position_weights_products=[(11-i)*int(x) for (i, x) in enumerate(chi[0:9], start=1)]\n",
    "    sum_pw=sum(position_weights_products)\n",
    "    check_digit=11-(sum_pw%11)\n",
    "    if check_digit == 11: #if check digit is 11, set to 0\n",
    "        check_digit = 0\n",
    "    if int(chi[9])==check_digit:\n",
    "        return 'Valid'\n",
    "    else:\n",
    "        return 'Invalid'\n",
    "    ### END SOLUTION"
   ]
  },
  {
   "cell_type": "code",
   "execution_count": 8,
   "metadata": {
    "collapsed": false
   },
   "outputs": [
   ],
   "source": [
    "valid_chis=[\"0102674132\", \"1405769726\", \"2711087816\", \"0404763189\", \"2609661347\", \"0610826948\"]\n",
    "\n",
    "invalid_chis=[\"010156\", 1405769726, \"2711087811\"]\n"
   ]
  },
  {
   "cell_type": "markdown",
   "metadata": {
    "collapsed": false,
    "nbgrader": {
     "grade": false,
     "grade_id": "27a7e1",
     "locked": true,
     "schema_version": 3,
     "solution": false,
     "task": false
    }
   },
   "source": [
    "# Autograders\n",
    "\n",
    "Use the code cells below to test your code. Each autograder tests an individual aspect of the required performance of each function, therefore there are multiple autograders for each task.\n",
    "\n",
    "Please note that there are no hidden tests - you will be awarded the marks for each of the autograders below that runs without error. If autograders do not pass, the error displayed is often not helpful in debugging your code: we recommend that you use the variables supplied within each task to test your code manually so that you can see the errors produced. "
   ]
  },
  {
   "cell_type": "markdown",
   "metadata": {
    "collapsed": false,
    "nbgrader": {
     "grade": false,
     "grade_id": "e235fd",
     "locked": true,
     "schema_version": 3,
     "solution": false,
     "task": false
    }
   },
   "source": [
    "### Task 1 autograders"
   ]
  },
  {
   "cell_type": "code",
   "execution_count": 9,
   "metadata": {
    "collapsed": false,
    "nbgrader": {
     "grade": true,
     "grade_id": "Task1_autograder1",
     "locked": true,
     "points": 1,
     "schema_version": 3,
     "solution": false,
     "task": false
    }
   },
   "outputs": [
    {
     "name": "stdout",
     "output_type": "stream",
     "text": [
      "This test has passed - list of unique species returned\n"
     ]
    }
   ],
   "source": [
    "#This grader tests that the function from task 1 returns unique species (1 mark)\n",
    "\n",
    "species_list1=['G. propinqua', 'G. propinqua', 'G. propinqua', 'G. magnirostris', 'G. magnirostris', 'G. magnirostris', 'G. fortis', 'G. fortis', 'G. fortis', 'G. fortis']\n",
    "\n",
    "species_list2=['G. scandens', 'G. fortis', 'G. fortis', 'G. fortis', 'G. fuliginosa', 'G. fuliginosa', 'G. fuliginosa', 'G. septentrionalis', 'G. septentrionalis', 'G. difficilis', 'G. acutirostris', 'G. acutirostris', 'G. difficilis', 'G. difficilis',  'G. difficilis',  'G. difficilis', 'G. scandens', 'G. scandens']\n",
    "\n",
    "# [Modify the tests below for your own problem]\n",
    "# Check that squares returns the correct output for several inputs:\n",
    "from nose.tools import assert_equal\n",
    "assert_equal(sorted(unique_species(species_list1)), ['G. fortis', 'G. magnirostris', 'G. propinqua'])\n",
    "assert_equal(sorted(unique_species(species_list2)), ['G. acutirostris', 'G. difficilis', 'G. fortis', 'G. fuliginosa', 'G. scandens', 'G. septentrionalis'])\n",
    "\n",
    "print('This test has passed - list of unique species returned')"
   ]
  },
  {
   "cell_type": "code",
   "execution_count": 10,
   "metadata": {
    "collapsed": false,
    "nbgrader": {
     "grade": true,
     "grade_id": "Task1_autograder2",
     "locked": true,
     "points": 1,
     "schema_version": 3,
     "solution": false,
     "task": false
    }
   },
   "outputs": [
    {
     "name": "stdout",
     "output_type": "stream",
     "text": [
      "This test has passed - returned list is sorted alphabetically\n"
     ]
    }
   ],
   "source": [
    "#This grader tests that the uniques species returns by the function from task 1 are sorted alphabetically (1 mark)\n",
    "\n",
    "species_list1=['G. propinqua', 'G. propinqua', 'G. propinqua', 'G. magnirostris', 'G. magnirostris', 'G. magnirostris', 'G. fortis', 'G. fortis', 'G. fortis', 'G. fortis']\n",
    "\n",
    "species_list2=['G. scandens', 'G. fortis', 'G. fortis', 'G. fortis', 'G. fuliginosa', 'G. fuliginosa', 'G. fuliginosa', 'G. septentrionalis', 'G. septentrionalis', 'G. difficilis', 'G. acutirostris', 'G. acutirostris', 'G. difficilis', 'G. difficilis',  'G. difficilis',  'G. difficilis', 'G. scandens', 'G. scandens']\n",
    "\n",
    "# [Modify the tests below for your own problem]\n",
    "# Check that squares returns the correct output for several inputs:\n",
    "from nose.tools import assert_equal\n",
    "assert_equal(unique_species(species_list1), ['G. fortis', 'G. magnirostris', 'G. propinqua'])\n",
    "assert_equal(unique_species(species_list2), ['G. acutirostris', 'G. difficilis', 'G. fortis', 'G. fuliginosa', 'G. scandens', 'G. septentrionalis'])\n",
    "\n",
    "print('This test has passed - returned list is sorted alphabetically')"
   ]
  },
  {
   "cell_type": "code",
   "execution_count": 11,
   "metadata": {
    "collapsed": false,
    "nbgrader": {
     "grade": true,
     "grade_id": "Task1_autograder3",
     "locked": true,
     "points": 1,
     "schema_version": 3,
     "solution": false,
     "task": false
    }
   },
   "outputs": [
    {
     "name": "stdout",
     "output_type": "stream",
     "text": [
      "This test has passed - function has a docstring\n"
     ]
    }
   ],
   "source": [
    "# This autograder tests whether the function for task1 has a valid docstring\n",
    "from nose.tools import assert_equal, assert_true\n",
    "assert_true(unique_species.__doc__ is not None)\n",
    "print('This test has passed - function has a docstring')"
   ]
  },
  {
   "cell_type": "markdown",
   "metadata": {
    "collapsed": false,
    "nbgrader": {
     "grade": false,
     "grade_id": "eb3603",
     "locked": true,
     "schema_version": 3,
     "solution": false,
     "task": false
    }
   },
   "source": [
    "### Task 2 autograders"
   ]
  },
  {
   "cell_type": "code",
   "execution_count": 12,
   "metadata": {
    "collapsed": false,
    "nbgrader": {
     "grade": true,
     "grade_id": "Task2_autograder1",
     "locked": true,
     "points": 3,
     "schema_version": 3,
     "solution": false,
     "task": false
    }
   },
   "outputs": [
    {
     "name": "stdout",
     "output_type": "stream",
     "text": [
      "This test has passed - Function generates a dictionary of maximum bill lengths (values) for each species (keys)\n"
     ]
    }
   ],
   "source": [
    "#This autograder tests whether generate_dict_max() function from task 2 generated the expected dictionary\n",
    "species_list1=['G. propinqua', 'G. propinqua', 'G. propinqua', 'G. propinqua', 'G. magnirostris', 'G. magnirostris', 'G. magnirostris', 'G. magnirostris', 'G. magnirostris', 'G. magnirostris', 'G. magnirostris', 'G. magnirostris', 'G. magnirostris', 'G. magnirostris', 'G. magnirostris', 'G. magnirostris', 'G. magnirostris', 'G. magnirostris', 'G. magnirostris', 'G. magnirostris', 'G. fortis', 'G. fortis', 'G. fortis', 'G. fortis', 'G. fortis', 'G. fortis', 'G. fortis', 'G. fortis', 'G. fortis', 'G. fortis', 'G. fortis', 'G. fortis', 'G. fortis', 'G. fortis', 'G. fortis', 'G. fortis', 'G. fortis', 'G. fortis', 'G. fortis', 'G. fortis', 'G. fortis', 'G. fortis', 'G. fortis', 'G. fortis', 'G. fortis', 'G. fortis', 'G. fortis', 'G. fortis', 'G. fortis', 'G. fortis']\n",
    "bill_length_list1=[19.5, 20.0, 22.5, 21.0, 25.0, 22.5, 21.5, 22.0, 24.0, 22.2, 21.0, 21.0, 22.5, 24.0, 22.0, 22.5, 24.0, 20.2, 20.0, 21.5, 17.0, 15.2, 16.0, 16.8, 16.0, 16.0, 16.5, 17.0, 16.5, 15.8, 15.8, 16.0, 18.5, 19.5, 15.8, 19.5, 17.0, 16.2, 16.0, 15.0, 15.0, 15.0, 16.5, 15.8, 13.0, 15.0, 15.0, 17.0, 15.2, 16.5]\n",
    "\n",
    "species_list2=['G. fortis', 'G. fortis', 'G. fortis', 'G. fortis', 'G. fortis', 'G. fortis', 'G. fuliginosa', 'G. fuliginosa', 'G. fuliginosa', 'G. fuliginosa', 'G. fuliginosa', 'G. fuliginosa', 'G. fuliginosa', 'G. fuliginosa', 'G. fuliginosa', 'G. fuliginosa', 'G. fuliginosa', 'G. fuliginosa', 'G. septentrionalis', 'G. septentrionalis', 'G. difficilis', 'G. acutirostris', 'G. difficilis',\n",
    " 'G. difficilis', 'G. scandens', 'G. scandens', 'G. scandens', 'G. scandens', 'G. scandens', 'G. scandens']\n",
    "tarsus_length_list2=[21.2, 23.0, 22.2, 22.0, 22.0, 23.0, 19.0, 18.2, 18.5, 20.0, 18.5, 20.5, 20.5, 19.0, 19.0, 19.0, 20.0, 20.2,\n",
    " 22.0, 22.0, 20.5, 18.5, 24.0, 22.5, 21.5, 22.2, 20.2, 23.0, 22.0, 23.2]\n",
    "\n",
    "from nose.tools import assert_equal\n",
    "dict1=generate_dict_max(species_list1, bill_length_list1)\n",
    "dict2=generate_dict_max(species_list2, tarsus_length_list2)\n",
    "assert_equal(dict1['G. fortis'], 19.5)\n",
    "assert_equal(dict1['G. propinqua'], 22.5)\n",
    "assert_equal(dict1['G. magnirostris'], 25.0)\n",
    "assert_equal(dict2['G. fuliginosa'], 20.5)\n",
    "assert_equal(dict2['G. acutirostris'], 18.5)\n",
    "assert_equal(dict2['G. septentrionalis'], 22.0)\n",
    "\n",
    "print('This test has passed - Function generates a dictionary of maximum bill lengths (values) for each species (keys)')"
   ]
  },
  {
   "cell_type": "code",
   "execution_count": 13,
   "metadata": {
    "collapsed": false,
    "nbgrader": {
     "grade": true,
     "grade_id": "Task2_autograder2",
     "locked": true,
     "points": 1,
     "schema_version": 3,
     "solution": false,
     "task": false
    }
   },
   "outputs": [
    {
     "name": "stdout",
     "output_type": "stream",
     "text": [
      "This test has passed: 6 lines of fewer - 2 lines counted\n"
     ]
    }
   ],
   "source": [
    "# This autograder tests whether the function for task2 has 6 lines of code or fewer (excluding docstring)\n",
    "import inspect\n",
    "from nose.tools import assert_equal, assert_true\n",
    "\n",
    "#only award these marks if the function works\n",
    "dict1=generate_dict_max(species_list1, bill_length_list1)\n",
    "dict2=generate_dict_max(species_list2, tarsus_length_list2)\n",
    "assert_equal(dict1['G. fortis'], 19.5)\n",
    "assert_equal(dict1['G. propinqua'], 22.5)\n",
    "assert_equal(dict1['G. magnirostris'], 25.0)\n",
    "assert_equal(dict2['G. fuliginosa'], 20.5)\n",
    "assert_equal(dict2['G. acutirostris'], 18.5)\n",
    "assert_equal(dict2['G. septentrionalis'], 22.0)\n",
    "\n",
    "lines = inspect.getsource(generate_dict_max).replace(';', '\\n')\n",
    "doc = inspect.getdoc(generate_dict_max).replace(';', '\\n')\n",
    "lines_filt = [line for line in lines.split('\\n') if not line.lstrip().startswith(('#','\"',\"'\")) and not len(line.lstrip())<1]\n",
    "assert_true(len(lines_filt)<7)\n",
    "print(f'This test has passed: 6 lines of fewer - {len(lines_filt)} lines counted')"
   ]
  },
  {
   "cell_type": "code",
   "execution_count": 14,
   "metadata": {
    "collapsed": false,
    "nbgrader": {
     "grade": true,
     "grade_id": "Task2_autograder3",
     "locked": true,
     "points": 1,
     "schema_version": 3,
     "solution": false,
     "task": false
    }
   },
   "outputs": [
    {
     "name": "stdout",
     "output_type": "stream",
     "text": [
      "This test has passed: 2 lines of fewer: 2 lines counted\n"
     ]
    }
   ],
   "source": [
    "# This autograder tests whether the function for task2 has 2 lines of code or fewer (excluding docstring)\n",
    "import inspect\n",
    "from nose.tools import assert_equal, assert_true\n",
    "\n",
    "#only award these marks if the function works\n",
    "dict1=generate_dict_max(species_list1, bill_length_list1)\n",
    "dict2=generate_dict_max(species_list2, tarsus_length_list2)\n",
    "assert_equal(dict1['G. fortis'], 19.5)\n",
    "assert_equal(dict1['G. propinqua'], 22.5)\n",
    "assert_equal(dict1['G. magnirostris'], 25.0)\n",
    "assert_equal(dict2['G. fuliginosa'], 20.5)\n",
    "assert_equal(dict2['G. acutirostris'], 18.5)\n",
    "assert_equal(dict2['G. septentrionalis'], 22.0)\n",
    "\n",
    "lines = inspect.getsource(generate_dict_max).replace(';', '\\n')\n",
    "doc = inspect.getdoc(generate_dict_max).replace(';', '\\n')\n",
    "lines_filt = [line for line in lines.split('\\n') if not line.lstrip().startswith(('#','\"',\"'\")) and not len(line.lstrip())<1]\n",
    "assert_true(len(lines_filt)<3)\n",
    "print(f'This test has passed: 2 lines of fewer: {len(lines_filt)} lines counted')"
   ]
  },
  {
   "cell_type": "markdown",
   "metadata": {
    "collapsed": false
   },
   "source": [
    "### Task 3 autograders"
   ]
  },
  {
   "cell_type": "code",
   "execution_count": 15,
   "metadata": {
    "collapsed": false,
    "nbgrader": {
     "grade": true,
     "grade_id": "Task3autograder10",
     "locked": true,
     "points": 2,
     "schema_version": 3,
     "solution": false,
     "task": false
    }
   },
   "outputs": [
    {
     "name": "stdout",
     "output_type": "stream",
     "text": [
      "This test has passed: the function sex_from_chi() returned the correct output for different CHIs\n"
     ]
    }
   ],
   "source": [
    "# Tests whether function defined for task 3 correctly reads the 'Male' and 'Female' digits from valid CHI numbers\n",
    "# Check that the function returns the correct output for several inputs:\n",
    "from nose.tools import assert_equal\n",
    "assert_equal(sex_from_chi(\"0102674132\"), 'Male')\n",
    "assert_equal(sex_from_chi(\"1405769726\"), 'Female')\n",
    "assert_equal(sex_from_chi(\"2711087816\"), 'Male')\n",
    "assert_equal(sex_from_chi(\"0404763189\"), 'Female')\n",
    "print('This test has passed: the function sex_from_chi() returned the correct output for different CHIs')"
   ]
  },
  {
   "cell_type": "code",
   "execution_count": 16,
   "metadata": {
    "collapsed": false,
    "nbgrader": {
     "grade": true,
     "grade_id": "Task3autograder2",
     "locked": true,
     "points": 2,
     "schema_version": 3,
     "solution": false,
     "task": false
    }
   },
   "outputs": [
    {
     "name": "stdout",
     "output_type": "stream",
     "text": [
      "This test has passed: the function sex_from_chi() produced ValueErrors or TypeError on incorrect input as requested in the question\n"
     ]
    }
   ],
   "source": [
    "# Check that the function from Task 3 raises ValueErrors and TypeErrors error for invalid input:\n",
    "from nose.tools import assert_raises\n",
    "assert_raises(ValueError, sex_from_chi, \"010267413\")\n",
    "assert_raises(ValueError, sex_from_chi, \"01026741324\")\n",
    "assert_raises(TypeError, sex_from_chi, 3002649899)\n",
    "\n",
    "print('This test has passed: the function sex_from_chi() produced ValueErrors or TypeError on incorrect input as requested in the question')"
   ]
  },
  {
   "cell_type": "code",
   "execution_count": 17,
   "metadata": {
    "collapsed": false,
    "nbgrader": {
     "grade": true,
     "grade_id": "Task3autograder3",
     "locked": true,
     "points": 1,
     "schema_version": 3,
     "solution": false,
     "task": false
    }
   },
   "outputs": [
    {
     "name": "stdout",
     "output_type": "stream",
     "text": [
      "This test has passed\n"
     ]
    }
   ],
   "source": [
    "# This autograder tests whether the function for task3 has a valid docstring\n",
    "from nose.tools import assert_equal, assert_true\n",
    "assert_true(sex_from_chi.__doc__ is not None)\n",
    "print('This test has passed')"
   ]
  },
  {
   "cell_type": "markdown",
   "metadata": {
    "collapsed": false
   },
   "source": [
    "### Task 4 autograders"
   ]
  },
  {
   "cell_type": "code",
   "execution_count": 18,
   "metadata": {
    "collapsed": false,
    "nbgrader": {
     "grade": true,
     "grade_id": "Task4autograder1",
     "locked": true,
     "points": 1,
     "schema_version": 3,
     "solution": false,
     "task": false
    }
   },
   "outputs": [
    {
     "name": "stdout",
     "output_type": "stream",
     "text": [
      "This test has passed\n"
     ]
    }
   ],
   "source": [
    "# Task 4: Function checks CHI number is not a string (1 mark)\n",
    "from nose.tools import assert_equal\n",
    "assert_equal(check_chi(\"0102674132\"), 'Valid')\n",
    "assert_equal(check_chi(1405769726), 'Invalid')\n",
    "assert_equal(check_chi([\"0102674132\"]), 'Invalid')\n",
    "assert_equal(check_chi({\"0102674132\"}), 'Invalid')\n",
    "\n",
    "print('This test has passed')"
   ]
  },
  {
   "cell_type": "code",
   "execution_count": 19,
   "metadata": {
    "collapsed": false,
    "nbgrader": {
     "grade": true,
     "grade_id": "Task4autograder2",
     "locked": true,
     "points": 1,
     "schema_version": 3,
     "solution": false,
     "task": false
    }
   },
   "outputs": [
    {
     "name": "stdout",
     "output_type": "stream",
     "text": [
      "This test has passed\n"
     ]
    }
   ],
   "source": [
    "# Task 4: Function checks CHI number is <10 or >10 characters (1 mark)\n",
    "from nose.tools import assert_equal\n",
    "assert_equal(check_chi(\"0102674132\"), 'Valid')\n",
    "assert_equal(check_chi(\"27110878165\"), 'Invalid')\n",
    "assert_equal(check_chi(\"271108\"), 'Invalid')\n",
    "\n",
    "print('This test has passed')"
   ]
  },
  {
   "cell_type": "code",
   "execution_count": 20,
   "metadata": {
    "collapsed": false,
    "nbgrader": {
     "grade": true,
     "grade_id": "Task4autograder3",
     "locked": true,
     "points": 4,
     "schema_version": 3,
     "solution": false,
     "task": false
    }
   },
   "outputs": [
    {
     "name": "stdout",
     "output_type": "stream",
     "text": [
      "This test has passed\n"
     ]
    }
   ],
   "source": [
    "# Task 4: Function checks check number is not valid based on the first nine digits. (4 marks)\n",
    "from nose.tools import assert_equal\n",
    "#Test valid CHI numbers\n",
    "assert_equal(check_chi(\"0102674132\"), 'Valid')\n",
    "assert_equal(check_chi(\"1405769726\"), 'Valid')\n",
    "assert_equal(check_chi(\"2711087816\"), 'Valid')\n",
    "assert_equal(check_chi(\"2609661347\"), 'Valid')\n",
    "assert_equal(check_chi(\"0610826948\"), 'Valid')\n",
    "#Test CHI numbers with incorrect check digits\n",
    "assert_equal(check_chi(\"0102674135\"), 'Invalid')\n",
    "assert_equal(check_chi(\"1405769721\"), 'Invalid')\n",
    "assert_equal(check_chi(\"2711087817\"), 'Invalid')\n",
    "assert_equal(check_chi(\"2609661343\"), 'Invalid')\n",
    "assert_equal(check_chi(\"0610826942\"), 'Invalid')\n",
    "print('This test has passed')"
   ]
  },
  {
   "cell_type": "code",
   "execution_count": 21,
   "metadata": {
    "collapsed": false,
    "nbgrader": {
     "grade": true,
     "grade_id": "Task4autograder4",
     "locked": true,
     "points": 1,
     "schema_version": 3,
     "solution": false,
     "task": false
    }
   },
   "outputs": [
    {
     "name": "stdout",
     "output_type": "stream",
     "text": [
      "This test has passed\n"
     ]
    }
   ],
   "source": [
    "# This autograder tests whether the function for task4 has a valid docstring\n",
    "from nose.tools import assert_equal, assert_true\n",
    "assert_true(check_chi.__doc__ is not None)\n",
    "print('This test has passed')"
   ]
  },
  {
   "cell_type": "code",
   "execution_count": 0,
   "metadata": {
    "collapsed": false
   },
   "outputs": [
   ],
   "source": [
   ]
  }
 ],
 "metadata": {
  "kernelspec": {
   "display_name": "Python 3 (system-wide)",
   "language": "python",
   "metadata": {
    "cocalc": {
     "description": "Python 3 programming language",
     "priority": 100,
     "url": "https://www.python.org/"
    }
   },
   "name": "python3",
   "resource_dir": "/ext/jupyter/kernels/python3"
  },
  "language_info": {
   "codemirror_mode": {
    "name": "ipython",
    "version": 3
   },
   "file_extension": ".py",
   "mimetype": "text/x-python",
   "name": "python",
   "nbconvert_exporter": "python",
   "pygments_lexer": "ipython3",
   "version": "3.8.10"
  },
  "nbgrader": {
   "__altered": false,
   "__hash": 446914683,
   "_root": {
    "entries": [
     [
      "size",
      6
     ],
     [
      "_root",
      {
       "entries": [
        [
         "size",
         1
        ],
        [
         "_root",
         {
          "entries": [
           [
            "cocalc_minimal_stubs",
            false
           ]
          ],
          "ownerID": {
          }
         }
        ],
        [
         "__ownerID",
         null
        ],
        [
         "__hash",
         317186325
        ],
        [
         "__altered",
         false
        ],
        [
         "cocalc_minimal_stubs",
         false
        ]
       ],
       "ownerID": {
       }
      }
     ],
     [
      "__ownerID",
      null
     ],
     [
      "__hash",
      -428392034
     ],
     [
      "__altered",
      false
     ],
     [
      "cocalc_minimal_stubs",
      false
     ]
    ],
    "ownerID": {
    }
   },
   "cocalc_minimal_stubs": false,
   "size": 6
  }
 },
 "nbformat": 4,
 "nbformat_minor": 4
}