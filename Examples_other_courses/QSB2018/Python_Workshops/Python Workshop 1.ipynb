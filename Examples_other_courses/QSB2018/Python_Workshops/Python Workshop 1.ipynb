{
 "cells": [
  {
   "cell_type": "markdown",
   "metadata": {},
   "source": [
    "<img style=\"float: right;\" src=\"images/pylogo.png\">\n",
    "\n",
    "# Workshop 1: Welcome to Python\n",
    "\n",
    "Welcome to the first of the Python workshops. \n",
    "\n",
    "This first workshop aims to:\n",
    "    \n",
    "* Make sure you are able to download and run the Jupyter workbooks in the Jupyter environment\n",
    "\n",
    "* Teach you the first steps in learning the Python programming language\n",
    "\n",
    "* Give you practice completing the Python Quizzes that will be used for in course assessment.\n",
    "\n",
    "* Give you demonstrator-supported time to continue with the self-study notebooks\n",
    "\n",
    "Prior to attending this workshop, you should have completed self-study notebooks 1-5. \n",
    "\n",
    "During this workshop you should:\n",
    "\n",
    "1. Work in groups to answer the questions in this workbook below\n",
    "2. Attempt the Trial Python Quiz. This will give you a practice using the system used in the in-course assessment.\n",
    "3. Continue on to self-study notebooks 6 onwards\n",
    "\n",
    "**Demonstrators are on hand to help you with any queries you may have.**"
   ]
  },
  {
   "cell_type": "markdown",
   "metadata": {
    "collapsed": true
   },
   "source": [
    "### Workshop Task 1\n",
    "* The code below generates an error when run. Edit the code in the cell below so that it runs without error.\n"
   ]
  },
  {
   "cell_type": "code",
   "execution_count": null,
   "metadata": {
    "collapsed": true
   },
   "outputs": [],
   "source": [
    "gene_sequence=ATGGATGCTTGCAGATAA\n",
    "length_of_sequence = '18'\n",
    "number_of_codons=length_of_sequence/3\n",
    "print(number_of_codons)"
   ]
  },
  {
   "cell_type": "code",
   "execution_count": null,
   "metadata": {},
   "outputs": [],
   "source": []
  },
  {
   "cell_type": "markdown",
   "metadata": {},
   "source": [
    "### Workshop Task 2\n",
    "\n",
    "* Calculate the result of the following calculations:\n",
    "\n",
    "  * 950385-5890\n",
    "  * 5789275/3\n",
    "  * 5789275//3 + 5789275%3/3 \n",
    "  * 5x5x5x5x5x5 (can you express this in 4 characters instead of 11?)"
   ]
  },
  {
   "cell_type": "code",
   "execution_count": 6,
   "metadata": {
    "collapsed": true
   },
   "outputs": [],
   "source": [
    "#enter your code for the calculations here\n",
    "\n"
   ]
  },
  {
   "cell_type": "markdown",
   "metadata": {},
   "source": [
    "### Workshop Task 3: Population Growth and Decay\n",
    "\n",
    "Bacterial cells multiply exponentially. Under circumstances with ample resources, the number of individuals in the population increases exponentially while the time to double the population (d) remains constant. If we wish to predict the size of the population (N<sub>t</sub>) after a given time (t), from a starting population (N<sub>0</sub>), we can use the formula:\n",
    "\n",
    "\\begin{equation}\n",
    "N_t = N_02^{t/d}\n",
    "\\end{equation}\n",
    "\n",
    "The units of t and d must be the same.\n",
    "\n",
    "Assuming a starting population of 450 organisms with a doubling time of 20 minutes under non-limiting growth conditions, what would be the number of organisms remaining after 12 hours? You calculation should be performed entirely with Python code.\n"
   ]
  },
  {
   "cell_type": "code",
   "execution_count": 4,
   "metadata": {
    "collapsed": true
   },
   "outputs": [],
   "source": [
    "#Enter the code for your calculation here"
   ]
  },
  {
   "cell_type": "markdown",
   "metadata": {
    "collapsed": true
   },
   "source": [
    "Each bacterium has a mass of approximately 170 femtograms, which is 1.7E-13 Grams (that's 0.00000000000017 g). What is the mass of the bacterial culture after 16 hours?\n"
   ]
  },
  {
   "cell_type": "code",
   "execution_count": 1,
   "metadata": {},
   "outputs": [],
   "source": [
    "#Enter the code for your calculation here"
   ]
  },
  {
   "cell_type": "markdown",
   "metadata": {
    "collapsed": true
   },
   "source": [
    "### Workshop Task 4: Trial Quizzes\n",
    "\n",
    "The Python and EDA components of the course will use online quizzes for in course assessment. These can be composed of different types of questions, including questions where you are asked to write some Python code, also known as CodeRunner questions. \n",
    "\n",
    "#### Marking \n",
    "\n",
    "The CodeRunner questions are automatically marked by the computer by running the code to see whether the output is as requested. We recommend that you try to run your code in a Jupyter notebook before you enter the answer in Coderunner. \n",
    "\n",
    "#### Penalties\n",
    "\n",
    "Since we understand that sometimes your code might not quite run as expected the first time, we have a forgiving penalty scheme for CodeRunner questions. There is a 'check' button on each CodeRunner question that checks whether the answer is correct and notifies you of the result in a box beside the question number. Each push of the 'Check' button counts as an attempt.\n",
    "\n",
    "Where you see in a question \"Penalty Scheme: 0,0,0,10,20,30...\", that means that no penalties will be applied for the first three times you submit your answer (by pushing the 'check' button) and that 10% will be deducted from your maximum final mark for each try thereafter. For example, if you get the answer right on the 4th time you submit your answer, you will receive 90% of the available marks for that answer.\n",
    "\n",
    "Other types of question, including multiple choice questions (MCQs), will not reveal whether your answer is correct during the quiz.\n",
    "\n",
    "#### Assignment deadlines\n",
    "\n",
    "Quizzes will automatically close at the times published in the course book - if you are half way through a quiz, the computer will allow you to complete the answer you are currently working on but will not allow you to complete the remainder of the quiz.\n",
    "\n",
    "#### Feedback \n",
    "\n",
    "Immediate feedback is available upon completing today's quiz but for the quizzes use for in course assessment, the feedback will only be available a few days after the deadline.\n",
    "\n",
    "\n"
   ]
  },
  {
   "cell_type": "markdown",
   "metadata": {},
   "source": [
    "#### Accessing the Trial Quiz\n",
    "\n",
    "You should now log in to Learn and attempt the trial Python quiz. You will find a link to the quizzes under the 'Assessment' section. Today's quiz **will not** count towards the in course assessment mark for the course, it is simply a practice test.\n",
    "\n",
    "#### Plagiarism\n",
    "\n",
    "Your attention is drawn to the plagiarism statement in the course guide:\n",
    "\n",
    "> Learning to program inherently requires you to learn from examples you may find in books or online. If you adapt code that you have found elsewhere, please note the source using in-line Python comments. When submitting code for in-course assessments (Python quizzes and the group project), you must not copy code from other students or project groups. \n",
    "\n",
    "> Submitted code will be checked using coding-specific plagiarism detection tools and any suspected cases of plagiarism will be followed up through academic misconduct proceedings. More information on plagiarism is available at http://www.ed.ac.uk/academic-services/students/conduct/academic-misconduct/plagiarism\n",
    "\n"
   ]
  },
  {
   "cell_type": "markdown",
   "metadata": {},
   "source": [
    "# What next?\n",
    "\n",
    "Once you have completed the quiz, for the remainder of the workshop you should work through the next set of workbooks. Make sure you've completed all the required workbooks for each workshop - you'll find a list in '01 - About this course'. In the next few workbooks, you'll learn how to write loops to repeat actions and conditional statements so that your programs can make decisions.\n",
    "\n",
    "For the remainer of this workshop, demonstrators will be on hand to answer any Python issues you don't understand. Please also feel free to attend the Friday drop-in sessions with any questions you have, or post to the discussion board on Learn."
   ]
  },
  {
   "cell_type": "code",
   "execution_count": null,
   "metadata": {
    "collapsed": true
   },
   "outputs": [],
   "source": []
  }
 ],
 "metadata": {
  "anaconda-cloud": {},
  "kernelspec": {
   "display_name": "Python 3",
   "language": "python",
   "name": "python3"
  },
  "language_info": {
   "codemirror_mode": {
    "name": "ipython",
    "version": 3
   },
   "file_extension": ".py",
   "mimetype": "text/x-python",
   "name": "python",
   "nbconvert_exporter": "python",
   "pygments_lexer": "ipython3",
   "version": "3.6.2"
  }
 },
 "nbformat": 4,
 "nbformat_minor": 1
}
