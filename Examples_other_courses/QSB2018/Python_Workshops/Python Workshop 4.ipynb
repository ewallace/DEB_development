{
 "cells": [
  {
   "cell_type": "markdown",
   "metadata": {
    "button": false,
    "new_sheet": false,
    "run_control": {
     "read_only": false
    }
   },
   "source": [
    "\n"
   ]
  },
  {
   "cell_type": "markdown",
   "metadata": {
    "button": false,
    "new_sheet": false,
    "run_control": {
     "read_only": false
    }
   },
   "source": [
    "# Workshop 4\n",
    "<img src=\"images/wisdom_of_the_ancients.png\" alt=\"Credit: XKCD\" style=\"float:right;\">\n",
    "Welcome to Workshop 4. This is an opportunity to gain more practice in solving coding problems using Python. As in the last workshop, I'd like to again highlight the value of using web searches and online Python documentation to find out how to achieve particular tasks in programming. \n",
    "\n",
    "Now that you have learned the basics, you can continue to improve your coding by seeing how others recommend solving coding problems. Searching for almost any error code or coding problem is likely to bring up a hit on a popular website called Stack Overflow, a popular site with many professional programmers and coding newcomers alike. \n",
    "\n",
    "Please work in groups again this week and discuss the problems and your solutions. Demonstrators will be happy to help if you have any queries. \n",
    "\n",
    "<hr>\n",
    "\n",
    "### Transcriptomic analysis\n",
    "\n",
    "<img src=\"images/Healthy_Human_T_Cell.jpg\" alt=\"T cell SEM - Credit: NIAID\" style=\"float:right;width:240px;height:240px;\">Next generation sequencing (NGS) is one of the technologies that has led to the data revolution in biology. RNAseq is a technology that allows you to use NGS to study which genes are being transcribed into RNA, and therefore what gene products a population of cells is making. You can therefore get a snapshot of a cell or tissue's current state - how is it responding to its environment, is it producing hormones, signalling molecules etc.  Results are usually comparative - the 'fold-change' in RNA level tells us how many times more of a particular RNA there is in one population that the other, and hence we can get an idea of how the cell is adapting or responding to a stimulus.\n",
    "\n",
    "T-cells are a component of the 'white blood cells' of the body that play a wide range of roles in making effective immune responses against pathogens. The data used in this example in a real RNAseq dataset from an experiment which studied how a specific population of T-cells respond to a particular stimulus that simulates bacteria invasion. The RNAseq data have been processed by standard bioinformatics tools to produce a list of genes and data about how each gene responds. A snapshot of the data file (first 4 rows of rnaseq2.csv) is shown below, and each column is described below the table. **Note: the csv file does not contain the header rows that are shown in the table**. You can also view the file by clicking on the filename in the Workshop 3 folder in your home directory (make sure you don't accidently edit it).\n",
    "<br>\n",
    "<br>\n",
    "\n",
    "|ensemblID|logFC|logCPM|PValue|description|external\\_gene\\_name|coding_sequence|\n",
    "|---------|-----|------|------|-----------|------------------|------------|\n",
    "|ENSMUSG00000000085|-0.517098261|5.077189037|0.000921513|sex comb on midleg homolog 1|Scmh1|Sequence unavailable|\n",
    "|ENSMUSG00000000142|3.16383408|-0.373208103|6.53E-08|axin2|Axin2|ATGAGTAGCGCCGTGTTAGTGA|\n",
    "|ENSMUSG00000000275|0.76032031|6.626927229|1.00E-05|tripartite motif-containing 25|Trim25|ATGGCGGAGCTGAATCCTCTGGCCG|\n",
    "|ENSMUSG00000000486|0.528756286|5.399726946|0.001804609|septin 1|Sep-01|ATGGAACGCCGTGTGAGAGTGAAGTCTTGGGT|\n",
    "\n",
    "##### Explanation of columns \n",
    "\n",
    "- **ensemblID**: Gene reference in the Ensembl DNA database ([http://www.ensembl.org](http://www.ensembl.org))\n",
    "- **logFC**: Indicates the log2 of the fold-change between the naive and stimulated T-cell populations\n",
    "- **logCPM**: log2 of number of counts per million. The greater the value, the more reliable the logFC is since overall transcript abundance is higher.\n",
    "- **Pvalue**: Probability that the null hypothesis is true - i.e. that the results as extreme as those observed would be achieved by chance. Lower values indicate greater confidence that there is a real change in gene transcription level. \n",
    "- **description**: gene annotation\n",
    "- **external\\_gene\\_name**: short gene reference for compatibility with external data sources \n",
    "- **coding_sequence**: DNA coding sequence\n",
    "\n",
    "# Analysis tasks\n",
    "\n",
    "**Remember that planning your program is a critical first step before you start writing any code. Identify inputs and outputs then think about how you can use the programming concepts you have already covered (variables and their methods and functions, loops, conditional statements, file reading) to break down the problem into steps you can solve programatically. Talk to a demonstrator if you need help or to talk through your plan before you start writing.**\n",
    "\n",
    "### Task 1\n",
    "\n",
    "* We would like to know which T-cell genes are upregulated in infection - these are the genes with a positive fold change (logFC) value in the dataset (negative would indicate down-regulation). Analyse the RNAseq dataset file (rnaseq2.csv) and output (print) to screen all ensembleIDs, descriptions and external\\_gene\\_names where the following conditions are matched. This will identify highly upregulated and abundant genes, where confidence in the data is high.\n",
    "  * logFC > 2\n",
    "  * logCPM > 4\n",
    "  * PValue < 0.001\n",
    "  \n",
    "<div class=\"alert alert-danger\">\n",
    "**More advanced exercise**<br>\n",
    "You are interested in obtaining the gene sequences for each of these upregulated genes so that you can analyse the sequences for common sequence patterns. You have a file (sequences.txt) containing the gene sequences corresponding to all ensemblIDs that is in tab-delimited format (see below). Import the data from this second file into your program so that you can output a FASTA format file for all of the upregulated genes identified in the above section. \n",
    "Many of the sequences in rnaseq2.csv are missing - can you add any more that are present in sequences.txt?`\n",
    "\n",
    "<br>\n",
    "<br>\n",
    "<strong>Sequence file format ( \\t denotes location of tab character )</strong>\n",
    "\n",
    "This is an example of the data format - real sequences are longer. <br>\n",
    "<br>\n",
    "ENSMUSG00000001473 \\t ATGAGGGAGATTGTGCACATCCAGGCGGGCCAGTGCGGGAACCAGATCGGTACCTAA<br>\n",
    "ENSMUSG00000001418 \\t ATCGACTTCAGCGCGGATCTATACGGACTTCGAGCGAGCGGCTATGA<br>\n",
    "ENSMUSG00000001281 \\t ATGGTGGATTCATCAACTGTTCTCATTTTTCTGGGCGGAGGTCAGAGTGAGTTATAA<br>\n",
    "ENSMUSG00000001270 \\t ATGCCCTTCTCCAACAGCCATAATACGCAGAAGCTGCGCTTCCCGGCCGAGGATAA<br>\n",
    "<br>\n",
    "<strong>Output format: FASTA header should contain ensemble ID then description</strong><br>\n",
    "<br>\n",
    "> ENSMUSG00000001473 | Sec24 related gene family, member B (S. cerevisiae) <br>\n",
    "ACTAGCTAGCTCAGCTTCAGCGGCATCTTCTTAGCTCAGCTAGCTAGCTAGCTAGGCTTAGC<br>\n",
    "> ENSMUSG00000001418 | intraflagellar transport 20 <br>\n",
    "ATCGACTTCAGCGCGGATCTATACGGACTTCGAGCGAGCGGCTATGA<br>\n",
    "\n",
    "</div>\n",
    "\n",
    "### Task 2\n",
    "\n",
    "The DNA coding sequence is the section of DNA that codes for a protein. It *usually* starts with a start codon (ATG) and ends with any of the three termination codons (TAA, TAG, TGA). The nature of codons (triplets of DNA nucleotides) coding for a single amino acid means that the lengths of coding sequences must be a multiple of three.\n",
    "\n",
    "* Write a **function** to check whether a given sequence is a multiple of three nucleotides.\n",
    "\n",
    "* Use your function to test whether the length of each sequence in the file is a multiple of three (only where sequences are available). How many sequences were not full coding sequences because they were not a multiple of three nucleotides long? \n",
    "\n",
    "* How many of the sequences start with a start codon (ATG) and finished with TAA, TAG or TGA termination codon? Write your a **function** that will take a sequence as an argument and return True if the sequence starts with ATG and ends with a stop codon. *Hint: Remember the string methods .startwith() and .endswith().* \n",
    "\n",
    "### Task 3\n",
    "\n",
    "This type of dataset is exactly the type of dataset that was recently highlighted as being very problematic for analysis using spreadsheet software in a [Genome Biology paper](http://genomebiology.biomedcentral.com/articles/10.1186/s13059-016-1044-7), as highlighted in first programming lecture! If you were using excel, gene names such as Sept1 in the table above would be automatically changed to 01-Sep.\n",
    "\n",
    "Professor Blunder, your well-meaning lab supervisor, used Microsoft Excel to paste the DNA coding sequence into the final column, for each sequence they could find in the public databases. In the table above, you notice that Sept1 has been converted to Sep-01 by Excel, and you are concerned that other gene names may have been altered.  \n",
    "\n",
    "* Correct gene names in this file do not contain a hyphen (-), but Excel-converted dates do. Use this rule to determine how many other gene names have been altered.\n",
    "\n",
    "### Task 4\n",
    "\n",
    "* The logCPM is the log2 of the number of counts per million sequence reads. What is the mean, median and standard deviation of the all CPM values in this dataset? From the final coding lessons, you will know how to use external modules, feel free to either use external modules or to code the functions yourself. \n",
    "\n",
    "The following code may help you to see how you can convert log2 CPM values to CPM values:\n",
    "        \n",
    "\n",
    "```python\n",
    "#This code converts CPM to log2 CPM, then checks the value by calculating 2 to the power log2_CPM\n",
    "\n",
    "import math #import math module\n",
    "CPM = 250\n",
    "log2_CPM = math.log2(CPM) #get log2 of CPM\n",
    "\n",
    "print(\"A log2_CPM value of {} represents {} counts per million\".format(log2_CPM, CPM))\n",
    "\n",
    "#Convert log2CPM back to CPM\n",
    "print(\"We can check this by calculating 2**log2CPM, which equals {}\".format(2**log2_CPM))\n",
    "```"
   ]
  },
  {
   "cell_type": "code",
   "execution_count": null,
   "metadata": {
    "button": false,
    "new_sheet": false,
    "run_control": {
     "read_only": false
    }
   },
   "outputs": [],
   "source": [
    "\n"
   ]
  },
  {
   "cell_type": "code",
   "execution_count": null,
   "metadata": {
    "collapsed": true
   },
   "outputs": [],
   "source": []
  },
  {
   "cell_type": "code",
   "execution_count": null,
   "metadata": {
    "collapsed": true
   },
   "outputs": [],
   "source": []
  },
  {
   "cell_type": "code",
   "execution_count": null,
   "metadata": {
    "collapsed": true
   },
   "outputs": [],
   "source": []
  }
 ],
 "metadata": {
  "hide_input": false,
  "kernelspec": {
   "display_name": "Python 3",
   "language": "python",
   "name": "python3"
  },
  "language_info": {
   "codemirror_mode": {
    "name": "ipython",
    "version": 3
   },
   "file_extension": ".py",
   "mimetype": "text/x-python",
   "name": "python",
   "nbconvert_exporter": "python",
   "pygments_lexer": "ipython3",
   "version": "3.6.2"
  }
 },
 "nbformat": 4,
 "nbformat_minor": 1
}
