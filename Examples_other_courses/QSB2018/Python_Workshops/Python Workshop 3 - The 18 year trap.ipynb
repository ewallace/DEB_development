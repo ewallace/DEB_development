{
 "cells": [
  {
   "cell_type": "markdown",
   "metadata": {
    "button": false,
    "new_sheet": false,
    "run_control": {
     "read_only": false
    }
   },
   "source": [
    "![The 18 year trap](./images/18year_trap_header.jpg)\n",
    "\n",
    "Natural experiments observed in long-term time series are essential for uncovering how species respond to ongoing environmental change.\n",
    "\n",
    "A group of biologists used light-trapping data to study the abundance of moths and beetles collected on the roof of the Zoological Museum, Copenhagen, Denmark every week for almost two decades (1992–2009). The sampling represents a single site located in a stable urban habitat with minimal variation in the near surroundings over the study period. \n",
    "\n",
    "This file, named light_trap.csv is a comma-separated values (csv) file that contains the raw data from the light trapping study ordered by: \n",
    "\n",
    "order (Lepidoptera/Coleoptera), family, name (species), year, date1 (start, dd/mm/yyyy), date2 (dd/mm/yyyy) and no. individuals\n",
    "\n",
    "The first few lines of the file appear as:\n",
    "\n",
    "order,family,name,year,date1,date2,individuals<br>\n",
    "LEPIDOPTERA,AGONOXENIDAE,Blastodacna hellerella Dup.,1992,22/06/1992,23/06/1992,1 <br>\n",
    "LEPIDOPTERA,COLEOPHORIDAE,Coleophora badiipenella Dup.,1992,22/06/1992,23/06/1992,1 <br>\n",
    "LEPIDOPTERA,COLEOPHORIDAE,Coleophora lutipennella Zell.,1992,22/06/1992,23/06/1992,4 <br>\n",
    "LEPIDOPTERA,DREPANIDAE,Tethea or D. & S.,1992,22/06/1992,23/06/1992,1 <br>\n",
    "LEPIDOPTERA,GELECHIIDAE,Chionodes electella Zell.,1992,22/06/1992,23/06/1992,1 <br>\n",
    "LEPIDOPTERA,GELECHIIDAE,Dichomeris marginella F.,1992,22/06/1992,23/06/1992,5 <br>\n",
    "\n",
    "Which as a table format appear as:\n",
    "\n",
    "|order|family|name|year|date1|date2|individuals|\n",
    "|-----|------|----|----|-----|-----|-----------|\n",
    "|LEPIDOPTERA|AGONOXENIDAE|Blastodacna hellerella Dup.|1992|22/06/1992|23/06/1992|1|\n",
    "|LEPIDOPTERA|COLEOPHORIDAE|Coleophora badiipenella Dup.|1992|22/06/1992|23/06/1992|1|\n",
    "|LEPIDOPTERA|COLEOPHORIDAE|Coleophora lutipennella Zell.|1992|22/06/1992|23/06/1992|4|\n",
    "|LEPIDOPTERA|DREPANIDAE|Tethea or D. & S.|1992|22/06/1992|23/06/1992|1|\n",
    "|LEPIDOPTERA|GELECHIIDAE|Chionodes electella Zell.|1992|22/06/1992|23/06/1992|1|\n",
    "|LEPIDOPTERA|GELECHIIDAE|Dichomeris marginella F.|1992|22/06/1992|23/06/1992|5|\n",
    "\n",
    "- How many lines are there in the dataset, excluding the first (header) line?\n",
    "\n",
    "- What is the total number of species observed at least once during the study? How many species of Lepidoptera were observed? Count each unique entry in the 3rd column of the table as a separate species, don't take account of any subspecies information that might be present. \n",
    "\n",
    "- What is the total number of individual insects counted during the study?\n",
    "\n",
    "<div class=\"alert alert-danger\">\n",
    "**Advanced exercises**<br>\n",
    "- How many insects were counted in each year of the study?<br>\n",
    "- What is the most common species of a) Lepidoptera and b) Coleoptera observed?<br>\n",
    "- List all species that were trapped at least once in every year of the study</div> "
   ]
  },
  {
   "cell_type": "code",
   "execution_count": null,
   "metadata": {
    "button": false,
    "collapsed": true,
    "new_sheet": false,
    "run_control": {
     "read_only": false
    }
   },
   "outputs": [],
   "source": []
  },
  {
   "cell_type": "code",
   "execution_count": null,
   "metadata": {
    "button": false,
    "collapsed": true,
    "new_sheet": false,
    "run_control": {
     "read_only": false
    }
   },
   "outputs": [],
   "source": []
  }
 ],
 "metadata": {
  "anaconda-cloud": {},
  "kernelspec": {
   "display_name": "Python 3",
   "language": "python",
   "name": "python3"
  },
  "language_info": {
   "codemirror_mode": {
    "name": "ipython",
    "version": 3
   },
   "file_extension": ".py",
   "mimetype": "text/x-python",
   "name": "python",
   "nbconvert_exporter": "python",
   "pygments_lexer": "ipython3",
   "version": "3.6.2"
  }
 },
 "nbformat": 4,
 "nbformat_minor": 1
}
