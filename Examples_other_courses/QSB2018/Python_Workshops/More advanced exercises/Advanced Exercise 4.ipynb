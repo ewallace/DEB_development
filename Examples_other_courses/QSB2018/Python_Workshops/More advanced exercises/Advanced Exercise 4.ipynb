{
 "cells": [
  {
   "cell_type": "markdown",
   "metadata": {},
   "source": [
    "# IAB notebooks\n",
    "\n",
    "In this directory, you will find a folder called IAB-notebooks. This is a course in bioinformatics using Python and presents some very significant challenges. If you have got this far and want to learn more (well beyond the scope of QSB1), enter the folder and open index.ipynb."
   ]
  },
  {
   "cell_type": "code",
   "execution_count": null,
   "metadata": {
    "collapsed": true
   },
   "outputs": [],
   "source": []
  }
 ],
 "metadata": {
  "kernelspec": {
   "display_name": "Python 3",
   "language": "python",
   "name": "python3"
  },
  "language_info": {
   "codemirror_mode": {
    "name": "ipython",
    "version": 3
   },
   "file_extension": ".py",
   "mimetype": "text/x-python",
   "name": "python",
   "nbconvert_exporter": "python",
   "pygments_lexer": "ipython3",
   "version": "3.6.2"
  }
 },
 "nbformat": 4,
 "nbformat_minor": 2
}
