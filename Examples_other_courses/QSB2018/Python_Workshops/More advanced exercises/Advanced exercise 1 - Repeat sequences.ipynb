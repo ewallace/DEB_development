{
 "cells": [
  {
   "cell_type": "markdown",
   "metadata": {
    "button": false,
    "new_sheet": false,
    "run_control": {
     "read_only": false
    }
   },
   "source": [
    "# Repeat Sequences\n",
    "\n",
    "It is sometimes useful for biologists to be able to identify repeated sequences within DNA - for example in trying to find transposible elements within genomic DNA.\n",
    "\n",
    "One type of repeat sequences are direct repeats - these consist of two or more repeats of a specific sequence. There is no inversion and no reverse complement associated with a direct repeat. It may or may not have intervening nucleotides. The nucleotide sequence written in bold characters signifies the repeated sequence.\n",
    "\n",
    "                              5´ atTTACGactgctagTTACGgat 3´\n",
    "                              3´ taAATGCtgacgatcAATGCcta 5´\n",
    "                              \n",
    "\n",
    "Write a program to find all the 8-letter-long sequences (substrings) that occur more than once in a DNA molecule.\n",
    "\n",
    "\n",
    "\n",
    "|Input | Output |\n",
    "|:-------:|:---------:|\n",
    "|AAAAACCCCCAAAAACCCCCCAAAAAGGGTTT|AAAAACCC<br>AAAACCCC<br>AAACCCCC<br>CCCCCAAA<br>CCCCAAAA<br>CCCAAAAA|\n",
    "|ATGGCATGGCATGGCATGGCATGGCATGGCATGGCA|CATGGCAT<br>GCATGGCA<br>GGCATGGC<br>TGGCATGG<br>ATGGCATG|\n",
    "\n",
    "\n"
   ]
  },
  {
   "cell_type": "code",
   "execution_count": 1,
   "metadata": {
    "button": false,
    "new_sheet": false,
    "run_control": {
     "read_only": false
    }
   },
   "outputs": [],
   "source": [
    "seq = 'AAAAACCCCCAAAAACCCCCCAAAAAGGGTTT'\n",
    "\n"
   ]
  },
  {
   "cell_type": "markdown",
   "metadata": {
    "button": false,
    "collapsed": true,
    "new_sheet": false,
    "run_control": {
     "read_only": false
    }
   },
   "source": [
    "\n"
   ]
  },
  {
   "cell_type": "code",
   "execution_count": null,
   "metadata": {
    "collapsed": true
   },
   "outputs": [],
   "source": []
  }
 ],
 "metadata": {
  "anaconda-cloud": {},
  "kernelspec": {
   "display_name": "Python 3",
   "language": "python",
   "name": "python3"
  },
  "language_info": {
   "codemirror_mode": {
    "name": "ipython",
    "version": 3
   },
   "file_extension": ".py",
   "mimetype": "text/x-python",
   "name": "python",
   "nbconvert_exporter": "python",
   "pygments_lexer": "ipython3",
   "version": "3.6.2"
  }
 },
 "nbformat": 4,
 "nbformat_minor": 1
}
