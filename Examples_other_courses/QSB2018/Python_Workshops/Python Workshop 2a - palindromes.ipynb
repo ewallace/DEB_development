{
 "cells": [
  {
   "cell_type": "markdown",
   "metadata": {
    "button": false,
    "new_sheet": false,
    "run_control": {
     "read_only": false
    }
   },
   "source": [
    "# Workshop 2\n",
    "\n",
    "Welcome to Workshop 2. This workshop is based on all of the material covered in the self-study notebooks up to the end of notebook 11. You will now have learned about loops, dictionaries, conditional statements and loops so you now have the basic toolset to write programs capable of performing complex and repetitive tasks. \n",
    "\n",
    "In this workshop, you will **work in groups of 2-3 students** to solve a series of problems in two Jupyter notebooks. If you complete those within the workshop, you may want to try the (optional) notebook 'Workshop 2c' - you may need some demonstrator help with that one. \n",
    "\n",
    "At first, it might not be obvious how to answer the questions in this workshop by writing code. If that is the case:\n",
    "\n",
    "* Think about what the question is asking you to do - how can you break it down into computable components that you can write in Python. What is your input, and what output do you need? Does you program need to use loops? Does it need to make decisions (conditional statements)?\n",
    "* Do you need to store data? What data structures (e.g. lists and dictionaries) would make your task easiest?\n",
    "\n",
    "Demonstrators will guide you along the way to solving the problems. \n",
    "\n",
    "### Google it... \n",
    "\n",
    "![Google](./images/googleg_standard_color_128dp.png)\n",
    "\n",
    "Programming syntax can be complicated - even if you know the basic language, you also need all of the options that go with it. Even very proficient programmers make frequent use of Google searches or Python documentation. You should get into the habit of looking up code syntax you want to know more about or Googling how to achieve a particular task with code. \n",
    "\n",
    "This is a skill - try to use accurate programming language in your searches - you're more likely to get a good hit with \"How do I generate a random integer in Python\" than \"How do I pick a number between 0 and 100\". \n",
    "\n",
    "<div class=\"alert alert-danger\">\n",
    "**Advanced exercises**<br>\n",
    "Some students may already be experienced programmers - more advanced exercises are provided for those who are looking for more challenging problems, but these are above the level of ability expected at this stage of the class.\n",
    "</div>"
   ]
  },
  {
   "cell_type": "markdown",
   "metadata": {
    "button": false,
    "new_sheet": false,
    "run_control": {
     "read_only": false
    }
   },
   "source": [
    "# Task 1: Palindromes\n",
    "\n",
    "![Palindrome](./images/palin-fe3.jpg)\n",
    "\n",
    "A language palindrome is a word which reads the same backward as forward. Complete the code below to check whether each word in the list below is a palindrome.\n",
    "\n",
    "It is a good idea to build your code up in stages and test each, for example:\n",
    "  * First write code to print out each word in the list\n",
    "  * Once that works, modify your code to reverse the word\n",
    "    * *Hint: remember the special case of slicing - string_name[::-1] returns the reverse of a string.*\n",
    "  * Use a conditional statement to only print out the palindromes\n",
    "    * *Hint: What is True if a word is a palindrome?*\n",
    "\n",
    "<div class=\"alert alert-danger\">\n",
    "<strong>Advanced exercises </strong><br>\n",
    "    <br>\n",
    "1. If you are already familiar with programming, you could write your code as a function - writing functions is covered in notebook 13.<br>\n",
    "<br>\n",
    "2. Can write your function without using slicing or reverse( ) - i.e. write your own code to reverse the string?<br>\n",
    "</div>\n"
   ]
  },
  {
   "cell_type": "code",
   "execution_count": 1,
   "metadata": {
    "button": false,
    "collapsed": true,
    "new_sheet": false,
    "run_control": {
     "read_only": false
    }
   },
   "outputs": [],
   "source": [
    "words = ['golf', 'level', 'spoon', 'reverser', 'noon', 'racecar', 'cell', 'rotator', 'tape', 'stats', 'bridge', 'lagoon', 'tenet']\n"
   ]
  },
  {
   "cell_type": "markdown",
   "metadata": {
    "button": false,
    "new_sheet": false,
    "run_control": {
     "read_only": false
    }
   },
   "source": [
    "# Task 2: DNA palindromes\n",
    "\n",
    "![Palindrome](./images/DNA_palindrome.jpg)\n",
    "\n",
    "The meaning of palindrome in the context of molecular biology is slightly different from the definition used for words and sentences. Since a double helix is formed by two paired strands of nucleotides that run in opposite directions in the 5'-to-3' sense, and the nucleotides always pair in the same way (Adenine (A) with Thymine (T) and Cytosine (C) with Guanine (G)), a (single-stranded) nucleotide sequence is said to be a palindrome if it is equal to its reverse complement. \n",
    "\n",
    "To state that another way, if you substitute each nucleotide in a palindrome with its partner and reverse the sequence (this is known as reverse complementing), it will be the same as the original sequence. \n",
    "\n",
    "For example, the DNA sequence ATGATCAT is palindromic because its nucleotide-by-nucleotide complement is TACTAGTA, and reversing the order of the nucleotides in the complement gives the original sequence.\n",
    "```\n",
    "                             ATGATCAT\n",
    "                             ||||||||\n",
    "                             TACTAGTA\n",
    "```\n",
    "Most restriction enzyme (enzymes that cut at a specific DNA sequence and are widely used for DNA modification and cloning) cleavage sites are palindromic. \n",
    "\n",
    "* Part 1 - You are given a DNA sequence in a variable called sequence. Write a program to test whether the DNA sequence is a palindrome, and return 'True' or 'False'. You might find the dictionary 'pairs' useful in helping you complement the DNA sequence.\n",
    "\n",
    "* Part 2 - Can you alter your code so that it processes a list of DNA sequences in a list called 'sequences'.\n",
    "\n",
    "* Part 3 - Can you modify your code so that it stores only the palindromes in a list?\n",
    "\n",
    "<div class=\"alert alert-danger\">\n",
    "**More advanced exercise**<br>\n",
    "It is useful to be able to search long DNA sequences to find palindromic sequences. Write a program to print all palindromic sequences between 4 and 8 base pairs long in the sequence: <br>\n",
    "ATGAGATAGAAGAGCGCATCGATCGATGGACCGATCGATCGATTCGCGAGCTCGCGATCGATCGGCC<br>\n",
    "GATATCGCGCGATATGCGCTGCGTACGCACGATCGATCGATGGTAATCGTACGACTTCGAAGTCGCGC\n",
    "</div>\n"
   ]
  },
  {
   "cell_type": "markdown",
   "metadata": {},
   "source": [
    "### Tip\n",
    "\n",
    "First try to see whether the first few sequences in the list are DNA palindromes without the computer. As you're doing that, break what you're doing into individual steps to understand how you know whether the sequence is a DNA palindrome. \n",
    "\n",
    "You may do this in different ways from others in your group - there are usually different ways you can solve a coding problem. \n",
    "\n",
    "e.g. \n",
    "* Step 1: Reverse the sequence\n",
    "* Step 2: Replace each base with its complementary base\n",
    "* Step 3: See whether the reversed, complemented sequence is the same as the original - if it is it is a DNA palindrome. \n",
    "\n",
    "Now think about how you can perform each of these steps in code: \n",
    "\n",
    "* Step 1: Use the same method you used in task 1\n",
    "\n",
    "* Step 2: You have been given a dictionary with bases as keys and their complementary bases as values, so for example pairs['A'] will return T:\n",
    "\n",
    "```\n",
    "pairs = {'A':'T', 'T':'A', 'C':'G', 'G':'C'}\n",
    "\n",
    "print(pairs['A']) #prints T\n",
    "```\n",
    "* Step 3: You now need to test whether a condition is True - use conditional statements."
   ]
  },
  {
   "cell_type": "code",
   "execution_count": 18,
   "metadata": {
    "collapsed": true
   },
   "outputs": [],
   "source": [
    "#Part 1 variables\n",
    "\n",
    "sequence = 'ATGCGCAT'\n",
    "\n",
    "pairs = {'A':'T', 'T':'A', 'C':'G', 'G':'C'}"
   ]
  },
  {
   "cell_type": "code",
   "execution_count": 2,
   "metadata": {
    "button": false,
    "collapsed": true,
    "new_sheet": false,
    "run_control": {
     "read_only": false
    }
   },
   "outputs": [],
   "source": [
    "#Part 2 variables\n",
    "sequences = ['ATGATCGTAT', 'ATGGAC', 'GAATTC', 'CTTATAAG', 'ATGCTA',\n",
    "             'GCATCGACTTCGAAGTCGATGC', 'CGTGCTTCGAG', 'GAGCTC',\n",
    "             'GCGTACGC', 'ATGGTA']\n",
    "\n",
    "pairs = {'A':'T', 'T':'A', 'C':'G', 'G':'C'}\n"
   ]
  },
  {
   "cell_type": "code",
   "execution_count": null,
   "metadata": {
    "button": false,
    "collapsed": true,
    "new_sheet": false,
    "run_control": {
     "read_only": false
    }
   },
   "outputs": [],
   "source": [
    "                                                                                                                                                                                                                                                                                                                                                                                                                                                                                                                                                                                                                                                                                                                                                                                                                                  m in long sequences, giving "
   ]
  },
  {
   "cell_type": "code",
   "execution_count": null,
   "metadata": {
    "button": false,
    "collapsed": true,
    "new_sheet": false,
    "run_control": {
     "read_only": false
    }
   },
   "outputs": [],
   "source": []
  }
 ],
 "metadata": {
  "anaconda-cloud": {},
  "kernelspec": {
   "display_name": "Python 3",
   "language": "python",
   "name": "python3"
  },
  "language_info": {
   "codemirror_mode": {
    "name": "ipython",
    "version": 3
   },
   "file_extension": ".py",
   "mimetype": "text/x-python",
   "name": "python",
   "nbconvert_exporter": "python",
   "pygments_lexer": "ipython3",
   "version": "3.6.2"
  }
 },
 "nbformat": 4,
 "nbformat_minor": 1
}
