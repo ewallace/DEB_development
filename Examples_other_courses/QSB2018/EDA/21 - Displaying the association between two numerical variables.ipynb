{
 "cells": [
  {
   "cell_type": "markdown",
   "metadata": {},
   "source": [
    "## Learning outcomes for this notebook\n",
    "\n",
    "* Be able to create clearly labelled scatter plots and interpret them.\n",
    "* Understand positive and negative correlation between two numerical variables.\n",
    "* Know when to use linear, log-log and semi-log axes scales.\n",
    "* Know how to annotate individual data points with text."
   ]
  },
  {
   "cell_type": "markdown",
   "metadata": {},
   "source": [
    "## Displaying the association between two numerical variables\n",
    "\n",
    "### Introduction\n",
    "\n",
    "When two numerical variables are associated we say they are **correlated**. We use a scatter plot to show the correlation between two numerical variables. Each observation is represented as a point on a graph with two axes. The explanatory variable is on the $x$-axis and the response variable is on the $y$-axis. The pattern in the resulting cloud of points indicates whether a correlation between the two variables is positive (in which case the points tend to run from the lower left to the upper right of the graph), negative (the points run from the upper left to the lower right), or absent (no discernible pattern)."
   ]
  },
  {
   "cell_type": "markdown",
   "metadata": {},
   "source": [
    "### Guppy ornamentation\n",
    "\n",
    "The bright colors and elaborate courtship displays of the males of many species posed a problem for Charles Darwin: how can such elaborate traits evolve? His answer was that they evolved because females are attracted to them when choosing a mate. But why would females choose those kinds of males? One possible answer: females that choose fancy males have attractive sons as well. \n",
    "\n",
    "![](images/g.jpg)\n",
    "\n",
    "Brooks (2000) examined how attractive traits in guppies are inherited from father to son. The attractiveness of sons (a score representing the rate of visits by females to corralled males, relative to a standard) was compared with their fathers’ ornamentation (a composite index of several aspects of male color and brightness). The data are in the file [`guppies.csv`](guppies.csv).\n",
    "\n",
    "<div class=\"alert alert-danger\">\n",
    "Read in the file `guppies.csv` and print it out to examine its structure and variable names.\n",
    "</div>"
   ]
  },
  {
   "cell_type": "code",
   "execution_count": null,
   "metadata": {
    "collapsed": true
   },
   "outputs": [],
   "source": []
  },
  {
   "cell_type": "markdown",
   "metadata": {},
   "source": [
    "There are two numerical variables: the explanatory variable `'Father ornamentation'` and the response variable `'Son attractiveness'`. We can use matplotlib's scatter plot to see if there is an association between these variables.\n",
    "\n",
    "```python\n",
    "plt.scatter(DataFrame['explanatory variable'], DataFrame['response variable'])\n",
    "```\n",
    "\n",
    "or equivalently\n",
    "\n",
    "```python\n",
    "plt.scatter('explanatory variable', 'response variable', data=DataFrame)\n",
    "```\n",
    "\n",
    "<div class=\"alert alert-danger\">\n",
    "Create a clearly labelled scatter plot of son's attractiveness against father's ornamentation. Note that you cannot use pandas short cut variable names in this example because the names include a space character.\n",
    "</div>"
   ]
  },
  {
   "cell_type": "code",
   "execution_count": null,
   "metadata": {
    "collapsed": true
   },
   "outputs": [],
   "source": []
  },
  {
   "cell_type": "markdown",
   "metadata": {},
   "source": [
    "<div class=\"alert alert-danger\">\n",
    "\n",
    "* What do you conclude about the association between the two variables?\n",
    "* Does this data support Darwin's theory about why males display bright colors and elaborate courtship displays?\n",
    "</div><br>"
   ]
  },
  {
   "cell_type": "markdown",
   "metadata": {},
   "source": [
    ">Write your answer here."
   ]
  },
  {
   "cell_type": "markdown",
   "metadata": {},
   "source": [
    "### Inbreeding of scandinavian wolves\n",
    "\n",
    "By 1970, the wolf (*Canis lupus*) had been wiped out in Norway and Sweden. Around 1980, two wolves immigrated from farther east and founded a new population. By 2002, the new population totalled approximately 100 wolves. A new population started by so few individuals, however, might be expected to suffer problems caused by inbreeding. \n",
    "\n",
    "![](images/wolf.jpg)\n",
    "\n",
    "Liberg *et al.* (2005) compiled observations on reproduction between 1983 and 2002 and constructed the pedigree of the wolves in the small population. They measured inbreeding coefficients of litters produced by mated pairs and the number of pups of each litter surviving their first winter. An inbreeding coefficient is zero if parents of the litter were unrelated, 0.25 if parents were brother and sister whose own parents were unrelated, and greater than 0.25 if inbreeding had continued for more generations. The data are in the file [`wolves.csv`](wolves.csv)\n",
    "\n",
    "<div class=\"alert alert-danger\">\n",
    "\n",
    "* Read in the file `wolves.csv` and print it.\n",
    "* Create a clearly labelled scatter plot of the explanatory and response variables.\n",
    "</div>\n",
    "<br>"
   ]
  },
  {
   "cell_type": "code",
   "execution_count": null,
   "metadata": {
    "collapsed": true
   },
   "outputs": [],
   "source": []
  },
  {
   "cell_type": "markdown",
   "metadata": {},
   "source": [
    "<div class=\"alert alert-danger\">\n",
    "Are inbreeding coefficients of the litters associated with the number of pups surviving their first winter? Write your answer below, explaining your reasoning.\n",
    "</div>"
   ]
  },
  {
   "cell_type": "markdown",
   "metadata": {},
   "source": [
    ">Write your answer here."
   ]
  },
  {
   "cell_type": "markdown",
   "metadata": {},
   "source": [
    "### Brain-to-body mass ratio\n",
    "\n",
    "Brain size usually increases with body size in animals (i.e., large animals usually have larger brains than smaller animals); the relationship is not, however, linear. Small mammals such as mice may have a brain-to-body mass ratio similar to humans, while elephants have a comparatively lower brain-to-body ratio.\n",
    "\n",
    "![](images/brain-size.jpg)\n",
    "\n",
    "In animals, it is thought that the larger the brain, the more brain mass will be available for more complex cognitive tasks. However, large animals need more neurons to represent their own bodies and control specific muscles; thus, relative rather than absolute brain size makes for a ranking of animals that better coincides with the observed complexity of animal behaviour. The relationship between brain-to-body mass ratio and complexity of behaviour is not perfect as other factors also influence intelligence, like the evolution of the recent cerebral cortex and different degrees of brain folding, which increase the surface of the cortex, which is positively correlated in humans to intelligence.\n",
    "\n",
    "The file [`animals.csv`](animals.csv) contains the average body mass (in kg) and brain mass (in kg) for a range of animals.\n",
    "\n",
    "<div class=\"alert alert-danger\">\n",
    "\n",
    "* Read in the file `animals.csv` and print it.\n",
    "* Create a clearly scatter plot of body mass against brain mass.\n",
    "</div>\n",
    "<br>"
   ]
  },
  {
   "cell_type": "code",
   "execution_count": null,
   "metadata": {
    "collapsed": true
   },
   "outputs": [],
   "source": []
  },
  {
   "cell_type": "markdown",
   "metadata": {},
   "source": [
    "You've probably noticed that body mass varies over several orders of magnitude, from 0.023kg for the mouse to 87,000kg for the Brachiosaurus. That's six orders of magnitude difference (i.e., a Brachiosaurus is a million times heavier than a mouse). Brain mass varies over four orders of magnitude.\n",
    "\n",
    "When a variable varies over several orders of magnitude we should plot it on logarithmic scale. As both body and brain mass vary like this, both axes should have a logarithmic scale. In matplotlib this is accomplished with the function\n",
    "```\n",
    "plt.loglog(DataFrame['explanatory variable'], DataFrame['response variable'], 'o')\n",
    "```\n",
    "Notice the `'o'` argument in the function. This is needed to make the function plot each data point as a circle. Without it the `loglog()` function draws a line between successive data points (try it and you'll see what happens).\n",
    "\n",
    "<div class=\"alert alert-danger\">\n",
    "Create a clearly labelled loglog scatter plot. \n",
    "</div>"
   ]
  },
  {
   "cell_type": "code",
   "execution_count": null,
   "metadata": {
    "collapsed": true
   },
   "outputs": [],
   "source": []
  },
  {
   "cell_type": "markdown",
   "metadata": {},
   "source": [
    "Plotted on a log-log scale reveals the association between the two variables which was hidden when plotted on a linear scale.\n",
    "\n",
    "In a plot like this, where each circle represents a different species, it can be useful to label each circle with the species name. This is accomplished with the function\n",
    "```python\n",
    "plt.annotate(text, (x_coordinate, y_coordinate))\n",
    "```\n",
    "Notice the the $x$,$y$ coordinates are contained in brackets. This function places text at coordinates (x_coordinate, y_coordinate) in the graph. Our dataset contains each species' name and its corresponding ($x$, $y$) coordinate, so we can use this information to annotate particular points. For example, when you printed out the dataset earlier you'll have seen that Dipliodocus has index 5. So to print the word \"Dipliodocus\" next to its corresponding circle in the graph we would use\n",
    "\n",
    "```python\n",
    "plt.annotate(DataFrame['Animal'][5], (DataFrame['Body mass'][5], DataFrame['Brain mass'][5]))\n",
    "```\n",
    "\n",
    "(where `DataFrame` should be replaced by whatever you called your dataset when you read it in.)\n",
    "\n",
    "<div class=\"alert alert-danger\">\n",
    "Try annotating various species in your graph above.\n",
    "</div>\n",
    "\n",
    "There are many other ways to annotate your graphs, for example, with arrows. See the [matplotlib website](https://matplotlib.org/users/annotations_guide.html#plotting-guide-annotation) for details."
   ]
  },
  {
   "cell_type": "markdown",
   "metadata": {},
   "source": [
    "### Glia-neuron ratio in primates\n",
    "\n",
    "Human brains have a large frontal cortex with excessive metabolic demands compared with the brains of other primates. However, the human brain is also three or more times the size of the brains of other primates. Is it possible that the metabolic demands of the human frontal cortex are just an expected consequence of greater brain size? \n",
    "\n",
    "![](images/neurons_and_glial_cells.jpg)\n",
    "\n",
    "Sherwood *et al.* (2006) investigated this question by measuring the relationship between the glia-neuron ratio (an indirect measure of the metabolic requirements of brain neurons) and the brain mass in nonhuman primates. The data are in the file [`glia_neuron.csv`](glia_neuron.csv).\n",
    "\n",
    "<div class=\"alert alert-danger\">\n",
    "Read in the file `glia_neuron.csv` and print it.\n",
    "</div>\n",
    "<br>"
   ]
  },
  {
   "cell_type": "code",
   "execution_count": null,
   "metadata": {
    "collapsed": true
   },
   "outputs": [],
   "source": []
  },
  {
   "cell_type": "markdown",
   "metadata": {},
   "source": [
    "Notice that brain mass varies over two orders of magnitude (from 10.0 to 1373.3) whereas glia-neuron ratio clusters around 1. \n",
    "\n",
    "In this case we don't want a log-log plot, but instead a semi-log plot (i.e., a log scale on one axis and a linear scale on the other axis. A log scale only on the $x$-axis is achieved with `plt.semilogx()` and a log scale only on the $y$-axis is achieved with `plt.semilogy()`.\n",
    "\n",
    "<div class=\"alert alert-danger\">\n",
    "\n",
    "* Create a clearly labelled semi-log scatter plot of brain mass against glia-neuron ratio.\n",
    "* Annotate the *Homo sapiens* data point.\n",
    "</div>\n",
    "<br>"
   ]
  },
  {
   "cell_type": "code",
   "execution_count": null,
   "metadata": {
    "collapsed": true
   },
   "outputs": [],
   "source": []
  },
  {
   "cell_type": "markdown",
   "metadata": {},
   "source": [
    "Notice how the text *Homo sapiens* falls outside the figure box. This is because the text is left-aligned onto the data point (the default behaviour in matplotlib). Can you work out how to right-align the text (hint: google it).\n",
    "\n",
    "<div class=\"alert alert-danger\">\n",
    "On the basis of your plot, does the human brain have an excessive glia-neuron ratio for its mass compared with other primates?\n",
    "</div>\n",
    "<br>"
   ]
  },
  {
   "cell_type": "markdown",
   "metadata": {},
   "source": [
    ">Write your answer here."
   ]
  },
  {
   "cell_type": "markdown",
   "metadata": {},
   "source": [
    "### References\n",
    "\n",
    "Brooks, R. (2000). Negative genetic correlation between male sexual attractiveness and survival. *Nature* **406**:67-70.\n",
    "\n",
    "Liberg, O. H. *et al.* (2005). Severe inbreeding depression in a wild wolf (*Canis Lupus*) population. *Biol. Lett.* **1**:17-20.\n",
    "\n",
    "Sherwood, C. C. *et al.* (2006). Evolution of increased glia-neuron ratios in the human frontal cortex. *Proc. Nat. Acad. Sci. (USA).* **103**:13606-13611."
   ]
  }
 ],
 "metadata": {
  "kernelspec": {
   "display_name": "Python [default]",
   "language": "python",
   "name": "python3"
  },
  "language_info": {
   "codemirror_mode": {
    "name": "ipython",
    "version": 3
   },
   "file_extension": ".py",
   "mimetype": "text/x-python",
   "name": "python",
   "nbconvert_exporter": "python",
   "pygments_lexer": "ipython3",
   "version": "3.5.5"
  }
 },
 "nbformat": 4,
 "nbformat_minor": 2
}
