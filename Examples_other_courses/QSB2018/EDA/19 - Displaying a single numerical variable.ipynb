{
 "cells": [
  {
   "cell_type": "markdown",
   "metadata": {},
   "source": [
    "## Learning outcomes for this notebook\n",
    "\n",
    "* Be able to plot a histogram of a variable from a pandas DataFrame\n",
    "* Be able to create new variables from existing ones\n",
    "* Be able to set the width and range of bins in matplotlib histograms\n",
    "* Understand that calculations on computers can produce numbers with meaningless digits after the decimal place, and that such numbers needed to be rounded for presentation.\n"
   ]
  },
  {
   "cell_type": "markdown",
   "metadata": {},
   "source": [
    "## Presenting and visualising different types of data\n",
    "\n",
    "You now know how to read in datasets from CSV files using the pandas library and how to plot and annotate histograms using matplotlib. We now systematically go through the types of graphs and tables you would normally use to present and display data of different combinations of types. The types of datasets we will look at are:\n",
    "* A single numerical variable\n",
    "* A single categorical variable\n",
    "* Two numerical variables\n",
    "* Two categorical variables\n",
    "* A categorical variable and a numerical variable\n",
    "* Two categorical variables and a numerical variable\n",
    "* A categorical variable and two numerical variables\n",
    "\n",
    "In addition, we'll also introduce some of the other functionality of pandas essential for analysing data."
   ]
  },
  {
   "cell_type": "markdown",
   "metadata": {},
   "source": [
    "## Displaying a single numerical variable\n",
    "\n",
    "Histograms are the main method of displaying numerical data of one variable. "
   ]
  },
  {
   "cell_type": "markdown",
   "metadata": {},
   "source": [
    "### Darwin's cross-fertilised and self-fertilised plants\n",
    "\n",
    "We start with a classic experiment performed by Charles Darwin. Darwin wanted to find out if cross-fertilised corn plants grew with greater vigour than self-fertilised corn plants. Pairs of seedlings of the same age, one produced by cross-fertilisation and the other by self-fertilisation, were grown together so that members of each pair were reared under nearly identical conditions. The final heights of all the plants were measured to the nearest millimetre.\n",
    "\n",
    "![](images/cross_self_fertilisation.jpg)\n",
    "\n",
    "<div class=\"alert alert-danger\">\n",
    "Before examining the data, in one or two sentences write in the next cell whether you expect there to be, or not to be, a difference in heights between cross and self-fertilised corn plants. Give a reason for your answer. \n",
    "</div>"
   ]
  },
  {
   "cell_type": "markdown",
   "metadata": {},
   "source": [
    ">Write your answer here."
   ]
  },
  {
   "cell_type": "markdown",
   "metadata": {},
   "source": [
    "Now let's examine Darwin's data presented in Table 1.\n",
    "\n",
    "Pair | Cross-fertilisation | Self-fertilisation\n",
    "--- | :---: | :---: \n",
    "1 | 59.7 | 44.2\n",
    "2 | 30.5 | 51.8\n",
    "3 | 53.3 | 50.8\n",
    "4 | 55.9 | 50.8\n",
    "5 | 48.5 | 46.7\n",
    "6 | 54.6 | 47.2\n",
    "7 | 56.1 | 47.2\n",
    "8 | 51.8 | 38.9\n",
    "9 | 46.5 | 41.9\n",
    "10 | 54.9 | 45.7\n",
    "11 | 59.2 | 41.4\n",
    "12 | 53.3 | 45.7\n",
    "13 | 56.1 | 32.5\n",
    "14 | 58.4 | 39.4\n",
    "15 | 30.5 | 45.7\n",
    "\n",
    "<center><b>Table 1.</b> Plant heights (cm) produced by cross and self-fertilisation, Darwin (1876).</center><br>\n",
    "\n",
    "Each row in the table represents a pair of plants. The first column contains a numerical label for each pair, the second column contains the height of cross-fertilised plants and the third column contains the height of self-fertilised plants.\n",
    "\n",
    "Notice that we include the units of centimetres (cm) in the Table caption. This is good practice for whenever you create a table. First, so that other people know what the units of measurement are, and second, so that the table doesn't look cluttered by putting \"cm\" after each and every number. \n",
    "\n",
    "\n",
    "We are not interested in the heights themselves, but rather the differences in heights for each pair. **Do you know why?**"
   ]
  },
  {
   "cell_type": "markdown",
   "metadata": {},
   "source": [
    "The file containing the data on Darwin's plant heights is called [`darwin.csv`](darwin.csv). \n",
    "\n",
    "<div class=\"alert alert-danger\">\n",
    "\n",
    "* In the code cell below, read in the dataset from the file `'darwin.csv'` and name it `heights`. \n",
    "* Print the dataset with the command `print(heights)` to see what it looks like.\n",
    "\n",
    "Note: don't forget to import pandas and matplotlib in this notebook\n",
    "</div>\n",
    "<br>"
   ]
  },
  {
   "cell_type": "code",
   "execution_count": null,
   "metadata": {
    "collapsed": true,
    "format": "row",
    "scrolled": false
   },
   "outputs": [],
   "source": []
  },
  {
   "cell_type": "markdown",
   "metadata": {},
   "source": [
    "The first row of `heights` contains the variable names. In this case `'Cross'` and `'Self'` taken directly from the header in the CSV file.\n",
    "\n",
    "There are three columns. The first column is an index, or row number, for each pair of plants. Recall that Python indices start from 0 and not from 1. The second column contains the heights of cross-fertilised plants and and third column contains the heights of the self-fertilised plants."
   ]
  },
  {
   "cell_type": "markdown",
   "metadata": {},
   "source": [
    "### Creating a new variable from existing variables\n",
    "\n",
    "You may have noticed that we have two, rather than one, numerical variable in this dataset. These are `'Cross'` and `'Self'`. However, as mentioned earlier, we are not interested in the plant heights themselves, but rather the differences in heights of each pair. So the numerical variable of interest is the \"difference in heights\". \n",
    "\n",
    "Fortunately, pandas makes it easy to create new variables from existing ones. The following command creates a new numerical variable called `'Difference'` from the existing variables `'Cross'` and `'Self'`:\n",
    "\n",
    "```python\n",
    "heights['Difference'] = heights['Cross'] - heights['Self'] \n",
    "```\n",
    "or, equivalently, using the pandas short cut method\n",
    "```python\n",
    "heights['Difference'] = heights.Cross - heights.Self \n",
    "```\n",
    "\n",
    "(Note that you can't do `heights.Difference = heights.Cross - heights.Self` because the short cut only works on variables already created. `'Cross'` and `'Self'` have already been created but `'Difference'` hasn't. So you must use brackets and quotes the first time you refer to `'Difference'`, but thereafter you can drop them and use the shortcut method.)\n",
    "\n",
    "What this command does is create a new column in your dataset with the header `'Difference'` and fills that column with the differences between heights of each pair of crossed and self-fertilised plants.\n",
    "\n",
    "(You can do many other things like adding, multiplying, dividing, taking the square root, and so on, just as you would for actual numbers.)\n",
    "\n",
    "<div class=\"alert alert-danger\">\n",
    "\n",
    "In the code cell below:\n",
    "1. Create an new variable called `'Difference'` from the exising `'Cross'` and `'Self'` variables.\n",
    "2. Print out the revised DataFrame.\n",
    "2. Plot a histogram of the difference in plant heights, label the axes and add a title.\n",
    "3. Looking at the histogram, do you consider that cross-fertilised plants grow with greater vigor than self-fertilised plants? Explain your reasoning.\n",
    "</div>\n",
    "<br>"
   ]
  },
  {
   "cell_type": "code",
   "execution_count": null,
   "metadata": {
    "collapsed": true
   },
   "outputs": [],
   "source": []
  },
  {
   "cell_type": "markdown",
   "metadata": {},
   "source": [
    "### Rounding numbers\n",
    "\n",
    "<div class=\"alert alert-danger\">\n",
    "\n",
    "Darwin's original measurements were in inches. \n",
    "* In the code cell below, create a new variable of height differences with units of inches from the existing variable which has units of cm. Make sure you name the variable something informative.\n",
    "* Print the revised DataFrame.\n",
    "</div>\n",
    "<br>"
   ]
  },
  {
   "cell_type": "code",
   "execution_count": null,
   "metadata": {},
   "outputs": [],
   "source": []
  },
  {
   "cell_type": "markdown",
   "metadata": {},
   "source": [
    "Notice that the new variable is printed to three decimal places whereas the other variables are only printed to one decimal place. Given that plant heights were measured to a precision of 1mm, there is no point reporting height differences to a thousandth of an inch. Those extra digits have no meaning. And if something has no meaning it should not be reported. Python does not know that these extra digits are meaningless, it is just printing out numbers and rounding to a default three decimal places. So we have to tell Python to format the numbers to something that is meaningful. In this case the new variable in inches should be reported to one decimal place. To round numbers to *n* decimal places use the `round(n)` method. To round **all** floats in a DataFrame use\n",
    "\n",
    "```python\n",
    "print(DataFrame.round(n))\n",
    "```\n",
    "\n",
    "or to round floats in just one variable use\n",
    "\n",
    "```python\n",
    "print(DataFrame['variable'].round(n))\n",
    "```\n",
    "or \n",
    "```python\n",
    "print(DataFrame.variable.round(n))\n",
    "```\n",
    "\n",
    "\n",
    "<div class=\"alert alert-info\">\n",
    "\n",
    "**Note**: In these examples we've used the generic terms `DataFrame` and `'variable'`. You should replace these with the names of your DataFrame and variables (e.g., `print(heights.Difference.round(1)`). From now on in the notebooks we will use these generic terms to demonstrate pandas functions and you should replace them with the names of the DataFrame and the variables in each example.\n",
    "</div>\n",
    "\n",
    "<div class=\"alert alert-danger\">\n",
    "In the above code cell print the revised DataFrame to 1 decimal place.\n",
    "</div>\n",
    "<br>"
   ]
  },
  {
   "cell_type": "markdown",
   "metadata": {},
   "source": [
    "### Running speeds of spiders\n",
    "\n",
    "Male spiders in the genus *Tidarren* are tiny, weighing only about 1% as much as females. They also have disproportionately large pedipalps, copulatory organs that make up about 10% of a male’s mass. (See image; the pedipalps are indicated by arrows.) Males load the pedipalps with sperm and then search for females to inseminate. Astonishingly, male *Tidarren* spiders voluntarily amputate one of their two organs, right or left, just before sexual maturity.\n",
    "\n",
    "![](./images/03_ex_02.jpg)\n",
    "\n",
    "Why do they do this? Ramos *et al.* (2004) suggested that perhaps speed is important to males searching for females, and amputation increases running performance. They used video to measure running speed of males on strands of spider silk before and after voluntary amputation. The running speeds (in cm/s) are in the file [`tidarren.csv`](tidarren.csv).\n",
    "\n",
    "<div class=\"alert alert-danger\">\n",
    "\n",
    "Read in this dataset and plot a clearly labelled histogram of the **difference** between before and after amputation running speeds.\n",
    "<br>\n",
    "\n",
    "**NOTE**: When you read in a dataset from a file DO NOT name it `DataFrame`. That is, do not do this\n",
    "\n",
    "```python\n",
    "DataFrame = pd.read_csv('tidarren.csv')\n",
    "```\n",
    "\n",
    "Call the dataset something useful so that you, and other people, know what the dataset contains. \n",
    "</div>\n",
    "<br>"
   ]
  },
  {
   "cell_type": "code",
   "execution_count": null,
   "metadata": {
    "collapsed": true
   },
   "outputs": [],
   "source": []
  },
  {
   "cell_type": "markdown",
   "metadata": {},
   "source": [
    "<div class=\"alert alert-danger\">\n",
    "Does this data support Ramos's hypothesis? Explain your reasoning in the cell below.\n",
    "</div>"
   ]
  },
  {
   "cell_type": "markdown",
   "metadata": {},
   "source": [
    "> Write your answer here."
   ]
  },
  {
   "cell_type": "markdown",
   "metadata": {},
   "source": [
    "## The lengths of human genes\n",
    "\n",
    "The international Human Genome Project was the largest coordinated research effort in the history of biology. It yielded the DNA sequence of all 23 human chromosomes, each consisting of millions of nucleotides chained end to end. These encode the genes whose products - RNA and proteins - shape the growth and development of each individual. The file [`human_genes.csv`](human_genes.csv) contains the lengths of all 20,290 known and predicted genes of the published genome sequence (Hubbard *et al.* 2005). The length of a gene refers to the total number of nucleotides comprising the coding regions.\n",
    "\n",
    "![](images/dna.jpg)\n",
    "\n",
    "<div class=\"alert alert-danger\">\n",
    "In the code cell below, read in the human gene dataset, call it something appropriate and print it to see what the dataset looks like. \n",
    "</div>\n",
    "<br>"
   ]
  },
  {
   "cell_type": "code",
   "execution_count": null,
   "metadata": {
    "collapsed": true
   },
   "outputs": [],
   "source": []
  },
  {
   "cell_type": "markdown",
   "metadata": {},
   "source": [
    "You should have noticed that the variable name is `geneLength`.\n",
    "<div class=\"alert alert-danger\">\n",
    "Plot a clearly labelled histogram of human gene length.\n",
    "</div>"
   ]
  },
  {
   "cell_type": "code",
   "execution_count": null,
   "metadata": {
    "collapsed": true
   },
   "outputs": [],
   "source": []
  },
  {
   "cell_type": "markdown",
   "metadata": {},
   "source": [
    "### Changing the number and width of histogram bins\n",
    "\n",
    "The histogram extends out to 100,000 nucleotides but doesn't appear to show any genes between 20,000 and 100,000nt. This is because there are a few very long genes which are so rare that they cannot be seen in this histogram. The longest human gene, with nearly 100,000nt, encodes the gigantic protein titin, which is expressed in heart and skeletal muscle. The protein was named for the titans of Greek mythology, giants who ruled the earth until overthrown by the Olympians. Some mutations in the *titin* gene cause heart muscle disease and muscular dystrophy.\n",
    "\n",
    "These few very long genes make the bulk of the histogram bunch up to the left hiding details of the shorter genes. Matplotlib automatically calculates the number of bins and their width for you. In this case the bin width is about 10,000nt.\n",
    "\n",
    "Rather than let matplotlib set the bins for you, you can set the bins manually. This is done with the `bins=range(start, end, width)` argument in `plt.hist()` where `start`, `end` and `width` are integers.\n",
    "\n",
    "For example, to plot a histogram with bins of width 100 ranging from 0 to 20,000, you would use the command \n",
    "```python\n",
    "plt.hist(DataFrame.geneLength, bins=range(0, 20000, 100))\n",
    "```\n",
    "<div class=\"alert alert-danger\">\n",
    "\n",
    "Try this in the code cell below.\n",
    "</div>"
   ]
  },
  {
   "cell_type": "code",
   "execution_count": null,
   "metadata": {
    "collapsed": true
   },
   "outputs": [],
   "source": []
  },
  {
   "cell_type": "markdown",
   "metadata": {},
   "source": [
    "<div class=\"alert alert-danger\">\n",
    "\n",
    "* Play around with some other values of `start`, `end` and `width` to examine this dataset in more detail. \n",
    "* You should notice some intriguing peaks at lower gene lengths. Try googling to see if there are any explanations for these peaks.\n",
    "</div>\n",
    "<br>"
   ]
  },
  {
   "cell_type": "markdown",
   "metadata": {},
   "source": [
    "### References\n",
    "\n",
    "Darwin, C. (1876). *Effects of Cross and Self-fertilization in the Vegetable Kingdom.* London: John Murray.\n",
    "\n",
    "Ramos, M., *et al.* (2004). Overcoming an evolutionary conflict: removal of a reproductive organ greatly increases locomotor performance. *Proc. Nat. Acad. Sci. (USA)* **101**:4883-4887.\n",
    "\n",
    "Hubbard, T., *et al.* (2005). Ensembl 2005. *Nucl. Acid. Res.* **33**:D447-D453."
   ]
  }
 ],
 "metadata": {
  "kernelspec": {
   "display_name": "Python [default]",
   "language": "python",
   "name": "python3"
  },
  "language_info": {
   "codemirror_mode": {
    "name": "ipython",
    "version": 3
   },
   "file_extension": ".py",
   "mimetype": "text/x-python",
   "name": "python",
   "nbconvert_exporter": "python",
   "pygments_lexer": "ipython3",
   "version": "3.5.5"
  }
 },
 "nbformat": 4,
 "nbformat_minor": 2
}
