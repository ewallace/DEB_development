{
 "cells": [
  {
   "cell_type": "markdown",
   "metadata": {},
   "source": [
    "## Learning outcomes for this notebook\n",
    "\n",
    "* Be able to expand stripplots, boxplots and multiple histograms to compare across two categorical variables.\n",
    "* Be able to interpret these plots when there are two categorical variables."
   ]
  },
  {
   "cell_type": "markdown",
   "metadata": {},
   "source": [
    "## Displaying the association between two categorical variables and a numerical variable\n",
    "\n",
    "### Introduction\n",
    "\n",
    "Up to this point we have looked at how to present a response variable from at most one explanatory variable (e.g., the effect of *fertilisation route* on *plant vigour*, the effect of *reproductive effort* on the *susceptibility to malaria* and the effect of *altitude* on *haemoglobin*). Many biological studies, however, investigate more than one explanatory variable at the same time. One reason for this is efficiency: for the same amount of work, or just a little more, we can obtain answers to more than one question if we include more than one explanatory variable in a study. For example, a study of the causes of nearsightedness in children might want to examine the effects of genetic factors and the amount of time subjects spend reading at the same time, rather than just one of these variables alone. The same sample of subjects can be used to address both questions.\n",
    "\n",
    "As with a single categorical variable, we can use strip plots, box plots and multiple histograms to visualise data with two categorical variables."
   ]
  },
  {
   "cell_type": "markdown",
   "metadata": {},
   "source": [
    "### Herbivory of intertidal algae\n",
    "Harley (2003) investigated how herbivores affect the abundance of plants living in the intertidal habitat of coastal Washington using field transplants of a red alga, *Mazzaella parksii*. The experiment also examined whether the effect of herbivores on the algae depended on where in the intertidal zone the plants were growing. \n",
    "\n",
    "![](images/18.03-1_fmt.jpeg)\n",
    "\n",
    "Thirty two study plots were established just above the low-tide mark, and another 32 plots were set at mid-height between the low- and high-tide marks. The plots were cleared of all organisms, and then a constant amount of new algae was glued onto the rock surface in the center of each plot. Using copper fencing, herbivores (mainly limpets and snails) were excluded from a randomly chosen half of the plots at each height. The remaining plots were left accessible to herbivores. At the end of the experiment, the surface area covered by the algae (in cm<sup>2</sup>) was measured in each plot.\n",
    "\n",
    "The dataset is in the file [`algae.csv`](algae.csv).\n",
    "\n",
    "<div class=\"alert alert-danger\">\n",
    "Read in the dataset from `algae.csv` and print it out.\n",
    "</div>"
   ]
  },
  {
   "cell_type": "code",
   "execution_count": null,
   "metadata": {
    "collapsed": true
   },
   "outputs": [],
   "source": []
  },
  {
   "cell_type": "markdown",
   "metadata": {},
   "source": [
    "The dataset comprises three columns. The first categorical variable `'zone'` is the position of the study plots, either just above the low-tide mark, or at mid-height between the low- and high-tide marks. The second categorical variable `'herbivores'` identifies whether herbivores were allowed into a study plot or not, and the numerical variable `'sqrtArea'` is the square root of the the surface area covered by algae at the end of the experiment. \n",
    "\n",
    "* **What are the units of the square root of the surface area?**\n",
    "* **Why do you think the square root of the surface area is used rather than just surface area? (Hint: square the variable `'sqrtArea'` and look at the range of values.)**\n",
    "* **Write your answers below.**\n"
   ]
  },
  {
   "cell_type": "markdown",
   "metadata": {},
   "source": [
    ">Write your answers here."
   ]
  },
  {
   "cell_type": "markdown",
   "metadata": {},
   "source": [
    "### Stripplot\n",
    "\n",
    "A seaborn stripplot with two categorical variables is created using the same function as for a single categorical variable but with two additional arguments, `hue` and `dodge`:\n",
    "```python\n",
    "sns.stripplot(x='categorical variable 1', hue='categorical variable 2', y='numerical variable', jitter=True, dodge=True, data=DataFrame)\n",
    "```\n",
    "The argument `hue` specifies the second categorical variable (the categories of which are plotted in different colours and are included in a legend in the figure). The argument `dodge=True` splits the categories along the horizontal axis so that the dots don't lie on top of each other thus making the data easier to see.\n",
    "\n",
    "<div class=\"alert alert-danger\">\n",
    "Create a an appropriately labelled stripplot of the algae data. Try `dodge=True` and `dodge=False` to see the difference.\n",
    "</div>"
   ]
  },
  {
   "cell_type": "code",
   "execution_count": null,
   "metadata": {
    "collapsed": true
   },
   "outputs": [],
   "source": []
  },
  {
   "cell_type": "markdown",
   "metadata": {},
   "source": [
    "### Boxplot\n",
    "\n",
    "Boxplots are created with the function\n",
    "```python\n",
    "sns.boxplot(x='categorical variable 1', hue='categorical variable 2', y='numerical variable', data=DataFrame)\n",
    "```\n",
    "Note that you don't need to give the `dodge` argument as the boxes are automatically split horizontally.\n",
    "\n",
    "<div class=\"alert alert-danger\">\n",
    "Create an appropriately labelled boxplot of the algae data.\n",
    "</div>"
   ]
  },
  {
   "cell_type": "code",
   "execution_count": null,
   "metadata": {
    "collapsed": true
   },
   "outputs": [],
   "source": []
  },
  {
   "cell_type": "markdown",
   "metadata": {},
   "source": [
    "### Multiple histogram method\n",
    "\n",
    "The first categorical variable is plotted by row and the second by column like so\n",
    "```python\n",
    "g = sns.FacetGrid(row='categorical variable 1', col='categorical variable 2', data=DataFrame)\n",
    "g.map(plt.hist, 'numerical variable')\n",
    "```\n",
    "<div class=\"alert alert-danger\">\n",
    "Make a multiple histogram plot of the algae data.\n",
    "</div>"
   ]
  },
  {
   "cell_type": "code",
   "execution_count": null,
   "metadata": {
    "collapsed": true
   },
   "outputs": [],
   "source": []
  },
  {
   "cell_type": "markdown",
   "metadata": {},
   "source": [
    "Based on the above plots, do herbivores affect the abundance of algae living in the intertidal habitat and does this effect depend on where in the intertidal zone the algae were growing? Write your answer below."
   ]
  },
  {
   "cell_type": "markdown",
   "metadata": {},
   "source": [
    ">Write your answer here."
   ]
  },
  {
   "cell_type": "markdown",
   "metadata": {},
   "source": [
    "### Colour vision in bluefin killifish\n",
    "\n",
    "Does light environment have an influence on the development of colour vision? The data in the file [`killifish.csv` ](killifish.csv) (from Fuller *et al.*, 2010) are measurements of the relative abilities of bluefin killifish from two wild populations to detect short wave lengths of light (blue light in our own visible colour spectrum). \n",
    "\n",
    "![](images/killifish.jpg)\n",
    "\n",
    "One population was from a swamp, whose tea-stained water filters out blue wavelengths, whereas the other population was from a clear-water spring. Fish were crossed and raised in the lab under two light conditions simulating those in the wild: clear and tea-stained. Sensitivity to blue light was measured as the relative expression of the *SWS1* opsin gene in the eyes of the fish (as a proportion of total expression of all opsins). Opsin proteins in eyes detect light of specific wavelengths; SWS1 is so named because it is shortwave sensitive. The data are from a single individual from each of 33 families. Because the fish were raised in a common lab environment, population differences are likely to be genetically based, whereas differences between fish under different water clarity conditions are environmentally induced.\n",
    "\n",
    "\n",
    "<div class=\"alert alert-danger\">\n",
    "\n",
    "* Read in the dataset from `killifish.csv` and print it out.\n",
    "* The relative expression of the SWS1 gene is called sws1 in the dataset.\n",
    "* Create an appropriate plot of the data.\n",
    "</div>\n",
    "<br>"
   ]
  },
  {
   "cell_type": "code",
   "execution_count": null,
   "metadata": {
    "collapsed": true
   },
   "outputs": [],
   "source": []
  },
  {
   "cell_type": "markdown",
   "metadata": {},
   "source": [
    "Based on your plot, do you find differences in the relative expression of the *SWS1* gene between populations and between environmental conditions? What does this tell us about the genetics of the two populations and the effect of environment on SWS1 expression? Write your answer below."
   ]
  },
  {
   "cell_type": "markdown",
   "metadata": {},
   "source": [
    ">Write your answer here."
   ]
  },
  {
   "cell_type": "markdown",
   "metadata": {},
   "source": [
    "### References\n",
    "\n",
    "Harley, C. D. G. (2003). Abiotic stress and herbivory interact to set range limits across a two-dimensional stress gradient. *Ecology* **84**:1477-1488.\n",
    "\n",
    "Fuller, R. C., *et al.* (2010). Teasing apart the many effects of lighting environment on opsin expression and foraging preference in bluefin killifish. *Am. Nat.* **176**:1-13."
   ]
  }
 ],
 "metadata": {
  "kernelspec": {
   "display_name": "Python [default]",
   "language": "python",
   "name": "python3"
  },
  "language_info": {
   "codemirror_mode": {
    "name": "ipython",
    "version": 3
   },
   "file_extension": ".py",
   "mimetype": "text/x-python",
   "name": "python",
   "nbconvert_exporter": "python",
   "pygments_lexer": "ipython3",
   "version": "3.5.5"
  }
 },
 "nbformat": 4,
 "nbformat_minor": 2
}
