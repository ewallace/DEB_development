{
 "cells": [
  {
   "cell_type": "markdown",
   "metadata": {},
   "source": [
    "## Learning outcomes for this notebook\n",
    "\n",
    "* Be able to create well-labelled stripplots, boxplots and multiple histograms and interpret them.\n",
    "* Be able to judge when one is better than another.\n",
    "* Understand the limitations of bar graphs in representing numerical data."
   ]
  },
  {
   "cell_type": "markdown",
   "metadata": {},
   "source": [
    "## Displaying the association between  a numerical variable and a categorical variable\n",
    "\n",
    "### Introduction\n",
    "\n",
    "There are three good methods to show an association between a numerical variable and a categorical variable: the stripplot, the boxplot, and the multiple histograms method. The bar graph is another very common method. However, as we shall see, it does not present the variability in the data and so its use is discouraged."
   ]
  },
  {
   "cell_type": "markdown",
   "metadata": {},
   "source": [
    "### Threespine sticklebacks\n",
    "\n",
    "The marine threespine stickleback is a small coastal fish named for its defensive armor. It has three sharp spines down its back, two pelvic spines under the belly and a series of lateral bony plates down both sides. The armor seems to reduce mortality from predatory ﬁsh and diving birds. In contrast, in lakes and streams, where predators are fewer, stickleback populations have reduced armor. (See the photo below for examples of different types. Bony tissue has been stained red to make it more visible.) Colosimo *et al.* (2004) measured the grandchildren of a cross made between a marine and a freshwater stickleback. The study found that much of the difference in number of plates is caused by a single gene, *Ectodysplasin* which has two alleles, M and m. The data in the file [`sticklebacks.csv`](sticklebacks.csv) contains the genotype (either MM, Mm or mm) and the number of bony plates for each of 344 fish. \n",
    "\n",
    "![](./images/03.03_fmt.jpeg)\n",
    "\n",
    "<div class=\"alert alert-danger\">\n",
    "Read in the dataset from `sticklebacks.csv`, and print it out.\n",
    "</div>"
   ]
  },
  {
   "cell_type": "code",
   "execution_count": null,
   "metadata": {
    "collapsed": true
   },
   "outputs": [],
   "source": []
  },
  {
   "cell_type": "markdown",
   "metadata": {},
   "source": [
    "The dataset comprises three columns, the fish `id` column which can be ignored, the number of `plates`, which is the numerical variable, and the `genotype` which is the categorical variable."
   ]
  },
  {
   "cell_type": "markdown",
   "metadata": {},
   "source": [
    "### Stripplot\n",
    "\n",
    "An excellent method of plotting the association between numerical and categorical data, when there aren't too many values, is the stripplot. The seaborn function to do this is\n",
    "```python\n",
    "sns.stripplot(x=DataFrame['categorical variable'], y=DataFrame['numerical variable'], jitter=True)\n",
    "```\n",
    "or\n",
    "```python\n",
    "sns.stripplot(x='categorical variable', y='numerical variable', jitter=True, data=DataFrame)\n",
    "```\n",
    "The categorical variable is plotted on the $x$-axis and the numerical variable on the $y$-axis. Each observation is represented by a dot. The argument `jitter=True` adds some jitter to the horizontal position of the data so that the dots are spread out and don't sit on top of each other.\n",
    "\n",
    "<div class=\"alert alert-danger\">\n",
    "Create a clearly labelled stripplot of the stickleback data. Try `jitter=True` and `jitter=False` to see the difference.\n",
    "</div>"
   ]
  },
  {
   "cell_type": "code",
   "execution_count": null,
   "metadata": {
    "collapsed": true
   },
   "outputs": [],
   "source": []
  },
  {
   "cell_type": "markdown",
   "metadata": {},
   "source": [
    "<div class=\"alert alert-danger\">\n",
    "Is the M allele dominant, co-dominant or incomplete dominant over the m allele? Write your answer below.\n",
    "</div>"
   ]
  },
  {
   "cell_type": "markdown",
   "metadata": {},
   "source": [
    ">Write your answer here."
   ]
  },
  {
   "cell_type": "markdown",
   "metadata": {},
   "source": [
    "### Bar graph (a commonly used but poor graph)\n",
    "\n",
    "As we saw in the last notebook, bar graphs are good at visualising a single categorical variable, although frequency tables are generally more informative.\n",
    "\n",
    "Bar graphs are also commonly used to represent categories of numerical variables in the biological and medical sciences. The seaborn function to make a bar graph is similar to the stripplot except without the jitter.\n",
    "```python\n",
    "sns.barplot(x=DataFrame['categorical variable'], y=DataFrame['numerical variable'])\n",
    "```\n",
    "or\n",
    "```python\n",
    "sns.barplot(x='categorical variable', y='numerical variable', data=DataFrame)\n",
    "```\n",
    "\n",
    "<div class=\"alert alert-danger\">\n",
    "Make a bar graph of the stickleback data.\n",
    "</div>"
   ]
  },
  {
   "cell_type": "code",
   "execution_count": null,
   "metadata": {
    "collapsed": true
   },
   "outputs": [],
   "source": []
  },
  {
   "cell_type": "markdown",
   "metadata": {},
   "source": [
    "The top of each bar represents the *mean* number of plates in each category. The vertical black lines (called error bars) represent how precise the estimate of the mean is. (You'll learn more about that in further courses.)\n",
    "\n",
    "Here are the problems with the bar graph:\n",
    "1. Its biggest problem is that it hides the data. We have no indication of how variable the data are in each category, nor what the shape of the distributions are. In particular, the bar for the Mm genotype does not reveal the cluster of data just above 60 plates with many values extending down to about 10 plates.\n",
    "2. It uses a lot of ink just to display the mean, there is no need to draw a whole filled-in bar from 0 to the mean just to display one number."
   ]
  },
  {
   "cell_type": "markdown",
   "metadata": {},
   "source": [
    "### Boxplot\n",
    "\n",
    "The boxplot is a much better way of presenting the association between categorical and numerical data than a bar graph. It doesn’t show most of the data points, but instead uses lines and boxes to indicate where the bulk of the observations lie.\n",
    "\n",
    "The seaborn function to make a boxplot is similar to the barplot:\n",
    "```python\n",
    "sns.boxplot(x=DataFrame['categorical variable'], y=DataFrame['numerical variable'])\n",
    "```\n",
    "or\n",
    "```python\n",
    "sns.boxplot(x='categorical variable', y='numerical variable', data=DataFrame)\n",
    "```\n",
    "\n",
    "<div class=\"alert alert-danger\">\n",
    "Create a clearly labelled boxplot of the stickleback data.\n",
    "</div>"
   ]
  },
  {
   "cell_type": "code",
   "execution_count": null,
   "metadata": {
    "collapsed": true
   },
   "outputs": [],
   "source": []
  },
  {
   "cell_type": "markdown",
   "metadata": {},
   "source": [
    "We will discuss how the boxplot represents the data in a moment. \n",
    "\n",
    "With just one categorical variable, filling in the boxes with colour in unnecessary and violates our principle of good graph design. We can save ink by making the boxes white by setting `color='w'` in the boxplot() function. **Try this above.**"
   ]
  },
  {
   "cell_type": "markdown",
   "metadata": {},
   "source": [
    "### Combine strip and boxplots\n",
    "\n",
    "When you have only a few data points a combination of strip and box plots can be useful. Just call the boxplot() function followed by the stripplot() function.\n",
    "\n",
    "<div class=\"alert alert-danger\">\n",
    "Create a combined strip and boxplot of the stickleback data in the code cell below.\n",
    "</div>"
   ]
  },
  {
   "cell_type": "code",
   "execution_count": null,
   "metadata": {
    "collapsed": true
   },
   "outputs": [],
   "source": []
  },
  {
   "cell_type": "markdown",
   "metadata": {},
   "source": [
    "These is one problem with this plot. Have a think what it is before revealing the hidden text below.\n",
    "\n",
    "<font color='White'>\n",
    "The outliers are represented twice, once by the stripplot and a second time by the boxplot.\n",
    "</font>\n",
    "<br>\n",
    "\n",
    "To solve the outliers problem we can tell `boxplot()` to draw outliers with zero size thus making them invisible. Use the argument `fliersize=0` in `boxplot()` to make the outliers invisible. **Try this in the graph above.**"
   ]
  },
  {
   "cell_type": "markdown",
   "metadata": {},
   "source": [
    "### How to interpret a boxplot\n",
    "\n",
    "So how does the boxplot represent our data?\n",
    "\n",
    "The box represents the middle 50% of the data. Which means a quarter of the data lie below the box, a half lies within the box and a quarter lies above the box. \n",
    "\n",
    "The horizontal line inside each box is the median, the middle value. Half the observations lie above the median and half lie below. \n",
    "\n",
    "The plate values for the mm and MM genotypes are clustered quite tightly (with a handful of outliers). Notice how the median values of these genotypes are similar to the their mean values which can be see in the bar plot above (the tops of the bars give the means: about 12 plates for mm and about 63 plates for MM). However, the median value of the Mm genotype (which is about 59) is very different from the mean value (which is about 50 plates). This is because, although most of the data are clustered around 60 plates, there are many values extending down to about 10 plates. The distribution of values is asymmetrical. Such a distribution is called **skewed**. The distributions for mm and MM genotypes are symmetrical so their means and medians are similar.\n",
    "\n",
    "So the median line in a boxplot of a symmetrical distribution splits the box into two almost equal-sized rectangles. Whereas the median line of a skewed distribution splits the box into two unequal-sized rectangles.\n",
    "\n",
    "The lower and upper edges of each box are called the first and third quartiles. We will hear more about these in notebook 25. \n",
    "\n",
    "Two lines, called whiskers, extend outward from a box at each end. The whiskers stop at the smallest and largest \"non-extreme\" values in the data. Extreme values are plotted as isolated dots past the ends of the whiskers. These extreme values are often called **outliers**."
   ]
  },
  {
   "cell_type": "markdown",
   "metadata": {},
   "source": [
    "### Multiple histogram method\n",
    "\n",
    "The third method of plotting an association between a categorical and numerical variable uses multiple histograms, one for each category. It is important that the histograms be stacked above one another so that the position and spread of the data are most easily compared. Use the same scale along the horizontal axis to allow comparison.\n",
    "\n",
    "To make this plot requires two lines of code and is not as intuitive as the other plots:\n",
    "```python\n",
    "g = sns.FacetGrid(row='categorical variable', data=DataFrame)\n",
    "g.map(plt.hist, 'numerical variable')\n",
    "```\n",
    "The first line creates a grid of graphs based on the number of categories of the categorical variable. The grid is called `g`. The second line then populates grid `g` with histograms of the numerical variable. \n",
    "\n",
    "<div class=\"alert alert-danger\">\n",
    "Make a multiple histogram plot of the stickleback data.\n",
    "</div>"
   ]
  },
  {
   "cell_type": "code",
   "execution_count": null,
   "metadata": {
    "collapsed": true
   },
   "outputs": [],
   "source": []
  },
  {
   "cell_type": "markdown",
   "metadata": {},
   "source": [
    "The histograms more clearly reveal the symmetry of the distributions of the mm and MM genotypes and the asymmetry of the Mm genotype. The Mm distribution is called **left-skewed** as the data extend farther to the left than to the right of the median. Distributions are **right-skewed** when the data extend farther to the right than to the left of the median."
   ]
  },
  {
   "cell_type": "markdown",
   "metadata": {},
   "source": [
    "### Blood responses to high elevation\n",
    "\n",
    "![](images/tibet.jpg)\n",
    "\n",
    "The amount of oxygen obtained in each breath at high altitude can be as low as one-third that obtained at sea level. Studies have begun to examine whether indigenous people living at high elevations have physiological attributes that compensate for the reduced availability of oxygen. A reasonable expectation is that they should have more hemoglobin, the molecule that binds and transports oxygen in the blood. To test this, researchers sampled blood from males in three high-altitude human populations: the high Andes, high-elevation Ethiopia, and Tibet, along with a sea-level population from the USA (Beall et al. 2002). The data are stored in the file [`haemoglobin.csv`](haemoglobin.csv).\n",
    "\n",
    "<div class=\"alert alert-danger\">\n",
    "Read in the dataset from the file `haemoglobin.csv` and print it out to have a look at the data.\n",
    "</div>"
   ]
  },
  {
   "cell_type": "code",
   "execution_count": null,
   "metadata": {
    "collapsed": true
   },
   "outputs": [],
   "source": []
  },
  {
   "cell_type": "markdown",
   "metadata": {},
   "source": [
    "This is a large dataset with 1962 rows, one for each individual. The column called `id` is just an identification label and can be ignored. The variable `'population'` is the categorical variable with four categories. The variable `'haemoglobin'` is the numerical variable.\n",
    "\n",
    "<div class=\"alert alert-danger\">\n",
    "Make a stripplot of the haemoglobin data. Try `jitter=True` and `jitter=False`.\n",
    "</div>"
   ]
  },
  {
   "cell_type": "code",
   "execution_count": null,
   "metadata": {
    "collapsed": true
   },
   "outputs": [],
   "source": []
  },
  {
   "cell_type": "markdown",
   "metadata": {},
   "source": [
    "Because there are so many data points the dots fall on top of each other making it difficult to see the individual data. In this case it is perhaps better to use a boxplot or use multiple histograms.\n",
    "\n",
    "<div class=\"alert alert-danger\">\n",
    "\n",
    "* Create a clearly labelled boxplot of the haemoglobin data. \n",
    "* Make a multiple histograms plot (you will need to add the `density=True` argument in g.map() to get the $y$-axis scaling correct). \n",
    "* Which do you think is better?\n",
    "</div>\n",
    "<br>"
   ]
  },
  {
   "cell_type": "code",
   "execution_count": null,
   "metadata": {
    "collapsed": true,
    "scrolled": false
   },
   "outputs": [],
   "source": []
  },
  {
   "cell_type": "markdown",
   "metadata": {},
   "source": [
    "The boxplot of haemoglobin levels shows key features of the four frequency distributions using just a few graphical elements. We can clearly see in this graph how only men from the high Andes had elevated haemoglobin concentrations, whereas men from high-elevation Ethiopia and Tibet were not noticeably different in haemoglobin concentration from the sea-level group. We can see that the shapes of distributions are relatively similar in the four groups of males - the span of the boxes is similar in the four groups, although greatest in the Andean males and least in the USA males. The lengths of the whiskers are also fairly similar. USA males have the most extreme observations, but the shape of the distribution, as indicated by the box and whiskers, is similar to that in the other groups."
   ]
  },
  {
   "cell_type": "markdown",
   "metadata": {},
   "source": [
    "### References\n",
    "\n",
    "Colosimo, P. F., *et al.* (2004). The genetic architecture of parallel armor plate reduction in threespine sticklebacks. *PLOS Biology* **2**:635-641.\n",
    "\n",
    "Beall, C. M., *et al.* (2002). An Ethiopian pattern of human adaptation to high-altitude hypoxia. *Proc. Nat. Acad. Sci. (USA)* **99**:17215-17218.\n",
    "\n"
   ]
  }
 ],
 "metadata": {
  "kernelspec": {
   "display_name": "Python [default]",
   "language": "python",
   "name": "python3"
  },
  "language_info": {
   "codemirror_mode": {
    "name": "ipython",
    "version": 3
   },
   "file_extension": ".py",
   "mimetype": "text/x-python",
   "name": "python",
   "nbconvert_exporter": "python",
   "pygments_lexer": "ipython3",
   "version": "3.5.5"
  }
 },
 "nbformat": 4,
 "nbformat_minor": 2
}
