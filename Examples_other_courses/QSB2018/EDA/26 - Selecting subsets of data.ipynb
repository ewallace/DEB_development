{
 "cells": [
  {
   "cell_type": "markdown",
   "metadata": {},
   "source": [
    "## Learning outcomes for this notebook\n",
    "\n",
    "* Select a subset of rows from a DataFrame using query() method."
   ]
  },
  {
   "cell_type": "markdown",
   "metadata": {},
   "source": [
    "## Selecting subsets of data\n",
    "\n",
    "### Introduction\n",
    "\n",
    "It is often useful, particularly in large datasets, to select just a subset of the data to analyse. There are many reasons why you may want to do this. For example, you may have a dataset of people's blood groups (A, B, AB and O) in different european countries. If you are interested only in people from Scotland, for example, then you want to select Scottish people from the dataset and ignore everyone else. \n",
    "\n",
    "Selecting a subset of data on some criteria is a common and easy thing to do in pandas. We will use an example of Kenyan finches to demonstrate this."
   ]
  },
  {
   "cell_type": "markdown",
   "metadata": {},
   "source": [
    "### Kenyan finches\n",
    "\n",
    "The data in the file [`finches.csv`](finches.csv) contains measurements on body mass (in grams) and beak length (in mm) of three species of 15 finches captured by mist nets in Kenya.\n",
    "\n",
    "![](./images/03.prob-06_fmt.jpeg)\n",
    "\n",
    "<div class=\"alert alert-danger\">\n",
    "Read in this dataset, call it `'finches'` and print it out.\n",
    "</div>"
   ]
  },
  {
   "cell_type": "code",
   "execution_count": null,
   "metadata": {
    "collapsed": true
   },
   "outputs": [],
   "source": []
  },
  {
   "cell_type": "markdown",
   "metadata": {},
   "source": [
    "### The query() method for selecting subsets of data\n",
    "\n",
    "As you can see there are three variables: `'species'` is categorical and `'mass'` and `'beaklength'` are numerical. There are three species: the Cutthroat finch, the White-browed sparrow weaver and the Crimson-rumped waxbill. Five birds of each species were captured and measured.\n",
    "\n",
    "Say we wanted to make a scatter plot of mass against beak length for just the five waxbills, ignoring, for the moment, the cutthroat finches and the sparrow weavers. **How do we select only the waxbills from the dataset to plot?**\n",
    "\n",
    "This is achieved using the query() method like so\n",
    "\n",
    "```python\n",
    "finches.query('species == \"waxbill\"')\n",
    "```\n",
    "\n",
    "which returns a DataFrame with only waxbills selected.\n",
    "\n",
    "<div class=\"alert alert-danger\">\n",
    "Print this command in the code cell below.\n",
    "</div>"
   ]
  },
  {
   "cell_type": "code",
   "execution_count": null,
   "metadata": {
    "collapsed": true
   },
   "outputs": [],
   "source": []
  },
  {
   "cell_type": "markdown",
   "metadata": {},
   "source": [
    "What you should see is a DataFrame with only the waxbills selected.\n",
    "\n",
    "Then to plot mass against beak length for waxbills we simply do\n",
    "\n",
    "```python\n",
    "plt.scatter(x='mass', y='beaklength', data=finches.query('species == \"waxbill\"'))\n",
    "```\n",
    "\n",
    "<div class=\"alert alert-danger\">\n",
    "Create this scatter plot and label it in the code cell below.\n",
    "</div>"
   ]
  },
  {
   "cell_type": "code",
   "execution_count": null,
   "metadata": {
    "collapsed": true
   },
   "outputs": [],
   "source": []
  },
  {
   "cell_type": "markdown",
   "metadata": {},
   "source": [
    "This is a very powerful and flexible method for selecting rows on any condition. For example to select all finches whose mass is greater than 10g, say, we would write:\n",
    "\n",
    "```python\n",
    "finches.query('mass > 10')\n",
    "```\n",
    "\n",
    "or to select Cutthroat finches with beak lengths greater than or equal to 8mm:\n",
    "\n",
    "\n",
    "```python\n",
    "finches.query('species == \"cutthroat finch\" and beaklength >= 8')\n",
    "```\n",
    "\n",
    "\n",
    "<div class=\"alert alert-danger\">\n",
    "Try these in the code cell below.\n",
    "</div>\n",
    "\n",
    "One problem with the above queries is that the criteria to select on (i.e., 10grams or 8mm) are hard-coded into the query string. This is fine in some cases, but instead you might want to make these criteria variable. \n",
    "\n",
    "For example, we might have a variable called `min_beaklength` and we want to select all finches with a beak length greater than or equal to `min_beaklength`. To do this we put a `@` sign in front of the variable in the query like so:\n",
    "\n",
    "```python\n",
    "min_beaklength = 8\n",
    "finches.query('beaklength >= @min_beaklength')\n",
    "```\n",
    "\n",
    "or say, for example, you wanted all finches with beak lengths between `min_beaklength` and `max_beaklength` then you could use the query\n",
    "\n",
    "```python\n",
    "min_beaklength = 8\n",
    "max_beaklength = 10\n",
    "finches.query('@min_beaklength < beaklength < @max_beaklength')\n",
    "```\n",
    "\n",
    "\n",
    "<div class=\"alert alert-danger\">\n",
    "Try these in the code cell below.\n",
    "</div>\n"
   ]
  },
  {
   "cell_type": "code",
   "execution_count": null,
   "metadata": {},
   "outputs": [],
   "source": []
  },
  {
   "cell_type": "markdown",
   "metadata": {},
   "source": [
    "### Plotting all the finch species together\n",
    "\n",
    "We've plotted mass against beak length for just the waxbills, say we also want to plot these for the Cutthroat finches and the sparrow weavers all in the same graph so that we can compare species. To do that we need to distinguish between them by, for example, using a different colour for each species.\n",
    "\n",
    "<div class=\"alert alert-danger\">\n",
    "Create a clearly labelled scatter plot of mass against beak length for the three species of finch in the code cell below.\n",
    "</div>"
   ]
  },
  {
   "cell_type": "code",
   "execution_count": null,
   "metadata": {
    "collapsed": true
   },
   "outputs": [],
   "source": []
  },
  {
   "cell_type": "markdown",
   "metadata": {},
   "source": [
    "To aid your audience in interpreting your graph, species should be represented by symbols of different shapes and different colours and by a legend. Matplotlib automatically assigns a new colour to each species but it always uses a circle symbol. We can tell matplotlib which symbol to use with the `marker` argument of `plt.scatter()`. The full list of available markers is given [here](https://matplotlib.org/api/markers_api.html). To populate the legend we use the `label` argument. For example, the command\n",
    "\n",
    "```python\n",
    "plt.scatter(x='mass', y='beaklength', data=finches.query('species == \"cutthroat finch\"'), marker='s', label='Cutthroat finch')\n",
    "```\n",
    "\n",
    "will use a square symbol and add the entry `Cutthroat finch` to the legend. In addition, we also need to give the command \n",
    "\n",
    "```python\n",
    "plt.legend()\n",
    "```\n",
    "\n",
    "to tell matplotlib to print the legend in the figure.\n",
    "\n",
    "<div class=\"alert alert-danger\">\n",
    "Add a legend and make each species' symbol unique in your scatter plot above.\n",
    "</div>\n",
    "\n",
    "<div class=\"alert alert-danger\">\n",
    "As an additional excercise you might want to think about how to make this code more efficient by looping over a list of the species and only having one `plt.scatter()` command. **Hint** use `finches['species'].unique()`.\n",
    "</div>"
   ]
  },
  {
   "cell_type": "markdown",
   "metadata": {},
   "source": [
    "## Junior and Senior Honours marks\n",
    "\n",
    "![](./images/exam.jpeg)\n",
    "\n",
    "The file [honours_marks.csv](honours_marks.csv) contains the anonymised 3rd and 4th year marks of almost all Biological Science students awarded an Honours degree since academic year 2009/10. \n",
    "\n",
    "<div class=\"alert alert-danger\">\n",
    "\n",
    "Calculate the percentage of students who achieved a higher mark in their 4th year than in their 3rd year. (To check you've got the code correct, your answer should be 65.2%)\n",
    "\n",
    "<br>\n",
    "<br>\n",
    "Hints: First use query() to return a DataFrame of students whose 4th year marks are greater than their 3rd year marks. Then find the number of rows in this DataFrame (using len(), see Notebook 18) and divide it by the number of rows in the full DataFrame.\n",
    "</div>"
   ]
  },
  {
   "cell_type": "code",
   "execution_count": null,
   "metadata": {},
   "outputs": [],
   "source": []
  },
  {
   "cell_type": "markdown",
   "metadata": {},
   "source": [
    "## College student heights\n",
    "\n",
    "Recall from the last notebook the living histogram of US female college students with the data in the file ['college_students.csv'](college_students.csv).\n",
    "\n",
    "![](images/college_students.png)\n",
    "\n",
    "Remember that if data are normally distributed then 68% of the data lie within one standard deviation of the mean and 95% of the data lie within two standard deviations of the mean.\n",
    "\n",
    "We asked, are heights of college students normally distributed? To find out we did the following:\n",
    "1. Calculate the mean and standard deviation of the heights.\n",
    "2. From the data, find the proportion of students within one and two standard deviations of the mean.\n",
    "3. If those proportions are roughly 68% and 95% respectively, then the data are likely to be normally distributed. \n",
    "\n",
    "We used the pandas methods `.mean()` and `.std()` to find the mean and standard deviation of the heights and then physically counted the number of students in the picture. This is clearly inefficient. But now you have learnt how to do the counting programmatically using the `.query()` method.\n",
    "\n",
    "<div class=\"alert alert-danger\">\n",
    "\n",
    "* Using mean(), std(), query() and len(), (and without hard-coding numbers into query()) calculate the proportion of college students within one and two standard deviations of the mean height.\n",
    "* Hence determine if student heights are normally distributed.\n",
    "</div>\n",
    "<br>"
   ]
  },
  {
   "cell_type": "code",
   "execution_count": null,
   "metadata": {},
   "outputs": [],
   "source": []
  },
  {
   "cell_type": "markdown",
   "metadata": {},
   "source": [
    "### References\n",
    "\n",
    "Schluter D. (1988). The evolution of finch communities on islands and continents: Kenya vs. Galapagos. *Ecological Monographs* **58**:229-249."
   ]
  }
 ],
 "metadata": {
  "kernelspec": {
   "display_name": "Python [default]",
   "language": "python",
   "name": "python3"
  },
  "language_info": {
   "codemirror_mode": {
    "name": "ipython",
    "version": 3
   },
   "file_extension": ".py",
   "mimetype": "text/x-python",
   "name": "python",
   "nbconvert_exporter": "python",
   "pygments_lexer": "ipython3",
   "version": "3.5.5"
  }
 },
 "nbformat": 4,
 "nbformat_minor": 2
}
