{
 "cells": [
  {
   "cell_type": "markdown",
   "metadata": {},
   "source": [
    "## Learning outcomes for this notebook\n",
    "\n",
    "* Be able to create a frequency table of categorical data sorted by frequency or category in pandas and know which is appropriate for a particular dataset. \n",
    "* Be able to create bar graphs of categorical data using the seaborn data visulisation library.\n",
    "* Understand the advantages of bar graphs over pie charts."
   ]
  },
  {
   "cell_type": "markdown",
   "metadata": {},
   "source": [
    "## Categorical data of one variable\n",
    "\n",
    "### Introduction\n",
    "\n",
    "Categorical data of one variable are usually displayed either in a frequency table - in which the number of occurrences of each category is tabulated, or in a bar graph - in which the height of rectangular bars represent frequency or relative frequency of each category.\n",
    "\n",
    "We will use an example dataset on causes of human deaths by tigers to demonstrate these methods of presentation."
   ]
  },
  {
   "cell_type": "markdown",
   "metadata": {},
   "source": [
    "### Death by tiger\n",
    "\n",
    "Conflict between humans and tigers threatens tiger populations, kills people, and reduces public support for conservation. \n",
    "\n",
    "![](./images/02_ex_02-A_fmt.jpeg)\n",
    "\n",
    "Gurung *et al.* (2008) investigated causes of human deaths by tigers near the protected area of Chitwan National Park, Nepal. Eighty-eight people were killed by 36 individual tigers between 1979 and 2006, mainly within 1 km of the park edge. Table 1 lists the main activities of people at the time they were killed. Such information may be helpful to identify activities that increase vulnerability to attack.\n",
    "\n",
    "| Activity |\n",
    "| :--- |\n",
    "| Collecting grass or fodder for livestock |\n",
    "| Collecting non-timber forest products |\n",
    "| Fishing |\n",
    "| Herding livestock |\n",
    "| Disturbing tiger at its kill |\n",
    "| Collecting fuel wood or timber |\n",
    "| Sleeping in a house |\n",
    "| Walking in forest |\n",
    "| Using an outside toilet |\n",
    "\n",
    "<center><b>Table 1:</b> Activities of people at the time they were killed.</center>\n",
    "<br>\n",
    "\n",
    "The file containing the data on tiger deaths is called [`tiger_deaths.csv`](tiger_deaths.csv). \n",
    "\n",
    "<div class=\"alert alert-danger\">\n",
    "In the code cell below, read in the file `tiger_deaths.csv`, name it something appropriate and print it. Don't forget to import pandas and matplotlib.\n",
    "</div>"
   ]
  },
  {
   "cell_type": "code",
   "execution_count": null,
   "metadata": {
    "collapsed": true
   },
   "outputs": [],
   "source": []
  },
  {
   "cell_type": "markdown",
   "metadata": {},
   "source": [
    "### Examining the dataset\n",
    "\n",
    "There are three columns. The first column is an index. The second column is a unique number identifying the person killed, it contains no useful information and can be ignored. The third column contains all values of the variable called `'activity'`, the activity each person was doing when they were killed by a tiger. \n",
    "\n",
    "<div class=\"alert alert-danger\">\n",
    "What type of variable is `'activity'`? Is it categorical nominal or categorical ordinal? Write your answer below.\n",
    "</div>"
   ]
  },
  {
   "cell_type": "markdown",
   "metadata": {},
   "source": [
    "> Write your answer here."
   ]
  },
  {
   "cell_type": "markdown",
   "metadata": {},
   "source": [
    "### Counting categories\n",
    "\n",
    "This dataset comprises a single categorical variable called `'activity'`. The commonest thing to do with categorical variables is to count the number of occurrences (or frequency) of each category of this variable. We do this in pandas with the method `value_counts()` like so\n",
    "```python\n",
    "freq = DataFrame['variable'].value_counts()\n",
    "```\n",
    "<div class=\"alert alert-danger\">\n",
    "Do this in the cell below and print `freq`. Remember you can drop the brackets and quotes around the variable name if you prefer.\n",
    "</div>"
   ]
  },
  {
   "cell_type": "code",
   "execution_count": null,
   "metadata": {
    "collapsed": true
   },
   "outputs": [],
   "source": []
  },
  {
   "cell_type": "markdown",
   "metadata": {},
   "source": [
    "What we have done here is produce a **frequency table** of the main activities of people at the time they were killed. For example 44 people were killed while collecting grass or fodder for livestock.\n",
    "\n",
    "It is easy to confuse the terms \"categorical variable\" and \"categories\". In this data set we have one categorical variable called `'activity'`. There are nine categories, or values, that this variable can take: \"Grass/fodder\", \"Forest products\", \"Fishing\", etc.\n",
    "\n",
    "If we want the relative frequencies of categories (rather than the absolute frequencies we calculated just now) then we need to divide the frequencies by the total number of people killed. This transformation is often called *normalisation* in science. Pandas can do this for you if you include the argument `normalize=True` (note American spelling) like so\n",
    "\n",
    "```python\n",
    "rel_freq = DataFrame.variable.value_counts(normalize=True)\n",
    "```\n",
    "\n",
    "<div class=\"alert alert-danger\">\n",
    "Try this in the cell above to see the result. Don't forget to round the numbers to a more meaningful number of decimal places (see last notebook for how to do this).\n",
    "</div>\n",
    "\n",
    "When you printed `freq` above the output had two columns: the categories (i.e., the activities) and their corresponding frequencies. In a moment, when we graph the data, we will need to access these columns separately. A list of categories is returned by the command `freq.index` and the list of frequencies by the command `freq.values`. \n",
    "\n",
    "<div class=\"alert alert-danger\">\n",
    "Print `freq.index` and `freq.values` in the code cell below to see what they output. \n",
    "</div>"
   ]
  },
  {
   "cell_type": "code",
   "execution_count": null,
   "metadata": {
    "collapsed": true
   },
   "outputs": [],
   "source": []
  },
  {
   "cell_type": "markdown",
   "metadata": {},
   "source": [
    "Frequency tables are a clear and concise way of presenting data of a single categorical variable. Notice that when you printed the frequency table using `value_counts()`, the categories were automatically ranked by pandas in descending frequency. This makes it quick and easy for someone to compare across categories. If they were mixed up as shown in Table 2 below, then you have to do a lot more mental work to rank the categories. Remember to create tables and graphs so that your audience immediately sees any interesting patterns in your data. If your audience have to spend time trying to decipher poorly created graphs and tables you will annoy them and they may not understand what you are presenting. **(It's worth remembering that your audience includes the professors that will mark your work during your time at uni. In particular for this course, you will lose marks if your tables and graphs are poorly annotated and constructed.)**\n",
    "\n",
    "Activity | Number of people\n",
    ":--- | :---:\n",
    "Fuelwood/timber | 5\n",
    "Walking | 3\n",
    "Disturbing tiger kill | 5\n",
    "Sleeping in house | 3\n",
    "Forest products | 11\n",
    "Herding | 7\n",
    "Toilet | 2\n",
    "Fishing | 8\n",
    "Grass/fodder | 44\n",
    "\n",
    "<center><b>Table 2:</b> A poorly designed table because categories are not ranked in descending order</center>\n",
    "\n",
    "Having said that, when the categories are ordinal, i.e., they have an inherent order (e.g., \"low\", \"medium\", \"high\"), then ordering on the categories, rather than the frequencies, is preferred. We will look at an example of this later on.\n",
    "\n"
   ]
  },
  {
   "cell_type": "markdown",
   "metadata": {},
   "source": [
    "### Plotting frequencies\n",
    "\n",
    "<div class=\"alert alert-info\">\n",
    "\n",
    "**Seaborn: data visualisation library**<br>\n",
    "\n",
    "Matplotlib is a general purpose plotting library. The advantage of this is that it can plot any type of graph you may wish. A disadvantage is that producing specific types of graphs requires a lot of tinkering and in-depth knowledge of matplotlib's internal functions; two things that is beyond the scope of this course. \n",
    "\n",
    "For this reason it is some times better to use a plotting library that is designed specifically for visualisation. A popular library is called Seaborn. Seaborn provides simple data visualisation tools of datasets. The official website is http://seaborn.pydata.org. \n",
    "\n",
    "To use seaborn we include the following code\n",
    "```python\n",
    "%matplotlib inline\n",
    "import matplotlib.pyplot as plt\n",
    "import seaborn as sns\n",
    "```\n",
    "which imports seaborn and creates the shortcut name sns. We also import matplotlib so that we can access some of its functions to annotate graphs.\n",
    "</div>\n",
    "<br>"
   ]
  },
  {
   "cell_type": "markdown",
   "metadata": {},
   "source": [
    "The frequencies of the categories of a single categorical variable can be displayed in a bar graph. We can use the seaborn function `countplot()` to produce bar graphs like so\n",
    "\n",
    "```python\n",
    "sns.countplot(DataFrame.variable);\n",
    "```\n",
    "\n",
    "or equivalently\n",
    "\n",
    "```python\n",
    "sns.countplot('variable', data=DataFrame);\n",
    "```\n",
    "\n",
    "Categories are plotted on the $x$-axis and frequencies on the $y$-axis. \n",
    "<div class=\"alert alert-danger\">\n",
    "Create a bar graph of the frequencies of activities of people at the time they were killed.\n",
    "</div>"
   ]
  },
  {
   "cell_type": "code",
   "execution_count": null,
   "metadata": {
    "collapsed": true
   },
   "outputs": [],
   "source": []
  },
  {
   "cell_type": "markdown",
   "metadata": {},
   "source": [
    "Seaborn's default layout has done its best with our data but it's not perfect. So we do have to tweak it a bit. There are five things wrong with this graph, can you spot them? Write your answer below."
   ]
  },
  {
   "cell_type": "markdown",
   "metadata": {},
   "source": [
    ">Write your answer here."
   ]
  },
  {
   "cell_type": "markdown",
   "metadata": {},
   "source": [
    "<font color=\"white\">\n",
    "\n",
    "1. The categories are ordered alphabetically rather than in descending frequency.\n",
    "2. The tick labels on the x-axis run into one another.\n",
    "3. The label on the y-axis could be more informative.\n",
    "4. There is no need to have a different colour for each bar. It's pretty but unnecessary.\n",
    "5. It doesn't have a title.\n",
    "</font>\n",
    "\n",
    "There's some hidden text just above this sentence. Select it with the mouse to reveal it.\n",
    "* We can tell seaborn the order in which we want the categories plotted by including the `order` argument. The descending order categories are contained in `freq.index` (which we found above), so the command to use is \n",
    "```python\n",
    "sns.countplot(DataFrame.variable, order=freq.index)\n",
    "```\n",
    "* Tick labels can be rotated with the command\n",
    "```python\n",
    "plt.xticks(rotation=90, ha='right')\n",
    "```\n",
    "You may want to try different rotation angles to find one that looks best.\n",
    "* Axes labels can be changed with the command\n",
    "```python\n",
    "plt.ylabel('Number of people')\n",
    "```\n",
    "* Bar colours can be changed by including the `facecolor` argument in `sns.countplot()`. For example, to make the bars light blue use `facecolor='Lightblue'`. Other colour names can be found [here](http://htmlcolorcodes.com/color-names).\n",
    "* Titles can be added with the command\n",
    "```python\n",
    "plt.title('title text')\n",
    "```\n",
    "<div class=\"alert alert-danger\">\n",
    "Make these five changes to the graph in the code cell below to make it cleaner and \n",
    "clearer.\n",
    "</div>"
   ]
  },
  {
   "cell_type": "code",
   "execution_count": null,
   "metadata": {
    "collapsed": true
   },
   "outputs": [],
   "source": []
  },
  {
   "cell_type": "markdown",
   "metadata": {},
   "source": [
    "A bar graph is useful for immediately visualising the relative frequencies of categories. So you immediately notice that collecting grass and fodder for livestock is by far the most risky activity. The other activities are far less risky and have similar levels of risks. However, the bar graph loses information compared to a frequency table as it is not easy to see the numerical frequencies. Generally an ordered table is more informative (i.e., contains more information) than a bar graph."
   ]
  },
  {
   "cell_type": "markdown",
   "metadata": {},
   "source": [
    "### A principle of good table and graph design\n",
    "\n",
    "A key principle of good table and graph design is to represent the most amount of information with the least amount of ink. Following this principle creates clear and concise tables and graphs that are readily interpreted by your audience.\n",
    "\n",
    "In addition, up to a tenth of your male audience is red-green colour blind. So colour choice needs some thought. Websites, such as this [one,](http://jfly.iam.u-tokyo.ac.jp/color/index.html) can help in choosing colour palettes for all of your audience.\n",
    "\n",
    "The bar graph above uses a lot of ink just to display a single number representing frequency. Less ink could be used by making the bars white and just drawing their outline. This can be accomplished by setting `facecolor='w'` (`w`=white) and `edgecolor='k'` (`k`=black). **Try this in this code cell above.**"
   ]
  },
  {
   "cell_type": "markdown",
   "metadata": {},
   "source": [
    "### Never use pie charts!\n",
    "\n",
    "The pie chart is another type of graph often used to display frequencies of a categorical variable. This method uses coloured wedges around the circumference of a circle to represent frequency or relative frequency.\n",
    "\n",
    "<div class=\"alert alert-danger\">\n",
    "Run the code cell below to produce a pie chart of activities.\n",
    "</div>"
   ]
  },
  {
   "cell_type": "code",
   "execution_count": null,
   "metadata": {
    "collapsed": true
   },
   "outputs": [],
   "source": [
    "freq.plot.pie(figsize=(6, 6));"
   ]
  },
  {
   "cell_type": "markdown",
   "metadata": {},
   "source": [
    "The pie chart has received a lot of criticism from experts in information graphics. One reason is that while it is straightforward to visualise the frequency of deaths in the first and most frequent category (Collecting grass/fodder), it is more difficult to compare frequencies in the remaining categories by eye. This problem worsens as the number of categories increases. Another reason is that it is very difficult to compare frequencies between two or more pie charts side by side, especially when there are many categories. To compensate, pie charts are often drawn with the frequencies added as text around the circle perimeter. The result is not better than a table. The shape of a frequency distribution is more readily perceived in a bar graph than a pie chart, and it is easier to compare frequencies between two or more bar graphs than between pie charts. Use the bar graph instead of the pie chart for showing frequencies in categorical data."
   ]
  },
  {
   "cell_type": "markdown",
   "metadata": {},
   "source": [
    "### Rigor mortis\n",
    "\n",
    "![](./images/rigor.jpg)\n",
    "\n",
    "Niderkorn's (1872) measurements on 144 human corpses provided the first quantitative study on the development of rigor mortis. The data, contained in the file [`rigor.csv`](rigor.csv), gives the number of bodies achieving rigor mortis in each hour after death, recorded in one-hour intervals.\n",
    "\n",
    "<div class=\"alert alert-danger\">\n",
    "\n",
    "1. Read the data in from the file `rigor.csv`.\n",
    "2. Examine the dataset by printing it out.\n",
    "2. Construct a frequency table. The categorical variable in this dataset is `'Hour'` which is ordinal; it has an inherent order (i.e., 1 hour after death, 2 hours after death, etc.).\n",
    "</div>\n",
    "<br>"
   ]
  },
  {
   "cell_type": "code",
   "execution_count": null,
   "metadata": {
    "collapsed": true
   },
   "outputs": [],
   "source": []
  },
  {
   "cell_type": "markdown",
   "metadata": {},
   "source": [
    "You will notice that most bodies achieved rigor mortis during the fourth hour. But presenting the data ordered by descending frequency is not that useful here. It would make more sense to order by hour so that we can see the distribution of times when rigor mortis is achieved. To prevent sorting the categories by descending frequency use `value_counts(sort=False)`.\n",
    "\n",
    "<div class=\"alert alert-danger\">\n",
    "\n",
    "1. Try this in the code cell above.\n",
    "2. Construct a clearly labelled bar graph ordered by hour.\n",
    "</div>\n",
    "<br>"
   ]
  },
  {
   "cell_type": "markdown",
   "metadata": {},
   "source": [
    "### Days of birth\n",
    "\n",
    "The U.S. National Center for Health Statistics records information on each new baby born, such as time and date of birth, weight, and sex (Ventura *et al.* 2001). One bit of information available from these data is the day of the week on which each baby was born. We might expect that babies should be born at the same frequency on all seven days of the week. But is this true? A random sample of 350 births from 1999 are contained in file [`days_of_birth.csv'](days_of_birth.csv)\n",
    "\n",
    "<div class=\"alert alert-danger\">\n",
    "\n",
    "1. Read the data in from the file `days_of_birth.csv`.\n",
    "2. Examine the dataset by printing it out.\n",
    "2. Construct a frequency table.\n",
    "3. Construct a clearly labelled bar graph.\n",
    "</div>\n",
    "<br>"
   ]
  },
  {
   "cell_type": "code",
   "execution_count": null,
   "metadata": {
    "collapsed": true
   },
   "outputs": [],
   "source": []
  },
  {
   "cell_type": "markdown",
   "metadata": {},
   "source": [
    "Can you think of a reason why there are so few births on Sunday compared to other days?"
   ]
  },
  {
   "cell_type": "markdown",
   "metadata": {},
   "source": [
    ">Write your answer here."
   ]
  },
  {
   "cell_type": "markdown",
   "metadata": {},
   "source": [
    "### References\n",
    "\n",
    "Gurung, B., *et al.* (2008). Factors associaed with human-killing tigers in Chitwan National Park, Nepal. *Biol. Conserv.* **141**:3069-3078.\n",
    "\n",
    "Niderkorn (1872). Archived [here](https://web.archive.org/web/20000818091313/http://www.dundee.ac.uk/forensicmedicine/llb/timedeath.htm)\n",
    "\n",
    "Ventura, S. J., *et al.* (2001). Births: final data for 1999. *Nat. Vital Stats. Rep.* **49**(1)."
   ]
  }
 ],
 "metadata": {
  "kernelspec": {
   "display_name": "Python [default]",
   "language": "python",
   "name": "python3"
  },
  "language_info": {
   "codemirror_mode": {
    "name": "ipython",
    "version": 3
   },
   "file_extension": ".py",
   "mimetype": "text/x-python",
   "name": "python",
   "nbconvert_exporter": "python",
   "pygments_lexer": "ipython3",
   "version": "3.5.5"
  }
 },
 "nbformat": 4,
 "nbformat_minor": 2
}
