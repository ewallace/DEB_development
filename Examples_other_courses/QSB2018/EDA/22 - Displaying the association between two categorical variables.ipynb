{
 "cells": [
  {
   "cell_type": "markdown",
   "metadata": {},
   "source": [
    "## Learning outcomes for this notebook\n",
    "\n",
    "* Be able to produce a contingency table and interpret what it means.\n",
    "* Be able to create a clearly labelled grouped bar chart and interpret it."
   ]
  },
  {
   "cell_type": "markdown",
   "metadata": {},
   "source": [
    "## Displaying the association between two categorial variables\n",
    "\n",
    "### Introduction\n",
    "\n",
    "Here we show how to display data for two categorical variables simultaneously. The goal is to create an image that visualizes association or correlation between two variables.\n",
    "\n",
    "If two categorical variables are associated, the relative frequencies for one variable will differ among categories of the other variable. To reveal an association, we show the frequencies using a contingency table, or a grouped bar graph."
   ]
  },
  {
   "cell_type": "markdown",
   "metadata": {},
   "source": [
    "### Avian malaria and reproduction\n",
    "\n",
    "Is reproduction hazardous to health? If not, then it is difficult to explain why adults in many organisms seem to hold back on the number of offspring they raise. Oppliger *et al.* (1996) investigated the impact of reproductive effort on the susceptibility to malaria in wild great tits (*Parus major*) breeding in nest boxes. \n",
    "\n",
    "![](images/02_ex_03-A_fmt.jpeg)\n",
    "\n",
    "They divided 65 nesting females into two treatment groups. In one group of 30 females, each bird had two eggs stolen from her nest, causing the female to lay an additional egg. The extra effort required might increase stress on these females. The remaining 35 females were left alone, establishing the control group. A blood sample was taken from each female 14 days after her eggs hatched to test for infection by avian malaria. The dataset is contained in the file [`avian_malaria.csv`](avian_malaria.csv).\n",
    "\n",
    "<div class=\"alert alert-danger\">\n",
    "In the code cell below, read in the dataset from the file `avian_malaria.csv` and print it to see the variable names and how the data is structured. \n",
    "</div>"
   ]
  },
  {
   "cell_type": "code",
   "execution_count": null,
   "metadata": {
    "collapsed": true
   },
   "outputs": [],
   "source": []
  },
  {
   "cell_type": "markdown",
   "metadata": {},
   "source": [
    "In this dataset each row is an individual bird. Notice now that we have four columns. The index starting from 0, the bird identification number (`Bird id`) which can be ignored, and the categorical variables `'treatment'` and `'infection'`."
   ]
  },
  {
   "cell_type": "markdown",
   "metadata": {},
   "source": [
    "### Displaying the data in a contingency table\n",
    "\n",
    "The most common way of displaying the association between two categorical variables is with a contingency table. Pandas can create contingency tables for you using the `pd.crosstab()` function like so\n",
    "\n",
    "```python\n",
    "print(pd.crosstab(DataFrame['explanatory variable'], DataFrame['response variable']))\n",
    "```\n",
    "\n",
    "This prints a contingency table with the explanatory variable categories as rows and the response variable categories as columns.\n",
    "<div class=\"alert alert-danger\">\n",
    "Print a contingency table for the avian malaria dataset.\n",
    "</div>"
   ]
  },
  {
   "cell_type": "code",
   "execution_count": null,
   "metadata": {
    "collapsed": true
   },
   "outputs": [],
   "source": []
  },
  {
   "cell_type": "markdown",
   "metadata": {},
   "source": [
    "Take some time to understand what this table means. \n",
    "\n",
    "The columns represent whether malaria infection was discovered or not. The rows represent the treatment groups, either \"Control group\" or \"Egg-removal group\". In the control group, 7 birds had malaria and 28 did not. In the egg-removal group, 15 birds had malaria and 15 did not. \n",
    "\n",
    "This is called a 2x2 contingency table because both variables have two categories each. If, for example, a dataset had one variable with two categories and another variable with three categories, the contingency table would be 2x3. \n",
    "\n",
    "Contingency tables usually come with column and row totals. This can be displayed using the `margins=True` argument in pd.crosstab().\n",
    "<div class=\"alert alert-danger\">\n",
    "Add `margins=True` to your call to pd.crosstab() in the code cell above and satisfy yourself that the totals are correct. \n",
    "</div>\n",
    "\n",
    "<div class=\"alert alert-danger\">\n",
    "Given the contingency table would you say there is an impact of reproductive effort on the susceptibility to malaria in wild great tits? Give your answer below and explain your reasoning.\n",
    "</div>"
   ]
  },
  {
   "cell_type": "markdown",
   "metadata": {},
   "source": [
    ">Write your answer here."
   ]
  },
  {
   "cell_type": "markdown",
   "metadata": {},
   "source": [
    "### Displaying two categorical variables in a graph\n",
    "\n",
    "A contingency table is usually sufficient for displaying the association between two categorical variables. However, association can also be displayed graphically.\n",
    "\n",
    "For a single categorical variable we created a bar graph with the seaborn function `sns.countplot()` to display the data. We do the same when we have two categorical variables, except now we need to include both variables. This is done as follows:\n",
    "```python\n",
    "sns.countplot(x=DataFrame['explanatory variable'], hue=DataFrame['response variable'])\n",
    "```\n",
    "or\n",
    "```python\n",
    "sns.countplot(x='explanatory variable', hue='response variable', data=DataFrame)\n",
    "```\n",
    "\n",
    "This is also known as a *grouped bar graph*. \n",
    "\n",
    "<div class=\"alert alert-danger\">\n",
    "Create a clearly labelled grouped bar graph of malaria infection. (Don't forget to import seaborn and matplotlib.)\n",
    "</div>"
   ]
  },
  {
   "cell_type": "code",
   "execution_count": null,
   "metadata": {
    "collapsed": true
   },
   "outputs": [],
   "source": []
  },
  {
   "cell_type": "markdown",
   "metadata": {},
   "source": [
    "The categories of the variable specified by the `hue` argument of `countplot()` are given different colours and are indicated in a legend.\n",
    "\n",
    "In terms of graph design, it is better to keep the bars filled with colour so that it is easy to compare frequencies of the response variable `'infection'` between the two treatment groups."
   ]
  },
  {
   "cell_type": "markdown",
   "metadata": {},
   "source": [
    "### Trematode infection in fish\n",
    "\n",
    "Many parasites have more than one species of host, so the individual parasite must get from one host to another to complete its life cycle. Trematodes of the species *Euhaplorchis californiensis* use three hosts during their life cycle. \n",
    "![](images/euhaplorchis_californiensis.jpg)\n",
    "\n",
    "Worms mature in birds and lay eggs that pass out of the bird in its faeces. The horn snail *Cerithidea californica* eats these eggs, which hatch and grow to another life stage in the snail, sterilising the snail in the process. When an infected snail is eaten by the California killifish *Fundulus parvipinnis*, the parasite develops to the next life stage and encysts in the fish’s braincase. Finally, when the killifish is eaten by a bird, the worm becomes a mature adult and starts the cycle again. Researchers have observed that infected fish spend excessive time near the water surface, where they may be more vulnerable to bird predation. This would certainly be to the worm’s advantage, as it would increase its chances of being ingested by a bird, its next host. Lafferty and Morris (1996) tested the hypothesis that infection influences risk of predation by birds. A large outdoor tank was stocked with three kinds of killifish: unparasitized, lightly infected, and heavily infected. This tank was left open to foraging by birds, especially great egrets, great blue herons, and snowy egrets. The file [`trematodes.csv`](trematodes.csv) lists each fish, its infection level and whether it was eaten or not.\n",
    "\n",
    "<div class=\"alert alert-danger\">\n",
    "\n",
    "1. Read the data in from the file `trematodes.csv`. \n",
    "2. What are the names of the categorical variables? (Use the markdown cell below for your answers.)\n",
    "3. What are the categories of the categorical variables?\n",
    "4. Construct a contingency table. \n",
    "5. Create a clearly labelled grouped bar graph.\n",
    "6. Does this data support Lafferty and Morris's hypothesis that infection influences risk of predation by birds? Explain your answer.\n",
    "</div>\n",
    "<br>"
   ]
  },
  {
   "cell_type": "markdown",
   "metadata": {},
   "source": [
    ">Write your answers here."
   ]
  },
  {
   "cell_type": "code",
   "execution_count": null,
   "metadata": {
    "collapsed": true
   },
   "outputs": [],
   "source": []
  },
  {
   "cell_type": "markdown",
   "metadata": {},
   "source": [
    "In the above two examples, there were similar numbers of individuals in each treatment group (see Table 1).\n",
    "\n",
    "Dataset | Numbers in each treatment group\n",
    ":--- | ---:\n",
    "Bird malaria| 35 (control), 30 (egg removal)\n",
    "Trematodes | 50 (uninfected), 45 (lightly infected), 46 (highly infected)\n",
    "\n",
    "<center><b>Table 1:</b> Number of individuals in each treatment group in the last two examples.</center>\n",
    "\n",
    "When this is the case the contingency table makes it easy to see if there is an association between the explanatory variable (treatments) and the response variable.\n",
    "\n",
    "When the numbers of individuals in each treatment group are not similar the contingency table needs to be modified to help reveal an association. This is explored in the next example. "
   ]
  },
  {
   "cell_type": "markdown",
   "metadata": {},
   "source": [
    "### Schizophrenia and famine\n",
    "\n",
    "Can environmental factors influence the incidence of schizophrenia? St. Claire *et al.* (2005) measured the incidence of the disease among children born in a region of eastern China during a severe famine in 1960, before the famine in 1956, and after the famine in 1965. The data can be found in the file [`schizophrenia.csv`](schizophrenia.csv).\n",
    "\n",
    "<div class=\"alert alert-danger\">\n",
    "\n",
    "1. Read the data in from the file `schizophrenia.csv`. \n",
    "2. What are the names of the categorical variables?  (Use the markdown cell below for your answers.)\n",
    "3. What are the categories of the categorical variables?\n",
    "4. Construct a contingency table. \n",
    "5. Based on this contingency table is there an association between the three time periods and the incidence of schizophrenia?\n",
    "</div><br>"
   ]
  },
  {
   "cell_type": "markdown",
   "metadata": {},
   "source": [
    ">Write your answers here."
   ]
  },
  {
   "cell_type": "code",
   "execution_count": null,
   "metadata": {
    "collapsed": true
   },
   "outputs": [],
   "source": []
  },
  {
   "cell_type": "markdown",
   "metadata": {},
   "source": [
    "You might find it difficult to see whether there is an association based on just the frequencies. That's because of the large variation in  number of individuals in each category of the explanatory variable, `'timePeriod'`, which varies from 13,748 during the famine, to 83,536 after the famine. What we want to do is compare the relative frequencies across time periods. To do this we include the argument `normalize='index'` in `pd.crosstab()`. This makes the relative frequencies in each row sum to 1 and comparison across explanatory variables easier. You may also want to use `.round()` (see notebook 19) to round the relative frequencies to a more readable number of decimal places.\n",
    "\n",
    "<div class=\"alert alert-danger\">\n",
    "\n",
    "* Normalise and round the frequenices in each time period. \n",
    "* Is there is an association between the two variables?\n",
    "</div>\n",
    "<br>"
   ]
  },
  {
   "cell_type": "markdown",
   "metadata": {},
   "source": [
    ">Write your answer here."
   ]
  },
  {
   "cell_type": "markdown",
   "metadata": {},
   "source": [
    "### References\n",
    "\n",
    "Oppliger, A. *et al.* (1996). Clutch size and malaria resistance. *Nature* **381**:565.\n",
    "\n",
    "Lafferty, K. D. and Morris, A. K. (1996). Altered behavior of parasitized killifish increases susceptibility to predation by bird final hosts. *Ecology* **77**:1390-1397.\n",
    "\n",
    "St. Clair, D., *et al.* (2005). Rates of adult schizophrenia following prenatal exposure to the Chinese famine of 1959-1961. *J. Am. Med. Ass.* **294**:557-562."
   ]
  }
 ],
 "metadata": {
  "kernelspec": {
   "display_name": "Python [default]",
   "language": "python",
   "name": "python3"
  },
  "language_info": {
   "codemirror_mode": {
    "name": "ipython",
    "version": 3
   },
   "file_extension": ".py",
   "mimetype": "text/x-python",
   "name": "python",
   "nbconvert_exporter": "python",
   "pygments_lexer": "ipython3",
   "version": "3.5.5"
  }
 },
 "nbformat": 4,
 "nbformat_minor": 2
}
