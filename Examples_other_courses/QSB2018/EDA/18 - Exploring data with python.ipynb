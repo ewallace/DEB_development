{
 "cells": [
  {
   "cell_type": "markdown",
   "metadata": {},
   "source": [
    "## Learning outcomes for this notebook\n",
    "\n",
    "* How to import pandas and matplotlib to do data analysis and plotting in Python.\n",
    "* How to read in a dataset stored in a CSV file using pandas and print it out to examine it.\n",
    "* How to plot a histogram using the matplotlib Python library\n",
    "* How to add annotation to a matplotlib graph (i.e., axis labels, titles)\n",
    "* Learn about unimodal and bimodal distributions\n",
    "* Appreciate the importance of presenting units in tables and graphs"
   ]
  },
  {
   "cell_type": "markdown",
   "metadata": {},
   "source": [
    "## Displaying data\n",
    "\n",
    "The human eye is a natural pattern detector, adept at spotting trends and exceptions in visual displays. For this reason, biologists spend hours creating and examining visual summaries of their data - graphs and, to a lesser extent, tables. Effective graphs enable visual comparisons of measurements between groups, and they expose relationships between different variables. They are also the principal means of communicating results to a wider audience.\n",
    "\n",
    "Florence Nightingale (1858) was one of the ﬁrst persons to put graphs to good use. \n",
    "![](images/night.jpg)\n",
    "In her famous wedge diagrams, redrawn in the ﬁgure above, she visualised the causes of death of British troops during the Crimean War. The number of cases is indicated by the area of a wedge, and the cause of death by colour. The diagrams showed convincingly that disease was the main cause of soldier deaths during the wars, not wounds or other causes. With these vivid graphs, she successfully campaigned for military and public health measures that saved many lives.\n",
    "\n",
    "Effective graphs are a prerequisite for good data analysis, revealing general patterns in the data that bare numbers cannot. Therefore, the first step in any data analysis is to graph the data and look at it. Humans are a visual species, with brains evolved to process visual information. Take advantage of millions of years of evolution, and look at visual representations of your data before doing anything else.\n",
    "\n",
    "Graphs are vital tools for analysing data. They are also used to communicate patterns in data to a wider audience in the form of reports, slide shows, and web content. The two purposes, analysis and presentation, are largely coincident because the most revealing displays will be the best both for identifying patterns in the data and for communicating these patterns to others. Both purposes require displays that are clear, honest, and efficient.\n",
    "\n",
    "Over the next few notebooks we will look at how different types of datasets are commonly displayed in tables and graphs. The types of datasets we will look at are:\n",
    "* A single numerical variable\n",
    "* A single categorical variable\n",
    "* Two numerical variables\n",
    "* Two categorical variables\n",
    "* A categorical variable and a numerical variable\n",
    "* A categorical variable and two numerical variables\n",
    "* Two categorical variables and a numerical variable\n",
    "\n",
    "But before we do that we need to discuss data analysis software."
   ]
  },
  {
   "cell_type": "markdown",
   "metadata": {},
   "source": [
    "## Plotting and analysing data in Python\n",
    "\n",
    "The are many software tools and packages for plotting and analysing data. You've probably come across Microsoft excel - a favourite of biologists, \"R\" is another commonly used package and also free to download. All have their pros and cons, and for basic analysis and plotting it doesn't really matter which one you use. But in this course, because we have already been learning Python, it seems sensible to carry on using Python to do data analysis. \n",
    "\n",
    "Python, however, doesn't do data analysis and plotting. We have to import modules into Python to help us do these things.\n",
    "\n",
    "The main aims of this notebook are:\n",
    "1. To introduce you to **pandas**, a python module designed for performing data analysis\n",
    "2. To show you how to set up Jupyter notebooks for plotting graphs in Python using the module **matplotlib**\n",
    "\n",
    "We'll use a simple dataset of body masses of Alaskan sockeye salmon to demonstrate these two aims. "
   ]
  },
  {
   "cell_type": "markdown",
   "metadata": {},
   "source": [
    "## Body mass of Alaskan sockeye salmon\n",
    "\n",
    "![](images/salmon.jpg)\n",
    "\n",
    "\n",
    "In the CSV file [`alaskan_salmon.csv`](alaskan_salmon.csv) are the body masses (in kg) of 228 female sockeye salmon sampled from Pick Creek in Alaska (Hendry *et al.* 1999).\n",
    "\n",
    "If you click on the link to this file you can download it and examine it in an excel spreadsheet.\n",
    "\n",
    "The first few lines of `alaskan_salmon.csv` look like this:\n",
    "```csv\n",
    "mass\n",
    "3.09\n",
    "2.91\n",
    "3.06\n",
    "2.69\n",
    "... and so on\n",
    "```\n",
    "\n",
    "The first line is called a header and contains the name of the variable. In this case the variable is called `'mass'`. Each line thereafter contains the mass (in kg) of an individual salmon."
   ]
  },
  {
   "cell_type": "markdown",
   "metadata": {},
   "source": [
    "<div class=\"alert alert-info\">\n",
    "\n",
    "**Pandas: data analysis library**<br>\n",
    "\n",
    "In this course we are going to use a python package specifically designed for data analysis called pandas. Pandas provides lots of functions for reading in, analysing, manipulating and describing data. The official pandas website is http://pandas.pydata.org. This website provides a lot more information on the use of this library than can be covered in these workshops. \n",
    "\n",
    "To use pandas we must include the following code once in each notebook.\n",
    "\n",
    "```python\n",
    "import pandas as pd\n",
    "```\n",
    "\n",
    "This imports the pandas library and gives it the shorthand name `pd`.\n",
    "</div>\n",
    "<br>"
   ]
  },
  {
   "cell_type": "markdown",
   "metadata": {},
   "source": [
    "### Reading a dataset from file\n",
    "\n",
    "In an earlier Python workshop you learnt how to open and read a CSV file line by line using Python commands. Now we are going to use pandas to read the file, and that makes life a lot simpler as pandas automatically parses the data into a useable format for us in a single line of code.\n",
    "\n",
    "To read in the Alaskan salmon file and to call the dataset something sensible we use the pandas method `pd.read_csv('filename.csv')` like so:\n",
    "\n",
    "```python\n",
    "salmon_masses = pd.read_csv('alaskan_salmon.csv')\n",
    "```\n",
    "<div class=\"alert alert-danger\">\n",
    "\n",
    "In the code cell below:\n",
    "* import pandas\n",
    "* read in the dataset from the file `alaskan_salmon.csv` and call the dataset `salmon_masses`\n",
    "</div>\n",
    "<br>"
   ]
  },
  {
   "cell_type": "code",
   "execution_count": null,
   "metadata": {
    "collapsed": true
   },
   "outputs": [],
   "source": []
  },
  {
   "cell_type": "markdown",
   "metadata": {},
   "source": [
    "### Examining the dataset\n",
    "\n",
    "`salmon_masses` is a Python variable of type **DataFrame**; in the same sense that the Python variable `a = 7` is an **integer**, `b = 'Hello, World'` is a **string** and `c = [1, 2, 3]` is a **list**. If you think of a DataFrame as a table containing data with each column representing a measureable variable you can't go wrong.\n",
    "\n",
    "In this case `salmon_masses` is a DataFrame with one column called `mass` containing the masses of 228 Alaskan salmon.\n",
    "\n",
    "Having read in a dataset it's always a good idea to have a look at it to see how it is structured. To print the DataFrame type \n",
    "\n",
    "```python\n",
    "print(salmon_masses)\n",
    "```\n",
    "\n",
    "or to pretty-print it just type\n",
    "\n",
    "```python\n",
    "salmon_masses\n",
    "```\n",
    "\n",
    "<div class=\"alert alert-danger\">\n",
    "Try these in the above code cell\n",
    "</div>\n",
    "\n",
    "There are two columns. The first column is an index, or row number, for each salmon. Recall that Python indices start from 0 and not from 1. The second column contains the masses of individual salmon.\n",
    "\n",
    "As this is a very long DataFrame, pandas has only printed the first and last 30 values; the middle values (from index 30 to index 197) have been omitted. \n",
    "\n",
    "Also notice that the shape of the DataFrame has been printed at the bottom, in this case 228 rows and 1 column (the index column is ignored).\n",
    "\n",
    "If you wanted to print just the first 10 lines, say, use the head() method like so\n",
    "\n",
    "```python\n",
    "print(salmon_masses.head(10))\n",
    "``` \n",
    "\n",
    "or the last 7 lines, say, use the tail() method like so\n",
    "\n",
    "```python\n",
    "print(salmon_masses.tail(7))\n",
    "``` \n",
    "\n",
    "<div class=\"alert alert-danger\">\n",
    "Try these in the above code cell.\n",
    "</div>\n",
    "\n",
    "To print the shape of the DataFrame only (i.e., the number of rows and columns) use\n",
    "\n",
    "```python\n",
    "print(salmon_masses.shape)\n",
    "```\n",
    "\n",
    "In addition \n",
    "\n",
    "```python\n",
    "print(len(salmon_masses))\n",
    "```\n",
    "\n",
    "prints just the number of rows\n",
    "\n",
    "If you want to print a list of the variable names (i.e., column headers) you can use the method\n",
    "\n",
    "```python\n",
    "print(salmon_masses.columns.values)\n",
    "```\n",
    "<div class=\"alert alert-danger\">\n",
    "Try all of these in the above code cell to see how they work.\n",
    "</div>"
   ]
  },
  {
   "cell_type": "markdown",
   "metadata": {},
   "source": [
    "### Plotting variables\n",
    "\n",
    "<div class=\"alert alert-info\">\n",
    "\n",
    "**Matplotlib library**<br>\n",
    "The Python programming language itself does not have functions for plotting graphs. We have to use an additional library to do this. Matplotlib is a popular Python library for plotting graphs. The official matplotlib website is http://matplotlib.org, which has a gallery of possible graph types. <br><br>\n",
    "\n",
    "\n",
    "To use matplotlib we must include the following code once in each notebook.\n",
    "\n",
    "```python\n",
    "%matplotlib inline\n",
    "import matplotlib.pyplot as plt\n",
    "```\n",
    "\n",
    "The line `%matplotlib inline` allows us to display matplotlib-generated graphs within jupyter notebooks. The line `import matplotlib.pyplot as plt` loads the matplotlib library so we can use its plotting functions. In addition we rename the library `plt` for convenience (otherwise we have to keep writing `matplotlib.pyplot` every time we wanted to plot or change something in the graph). \n",
    "</div>\n",
    "<br>\n",
    "\n",
    "To plot a histogram of Alaskan salmon masses we could use either \n",
    "\n",
    "```python\n",
    "plt.hist(salmon_masses['mass'])\n",
    "```\n",
    "\n",
    "or equivalently\n",
    "\n",
    "```python\n",
    "plt.hist('mass', data=salmon_masses)\n",
    "```\n",
    "\n",
    "The second of these methods of plotting looks a bit long winded compared the the first method. But as we will see in later notebooks when we are plotting several variables simultaneously, the second method is more compact.\n",
    "\n",
    "<div class=\"alert alert-danger\">\n",
    "\n",
    "In the code cell below:\n",
    "* Import the matplotlib library and include `%matplotlib inline`.\n",
    "* Plot a histogram of Alaskan salmon masses\n",
    "</div>\n",
    "<br>"
   ]
  },
  {
   "cell_type": "code",
   "execution_count": null,
   "metadata": {
    "collapsed": true
   },
   "outputs": [],
   "source": []
  },
  {
   "cell_type": "markdown",
   "metadata": {},
   "source": [
    "Notice that this histogram shows two distinct peaks. Such a distribution is described as **bimodal**, as in having two modes (peaks). In contrast, a distribution that has just one peak is called **unimodal**.\n",
    "\n",
    "<div class=\"alert alert-danger\">\n",
    "\n",
    "Can you think of a reason why these salmon have a bimodal distribution in mass, and why the peak at 3kg is lower than the peak at 1.75kg? Write your answer below.\n",
    "</div>"
   ]
  },
  {
   "cell_type": "markdown",
   "metadata": {},
   "source": [
    "> Write your answer here"
   ]
  },
  {
   "cell_type": "markdown",
   "metadata": {},
   "source": [
    "<div class=\"alert alert-info\">\n",
    "\n",
    "**Notes**<br>\n",
    "If you place a semicolon at the end of the last plotting command in a code cell like so:\n",
    "```python\n",
    "plt.hist(salmon_masses['mass']);\n",
    "```\n",
    "the printing of the arrays of numbers is suppressed making the output cleaner.\n",
    "<br><br>\n",
    "\n",
    "If the name of a variable contains no space characters, pandas allows you to dispense with the square brackets and quotation marks. For example\n",
    "```python\n",
    "plt.hist(salmon_masses.mass);\n",
    "```\n",
    "will plot a histogram of salmon masses. \n",
    "\n",
    "If, for example, your variable was called \"leg length\" then you would need to use the brackets and quotes, otherwise you'll just get an error.\n",
    "\n",
    "\n",
    "</div>\n",
    "<br>"
   ]
  },
  {
   "cell_type": "markdown",
   "metadata": {},
   "source": [
    "### Label your graphs\n",
    "\n",
    "As with all graphs, the one we plotted above needs to be labelled fully and clearly so that someone else can look at it and know immediately what it is presenting. We need the following:\n",
    "1. Labels on the $x$ and $y$ axes\n",
    "2. A title\n",
    "\n",
    "We add $x$ and $y$ axes labels with the functions\n",
    "```python\n",
    "plt.xlabel('mass (kg)')\n",
    "plt.ylabel('frequency')\n",
    "```\n",
    "and a title with the function\n",
    "```python\n",
    "plt.title('Masses of Alaskan sockeye salmon')\n",
    "```\n",
    "It's worth pointing out that the unit of mass is included in the $x$-axis label. This means someone else immediately knows what scale the masses are in. If the units were missing the reader has to guess if the masses are in grams, kilograms or even pounds or ounces. Try to make life as easy as possible for other people to understand what you are presenting by including relevant information in your graphs and tables.\n",
    "\n",
    "<div class=\"alert alert-danger\">\n",
    "Add axis labels and a title to the above histogram. \n",
    "</div>"
   ]
  },
  {
   "cell_type": "markdown",
   "metadata": {},
   "source": [
    "So now you know how to read in a dataset from a file using pandas, print it and plot a labelled histogram using matplotlib. In the next few notebooks you will go on to look at the different types of graphs we normally use to present different types of data."
   ]
  },
  {
   "cell_type": "markdown",
   "metadata": {},
   "source": [
    "#### References\n",
    "\n",
    "Nightingale, F. (1858). *Notes on Matters Affecting the Health, Efficiecy and Hospital Administration of the British Army.* London, Harrison and Sons.\n",
    "\n",
    "Hendry, A. P., *et al.* (1999). Condition dependence and adaptation-by-time: breeding date, life history, and energy allocation in a population of salmon. *Oikis* **85**:499-514."
   ]
  }
 ],
 "metadata": {
  "kernelspec": {
   "display_name": "Python [default]",
   "language": "python",
   "name": "python3"
  },
  "language_info": {
   "codemirror_mode": {
    "name": "ipython",
    "version": 3
   },
   "file_extension": ".py",
   "mimetype": "text/x-python",
   "name": "python",
   "nbconvert_exporter": "python",
   "pygments_lexer": "ipython3",
   "version": "3.5.5"
  }
 },
 "nbformat": 4,
 "nbformat_minor": 2
}
