{
 "cells": [
  {
   "cell_type": "markdown",
   "metadata": {},
   "source": [
    "## Learning outcomes for this notebook\n",
    "\n",
    "* Understand the role of summary statistics in describing distributions.\n",
    "* Know the common measures of location and spread (variation), what they mean and how to calculate them using pandas.\n",
    "* Be able to identify symmetric and asymmetric distributions and understand their effect on location and spread.\n",
    "* Be aware of the normal distribution and be able to apply the relationship between standard deviation and quantity of data.\n",
    "* Know how to use some of pandas' methods to present summary statistics."
   ]
  },
  {
   "cell_type": "markdown",
   "metadata": {},
   "source": [
    "## Describing data with summary statistics\n",
    "\n",
    "Summary statistics are quantities that capture important features of frequency distributions. Whereas graphs reveal shapes and patterns in the data, summary statistics provide hard numbers. \n",
    "\n",
    "The **proportion or relative frequency** is the most important summary statistic for a **categorical** variable, measuring the fraction of observations in each category. We looked at this in notebook 20 using the command\n",
    "\n",
    "```python\n",
    "DataFrame['variable'].value_counts(normalize=True)\n",
    "```\n",
    "\n",
    "The most important summary statistics for **numerical** data are those measuring the location of a frequency distribution and its spread or variation. The **location** tells us something about the average or typical individual - where the observations are centred. The **spread** tells us how variable the measurements are from individual to individual - how widely scattered the observations are around the centre. \n",
    "\n",
    "The importance of calculating the **location** of a distribution seems obvious. How else do we address questions like \"Which species is larger?\" or \"Which drug yielded the greatest response?\" \n",
    "\n",
    "The importance of describing distribution **spread** is less obvious but no less crucial, at least in biology. In some fields of science, variability around a central value is instrument noise or measurement error, but in biology much of the variability signifies real differences among individuals. Different individuals respond differently to treatments, and this variability begs measurement. Measuring variability also gives us perspective. We can ask, \"How large are the differences between groups compared with variations within groups?\" Biologists also appreciate variation as the stuff of evolution - we wouldn’t be here without variation.\n",
    "\n",
    "There are three common measures of location:\n",
    "* mean or average\n",
    "* median\n",
    "* mode\n",
    "\n",
    "and three common measures of spread:\n",
    "* range\n",
    "* inter-quartile range\n",
    "* standard deviation\n",
    "\n",
    "In this notebook we will examine how to calculate and present these quantities for numerical variables using pandas for three types if datasets\n",
    "* a single numerical variable\n",
    "* a categorical and a numerical variable\n",
    "* two categorical variables and a numerical variable"
   ]
  },
  {
   "cell_type": "markdown",
   "metadata": {},
   "source": [
    "## Summary statistics for a single numerical variable\n",
    "\n",
    "### Gliding snakes\n",
    "\n",
    "When a paradise tree snake (*Chrysopelea paradisi*) flings itself from a treetop, it flattens its body everywhere except for the region around the heart. As it gains downward speed, the snake forms a tight horizontal S shape and then begins to undulate widely from side to side. This generates lift, causing the snake to glide away from the source tree. By orienting the head and anterior part of the body, the snake can change direction during a glide to avoid trees, reach a preferred landing site, and even chase aerial prey.\n",
    "\n",
    "![](images/snake.jpg)\n",
    "\n",
    "To better understand how lift is generated, Socha (2002) videotaped the glides of 534 snakes leaping from a 10m tower. The video can be found [here](http://www.educatedearth.net/video.php?id=4376). Among the measurements taken was the rate of side-to-side undulation on each snake. The file [`snakes.csv`](snakes.csv) contains the undulation rates of the snakes measured in hertz (cycles per second). \n",
    "\n",
    "<div class=\"alert alert-danger\">\n",
    "Read in the snake undulation rate data, print it to see what it looks like and plot a histogram.\n",
    "</div>"
   ]
  },
  {
   "cell_type": "code",
   "execution_count": null,
   "metadata": {
    "collapsed": true,
    "scrolled": false
   },
   "outputs": [],
   "source": []
  },
  {
   "cell_type": "markdown",
   "metadata": {},
   "source": [
    "<div class=\"alert alert-info\">\n",
    "\n",
    "**The normal distribution**<br>\n",
    "\n",
    "Notice the shape of the distribution. There are many values clustered around the peak. As we get farther from the peak there are fewer and fewer values. The distribution has an almost symmetrical, bell-like shape\n",
    "\n",
    "![](./images/bell.png)\n",
    "\n",
    "The scientific name for such a distribution is a **normal distribution**. It is the most important (and most common) distribution in all of data analysis and statistics (the reasons why must be left to another course on statistics).\n",
    "</div>"
   ]
  },
  {
   "cell_type": "markdown",
   "metadata": {},
   "source": [
    "## Location\n",
    "\n",
    "### Mean or average\n",
    "\n",
    "We all know how to calculate the mean, or average, of some data: add the values together and divide by the number of values. You've done this as an exercise in one of the earlier notebooks. The mean is usually represented by $\\bar{y}$ or $\\bar{x}$.\n",
    "### Median\n",
    "\n",
    "The median is the mid-point of the values. Half the values lie below the median and half lie above it. The median is the **typical** value of a member of a dataset. The median is usually represented by $\\widetilde{y}$.\n",
    "\n",
    "There are two steps to finding the median:\n",
    "1. Sort the data from low to high values\n",
    "2. If there are an even number of data the median is the average of the two middle values otherwise its the middle value\n",
    "\n",
    "### Mode \n",
    "\n",
    "The mode is the most frequent value. Sometimes, particularly with discrete measurements, there might be more than one mode if several values occur with equal frequencies. For example, in the dataset (1,2,2,2,3,3,4,4,4,5), there are two modes 2 and 4, that both occur three times."
   ]
  },
  {
   "cell_type": "markdown",
   "metadata": {},
   "source": [
    "### Describing data with pandas\n",
    "\n",
    "Calculating means and other characteristics of frequency distributions is a very common thing to do, so you shouldn't be surprised to learn that pandas can do these for you.  Table 1 lists pandas methods for calculating measures of location and variability\n",
    "\n",
    "method | what it calculates\n",
    ":--- | :---\n",
    "DataFrame.variable.mean() | mean\n",
    "DataFrame.variable.median() | median\n",
    "DataFrame.variable.mode() | mode\n",
    "DataFrame.variable.max() - DataFrame.variable.min() | range\n",
    "DataFrame.variable.quantile(0.75) - DataFrame.variable.quantile(0.25) | inter-quartile range\n",
    "DataFrame.variable.std() | standard deviation\n",
    "\n",
    "<center><b>Table 1:</b> Panda methods for calculating measures of location and variability for a DataFrame variable.</center>\n",
    "\n",
    "<div class=\"alert alert-danger\">\n",
    "Find the mean, median and mode of snake undulation rates using pandas in the code cell below.\n",
    "</div>"
   ]
  },
  {
   "cell_type": "code",
   "execution_count": null,
   "metadata": {
    "collapsed": true
   },
   "outputs": [],
   "source": []
  },
  {
   "cell_type": "markdown",
   "metadata": {},
   "source": [
    "Notice that mean and median are very similar. The mean, median and mode of symmetrical distributions, like the normal distribution, are always similar. The mean of a symmetrical distribution is a typical value. Later we will come across distributions where the mean is not a typical value, i.e., when the mean and median are not similar."
   ]
  },
  {
   "cell_type": "markdown",
   "metadata": {},
   "source": [
    "### Presenting numerical results \n",
    "\n",
    "The result you got for the mean undulation rate should be something like 1.364981. \n",
    "\n",
    "<div class=\"alert alert-danger\">\n",
    "What is wrong with the way this result is presented?\n",
    "</div>\n",
    "\n",
    "There are too many digits after the decimal place. As we've seen before, most of those digits are meaningless. Undulation rates were measured to a precision of 0.1Hz. There is no point reporting a mean value to a millionth of a hertz when the measurements are only precise to a tenth of a hertz. Those extra digits have no meaning. \n",
    "\n",
    "**There is no fixed rule but we usually round the mean to the same precision, or to the tenth of the precision, of the data.**\n",
    "\n",
    "To print the mean to *n* decimal places you would use the following code:\n",
    "\n",
    "```python\n",
    "    DataFrame.variable.mean().round(n)\n",
    "```\n",
    "\n",
    "<div class=\"alert alert-danger\">\n",
    "Round the mean and median in the above cell to 2 decimal places.\n",
    "</div>"
   ]
  },
  {
   "cell_type": "markdown",
   "metadata": {
    "collapsed": true
   },
   "source": [
    "## Spread or variation\n",
    "\n",
    "We will now look at measures of spread, starting with the range.\n",
    "\n",
    "### Range\n",
    "\n",
    "The range of a set of data is simply the difference between the largest and smallest values. "
   ]
  },
  {
   "cell_type": "markdown",
   "metadata": {},
   "source": [
    "### Inter-quartile range\n",
    "\n",
    "One problem with the range is that it uses the extreme values of the data (that is, min and max). So the range is sensitive to outliers which are data that lie an abnormal distance from the other values. A measure of spread that is insensitive to extreme values is called the inter-quartile range, or IQR for short. The IQR is the range of the middle 50% of the data. (The range, as you calculated above, is the range of 100% of the data).\n",
    "\n",
    "We have already come across the IQR when we used boxplots. The width of the box represents the middle 50% of the data.\n",
    "\n",
    "To find the IQR the data are sorted and split into four quarters (hence \"quartile\"). The IQR is the difference between the third and first quartile (see figure below). As the IQR does not use the extreme values at either end it is not affected by them. (The second quartile is the median).\n",
    "\n",
    "![](./images/whitlock_3.2-1.jpg)\n",
    "<center>Figure demonstrating how a dataset is split into four quarters.</center>\n",
    "\n",
    "The graph below demonstrates the difference between the range (blue bars) and the IQR (orange bars) when a set of data is plotted as a histogram. \n",
    "\n",
    "![](./images/iqr.png)\n",
    "\n",
    "Pandas doesn't have an explicit function for finding the IQR, instead we use its `quantile` method passing the value of 0.25 to give us the first quartile and 0.75 to give us the third quartile (see Table 1 above). "
   ]
  },
  {
   "cell_type": "markdown",
   "metadata": {},
   "source": [
    "### Standard deviation\n",
    "\n",
    "Standard deviation is the most common measure of variability of a distribution. It measures how far from the mean the measurements typically are. The standard deviation is large if most measurements are far from the mean, and it is small if most measurements lie close to the mean. Standard deviation is usually represented by the symbol $s$. \n",
    "\n",
    "<div class=\"alert alert-danger\">\n",
    "Find the range, inter-quartile range and standard deviation of snake undulation rates using pandas in the code cell below. Report the results to one decimal place.\n",
    "</div>"
   ]
  },
  {
   "cell_type": "code",
   "execution_count": null,
   "metadata": {
    "collapsed": true
   },
   "outputs": [],
   "source": []
  },
  {
   "cell_type": "markdown",
   "metadata": {},
   "source": [
    "The IQR contains the middle 50% of the data. Does the standard deviation have a similar intuitive interpretation? Yes, but only if the data are normally distributed (bell-shaped).\n",
    "\n",
    "To help demonstrate this consider this image of a living histogram of US female college students. The variable here is **height** (shown in feet and inches in the image). The heights, converted to cm, are in the file ['college_students.csv'](college_students.csv).\n",
    "\n",
    "![](images/college_students.png)\n",
    "\n",
    "Read in this file and print the mean and standard deviation heights.  You should find that the mean height is 164.2cm and the standard deviation is 6.6cm.\n",
    "\n",
    "If data are normally distributed then 68% of the data lie within one standard deviation of the mean and 95% of the data lie within two standard deviations of the mean.\n",
    "\n",
    "Are heights of college students normally distributed? To find out we need do the following\n",
    "1. Calculate the mean and standard deviation of the heights. (You've just done this.)\n",
    "2. From the data, find the proportion of students within one and two standard deviations of the mean.\n",
    "3. If those proportions are roughly 68% and 95% respectively, then the data are likely to be normally distributed. \n",
    "\n",
    "For example, the range of heights within one standard deviation of the mean are $164.2-6.6=157.6$cm and $164.2+6.6=170.8$cm. In the picture above, count the number of students between heights 157.6cm and 170.8cm. You should find that there are 85 of them. There are 125 students in total, so the proportion of students between one standard deviation of the mean is $85/125=0.68$ or 68% exactly.\n",
    "\n",
    "<div class=\"alert alert-danger\">\n",
    "\n",
    "* See if you can do similar calculations to check if about 95% of students are within *two* standard deviations of the mean. \n",
    "* **Hint:** You might find it quicker and easier to count the number of students outside the range rather than inside it because there are far fewer of them. \n",
    "* Are the heights of college students normally distributed?\n",
    "</div>\n",
    "<br>"
   ]
  },
  {
   "cell_type": "code",
   "execution_count": null,
   "metadata": {},
   "outputs": [],
   "source": []
  },
  {
   "cell_type": "markdown",
   "metadata": {},
   "source": [
    "Counting people in an image is not very efficient. In the next notebook we will show you how to do this in python.\n",
    "\n",
    "Finally, the command\n",
    "```python\n",
    "DataFrame.variable.describe()\n",
    "```\n",
    "prints out all the summary statistics: mean, standard deviation, min, 1<sup>st</sup> quartile (25%) median (2<sup>nd</sup> quartile, 50%), 3<sup>rd</sup> quartile (75%) and max all in one go.\n",
    "\n",
    "<div class=\"alert alert-danger\">\n",
    "Try this in the code cell below.\n",
    "</div>"
   ]
  },
  {
   "cell_type": "code",
   "execution_count": null,
   "metadata": {
    "collapsed": true
   },
   "outputs": [],
   "source": []
  },
  {
   "cell_type": "markdown",
   "metadata": {},
   "source": [
    "## Summary statistics for a categorical and a numerical variable\n",
    "\n",
    "### Threespine sticklebacks\n",
    "\n",
    "Let's revisit the threespine stickleback dataset in notebook number 23: [`sticklebacks.csv`](sticklebacks.csv). Recall that this dataset has a categorical variable called `'genotype'` and a numerical variable called `'plates'`.\n",
    "\n",
    "![](./images/03.03_fmt.jpeg)\n",
    "\n",
    "<div class=\"alert alert-danger\">\n",
    "In the code cell below recreate the multiple histogram plot of plate frequency for each genotype.\n",
    "</div>\n",
    "<br>"
   ]
  },
  {
   "cell_type": "code",
   "execution_count": null,
   "metadata": {
    "collapsed": true
   },
   "outputs": [],
   "source": []
  },
  {
   "cell_type": "markdown",
   "metadata": {},
   "source": [
    "### Grouping data by category\n",
    "\n",
    "If we want to print summary statistics of plate number for each genotype separately we need to tell pandas to group the data by genotype first before printing. To do this we use use the `groupby()` method like so:\n",
    "```python\n",
    "print(DataFrame.groupby('categorical variable')['numerical variable'].describe())\n",
    "```\n",
    "(The brackets and quotes of the numerical variable can be dropped if it contains no spaces.)\n",
    "\n",
    "<div class=\"alert alert-danger\">\n",
    "In the code cell below print out summary statistics of the number of plates grouped by genotype rounded to 2 decimal places.\n",
    "</div>"
   ]
  },
  {
   "cell_type": "code",
   "execution_count": null,
   "metadata": {
    "scrolled": false
   },
   "outputs": [],
   "source": []
  },
  {
   "cell_type": "markdown",
   "metadata": {},
   "source": [
    "What do you notice about the difference between the means and medians for each genotype? Write your answer below."
   ]
  },
  {
   "cell_type": "markdown",
   "metadata": {},
   "source": [
    ">Write your answer here."
   ]
  },
  {
   "cell_type": "markdown",
   "metadata": {},
   "source": [
    "### Skewed frequency distributions\n",
    "\n",
    "For the mm and MM genotypes you should see that their means and medians are similar because these data are symmetrically distributed. However, for the Mm genotype you should see that the median is higher than the mean. The mean is not a typical value as it is for a symmetrical distribution. It is lower than the median because of the long tail to the left of the distribution. You can think of the mean as the \"centre of gravity\" of the data, whereas the median is the typical value. The mean is still a useful description of the data but it no longer indicates where most of the data are located. The median is less sensitive to extreme values and is hence a more informative descriptor of the typical observation in such instances.\n",
    "\n",
    "Which measure of location, the mean or the median, is most revealing about the centre of a distribution of measurements? And which measure of spread, the standard deviation or the interquartile range, best describes how widely the observations are scattered about the centre? The answer depends on the shape of the frequency distribution. These alternative measures of location and of spread yield similar information when the frequency distribution is symmetric and unimodal (single peak). The mean and standard deviation become less informative than the median and interquartile range when the data are strongly skewed or include extreme observations."
   ]
  },
  {
   "cell_type": "markdown",
   "metadata": {},
   "source": [
    "### Introduced species: the brook trout\n",
    "\n",
    "One of the greatest threats to biodiversity is the introduction of alien species from outside their natural range. These introduced species often have fewer predators or parasites in the new area, so they can increase in numbers and outcompete native species. Sometimes these species are introduced accidentally, but often they are introduced intentionally by humans. \n",
    "\n",
    "![](images/trout.jpg)\n",
    "\n",
    "The brook trout, for example, is a species native to eastern North America that has been introduced into streams in the west for sport fishing. Levin *et al.* (2002) followed the survivorship of a native species, chinook salmon, in a series of 12 streams that either had brook trout introduced or did not. Their goal was to determine whether the presence of brook trout affected the survivorship of the salmon. In each stream, they released a number of tagged juvenile chinook and then recorded whether or not each chinook survived over one year. The data are in the file [`salmon.csv`](salmon.csv)\n",
    "\n",
    "<div class=\"alert alert-danger\">\n",
    "Read in the dataset from `salmon.csv` and print it.\n",
    "</div>"
   ]
  },
  {
   "cell_type": "code",
   "execution_count": null,
   "metadata": {},
   "outputs": [],
   "source": []
  },
  {
   "cell_type": "markdown",
   "metadata": {},
   "source": [
    "There is one categorical variable called `'brook trout'` with categories present and absent corresponding to brook trout being present or absent in each stream. There are two numerical variables: `'released'` is the number of salmon released into a stream and `'survivors'` is the corresponding number of survivors after 1 year. \n",
    "\n",
    "The raw data in the DataFrame cannot tell us if the presence of brook trout affected survivorship of salmon because the number of salmon released differed between streams. The numerical variable we need to test this hypothesis is the **proportion** of salmon that survive in each stream not the absolute number of survivors. So we need to create a new variable of the proportion of survivors. If you've forgotten how to create new variables from existing ones refer to Darwin's plants in notebook 20.\n",
    "\n",
    "<div class=\"alert alert-danger\">\n",
    "\n",
    "* Create a new variable called `'proportion'` of the proportion of salmon surviving in each stream. \n",
    "* Create a clearly labelled strip plot of the proportion of salmon surviving.\n",
    "* Print out summary statistics of the proportion of salmon surviving grouped by presence or absence of brook trout to 2 decimal places.\n",
    "* Based on these results, do you think the presence of brook trout affected the survivorship of salmon?\n",
    "</div>\n",
    "<br>"
   ]
  },
  {
   "cell_type": "markdown",
   "metadata": {},
   "source": [
    "## Summary statistics for two categorical variables and a numerical variable\n",
    "\n",
    "### Colour vision in bluefin killifish\n",
    "\n",
    "Let's revisit the colour vision experiment in bluefin killifish in notebook 24. Recall that there are two categorical variables, `'population'` and `'waterClarity'`, and a numerical variable `'sws1`' which is the relative expression of the SWS1 gene.\n",
    "\n",
    "One population was from a swamp, whose tea-stained water filters out blue wavelengths, whereas the other population was from a clear-water spring. Fish were crossed and raised in the lab under two light conditions simulating those in the wild: clear and tea-stained.\n",
    "\n",
    "<div class=\"alert alert-danger\">\n",
    "\n",
    "* Read in the dataset from `killifish.csv` and print it out.\n",
    "* Create an appropriate plot of the data.\n",
    "</div>\n",
    "<br>"
   ]
  },
  {
   "cell_type": "code",
   "execution_count": null,
   "metadata": {},
   "outputs": [],
   "source": []
  },
  {
   "cell_type": "markdown",
   "metadata": {},
   "source": [
    "To calculate the mean of `'sws1'` you would use\n",
    "```python\n",
    "DataFrame.sws1.mean()\n",
    "```\n",
    "To calculate the mean for each population you would use\n",
    "```python\n",
    "DataFrame.groupby('population').sws1.mean()\n",
    "```\n",
    "or for each type of water\n",
    "```python\n",
    "DataFrame.groupby('waterClarity').sws1.mean()\n",
    "```\n",
    "To calculate the mean for all combinations of categories of population and water clarity use\n",
    "```python\n",
    "DataFrame.groupby( ['waterClarity', 'population'] ).sws1.mean()\n",
    "```\n",
    "Note that you pass a **list** of categorical variables to `groupby()`.\n",
    "\n",
    "<div class=\"alert alert-danger\">\n",
    "\n",
    "* Try all of these in the code cell below and round the answers to 3 decimal places.\n",
    "* What is the difference in means between Spring killifish raised in clear water and Swamp killifish raised in tea-stained water?\n",
    "</div>\n",
    "<br>"
   ]
  },
  {
   "cell_type": "code",
   "execution_count": null,
   "metadata": {
    "collapsed": true
   },
   "outputs": [],
   "source": []
  },
  {
   "cell_type": "markdown",
   "metadata": {},
   "source": [
    ">Write your answer here."
   ]
  },
  {
   "cell_type": "markdown",
   "metadata": {},
   "source": [
    "### References\n",
    "\n",
    "Socha, J. J. (2002). Gliding flight in the paradise tree snake. *Nature* **418**:603-604.\n",
    "\n",
    "Levin, P. S., *et al.* (2002). Non-indigenous brook trout and the demise of Pacific salmon: a forgotten threat? *Proc. Roy. Soc. Lond. B* **269**:1663-1670."
   ]
  }
 ],
 "metadata": {
  "anaconda-cloud": {},
  "kernelspec": {
   "display_name": "Python [default]",
   "language": "python",
   "name": "python3"
  },
  "language_info": {
   "codemirror_mode": {
    "name": "ipython",
    "version": 3
   },
   "file_extension": ".py",
   "mimetype": "text/x-python",
   "name": "python",
   "nbconvert_exporter": "python",
   "pygments_lexer": "ipython3",
   "version": "3.5.5"
  }
 },
 "nbformat": 4,
 "nbformat_minor": 1
}
