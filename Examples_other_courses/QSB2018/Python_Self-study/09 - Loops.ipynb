{
 "cells": [
  {
   "cell_type": "markdown",
   "metadata": {
    "button": false,
    "new_sheet": false,
    "run_control": {
     "read_only": false
    }
   },
   "source": [
    "# Loops\n",
    "\n",
    "The power of computing lies in the ability to perform lots of repetitive tasks very fast - we're learning to program so that we can process large biological datasets, perhaps from genomics, transcriptomics or proteomics data. \n",
    "\n",
    "If we were to write out the code in full for each of these tasks, the program would be as repetitive and tedious as the task we're trying to do. \n",
    "\n",
    "Let's say we have a list of DNA (oligonucleotide) sequences and we want to print out each item in the list. Writing out each item of our list of oligonucleotide sequences as shown below would be tedious, especially with a much longer list. In addition, if the number of elements in our list increased or decreased, we would need to edit our code, and we couldn't write code this way if we didn't know the number of elements that were going to be in the list."
   ]
  },
  {
   "cell_type": "code",
   "execution_count": 1,
   "metadata": {
    "button": false,
    "new_sheet": false,
    "run_control": {
     "frozen": false,
     "read_only": false
    }
   },
   "outputs": [
    {
     "name": "stdout",
     "output_type": "stream",
     "text": [
      "AGTCGT\n",
      "GCTAGC\n",
      "TAGTAG\n",
      "AGAATC\n"
     ]
    }
   ],
   "source": [
    "oligos_list = [\"AGTCGT\", \"GCTAGC\", \"TAGTAG\", \"AGAATC\"]\n",
    "#print all the oligos in the list, index 0 to 3\n",
    "print(oligos_list[0])\n",
    "print(oligos_list[1])\n",
    "print(oligos_list[2])\n",
    "print(oligos_list[3])"
   ]
  },
  {
   "cell_type": "markdown",
   "metadata": {
    "button": false,
    "new_sheet": false,
    "run_control": {
     "read_only": false
    }
   },
   "source": [
    "Instead, programmers make use of **loops** to repeatedly process data without having to write out the code in full. The first loop we will encounter is the `for` loop."
   ]
  },
  {
   "cell_type": "markdown",
   "metadata": {
    "button": false,
    "new_sheet": false,
    "run_control": {
     "read_only": false
    }
   },
   "source": [
    "`for` loops repeat a block of indented code for each item in a sequence. For example, the code could be repeated for each element (item) in a list, for each key in a dictionary or for each character in a string\n",
    "\n",
    "```python\n",
    "for iterating_variable in sequence:\n",
    "\t#repeat this indented block\n",
    "```\n",
    "\n",
    "<div class = \"alert alert-info\">\n",
    "**Indents - use 4 spaces instead of tabs** <br>\n",
    "Indents in Python code can be made with tabs or 4 spaces, however if your Python code contains both tabs and spaces, it will produce an error when the code is run. To try to prevent this and make sure you use the recommended multiples of 4 spaces for indentation, most Python text editors and development environments including Jupyter, will insert 4 spaces when you press the tab key.\n",
    "</div>\n",
    "\n",
    "The `for` loop defines an iterating variable - this will be set to the first item in the sequence, and the block is then executed. If there is another item in the sequence, the iterating variable will then be set to the value of that item and the code block will be executed again. This is repeated until the sequence is exhausted. \n",
    "\n",
    "The process of repeating a block of code for each element of a list (or other data type such as string or dictionary that contain sequences of items) is called iteration.\n",
    "\n",
    "The following code repeats the indented code block for each element in the list. "
   ]
  },
  {
   "cell_type": "code",
   "execution_count": 4,
   "metadata": {
    "button": false,
    "new_sheet": false,
    "run_control": {
     "frozen": false,
     "read_only": false
    }
   },
   "outputs": [
    {
     "name": "stdout",
     "output_type": "stream",
     "text": [
      "AGTCGT\n",
      "GCTAGC\n",
      "TAGTAG\n",
      "AGAATC\n"
     ]
    }
   ],
   "source": [
    "oligos_list = [\"AGTCGT\", \"GCTAGC\", \"TAGTAG\", \"AGAATC\"]\n",
    "for oligo in oligos_list:\n",
    "    print(oligo)"
   ]
  },
  {
   "cell_type": "markdown",
   "metadata": {
    "button": false,
    "new_sheet": false,
    "run_control": {
     "read_only": false
    }
   },
   "source": [
    "This code produces exactly the same output as the code before, is shorter and more readable.  Unlike the example before, this code is flexible as you don't need to know how many elements there are in the list, since it just repeats the same block for each list element (oligo sequence).\n",
    "\n",
    "<div class=\"alert alert-info\">Note: we could call the iterating variable a wide variety of names, as long as we refer to the same variable name within the block if we want to access it (see later in this section for an example that illustrates this - 'a very common misunderstanding'). As for all variables, it is wise to use a mneumonic name, and you must avoid reserved words. You should also not use `string`, `list`, `dict` etc as these could be confusing and could lead to unexpected errors or results. \n",
    "Loops can also be used to repeat a block of code a set number of times, by using `range()` to specify a set of numbers to iterate over.\n",
    "</div>\n"
   ]
  },
  {
   "cell_type": "code",
   "execution_count": 4,
   "metadata": {
    "button": false,
    "new_sheet": false,
    "run_control": {
     "frozen": false,
     "read_only": false
    }
   },
   "outputs": [
    {
     "name": "stdout",
     "output_type": "stream",
     "text": [
      "This block has been executed 1 times\n",
      "This block has been executed 2 times\n",
      "This block has been executed 3 times\n",
      "This block has been executed 4 times\n",
      "This block has been executed 5 times\n"
     ]
    }
   ],
   "source": [
    "for number in range(1, 6):\n",
    "    print(\"This block has been executed {} times\".format(number))"
   ]
  },
  {
   "cell_type": "markdown",
   "metadata": {
    "ExecuteTime": {
     "end_time": "2017-07-11T13:23:31.108588",
     "start_time": "2017-07-11T13:23:31.105452"
    },
    "button": false,
    "new_sheet": false,
    "run_control": {
     "read_only": false
    }
   },
   "source": [
    "### Looping through a list"
   ]
  },
  {
   "cell_type": "markdown",
   "metadata": {
    "button": false,
    "new_sheet": false,
    "run_control": {
     "read_only": false
    }
   },
   "source": [
    "As we saw in the sample above, looping through a list is very simple. Building on the oligos example above, instead of printing each oligo to the screen, we'll calculate the total number of nucleotides in the whole list by calculating the length of each oligo and adding them together. Note that we need to unindent the `print(nucleotide_count)` function call - experiment to see what would happen if it were part of the loop (i.e. indented)."
   ]
  },
  {
   "cell_type": "code",
   "execution_count": 7,
   "metadata": {
    "ExecuteTime": {
     "end_time": "2017-08-17T09:23:24.510430",
     "start_time": "2017-08-17T09:23:24.505506"
    },
    "button": false,
    "new_sheet": false,
    "run_control": {
     "frozen": false,
     "read_only": false
    }
   },
   "outputs": [
    {
     "name": "stdout",
     "output_type": "stream",
     "text": [
      "Total number of nucleotides in all oligos is 24\n"
     ]
    }
   ],
   "source": [
    "oligos_list = [\"AGTCGT\", \"GCTAGC\", \"TAGTAG\", \"AGAATC\"]\n",
    "nucleotide_count = 0 #First we need to set a variable to store our count - note this is done BEFORE starting the loop\n",
    "\n",
    "for oligo in oligos_list:\n",
    "    #Now we use the increment operator (+=) to add the length of the oligo to the variable nucleotide_count\n",
    "    nucleotide_count += len(oligo)\n",
    "    \n",
    "#After the loop is finished, print the value stored in nucleotide_count\n",
    "print(\"Total number of nucleotides in all oligos is {}\".format(nucleotide_count))"
   ]
  },
  {
   "cell_type": "markdown",
   "metadata": {
    "button": false,
    "new_sheet": false,
    "run_control": {
     "read_only": false
    }
   },
   "source": [
    "<div class=\"alert alert-info\">\n",
    "**Indentation matters**</br>\n",
    "When we write a loop - the code within the indented block is run repeatedly, and the next unindented statement is run after the loop has finished. Experiment to see what happens if the line\n",
    "```print(\"Total number of nucleotides in all oligos is {}\".format(nucleotide_count))```\n",
    "line is indented so that it becomes part of the loop.\n",
    "</div>"
   ]
  },
  {
   "cell_type": "markdown",
   "metadata": {
    "button": false,
    "new_sheet": false,
    "run_control": {
     "read_only": false
    }
   },
   "source": [
    "### Looping over the characters of a string\n",
    "\n",
    "Since strings are also contain sequences of multiple items, we can iterate through them using a `for` loop in the same way as we would for a list. \n"
   ]
  },
  {
   "cell_type": "code",
   "execution_count": 3,
   "metadata": {
    "ExecuteTime": {
     "end_time": "2017-08-17T09:26:33.658337",
     "start_time": "2017-08-17T09:26:33.652968"
    },
    "button": false,
    "new_sheet": false,
    "run_control": {
     "frozen": false,
     "read_only": false
    }
   },
   "outputs": [
    {
     "name": "stdout",
     "output_type": "stream",
     "text": [
      "There are 3 thymidine residues in ATGCATAGTAA\n"
     ]
    }
   ],
   "source": [
    "dna_sequence = \"ATGCATAGTAA\"\n",
    "t_base_count = 0 #set variable to be used to count Ts\n",
    "\n",
    "for base in dna_sequence:\n",
    "    if base==\"T\":\n",
    "        t_base_count += 1 #add another T to count\n",
    "        \n",
    "print(\"There are {0} thymidine residues in {1}\".format(t_base_count, dna_sequence))"
   ]
  },
  {
   "cell_type": "markdown",
   "metadata": {
    "button": false,
    "new_sheet": false,
    "run_control": {
     "read_only": false
    }
   },
   "source": [
    "### A very common misunderstanding\n",
    "\n",
    "Many newcomers to Python incorrectly believe that the name of the iterating variable influences the function of the code. Iterating variables are usually chosen as mneumonics to indicate what the variable will contain, however it is useful to realise that the following two loops are equivalent and do the same thing. \n",
    "\n",
    "Experiment with the examples below and you will see that any non-reserved word can be used as an iterating variable - as long as you change the variable within the loop to match."
   ]
  },
  {
   "cell_type": "code",
   "execution_count": 1,
   "metadata": {
    "button": false,
    "new_sheet": false,
    "run_control": {
     "frozen": false,
     "read_only": false
    }
   },
   "outputs": [
    {
     "name": "stdout",
     "output_type": "stream",
     "text": [
      "A\n",
      "G\n",
      "C\n",
      "T\n",
      "A\n",
      "G\n",
      "C\n",
      "G\n",
      "G\n",
      "C\n",
      "A\n",
      "T\n",
      "C\n"
     ]
    }
   ],
   "source": [
    "DNA_sequence = \"AGCTAGCGGCATC\"\n",
    "for nucleotide in DNA_sequence:\n",
    "    print(nucleotide)"
   ]
  },
  {
   "cell_type": "code",
   "execution_count": 2,
   "metadata": {
    "button": false,
    "new_sheet": false,
    "run_control": {
     "frozen": false,
     "read_only": false
    }
   },
   "outputs": [
    {
     "name": "stdout",
     "output_type": "stream",
     "text": [
      "A\n",
      "G\n",
      "C\n",
      "T\n",
      "A\n",
      "G\n",
      "C\n",
      "G\n",
      "G\n",
      "C\n",
      "A\n",
      "T\n",
      "C\n"
     ]
    }
   ],
   "source": [
    "DNA_sequence = \"AGCTAGCGGCATC\"\n",
    "for goat in DNA_sequence:\n",
    "    print(goat)"
   ]
  },
  {
   "cell_type": "markdown",
   "metadata": {
    "button": false,
    "new_sheet": false,
    "run_control": {
     "read_only": false
    }
   },
   "source": [
    "### Loop Control Statements\n",
    "\n",
    "`break` and `continue` statements can be used in both while and for loops. They both exit the current iteration of a loop, but the `continue` statement leads to the execution of the next iteration of a loop, whereas the `break` statement exits a loop completely.\n",
    "\n",
    "The `continue` statement returns to the beginning of the loop. When the `continue` statement is executed, the remainer of the loop is abandoned for the current iteration of the loop."
   ]
  },
  {
   "cell_type": "code",
   "execution_count": 4,
   "metadata": {
    "ExecuteTime": {
     "end_time": "2017-08-17T09:30:57.913637",
     "start_time": "2017-08-17T09:30:57.908994"
    },
    "button": false,
    "new_sheet": false,
    "run_control": {
     "frozen": false,
     "read_only": false
    }
   },
   "outputs": [
    {
     "name": "stdout",
     "output_type": "stream",
     "text": [
      "Current Base: A\n",
      "Current Base: T\n",
      "Current Base: G\n",
      "Current Base: A\n",
      "Current Base: T\n"
     ]
    }
   ],
   "source": [
    "dna_sequence = \"ATGCAT\"\n",
    "for base in dna_sequence:     \n",
    "   if base == 'C':\n",
    "      continue\n",
    "   print('Current Base: {}'.format(base))"
   ]
  },
  {
   "cell_type": "markdown",
   "metadata": {
    "button": false,
    "new_sheet": false,
    "run_control": {
     "read_only": false
    }
   },
   "source": [
    "When a `break` statement is executed, it exits the current loop without executing any of the reminder of the current iteration, or any future iterations of that loop. \n"
   ]
  },
  {
   "cell_type": "code",
   "execution_count": 16,
   "metadata": {
    "button": false,
    "new_sheet": false,
    "run_control": {
     "frozen": false,
     "read_only": false
    }
   },
   "outputs": [
    {
     "name": "stdout",
     "output_type": "stream",
     "text": [
      "Current Base: A\n",
      "Current Base: T\n",
      "Current Base: G\n"
     ]
    }
   ],
   "source": [
    "dna_sequence = \"ATGCAT\"\n",
    "for base in dna_sequence:     \n",
    "   if base == 'C':\n",
    "      break\n",
    "   print('Current Base: {}'.format(base))"
   ]
  },
  {
   "cell_type": "markdown",
   "metadata": {
    "button": false,
    "new_sheet": false,
    "run_control": {
     "read_only": false
    }
   },
   "source": [
    "#### reversed()\n",
    "\n",
    "The reversed function reverses the order of iteration through a string (it can also be used on lists):"
   ]
  },
  {
   "cell_type": "code",
   "execution_count": 10,
   "metadata": {
    "button": false,
    "new_sheet": false,
    "run_control": {
     "frozen": false,
     "read_only": false
    }
   },
   "outputs": [
    {
     "name": "stdout",
     "output_type": "stream",
     "text": [
      "Was it a cat I saw?"
     ]
    }
   ],
   "source": [
    "sentence = \"?was I tac a ti saW\"\n",
    "for letter in reversed(sentence):\n",
    "    print(letter, end='')"
   ]
  },
  {
   "cell_type": "markdown",
   "metadata": {},
   "source": [
    "n.b. In the above example, we have added `end=''` to the print function - this prevents the print function printing each letter on a new line. "
   ]
  },
  {
   "cell_type": "markdown",
   "metadata": {},
   "source": [
    "### While loops\n",
    "\n",
    "While loops repeat the contents of a code block **while** a condition is True. Most loops could be written using either `for` or `while`. In general, you should use whichever is simplest - where you are iterating over a defined object (string, list, etc), you are generally better to use `for`.\n",
    "\n",
    "|Loop Type\t|Description|\n",
    "|:-------|:------|\n",
    "|`for` loop\t|Executes a block of code multiple times until a sequence has been exhausted. The current item from the sequence is made available through the iterative variable defined in the `for` loop.|\n",
    "|`while` loop\t|Repeats a block of code while a given condition is True. The condition is evaluated before executing the loop block.|"
   ]
  },
  {
   "cell_type": "code",
   "execution_count": 5,
   "metadata": {},
   "outputs": [
    {
     "name": "stdout",
     "output_type": "stream",
     "text": [
      "The count is 0\n",
      "The count is 1\n",
      "The count is 2\n",
      "The count is 3\n",
      "The count is 4\n"
     ]
    }
   ],
   "source": [
    "count = 0\n",
    "while (count < 5):\n",
    "   print('The count is {}'.format(count))\n",
    "   count = count + 1\n"
   ]
  },
  {
   "cell_type": "markdown",
   "metadata": {
    "button": false,
    "new_sheet": false,
    "run_control": {
     "read_only": false
    }
   },
   "source": [
    "# Exercises\n",
    "\n",
    "1) The `%` (modulo) operator yields the remainder from the division of the first argument by the second. Write a program to calculate whether each of the following numbers is an even number, returning True if even and False if odd. \n",
    "\n",
    "test_numbers = [1,39,93, 28, 32, 42, 52, 19, 48, 84]\n",
    "\n",
    "***Hint*** <br>\n",
    "`print(6%2) #prints 0` <br>\n",
    "Dividing a even number by 2 will give no remainder. \n",
    "\n",
    "2) Write a program that will reverse a DNA sequence (it does not need to give the reverse complement). Use a loop, not extended slices ([::-1]).\n",
    "\n",
    "3) Modify your program from 2) above so that it misses out thymidines (T) from the reversed sequence. Hint: use `continue`\n"
   ]
  },
  {
   "cell_type": "code",
   "execution_count": null,
   "metadata": {
    "button": false,
    "collapsed": true,
    "new_sheet": false,
    "run_control": {
     "frozen": false,
     "read_only": false
    }
   },
   "outputs": [],
   "source": []
  },
  {
   "cell_type": "code",
   "execution_count": null,
   "metadata": {
    "button": false,
    "collapsed": true,
    "new_sheet": false,
    "run_control": {
     "frozen": false,
     "read_only": false
    }
   },
   "outputs": [],
   "source": []
  }
 ],
 "metadata": {
  "anaconda-cloud": {},
  "hide_input": false,
  "kernelspec": {
   "display_name": "Python 3",
   "language": "python",
   "name": "python3"
  },
  "language_info": {
   "codemirror_mode": {
    "name": "ipython",
    "version": 3
   },
   "file_extension": ".py",
   "mimetype": "text/x-python",
   "name": "python",
   "nbconvert_exporter": "python",
   "pygments_lexer": "ipython3",
   "version": "3.6.2"
  }
 },
 "nbformat": 4,
 "nbformat_minor": 1
}
