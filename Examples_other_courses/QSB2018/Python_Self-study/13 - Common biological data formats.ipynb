{
 "cells": [
  {
   "cell_type": "markdown",
   "metadata": {
    "button": false,
    "new_sheet": false,
    "run_control": {
     "read_only": false
    }
   },
   "source": [
    "# Common biological data files and how to parse them\n",
    "\n",
    "One very common task for biologists and other scientists is to extract data from large data files or convert between different file formats. This page describes a number of the most common types of file used by biologists, with sample code showing how they might be parsed (Parsing is reading in the file and separating out the information you require). Remember that the ends of lines will contain 'invisible' newline characters (\\n) that often need to be removed when processing the line.\n",
    "\n",
    "The following table will be used for most of the examples to show what the table would look like in each different text file format.\n",
    "\n",
    "|Species|gene_id|sequence\\_length\\_bp|percent_gc|oligonucleotide_primer|\n",
    "|------|------|------|------|------|\n",
    "|Homo sapiens|EG010293|447|48|AGTAGGTTAGTTAGGT|\n",
    "|Homo sapiens|EG013928|684|59|AGTACCAGGATGACCA|\n",
    "|Mus musculus|QH091219|714|47|CATGATGACCAGTAGA|\n",
    "|Mus musculus|TY492318|631|55|GTAGTGGATTCCATGG|\n",
    "\n",
    "### Comma-separated values (csv)\n",
    "\n",
    "CSV files are one of the most common filetypes used to hold biological data, perhaps partially because they are easily imported into and exported from Microsoft Excel and other spreadsheet software.\n",
    "\n",
    "CSV files contain rows of data where each element in the row is separated by a comma (,). \n",
    "\n",
    "```\n",
    "Species,gene_id,sequence_length_bp,percent_gc,oligonucleotide_primer\n",
    "Homo sapiens,EG010293,447,48,AGTAGGTTAGTTAGGT\n",
    "Homo sapiens,EG013928,684,59,AGTACCAGGATGACCA\n",
    "Mus musculus,QH091219,714,47,CATGATGACCAGTAGA\n",
    "Mus musculus,TY492318,631,55,GTAGTGGATTCCATGG\n",
    "```\n",
    "\n",
    "#### Example code for parsing csv files\n",
    "\n",
    "```python\n",
    "with open(\"csv_file.csv\", \"r\") as f:\n",
    "    header = next(f) #skips the first line of the file that contains column headers\n",
    "\tfor line in f: \n",
    "\t\t#remove end of line character then split at each comma (produces a list)\n",
    "\t\tdata = line.rstrip(\"\\n\").split(\",\")\n",
    "\t\t#print the sequence length field for each line (contained in the 3rd element of the data list (data[2] - lists are zero-indexed)\n",
    "\t\tprint(\"Sequence Length is {}bp\".format(data[2])\n",
    "```\n",
    "\n",
    "### Tab-separated values\n",
    "\n",
    "Many variants similar to csv files are commonly used and tab-separated values files are probably the most common, with other common files being space-delimited text files. The structure of these files is the same as csv files, except that the delimiting character (the character that separates the values on each line of the file) is a tab in tab-separated values files and a space in space-delimited files. Tabs are represented using the escaped character `\\t` \n",
    "\n",
    "Parsing these files is as simple as changing the character of the delimiter used in the `split()` function. In the code above, the line containing the split method is changed to that below:\n",
    "\n",
    "```python\n",
    "data = line.rstrip(\"\\n\").split(\"\\t\")\n",
    "```\n",
    "\n",
    "### FASTA files\n",
    "\n",
    "FASTA files are a very common filetype for storing DNA/RNA or protein sequence information. The file starts with a line containing a sequence identifier that is prefixed with the 'greater than' (>) character. The following line, or lines, contain the DNA/RNA/protein sequence. FASTA files can contain single or multiple sequences, even up to millions of sequences. \n",
    "\n",
    "There are multiple different conventions for the FASTA sequence identifier line: sometimes semi-colon or space-delimited fields are present. It is best to look up the documentation for the software that created your FASTA file to check which schema it uses. \n",
    "\n",
    "The box below shows a typical FASTA file containing three sequences:\n",
    "\n",
    "```\n",
    ">seq1\n",
    "ATCTACGTAGCTAGTCAGCGCTAACGATCGGCTAGCTACGTCTAGCGATCGCGCTATCTACTGCATC\n",
    ">seq2\n",
    "CATCGATCGATCTACGTAGCTACGCGCTAGCTATCTACTAGCTCTACGCTACGTCACTATCGTCGA\n",
    ">seq3\n",
    "GATGCTAGAGATAGACGCTCCACTACGTCCTACTAGCTACGATCGTACTCTCTATCCGTCTCTCTCG\n",
    "```\n",
    "\n",
    "When parsing FASTA files in Python, it is important to make sure you allow for sequences that are split between multiple lines (i.e. contain internal line breaks). The following two code examples will extract the sequence identifier and sequence from FASTA format files. By working through the file line by line, these scripts can cope with FASTA files containing large numbers of sequences because they dont need to be loaded into the computer's memory all at once.\n",
    "\n",
    "The best way to parse FASTA files is often to use [biopython](http://biopython.org/wiki/Biopython). \n",
    "\n",
    "The Python scripts below will also process FASTA files quite efficiently, though they use some Python features that you are not yet familiar with yet. They both use user-defined functions - that means you can reuse this piece of code whenever you need to parse a FASTA file. The second script uses a 'generator' - an advanced Python programming concept not included in this course.\n"
   ]
  },
  {
   "cell_type": "code",
   "execution_count": 3,
   "metadata": {
    "button": false,
    "new_sheet": false,
    "run_control": {
     "read_only": false
    }
   },
   "outputs": [
    {
     "name": "stdout",
     "output_type": "stream",
     "text": [
      "seq1 ATCTACGTAGCTAGTCAGCGCTAACGATCGGCTAGCTACGTCTAGCGATCGCGCTATCTACTGCATC\n",
      "seq2 CATCGATCGATCTACGTAGCTACGCGCTAGCTATCTACTAGCTCTACGCTACGTCACTATCGTCGA\n",
      "seq3 GATGCTAGAGATAGACGCTCCACTACGTCCTACTAGCTACGATCGTACTCTCTATCCGTCTCTCTCG\n"
     ]
    }
   ],
   "source": [
    "def parse_fasta(filename):\n",
    "    \n",
    "    sequences = {}  #initiate a dictionary to store ids (keys) and sequences (values)\n",
    "    for line in f:\n",
    "        \n",
    "        if line.startswith('>'): #if it is an id line\n",
    "            id = line[1:].rstrip('\\n') #remove > character and newline\n",
    "            sequences[id] = '' #enter id in dictionary with blank sequence\n",
    "        \n",
    "        else:\n",
    "            sequences[id] = line.rstrip('\\n').rstrip('*') #if it is not an id line, add sequence to dictionary with previous id\n",
    "    \n",
    "    return sequences\n",
    "\n",
    "with open('illumina_reads.fasta') as f:\n",
    "    seqs = parse_fasta(f) #this returns a dictionary of ids and sequences\n",
    "    for key in seqs: #loop through keys and print all key value pairs\n",
    "        print (key, seqs[key])"
   ]
  },
  {
   "cell_type": "code",
   "execution_count": 7,
   "metadata": {
    "button": false,
    "new_sheet": false,
    "run_control": {
     "read_only": false
    }
   },
   "outputs": [
    {
     "name": "stdout",
     "output_type": "stream",
     "text": [
      ">seq1 ATCTACGTAGCTAGTCAGCGCTAACGATCGGCTAGCTACGTCTAGCGATCGCGCTATCTACTGCATC\n",
      "Sequence Length is 67\n",
      ">seq2 CATCGATCGATCTACGTAGCTACGCGCTAGCTATCTACTAGCTCTACGCTACGTCACTATCGTCGA\n",
      "Sequence Length is 66\n",
      ">seq3 GATGCTAGAGATAGACGCTCCACTACGTCCTACTAGCTACGATCGTACTCTCTATCCGTCTCTCTCG\n",
      "Sequence Length is 67\n"
     ]
    }
   ],
   "source": [
    "#Define FASTA parsing function\n",
    "#This examples uses a generator - a special type of function that we don't cover in this course. \n",
    "#It is the most suitable code if you have really large files as it minimises the amount of data that is held in memory.\n",
    "def parse_fasta_alt(f):\n",
    "    id, seq = None, []\n",
    "    \n",
    "    for line in f:\n",
    "        line = line.rstrip(\"\\n\") #remove newline character\n",
    "        \n",
    "        if line.startswith(\">\"): #if line is a FASTA header line\n",
    "            if id: \n",
    "                yield (id, ''.join(seq)) #yield id and sequence\n",
    "            id, seq = line, [] #set id to contents of line and blank sequence\n",
    "            \n",
    "        else:\n",
    "            seq.append(line) #if sequence line, append contents to sequence\n",
    "            \n",
    "    if id:\n",
    "        yield (id, ''.join(seq)) #yield id and sequence\n",
    "\n",
    "#Read file and output each id, sequence and sequence length        \n",
    "with open('illumina_reads.fasta') as f:\n",
    "    for id, seq in parse_fasta_alt(f):\n",
    "        print(id, seq)\n",
    "        print(\"Sequence Length is {}\".format(len(seq)))"
   ]
  },
  {
   "cell_type": "code",
   "execution_count": null,
   "metadata": {
    "button": false,
    "collapsed": true,
    "new_sheet": false,
    "run_control": {
     "read_only": false
    }
   },
   "outputs": [],
   "source": []
  }
 ],
 "metadata": {
  "anaconda-cloud": {},
  "kernelspec": {
   "display_name": "Python 3",
   "language": "python",
   "name": "python3"
  },
  "language_info": {
   "codemirror_mode": {
    "name": "ipython",
    "version": 3
   },
   "file_extension": ".py",
   "mimetype": "text/x-python",
   "name": "python",
   "nbconvert_exporter": "python",
   "pygments_lexer": "ipython3",
   "version": "3.6.2"
  }
 },
 "nbformat": 4,
 "nbformat_minor": 1
}
