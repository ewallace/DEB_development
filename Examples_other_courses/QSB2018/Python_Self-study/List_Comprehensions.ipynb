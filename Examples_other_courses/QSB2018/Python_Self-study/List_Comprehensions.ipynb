{
 "cells": [
  {
   "cell_type": "markdown",
   "metadata": {
    "button": false,
    "new_sheet": false,
    "run_control": {
     "read_only": false
    }
   },
   "source": [
    "# List comprehensions\n",
    "\n",
    "As we have seen, a very common task in Python is to iterate through a list, modifying each element, to create another list. So far we have accomplished this using loops, so to get a list of sequence lengths we might write the following:"
   ]
  },
  {
   "cell_type": "code",
   "execution_count": 1,
   "metadata": {
    "button": false,
    "new_sheet": false,
    "run_control": {
     "read_only": false
    }
   },
   "outputs": [
    {
     "name": "stdout",
     "output_type": "stream",
     "text": [
      "[10, 7, 12, 7, 14]\n"
     ]
    }
   ],
   "source": [
    "sequences = ['AGCTAGCGCT','GTCGATC','CTAGCGATCTCG','GACTTCG','TGACGCTCGCACAC']\n",
    "\n",
    "seq_lengths = []\n",
    "for seq in sequences:\n",
    "    seq_lengths.append(len(seq))\n",
    "print(seq_lengths)\n",
    "\n"
   ]
  },
  {
   "cell_type": "markdown",
   "metadata": {
    "button": false,
    "new_sheet": false,
    "run_control": {
     "read_only": false
    }
   },
   "source": [
    "List comprehensions allow us to create a list from another list much more directly and simply. Using list comprehensions, we could achieve the same as the above code by simply writing:"
   ]
  },
  {
   "cell_type": "code",
   "execution_count": 2,
   "metadata": {
    "button": false,
    "new_sheet": false,
    "run_control": {
     "read_only": false
    }
   },
   "outputs": [
    {
     "name": "stdout",
     "output_type": "stream",
     "text": [
      "[10, 7, 12, 7, 14]\n"
     ]
    }
   ],
   "source": [
    "seq_lengths = [len(seq) for seq in sequences]\n",
    "print(seq_lengths)"
   ]
  },
  {
   "cell_type": "markdown",
   "metadata": {
    "button": false,
    "new_sheet": false,
    "run_control": {
     "read_only": false
    }
   },
   "source": [
    "### Simple mathematical transformations"
   ]
  },
  {
   "cell_type": "code",
   "execution_count": 20,
   "metadata": {
    "button": false,
    "new_sheet": false,
    "run_control": {
     "read_only": false
    }
   },
   "outputs": [
    {
     "name": "stdout",
     "output_type": "stream",
     "text": [
      "[784, 441, 1089, 1024, 784, 961, 625, 1849]\n",
      "[1.4471580313422192, 1.3222192947339193, 1.5185139398778875, 1.505149978319906, 1.4471580313422192, 1.4913616938342726, 1.3979400086720377, 1.6334684555795864]\n"
     ]
    }
   ],
   "source": [
    "diameters = [28, 21, 33, 32, 28, 31, 25, 43]\n",
    "\n",
    "#Create a new list of squared diameters\n",
    "sqr_diameters = [d * d for d in diameters]\n",
    "print(sqr_diameters)\n",
    "\n",
    "#Create a new list of log transformed diameters\n",
    "from math import log10\n",
    "log_diameters = [log10(d) for d in diameters]\n",
    "print(log_diameters)"
   ]
  },
  {
   "cell_type": "markdown",
   "metadata": {
    "button": false,
    "new_sheet": false,
    "run_control": {
     "read_only": false
    }
   },
   "source": [
    "# Incorporating conditional statements\n",
    "\n",
    "List comprehensions can also incorporate conditionals: this way lists can be filtered. In the example below, two conditions are combined using the AND operator.\n"
   ]
  },
  {
   "cell_type": "code",
   "execution_count": 25,
   "metadata": {
    "button": false,
    "new_sheet": false,
    "run_control": {
     "read_only": false
    }
   },
   "outputs": [
    {
     "name": "stdout",
     "output_type": "stream",
     "text": [
      "[1089, 1024, 961]\n"
     ]
    }
   ],
   "source": [
    "diameters = [28, 21, 33, 32, 28, 31, 25, 43]\n",
    "\n",
    "sqr_big_diameters = [d * d for d in diameters if d > 30 and d < 40 ]\n",
    "print(sqr_big_diameters)"
   ]
  },
  {
   "cell_type": "code",
   "execution_count": 26,
   "metadata": {
    "button": false,
    "new_sheet": false,
    "run_control": {
     "read_only": false
    }
   },
   "outputs": [
    {
     "name": "stdout",
     "output_type": "stream",
     "text": [
      "['Even', 'Odd', 'Odd', 'Even', 'Even', 'Odd', 'Odd', 'Odd']\n"
     ]
    }
   ],
   "source": [
    "diameters = [28, 21, 33, 32, 28, 31, 25, 43]\n",
    "\n",
    "odd_even = [\"Even\" if d % 2 == 0 else \"Odd\" for d in diameters]\n",
    "print(odd_even)"
   ]
  },
  {
   "cell_type": "markdown",
   "metadata": {
    "button": false,
    "new_sheet": false,
    "run_control": {
     "read_only": false
    }
   },
   "source": [
    "# Nested conditions\n",
    "\n",
    "List comprehensions can be nested - this is useful for dealing with multidimensional data."
   ]
  },
  {
   "cell_type": "code",
   "execution_count": 18,
   "metadata": {
    "button": false,
    "new_sheet": false,
    "run_control": {
     "read_only": false
    }
   },
   "outputs": [
    {
     "name": "stdout",
     "output_type": "stream",
     "text": [
      "[[1, 4, 7], [2, 5, 8], [3, 6, 9]]\n"
     ]
    }
   ],
   "source": [
    "# Invert a matrix, mat\n",
    "mat = [[1, 2, 3], [4, 5, 6], [7, 8, 9]] \n",
    "inv = [[row[i] for row in mat] for i in range(len(mat[0]))] \n",
    "print(inv)\n"
   ]
  },
  {
   "cell_type": "markdown",
   "metadata": {
    "button": false,
    "new_sheet": false,
    "run_control": {
     "read_only": false
    }
   },
   "source": [
    "# Dictionary comprehensions\n",
    "\n",
    "A dictionary comprehension is similar to a list comprehension, but it constructs a dictionary instead of a list\n"
   ]
  },
  {
   "cell_type": "code",
   "execution_count": 27,
   "metadata": {
    "button": false,
    "new_sheet": false,
    "run_control": {
     "read_only": false
    }
   },
   "outputs": [
    {
     "name": "stdout",
     "output_type": "stream",
     "text": [
      "{0: 0, 1: 1, 2: 4, 3: 9, 4: 16, 5: 25, 6: 36, 7: 49, 8: 64, 9: 81}\n"
     ]
    }
   ],
   "source": [
    "#Create a dictionary of integers (keys) and squares of integers (values)\n",
    "squared_dict = {x: x**2 for x in range(10)}\n",
    "print(squared_dict)"
   ]
  },
  {
   "cell_type": "code",
   "execution_count": 35,
   "metadata": {
    "button": false,
    "new_sheet": false,
    "run_control": {
     "read_only": false
    }
   },
   "outputs": [
    {
     "name": "stdout",
     "output_type": "stream",
     "text": [
      "{'G': 'C', 'T': 'A', 'C': 'G', 'A': 'T'}\n"
     ]
    }
   ],
   "source": [
    "#Create a dictionary of complementary DNA bases\n",
    "bases = 'ACTGTGAC'\n",
    "#produce a dictionary of each base (key) to the corresponding complementary base (value)\n",
    "#this could be used for reverse complementing DNA, although in this case it would be simpler to type in the dictionary\n",
    "complement_dict = {bases[i]:bases[i+4] for i in range(4)}\n",
    "print(complement_dict)"
   ]
  },
  {
   "cell_type": "code",
   "execution_count": null,
   "metadata": {
    "button": false,
    "collapsed": true,
    "new_sheet": false,
    "run_control": {
     "read_only": false
    }
   },
   "outputs": [],
   "source": []
  },
  {
   "cell_type": "code",
   "execution_count": null,
   "metadata": {
    "button": false,
    "collapsed": true,
    "new_sheet": false,
    "run_control": {
     "read_only": false
    }
   },
   "outputs": [],
   "source": []
  }
 ],
 "metadata": {
  "anaconda-cloud": {},
  "kernelspec": {
   "display_name": "Python 3",
   "language": "python",
   "name": "python3"
  },
  "language_info": {
   "codemirror_mode": {
    "name": "ipython",
    "version": 3
   },
   "file_extension": ".py",
   "mimetype": "text/x-python",
   "name": "python",
   "nbconvert_exporter": "python",
   "pygments_lexer": "ipython3",
   "version": "3.6.2"
  }
 },
 "nbformat": 4,
 "nbformat_minor": 1
}
