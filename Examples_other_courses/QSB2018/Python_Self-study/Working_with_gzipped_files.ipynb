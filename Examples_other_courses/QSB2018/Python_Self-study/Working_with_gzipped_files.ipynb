{
 "cells": [
  {
   "cell_type": "markdown",
   "metadata": {
    "collapsed": true
   },
   "source": [
    "# Working with gzipped files in Python\n",
    "\n",
    "Since biological data files are often very large text files, they may be compressed using compression methods such as gzip. This reduces their storage requirments dramatically but can also increase the speed at which these files can be processed. \n",
    "\n",
    "Opening a gzipped file in Python is as easy as importing the gzip module, then using the gzip.open() function in place of the usual open(). Note that since file reading will default to assuming the file is binary, you need to specify the 'rt' parameter to ensure text format reading. \n"
   ]
  },
  {
   "cell_type": "code",
   "execution_count": null,
   "metadata": {
    "collapsed": true
   },
   "outputs": [],
   "source": [
    "import gzip\n",
    "\n",
    "f = gzip.open(\"big_data_file.gz\", \"rt\") #open, read as text\n",
    "for line in f:\n",
    "    print(line) #You probably want to do something more interesting than just print the line here...             \n",
    "f.close()\n"
   ]
  },
  {
   "cell_type": "markdown",
   "metadata": {
    "collapsed": true
   },
   "source": [
    "\n",
    "Alternatively, you can use Python's with  statement to automatically close the file after the nested block of code. One advantage of this is that it will close the file regardless of how the nested block exits - i.e. even if the block contains return, break  or continue ."
   ]
  },
  {
   "cell_type": "code",
   "execution_count": null,
   "metadata": {
    "collapsed": true
   },
   "outputs": [],
   "source": [
    "import gzip\n",
    "\n",
    "with gzip.open(\"big_data_file.gz\", \"rt\") as f:\n",
    "    for line in f:\n",
    "        if line_number == 1:\n",
    "            line = line.rstrip(\"\\n\")\n",
    "            barcode = line.split(\":\")[-1]\n",
    "            print(barcode)\n",
    "            line_number += 1"
   ]
  },
  {
   "cell_type": "markdown",
   "metadata": {},
   "source": [
    "# Writing to gzipped files\n",
    "\n",
    "Writing directly to a gzip compressed file is equally simple as reading from one. "
   ]
  },
  {
   "cell_type": "code",
   "execution_count": 3,
   "metadata": {
    "collapsed": true
   },
   "outputs": [],
   "source": [
    "with gzip.open('output.txt.gz', 'wt') as outfile: #wt writes in text mode – wb for binary\n",
    "    outfile.write(\"Test to Write\" )"
   ]
  },
  {
   "cell_type": "code",
   "execution_count": null,
   "metadata": {
    "collapsed": true
   },
   "outputs": [],
   "source": []
  }
 ],
 "metadata": {
  "anaconda-cloud": {},
  "kernelspec": {
   "display_name": "Python [conda root]",
   "language": "python",
   "name": "conda-root-py"
  },
  "language_info": {
   "codemirror_mode": {
    "name": "ipython",
    "version": 3
   },
   "file_extension": ".py",
   "mimetype": "text/x-python",
   "name": "python",
   "nbconvert_exporter": "python",
   "pygments_lexer": "ipython3",
   "version": "3.5.2"
  }
 },
 "nbformat": 4,
 "nbformat_minor": 1
}
