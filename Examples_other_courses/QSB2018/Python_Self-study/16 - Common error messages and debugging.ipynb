{
 "cells": [
  {
   "cell_type": "markdown",
   "metadata": {},
   "source": [
    "# Debugging your code\n",
    "\n",
    "When your code produces an error when it is run or it gives unexpected results, it is time to debug your code. Debugging is the process of figuring out what is going wrong with your code. \n",
    "\n",
    "Python includes a module known as [pdb](https://docs.python.org/3/library/pdb.html) that is suitable for debugging long, advanced or complex programs, but that is too complicated and unnecessary for the programs we will produce in this course.\n",
    "\n",
    "* Error messages - if your code is producing an error, the error message will often be sufficient to highlight the location of the mistake. Additional help with error messages is given later in these section, but if you don't understand your error code, it is a good idea to copy it into a web search.\n",
    "  *  Have you: Closed all brackets and quotation marks, remembered the colon in loops and conditional statements, or made an empty list or dictionary before adding items to it using append. \n",
    "\n",
    "* Print statement debugging - if your code is returning an unexpected result, use internal print statements to check the values (and type) of variables being assigned. \n",
    "* Work backwards to trace the error - comment out later parts of your code and work backwards systematically until your code is no longer producing the error. When coding, it is often best to work progressively and test whether your code is performing as expected before you continue to coding the next section. \n",
    "\n",
    "# Common error messages\n",
    "\n",
    "#### Syntax errors\n",
    "\n",
    "Python is very sensitive to syntax errors: that is incorrect or missing characters or incorrect usage of the Python language. If we make a syntax error, Python will display a SyntaxError message like the one below. Here we have missed the quotes around out string - Python indicates that our error is on line 2 of our script to assist us in finding it."
   ]
  },
  {
   "cell_type": "code",
   "execution_count": 2,
   "metadata": {},
   "outputs": [
    {
     "ename": "SyntaxError",
     "evalue": "invalid syntax (<ipython-input-2-e3c552d3b18e>, line 2)",
     "output_type": "error",
     "traceback": [
      "\u001b[0;36m  File \u001b[0;32m\"<ipython-input-2-e3c552d3b18e>\"\u001b[0;36m, line \u001b[0;32m2\u001b[0m\n\u001b[0;31m    print(One mole of a substance is equal to {:.3E} molecules.format(avogadros_constant))\u001b[0m\n\u001b[0m                 ^\u001b[0m\n\u001b[0;31mSyntaxError\u001b[0m\u001b[0;31m:\u001b[0m invalid syntax\n"
     ]
    }
   ],
   "source": [
    "avogadros_constant = 602214141070409084099072\n",
    "print(One mole of a substance is equal to {:.3E} molecules.format(avogadros_constant))"
   ]
  },
  {
   "cell_type": "markdown",
   "metadata": {},
   "source": [
    "Python is also very sensitive to indentation. You can use either tabs or spaces (4 spaces per indent level) to indent you code blocks within loops. If you don't indent the next line after a loop or conditional statement, or if you mix space indents with tab indents, Python will raise an IndentationError."
   ]
  },
  {
   "cell_type": "code",
   "execution_count": 3,
   "metadata": {},
   "outputs": [
    {
     "ename": "IndentationError",
     "evalue": "expected an indented block (<ipython-input-3-60b55ee20f61>, line 2)",
     "output_type": "error",
     "traceback": [
      "\u001b[0;36m  File \u001b[0;32m\"<ipython-input-3-60b55ee20f61>\"\u001b[0;36m, line \u001b[0;32m2\u001b[0m\n\u001b[0;31m    print(number)\u001b[0m\n\u001b[0m        ^\u001b[0m\n\u001b[0;31mIndentationError\u001b[0m\u001b[0;31m:\u001b[0m expected an indented block\n"
     ]
    }
   ],
   "source": [
    "for number in range (1,10):\n",
    "print(number)"
   ]
  },
  {
   "cell_type": "markdown",
   "metadata": {},
   "source": [
    "#### Incorrect use of assignment operator instead of comparator operator\n",
    "\n",
    "Conditional statements require the evaluation of boolean statements: i.e. those that return True or False. One common mistake is the use of an assignment operator `=` in place of the equality comparator operator `==`. This will usually raise only a syntax error, but this will lead you to the line containing the error."
   ]
  },
  {
   "cell_type": "code",
   "execution_count": 1,
   "metadata": {},
   "outputs": [
    {
     "ename": "SyntaxError",
     "evalue": "invalid syntax (<ipython-input-1-caa9aaba2483>, line 2)",
     "output_type": "error",
     "traceback": [
      "\u001b[1;36m  File \u001b[1;32m\"<ipython-input-1-caa9aaba2483>\"\u001b[1;36m, line \u001b[1;32m2\u001b[0m\n\u001b[1;33m    if cell_type = \"hepatocyte\":\u001b[0m\n\u001b[1;37m                 ^\u001b[0m\n\u001b[1;31mSyntaxError\u001b[0m\u001b[1;31m:\u001b[0m invalid syntax\n"
     ]
    }
   ],
   "source": [
    "cell_type = \"hepatocyte\"\n",
    "if cell_type = \"hepatocyte\":\n",
    "\tprint(\"This is a liver cell\")"
   ]
  },
  {
   "cell_type": "markdown",
   "metadata": {},
   "source": [
    "### Other error codes\n",
    "\n",
    "Python raises a wide range of error codes, and often the best way to sort out a problem or understand a particular error code is to copy and paste the error code text into a web search. You will not be the first person to encounter a particular error, and you will most likely find some search results that are appropriate to the problem you have encountered. Copying an error into a web search is usually good source of help for unknown error messages (often you will find it points to answers in a website called 'Stack Overflow')."
   ]
  },
  {
   "cell_type": "code",
   "execution_count": null,
   "metadata": {
    "collapsed": true
   },
   "outputs": [],
   "source": []
  }
 ],
 "metadata": {
  "anaconda-cloud": {},
  "kernelspec": {
   "display_name": "Python 3",
   "language": "python",
   "name": "python3"
  },
  "language_info": {
   "codemirror_mode": {
    "name": "ipython",
    "version": 3
   },
   "file_extension": ".py",
   "mimetype": "text/x-python",
   "name": "python",
   "nbconvert_exporter": "python",
   "pygments_lexer": "ipython3",
   "version": "3.6.2"
  }
 },
 "nbformat": 4,
 "nbformat_minor": 1
}
