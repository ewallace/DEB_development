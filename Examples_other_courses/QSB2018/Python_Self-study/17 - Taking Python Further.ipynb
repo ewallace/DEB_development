{
 "cells": [
  {
   "cell_type": "markdown",
   "metadata": {
    "button": false,
    "new_sheet": false,
    "run_control": {
     "read_only": false
    }
   },
   "source": [
    "# Congratulations!\n",
    "\n",
    "You have now finished the last of the 'Introduction to Python' notebooks. Along the way you will have learned all the programming concepts and Python language syntax to enable you to write very powerful programs for data analysis or modelling biological systems. \n",
    "\n",
    "Python also has some Python-specific features that can make coding easier, faster and clearer, and there are also additional Python coding techniques and libraries that can make the programmer's life much easier.\n",
    "\n",
    "# Advanced Python\n",
    "\n",
    "The following is a list of more advanced Python topics you may want to look up - they are not required for the course but are provided for interest and for anyone who wants to take their Python further at this point. \n",
    "\n",
    "* Sets - another useful data structure (more info in [this notebook](Sets.ipynb))\n",
    "* List comprehensions (more info in [this notebook](List_Comprehensions.ipynb))\n",
    "* Regular Expressions\n",
    "* DefaultDict and OrderedDict\n",
    "* Handling exceptions\n",
    "* Working with Gzipped files (more info in [this notebook](Working_with_gzipped_files.ipynb))\n",
    "\n",
    "More advanced:\n",
    "\n",
    "* Args and kwargs\n",
    "* Generators\n",
    "* Lambda functions\n",
    "\n"
   ]
  },
  {
   "cell_type": "markdown",
   "metadata": {
    "button": false,
    "collapsed": true,
    "new_sheet": false,
    "run_control": {
     "read_only": false
    }
   },
   "source": [
    "# Sources of further Python exercises\n",
    "    \n",
    "| Resource | Link |\n",
    "|:-------------------|:-----|\n",
    "|Rosalind Project:  a number of Python bioinformatics challenges from the very simple level to advanced|http://rosalind.info |\n",
    "|How to make mistakes in Python (free e-book)|http://www.oreilly.com/programming/free/how-to-make-mistakes-in-python.csp|\n",
    "|Project Euler - quite advanced mathematical pramming problems| https://projecteuler.net |\n",
    "|Kaggle: Data Science and Machine Learning| https://www.kaggle.com |"
   ]
  },
  {
   "cell_type": "code",
   "execution_count": null,
   "metadata": {
    "button": false,
    "collapsed": true,
    "new_sheet": false,
    "run_control": {
     "read_only": false
    }
   },
   "outputs": [],
   "source": []
  }
 ],
 "metadata": {
  "anaconda-cloud": {},
  "kernelspec": {
   "display_name": "Python 3",
   "language": "python",
   "name": "python3"
  },
  "language_info": {
   "codemirror_mode": {
    "name": "ipython",
    "version": 3
   },
   "file_extension": ".py",
   "mimetype": "text/x-python",
   "name": "python",
   "nbconvert_exporter": "python",
   "pygments_lexer": "ipython3",
   "version": "3.6.2"
  }
 },
 "nbformat": 4,
 "nbformat_minor": 1
}
