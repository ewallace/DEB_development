{
 "cells": [
  {
   "cell_type": "markdown",
   "metadata": {
    "button": false,
    "new_sheet": false,
    "run_control": {
     "read_only": false
    }
   },
   "source": [
    "# Modules\n",
    "\n",
    "Python modules are groups of functions, classes or variables that you can import into your program to save you having to write them yourself. \n",
    "\n",
    "For example, Python has a math module that provides a range of mathematical functions. To use a module, we first need to import it: for the math module we do this by placing the statement `import math` at the beginning of our program. It is conventional to place all import statements at the beginning of your code, instead of importing modules just when you need them.\n",
    "\n",
    "Our module object will now be created, which means that all of the functions available in the module will now be available to use by prefixing the name of the function with the module name."
   ]
  },
  {
   "cell_type": "code",
   "execution_count": 1,
   "metadata": {
    "button": false,
    "new_sheet": false,
    "run_control": {
     "read_only": false
    }
   },
   "outputs": [
    {
     "name": "stdout",
     "output_type": "stream",
     "text": [
      "Change in protein level is 16.04 fold\n",
      "Log10 fold change in protein level is 1.21\n"
     ]
    }
   ],
   "source": [
    "import math\n",
    "#define protein expression levels pre- and post-stimulation\n",
    "expr_pre_stim = 13029\n",
    "expr_post_stim = 208928\n",
    "#calculate fold change in expression\n",
    "fold_change_expr = expr_post_stim / expr_pre_stim\n",
    "log10_fold_change = math.log10(fold_change_expr)\n",
    "#output \n",
    "print(\"Change in protein level is {0:.2f} fold\".format(fold_change_expr) )\n",
    "print(\"Log10 fold change in protein level is {0:.2f}\".format(log10_fold_change) )"
   ]
  },
  {
   "cell_type": "code",
   "execution_count": 3,
   "metadata": {
    "button": false,
    "new_sheet": false,
    "run_control": {
     "read_only": false
    }
   },
   "outputs": [
    {
     "name": "stdout",
     "output_type": "stream",
     "text": [
      "12.0\n"
     ]
    }
   ],
   "source": [
    "import math\n",
    "print(math.sqrt(144)) # prints 12.0"
   ]
  },
  {
   "cell_type": "markdown",
   "metadata": {
    "button": false,
    "new_sheet": false,
    "run_control": {
     "read_only": false
    }
   },
   "source": [
    "More available functions in the math module are listed in the Python documentation at [https://docs.python.org/3/library/math.html](https://docs.python.org/3/library/math.html)"
   ]
  },
  {
   "cell_type": "markdown",
   "metadata": {
    "button": false,
    "new_sheet": false,
    "run_control": {
     "read_only": false
    }
   },
   "source": [
    "Remember that exercise where you wrote code to calculate a mean and median? There is a Python module named statistics that can do that for you. A full list of functions in the statistics module is at [https://docs.python.org/3/library/statistics.html](https://docs.python.org/3/library/statistics.html)"
   ]
  },
  {
   "cell_type": "code",
   "execution_count": 1,
   "metadata": {
    "button": false,
    "new_sheet": false,
    "run_control": {
     "read_only": false
    }
   },
   "outputs": [
    {
     "name": "stdout",
     "output_type": "stream",
     "text": [
      "57.81818181818182\n",
      "58\n"
     ]
    }
   ],
   "source": [
    "import statistics\n",
    "\n",
    "diameters = [56, 65, 45, 65, 57, 59, 57, 60, 58, 60, 54]\n",
    "print(statistics.mean(diameters))\n",
    "print(statistics.median(diameters))"
   ]
  },
  {
   "cell_type": "markdown",
   "metadata": {},
   "source": [
    "## Optional Arguments\n",
    "When exploring new modules, you may find some functions are defined like this:\n",
    "\n",
    "    statistics.pvariance(data, mu=None)\n",
    "\n",
    "Here, the second argument to the function, `mu`, is said to be optional. This means that if you call the function with just one argument:\n",
    "\n",
    "    statistics.pvariance(data)\n",
    "\n",
    "The value of mu is set to the default, which in this case is `None`. The documentation for the statistics module tells us the functionality of the second argument:\n",
    "\n",
    "> If the optional second argument mu is given, it should be the mean of data. If it is missing or None (the default), the mean is automatically calculated.\n",
    "\n"
   ]
  },
  {
   "cell_type": "markdown",
   "metadata": {
    "button": false,
    "new_sheet": false,
    "run_control": {
     "read_only": false
    }
   },
   "source": [
    "# Exercise\n",
    "-----\n",
    "\n",
    "* A really important programming skill is to be able to look up Python documentation and online help files. Even experienced programmers often used web searches such as Google to find modules or example code to help them perform a new task or to remind them of coding syntax. Python also has a statistics module that can be imported and used in a very similar way to the math module. Use online searches to help you write code that uses the statistics module to generate the median and standard deviation of the list values below.\n"
   ]
  },
  {
   "cell_type": "code",
   "execution_count": 4,
   "metadata": {
    "button": false,
    "new_sheet": false,
    "run_control": {
     "read_only": false
    }
   },
   "outputs": [
    {
     "name": "stdout",
     "output_type": "stream",
     "text": [
      "11.77880426380613\n"
     ]
    }
   ],
   "source": [
    "cell_diameters = [114, 112, 119, 93, 112, 106, 107, 114, 103, 90, 119, 118, 93, 89, 86, 105, 88, 112, 115, 99, 88, 108, 80, 92, 85, 97, 87, 91, 100, 104]\n",
    "#calculate the median and standard deviation of the cell diameters\n",
    "import statistics\n",
    "\n",
    "print(statistics.stdev(cell_diameters))\n"
   ]
  },
  {
   "cell_type": "markdown",
   "metadata": {
    "button": false,
    "new_sheet": false,
    "run_control": {
     "read_only": false
    }
   },
   "source": [
    "* Using web searches, find out how to write code to generate a random number between 1 and 100."
   ]
  },
  {
   "cell_type": "code",
   "execution_count": null,
   "metadata": {
    "button": false,
    "collapsed": true,
    "new_sheet": false,
    "run_control": {
     "read_only": false
    }
   },
   "outputs": [],
   "source": []
  }
 ],
 "metadata": {
  "anaconda-cloud": {},
  "kernelspec": {
   "display_name": "Python 3",
   "language": "python",
   "name": "python3"
  },
  "language_info": {
   "codemirror_mode": {
    "name": "ipython",
    "version": 3
   },
   "file_extension": ".py",
   "mimetype": "text/x-python",
   "name": "python",
   "nbconvert_exporter": "python",
   "pygments_lexer": "ipython3",
   "version": "3.6.2"
  }
 },
 "nbformat": 4,
 "nbformat_minor": 1
}
