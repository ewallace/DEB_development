{
 "cells": [
  {
   "cell_type": "markdown",
   "metadata": {
    "button": false,
    "new_sheet": false,
    "run_control": {
     "read_only": false
    }
   },
   "source": [
    "<img style=\"float: right;\" src=\"images/pylogo.png\">\n",
    "\n",
    "## Introduction to Python\n",
    "\n",
    "This course is designed to introduce the fundamentals of Python to biologists who need to handle, manipulate and visualize large datasets. By the end of the course, you will be able to create programs written in the Python programming language to manipulate and analyse biological data sets.\n",
    "\n",
    "This course makes use of Jupyter notebooks - these are able to display boxes of explanatory text (such as this one), and can also contain live code boxes and the output from that code. This means you will be able to run the code examples given, but also modify and experiment with them so that you really understand the principles being taught.  \n",
    "<br>\n",
    "<div class=\"alert alert-info\">\n",
    "**Experimenting with the code examples is highly encouraged** <br> -this will help you to understand fully what it is doing and how it works. If you experiment and break the code, you can undo your last command using ctrl-Z (cmd-Z on Mac).\n",
    "</div>\n",
    "\n",
    "In these instructions, where specific words that form part of the Python programming language occur, they will be highlighted - for example I may talk about a `for` loop. Blocks of Python code are inserted in specific code cells such as that below. The output of the block can be seen immediately below the cell. "
   ]
  },
  {
   "cell_type": "code",
   "execution_count": 1,
   "metadata": {
    "button": false,
    "new_sheet": false,
    "run_control": {
     "frozen": false,
     "read_only": false
    }
   },
   "outputs": [
    {
     "name": "stdout",
     "output_type": "stream",
     "text": [
      "This is a block of code\n",
      "This is a second line of code\n"
     ]
    }
   ],
   "source": [
    "print(\"This is a block of code\")\n",
    "print(\"This is a second line of code\")"
   ]
  },
  {
   "cell_type": "markdown",
   "metadata": {
    "button": false,
    "new_sheet": false,
    "run_control": {
     "read_only": false
    }
   },
   "source": [
    "# Table of Course Contents\n",
    "\n",
    "|Notebook number| Topic | To Be Completed ...|\n",
    "|:---------:|:---------|:----------|\n",
    "|01|About this course|Before Workshop 1|\n",
    "|02|Introduction to Jupyter notebooks|Before Workshop 1|\n",
    "|03|Hello World and Comments|Before Workshop 1|\n",
    "|04|Variables|Before Workshop 1|\n",
    "|05|Working with Numbers|Before Workshop 1|\n",
    "|06|Working with text - strings|During Workshop 1|\n",
    "|07|Conditional Statements|Before Workshop 2|\n",
    "|08|Lists|Before Workshop 2|\n",
    "|09|Loops|Before Workshop 2|\n",
    "|10|Dictionaries|Before Workshop 2|\n",
    "|11|Dictionaries: translating DNA|Before Workshop 2|\n",
    "|12|Working with files|Before Workshop 3|\n",
    "|13|Common biological data files|Before Workshop 3|\n",
    "|14|Functions|Before Workshop 4|\n",
    "|15|Using Modules|Before Workshop 4|\n",
    "|16|Common error messages and debugging|Before Workshop 4|\n",
    "|17|Taking Python Further|Before Workshop 4|\n"
   ]
  },
  {
   "cell_type": "markdown",
   "metadata": {
    "button": false,
    "collapsed": true,
    "new_sheet": false,
    "run_control": {
     "read_only": false
    }
   },
   "source": [
    "Image credits: all images throughout this course are from https://unsplash.com/ unless otherwise credited."
   ]
  },
  {
   "cell_type": "code",
   "execution_count": null,
   "metadata": {
    "button": false,
    "collapsed": true,
    "new_sheet": false,
    "run_control": {
     "read_only": false
    }
   },
   "outputs": [],
   "source": []
  }
 ],
 "metadata": {
  "anaconda-cloud": {},
  "hide_input": false,
  "kernelspec": {
   "display_name": "Python 3",
   "language": "python",
   "name": "python3"
  },
  "language_info": {
   "codemirror_mode": {
    "name": "ipython",
    "version": 3
   },
   "file_extension": ".py",
   "mimetype": "text/x-python",
   "name": "python",
   "nbconvert_exporter": "python",
   "pygments_lexer": "ipython3",
   "version": "3.6.2"
  }
 },
 "nbformat": 4,
 "nbformat_minor": 1
}
