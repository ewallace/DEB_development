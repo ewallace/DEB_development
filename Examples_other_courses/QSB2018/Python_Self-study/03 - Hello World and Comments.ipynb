{
 "cells": [
  {
   "cell_type": "markdown",
   "metadata": {
    "button": false,
    "new_sheet": false,
    "run_control": {
     "read_only": false
    }
   },
   "source": [
    "## Hello, World!\n",
    "\n",
    "![](images/hello_world_geek-born.jpg)\n",
    "\n",
    "'Hello, World!' is a traditional introductory exercise in programming with origins dating back as far as the mid 1970s. It has become an almost universal first step taught in all programming languages. \n",
    "\n",
    "The task is to write a program to display the text 'Hello, World!' on the computer screen, and by presenting such an easy task ensures you are ready to begin to learn to code in your chosen language.\n",
    "\n",
    "To print 'Hello, World' in Python, type  `print(\"Hello, World!\")` into the empty code cell below, then press control+enter to run the cell."
   ]
  },
  {
   "cell_type": "code",
   "execution_count": null,
   "metadata": {
    "button": false,
    "collapsed": true,
    "new_sheet": false,
    "run_control": {
     "frozen": false,
     "read_only": false
    }
   },
   "outputs": [],
   "source": []
  },
  {
   "cell_type": "markdown",
   "metadata": {
    "button": false,
    "new_sheet": false,
    "run_control": {
     "read_only": false
    }
   },
   "source": [
    "## Comments\n",
    "\n",
    "Like most computer languages, Python allows the programmer to add comments within the program to describe what a part of the code does or how it works to anyone trying to read and understand the program. Such comments are also often extremely useful to the original programmer to later remember why they implemented an algorithm a particular way.\n",
    "\n",
    "Python comments are always prefixed with a # symbol and extend to the end of the line - they can stand on their own line or can appear after a line of code. Python ignores all text after the # to the end of the line, so the comments have no effect on how the program runs.\n"
   ]
  },
  {
   "cell_type": "code",
   "execution_count": 3,
   "metadata": {
    "button": false,
    "new_sheet": false,
    "run_control": {
     "frozen": false,
     "read_only": false
    }
   },
   "outputs": [
    {
     "name": "stdout",
     "output_type": "stream",
     "text": [
      "Hello, World\n"
     ]
    }
   ],
   "source": [
    "#this is a comment in Python\n",
    "print(\"Hello, World\") #This is another a comment in Python"
   ]
  }
 ],
 "metadata": {
  "anaconda-cloud": {},
  "hide_input": false,
  "kernelspec": {
   "display_name": "Python 3",
   "language": "python",
   "name": "python3"
  },
  "language_info": {
   "codemirror_mode": {
    "name": "ipython",
    "version": 3
   },
   "file_extension": ".py",
   "mimetype": "text/x-python",
   "name": "python",
   "nbconvert_exporter": "python",
   "pygments_lexer": "ipython3",
   "version": "3.6.2"
  }
 },
 "nbformat": 4,
 "nbformat_minor": 1
}
