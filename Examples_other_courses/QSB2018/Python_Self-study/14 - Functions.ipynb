{
 "cells": [
  {
   "cell_type": "markdown",
   "metadata": {
    "button": false,
    "new_sheet": false,
    "run_control": {
     "read_only": false
    }
   },
   "source": [
    "# Functions\n",
    "\n",
    "Functions are blocks of reusable code used to perform an action. We have already been using lots of Python's inbuilt functions such as `print()` or `len()`. \n",
    "\n",
    "You can also define your own functions in your programs so that you can re-use your code throughout your programs. Reusing code not only makes your programs shorter and more organised, it makes the code much easier to maintain as you only have to modify the single function rather than find and edit the code wherever you have performed the specific action.\n",
    "\n",
    "Functions are defined according to the following template:\n",
    "\n",
    "```python\n",
    "def name_of_function(parameters):\n",
    "    \"\"\"docstring describing what the function does\"\"\"\n",
    "    #place code to perform function here\n",
    "    return [expression]\n",
    "```\n",
    "\n",
    "### Hello, World! function\n",
    "\n",
    "Let's start off with writing a very simple function. Not all lines in the above example are essential - and it is not necessary to have any parameters to return a value from your function. Doc_strings are also not essential, but are useful and good practice.\n",
    "\n",
    "A simple function to write \"Hello, World!\" is shown in the example below, which also **calls** the function."
   ]
  },
  {
   "cell_type": "code",
   "execution_count": null,
   "metadata": {
    "button": false,
    "collapsed": true,
    "new_sheet": false,
    "run_control": {
     "read_only": false
    }
   },
   "outputs": [],
   "source": [
    "def printHelloWorld():\n",
    "    \"\"\"This function prints Hello World\"\"\"\n",
    "    print(\"Hello, World!\")\n",
    "printHelloWorld()"
   ]
  },
  {
   "cell_type": "markdown",
   "metadata": {
    "button": false,
    "new_sheet": false,
    "run_control": {
     "read_only": false
    }
   },
   "source": [
    "### Passing arguments to functions\n",
    "\n",
    "The above function is an example of a void function - it performs an action but it doesn't `return` anything when called. Often we'll want to pass some data to our function when we call it: we do that by specifying variables or values as arguments when we call our function. The arguments as included in the parentheses after the function name. \n"
   ]
  },
  {
   "cell_type": "code",
   "execution_count": 9,
   "metadata": {
    "button": false,
    "new_sheet": false,
    "run_control": {
     "read_only": false
    }
   },
   "outputs": [
    {
     "name": "stdout",
     "output_type": "stream",
     "text": [
      "It works!\n"
     ]
    }
   ],
   "source": [
    "def reverseString(text):\n",
    "    \"\"\"Returns a reversed string\"\"\"\n",
    "    print(text[::-1])\n",
    "\n",
    "reverseString(\"!skrow tI\")"
   ]
  },
  {
   "cell_type": "markdown",
   "metadata": {
    "button": false,
    "new_sheet": false,
    "run_control": {
     "read_only": false
    }
   },
   "source": [
    "The function below prints the reverse complement of whatever DNA sequence is passed to it as an argument when the function is called. The function is first called using a string as an argument (`printRevComp(\"GTGCGCTACGCG\")`), then called using a string variable as an argument (`printRevComp(primer_sequence)`). \n",
    "\n"
   ]
  },
  {
   "cell_type": "code",
   "execution_count": 1,
   "metadata": {
    "button": false,
    "new_sheet": false,
    "run_control": {
     "read_only": false
    }
   },
   "outputs": [
    {
     "name": "stdout",
     "output_type": "stream",
     "text": [
      "CGCGTAGCGCAC\n",
      "TATCGTATGGTAATCCAT\n"
     ]
    }
   ],
   "source": [
    "def printRevComp(dna_seq):\n",
    "    \"\"\"This function prints the reverse complement of DNA sequences\"\"\"\n",
    "    \n",
    "    seq_dict = {'A':'T','T':'A','G':'C','C':'G'} #dictionary of DNA complmentary bases\n",
    "    rev_comp=\"\" #define an empty string to add reverse complemented based to\n",
    "    \n",
    "    for base in reversed(dna_seq): #the reversed() function makes the iteration go in reverse order\n",
    "        rev_comp += seq_dict[base] # add the complementary base in the seq_dict dictionary to rev_comp\n",
    "        \n",
    "    print(rev_comp)\n",
    "    \n",
    "printRevComp(\"GTGCGCTACGCG\")\n",
    "primer_sequence = \"ATGGATTACCATACGATA\"\n",
    "printRevComp(primer_sequence)"
   ]
  },
  {
   "cell_type": "markdown",
   "metadata": {
    "button": false,
    "new_sheet": false,
    "run_control": {
     "read_only": false
    }
   },
   "source": [
    "### Returning values from a function\n",
    "\n",
    "In the examples above, we printed from directly within our function, so our function did not return any value when called. In the example below, the function has been modified to return the reverse complemented sequence when called, instead of just printing it. This is more versatile as it means that you have the option of printing the returned value (e.g. `print(revComp(primer_sequence))` ) or doing something else with it. "
   ]
  },
  {
   "cell_type": "code",
   "execution_count": 7,
   "metadata": {
    "button": false,
    "new_sheet": false,
    "run_control": {
     "read_only": false
    }
   },
   "outputs": [
    {
     "name": "stdout",
     "output_type": "stream",
     "text": [
      "It works!\n"
     ]
    }
   ],
   "source": [
    "#Modification of the prior example, now using a return statement within the function\n",
    "def reverseString(text):\n",
    "    \"\"\"Returns a reversed string\"\"\"\n",
    "    return(text[::-1])\n",
    "\n",
    "result = reverseString(\"!skrow tI\")\n",
    "print(result)"
   ]
  },
  {
   "cell_type": "markdown",
   "metadata": {
    "button": false,
    "new_sheet": false,
    "run_control": {
     "read_only": false
    }
   },
   "source": [
    "In the example below, the function is used to provide the reverse complement of the primer sequence - this way the presence of the primer sequence in the sequence read will be detected regardless of whether it is in a 5' to 3' or 3' to 5' orientation. "
   ]
  },
  {
   "cell_type": "code",
   "execution_count": 4,
   "metadata": {
    "button": false,
    "new_sheet": false,
    "run_control": {
     "read_only": false
    }
   },
   "outputs": [
    {
     "name": "stdout",
     "output_type": "stream",
     "text": [
      "TATCGTATGGTAATCCAT\n"
     ]
    }
   ],
   "source": [
    "def revComp(dna_seq):\n",
    "    \"\"\"This function returns the reverse compliment of DNA sequences\"\"\"\n",
    "    seq_dict = {'A':'T','T':'A','G':'C','C':'G'} #dictionary of DNA complmentary bases\n",
    "    rev_comp=\"\" #define an empty string to add reverse complemented based to\n",
    "    \n",
    "    for base in reversed(dna_seq): #the reversed() function makes the iteration go in reverse order\n",
    "        rev_comp += seq_dict[base] # add the complementary base in the seq_dict dictionary to rev_comp\n",
    "        \n",
    "    return rev_comp\n",
    "    \n",
    "primer_sequence = \"ATGGATTACCATACGATA\"\n",
    "sequence_read = \"ACGTACGATGCATGCATGCTAGCTCGGCATGCTATCGTATGGTAATCCATACGCTCGAT\"\n",
    "print(revComp(primer_sequence))"
   ]
  },
  {
   "cell_type": "markdown",
   "metadata": {
    "button": false,
    "new_sheet": false,
    "run_control": {
     "read_only": false
    }
   },
   "source": [
    "Note: these examples are written in a simple form using Python sytax we have already encountered in this course. As you progress in learning Python, you'll learn new ways to do things, such as list comprehensions and generators which would make writing these functions simpler. You'll also want to consider handling exceptions - what would happen if you passed a non-DNA sequence to the revComp function, or if your DNA sequence was in lower case characters? "
   ]
  },
  {
   "cell_type": "markdown",
   "metadata": {
    "button": false,
    "new_sheet": false,
    "run_control": {
     "read_only": false
    }
   },
   "source": [
    "# Exercises\n",
    "\n",
    "* Modify the revComp function example so that it can handle lowercase DNA sequences.\n",
    "\n"
   ]
  },
  {
   "cell_type": "code",
   "execution_count": null,
   "metadata": {
    "button": false,
    "collapsed": true,
    "new_sheet": false,
    "run_control": {
     "read_only": false
    }
   },
   "outputs": [],
   "source": []
  },
  {
   "cell_type": "markdown",
   "metadata": {
    "button": false,
    "collapsed": true,
    "new_sheet": false,
    "run_control": {
     "read_only": false
    }
   },
   "source": [
    "* Write a function which returns the square of a number."
   ]
  },
  {
   "cell_type": "code",
   "execution_count": null,
   "metadata": {
    "button": false,
    "collapsed": true,
    "new_sheet": false,
    "run_control": {
     "read_only": false
    }
   },
   "outputs": [],
   "source": []
  },
  {
   "cell_type": "markdown",
   "metadata": {
    "button": false,
    "new_sheet": false,
    "run_control": {
     "read_only": false
    }
   },
   "source": [
    "\n",
    "* Modify your function above to take a list as an argument and return a list of squared values."
   ]
  },
  {
   "cell_type": "code",
   "execution_count": null,
   "metadata": {
    "button": false,
    "collapsed": true,
    "new_sheet": false,
    "run_control": {
     "read_only": false
    }
   },
   "outputs": [],
   "source": []
  },
  {
   "cell_type": "markdown",
   "metadata": {
    "button": false,
    "new_sheet": false,
    "run_control": {
     "read_only": false
    }
   },
   "source": [
    "* Write a function that converts feet to metres (there are 3.28084 feet in one metre). Use that function to print out how many metres there are in 32.97 feet, rounded to the nearest 0.1 metres (use the .format notation learned in the strings exercises). Don't do any printing or rounding inside your function - you want each function to do one thing and do it well, and in this case that thing is converting feet to metres."
   ]
  },
  {
   "cell_type": "code",
   "execution_count": null,
   "metadata": {
    "button": false,
    "collapsed": true,
    "new_sheet": false,
    "run_control": {
     "read_only": false
    }
   },
   "outputs": [],
   "source": []
  }
 ],
 "metadata": {
  "anaconda-cloud": {},
  "kernelspec": {
   "display_name": "Python 3",
   "language": "python",
   "name": "python3"
  },
  "language_info": {
   "codemirror_mode": {
    "name": "ipython",
    "version": 3
   },
   "file_extension": ".py",
   "mimetype": "text/x-python",
   "name": "python",
   "nbconvert_exporter": "python",
   "pygments_lexer": "ipython3",
   "version": "3.6.2"
  }
 },
 "nbformat": 4,
 "nbformat_minor": 1
}
