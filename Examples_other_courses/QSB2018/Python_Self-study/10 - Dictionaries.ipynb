{
 "cells": [
  {
   "cell_type": "markdown",
   "metadata": {
    "button": false,
    "new_sheet": false,
    "run_control": {
     "read_only": false
    }
   },
   "source": [
    "# Dictionaries\n",
    "\n",
    "Imagine you were tasked with writing a program to translate DNA codons into amino acid residues. There are 64 possible codons (unique) that code for 20 amino acids or indicate translational start and stop sites. If we want to store which codons code for which amino acids, none of the data types we have encountered would let us do that very easily.\n",
    "\n",
    "For this type of scenario, we use data structures known as dictionaries, which are composed of a series of key and value pairs. Keys must be unique but the values do not need to be. Unlike lists, where you can only access the values stored by referring to a position in the list, with dictionaries you can directly recall the value associated with any dictionary key by specifying the key.\n",
    "\n",
    "|Keys|Values|\n",
    "|:-----:|:-----:|\n",
    "|Must be Unique|Don't need to be unique, repeat values permitted|\n",
    "|Can be any immutable data type (strings, numbers or tuples)|Can be of any data type (e.g. strings, numbers, tuples, lists, dictionaries)|\n",
    "\n",
    "Dictionaries are written as key:value pairs, with pairs separated by commas and all contained within curly brackets. Below are examples of two dictionaries - the first dictionary stores a translation table of DNA codons (as keys) and amino acids (as values), the second example stores protein accession numbers as keys and amino acids sequences as values. \n",
    "\n",
    "See the example sheet thatr follows this workbook to see a full example of a Python script to translate DNA into protein sequence. "
   ]
  },
  {
   "cell_type": "code",
   "execution_count": 1,
   "metadata": {
    "button": false,
    "collapsed": true,
    "new_sheet": false,
    "run_control": {
     "read_only": false
    }
   },
   "outputs": [],
   "source": [
    "#This is a dictionary of codons (keys) and the amino acids they code for (values)\n",
    "translation_dict = {\n",
    "    'ATA':'I', 'ATC':'I', 'ATT':'I', 'ATG':'M',\n",
    "    'ACA':'T', 'ACC':'T', 'ACG':'T', 'ACT':'T',\n",
    "    'AAC':'N', 'AAT':'N', 'AAA':'K', 'AAG':'K',\n",
    "    'AGC':'S', 'AGT':'S', 'AGA':'R', 'AGG':'R',\n",
    "    'CTA':'L', 'CTC':'L', 'CTG':'L', 'CTT':'L',\n",
    "    'CCA':'P', 'CCC':'P', 'CCG':'P', 'CCT':'P',\n",
    "    'CAC':'H', 'CAT':'H', 'CAA':'Q', 'CAG':'Q',\n",
    "    'CGA':'R', 'CGC':'R', 'CGG':'R', 'CGT':'R',\n",
    "    'GTA':'V', 'GTC':'V', 'GTG':'V', 'GTT':'V',\n",
    "    'GCA':'A', 'GCC':'A', 'GCG':'A', 'GCT':'A',\n",
    "    'GAC':'D', 'GAT':'D', 'GAA':'E', 'GAG':'E',\n",
    "    'GGA':'G', 'GGC':'G', 'GGG':'G', 'GGT':'G',\n",
    "    'TCA':'S', 'TCC':'S', 'TCG':'S', 'TCT':'S',\n",
    "    'TTC':'F', 'TTT':'F', 'TTA':'L', 'TTG':'L',\n",
    "    'TAC':'Y', 'TAT':'Y', 'TAA':'*', 'TAG':'*',\n",
    "    'TGC':'C', 'TGT':'C', 'TGA':'*', 'TGG':'W'}"
   ]
  },
  {
   "cell_type": "code",
   "execution_count": 2,
   "metadata": {
    "button": false,
    "collapsed": true,
    "new_sheet": false,
    "run_control": {
     "frozen": false,
     "read_only": false
    }
   },
   "outputs": [],
   "source": [
    "#This dictionary stores protein accession references(keys) and sequences (values)\n",
    "protein_sequences = {\n",
    "'AE049599': 'PACGWTYQPPR',\n",
    "'AR182930': 'ECPWALWQMVL',\n",
    "'AF094030': 'FYTPWEMRTVE',\n",
    "'DS302903': 'CADGYTPMWQ',\n",
    "'CL123214': 'TYRPWTNGGW',\n",
    "'FE492015': 'IWTASFMACISH'\n",
    "}"
   ]
  },
  {
   "cell_type": "markdown",
   "metadata": {
    "button": false,
    "new_sheet": false,
    "run_control": {
     "read_only": false
    }
   },
   "source": [
    "### Accessing dictionaries\n",
    "\n",
    "Dictionaries can't be indexed by position as they don't have a fixed order - instead dictionary values can be recalled using the key:"
   ]
  },
  {
   "cell_type": "code",
   "execution_count": 3,
   "metadata": {
    "button": false,
    "new_sheet": false,
    "run_control": {
     "frozen": false,
     "read_only": false
    }
   },
   "outputs": [
    {
     "data": {
      "text/plain": [
       "'FYTPWEMRTVE'"
      ]
     },
     "execution_count": 3,
     "metadata": {},
     "output_type": "execute_result"
    }
   ],
   "source": [
    "protein_sequences['AF094030'] #returns 'FYTPWEMRTVE'"
   ]
  },
  {
   "cell_type": "markdown",
   "metadata": {
    "button": false,
    "new_sheet": false,
    "run_control": {
     "read_only": false
    }
   },
   "source": [
    "### Initializing a dictionary\n",
    "\n",
    "In the first example on the page, we initialized a dictionary by entering key and value pairs surrounded by curly brackets {}. Since this dictionary now exists, we can continue to add new entries to it. If the dictionary did not exist first, we need to make it before we can add individual entries to it - this can be done in two ways `protein_sequences = {}` or `protein_sequences = dict()`."
   ]
  },
  {
   "cell_type": "markdown",
   "metadata": {
    "button": false,
    "new_sheet": false,
    "run_control": {
     "read_only": false
    }
   },
   "source": [
    "### Adding and deleting entries"
   ]
  },
  {
   "cell_type": "code",
   "execution_count": 1,
   "metadata": {
    "button": false,
    "new_sheet": false,
    "run_control": {
     "frozen": false,
     "read_only": false
    }
   },
   "outputs": [
    {
     "name": "stdout",
     "output_type": "stream",
     "text": [
      "FYTPWEMRTVE\n"
     ]
    }
   ],
   "source": [
    "# create a new, empty dictionary\n",
    "protein_sequences = dict() \n",
    "\n",
    "# add the entries to the dictionary.\n",
    "protein_sequences['XX046245'] = 'PYTWGASCAR' \n",
    "protein_sequences['AE049599'] = 'PACGWTYQPPR'\n",
    "protein_sequences['AF094030'] = 'FYTPWEMRTVE'\n",
    "\n",
    "# delete the 'AE049599': 'PACGWTYQPPR' key:value pair from the dictionary\n",
    "del protein_sequences['AE049599'] \n",
    "\n",
    "# delete 'AF094030': 'FYTPWEMRTVE' key:value pair from the dictionary and return the value\n",
    "sequence = protein_sequences.pop('AF094030')\n",
    "print(sequence) #returns FYTPWEMRTVE"
   ]
  },
  {
   "cell_type": "markdown",
   "metadata": {
    "button": false,
    "new_sheet": false,
    "run_control": {
     "read_only": false
    }
   },
   "source": [
    "If you try to set a value for a key that already exists in the dictionary, the value will simply be overwritten with the new one. For example, in the code below, we first set protein_sequences['XX046245'] to 'PYTWGASCAR', then change the value to 'RACSAGAGWTYP', overwriting the existing entry. We demonstrate this by printing the value associated with the key 'XX046245'.\n"
   ]
  },
  {
   "cell_type": "code",
   "execution_count": 4,
   "metadata": {
    "button": false,
    "new_sheet": false,
    "run_control": {
     "frozen": false,
     "read_only": false
    }
   },
   "outputs": [
    {
     "name": "stdout",
     "output_type": "stream",
     "text": [
      "RACSAGAGWTYP\n"
     ]
    }
   ],
   "source": [
    "protein_sequences['XX046245'] = 'PYTWGASCAR' # adds the entry to the dictionary.\n",
    "\n",
    "protein_sequences['XX046245'] = 'RACSAGAGWTYP' # changes value to RACSAGAGWTYP.\n",
    "\n",
    "print(protein_sequences['XX046245'])"
   ]
  },
  {
   "cell_type": "markdown",
   "metadata": {
    "button": false,
    "new_sheet": false,
    "run_control": {
     "read_only": false
    }
   },
   "source": [
    "The entry below illustrates one type of use for dictionaries: they can be used as single database entries. "
   ]
  },
  {
   "cell_type": "code",
   "execution_count": 5,
   "metadata": {
    "button": false,
    "collapsed": true,
    "new_sheet": false,
    "run_control": {
     "frozen": false,
     "read_only": false
    }
   },
   "outputs": [],
   "source": [
    "dna_entry = {\n",
    "'Genbank_accession': 'AE005672',\n",
    "'EntryType': 'Genome',\n",
    "'Organism': 'Streptococcus Pneumoniae TIGR4',\n",
    "'BasePairs' : 2160842\n",
    "}"
   ]
  },
  {
   "cell_type": "markdown",
   "metadata": {
    "button": false,
    "new_sheet": false,
    "run_control": {
     "read_only": false
    }
   },
   "source": [
    "More complicated data structures can be created by using combinations of lists and dicts, for example a genome database might be a list of dictionaries with the entries above. The below list contains three items that are dictionaries. To access the items, we first access the correct item in the list by specifying the index, then we can specify the key we want to access."
   ]
  },
  {
   "cell_type": "code",
   "execution_count": 6,
   "metadata": {
    "button": false,
    "new_sheet": false,
    "run_control": {
     "frozen": false,
     "read_only": false
    }
   },
   "outputs": [
    {
     "name": "stdout",
     "output_type": "stream",
     "text": [
      "Size of TIGR4 genome is 2160842 bp\n",
      "Accession number for NP5 is AE019201\n"
     ]
    }
   ],
   "source": [
    "genome_db = [\n",
    "{'Genbank_accession': 'AE005672',\n",
    "'EntryType': 'Genome',\n",
    "'Organism': 'Streptococcus Pneumoniae TIGR4',\n",
    "'BasePairs' : 2160842},\n",
    "{'Genbank_accession': 'AE004871',\n",
    "'EntryType': 'Genome',\n",
    "'Organism': 'Streptococcus Pneumoniae D39',\n",
    "'BasePairs' : 2060423},\n",
    "{'Genbank_accession': 'AE019201',\n",
    "'EntryType': 'Genome',\n",
    "'Organism': 'Streptococcus Pneumoniae NP5',\n",
    "'BasePairs' : 2151728}\n",
    "]\n",
    "TIGR4_basepairs = genome_db[0]['BasePairs']\n",
    "print(\"Size of TIGR4 genome is {} bp\".format(TIGR4_basepairs))\n",
    "NP5_accession = genome_db[2]['Genbank_accession']\n",
    "print(\"Accession number for NP5 is {}\".format(NP5_accession))\n"
   ]
  },
  {
   "cell_type": "markdown",
   "metadata": {
    "button": false,
    "collapsed": true,
    "new_sheet": false,
    "run_control": {
     "frozen": false,
     "read_only": false
    }
   },
   "source": [
    "### Looping through a dictionary\n",
    "\n",
    "For loops can also be used to iterate through dictionaries. To loop through the keys of a dictionary, you can use the following:"
   ]
  },
  {
   "cell_type": "code",
   "execution_count": 3,
   "metadata": {
    "ExecuteTime": {
     "end_time": "2017-07-11T13:19:48.125394",
     "start_time": "2017-07-11T13:19:48.119337"
    },
    "button": false,
    "new_sheet": false,
    "run_control": {
     "frozen": false,
     "read_only": false
    }
   },
   "outputs": [
    {
     "name": "stdout",
     "output_type": "stream",
     "text": [
      "Key: AE049599 Value: PACGWTYQPPR\n",
      "Key: AR182930 Value: ECPWALWQMVL\n",
      "Key: AF094030 Value: FYTPWEMRTVE\n",
      "Key: DS302903 Value: CADGYTPMWQ\n"
     ]
    }
   ],
   "source": [
    "protein_sequences = {\n",
    "'AE049599': 'PACGWTYQPPR',\n",
    "'AR182930': 'ECPWALWQMVL',\n",
    "'AF094030': 'FYTPWEMRTVE',\n",
    "'DS302903': 'CADGYTPMWQ'\n",
    "}\n",
    "for key in protein_sequences:\n",
    "    print(\"Key: {0} Value: {1}\".format(key, protein_sequences[key])) #will print value in dict corresponding to key"
   ]
  },
  {
   "cell_type": "markdown",
   "metadata": {
    "button": false,
    "new_sheet": false,
    "run_control": {
     "read_only": false
    }
   },
   "source": [
    "Note: Since dictionaries aren't ordered (unlike lists), the loops will not iterate through the keys in an easily predictable order.\n",
    "\n",
    "*Additional Information* If the dictionary keys are sortable, is possible to sort the dictionary key when looping through it using the `sorted` keyword."
   ]
  },
  {
   "cell_type": "code",
   "execution_count": 4,
   "metadata": {},
   "outputs": [
    {
     "name": "stdout",
     "output_type": "stream",
     "text": [
      "Key: AE049599 Value: PACGWTYQPPR\n",
      "Key: AF094030 Value: FYTPWEMRTVE\n",
      "Key: AR182930 Value: ECPWALWQMVL\n",
      "Key: DS302903 Value: CADGYTPMWQ\n"
     ]
    }
   ],
   "source": [
    "for key in sorted(protein_sequences):\n",
    "    print(\"Key: {0} Value: {1}\".format(key, protein_sequences[key])) #will print value in dict corresponding to key"
   ]
  },
  {
   "cell_type": "markdown",
   "metadata": {},
   "source": [
    "It is also possible to iterate through both key and value at the same time using the `.items()` method. \n",
    "\n",
    "*Additional information* The `.items()` method returns a list of key, value pairs as tuples (immutable lists), so as we loop through the list we can simultaneously assign the key and value to two variables."
   ]
  },
  {
   "cell_type": "code",
   "execution_count": 2,
   "metadata": {
    "ExecuteTime": {
     "end_time": "2017-07-11T13:20:37.723682",
     "start_time": "2017-07-11T13:20:37.718408"
    },
    "button": false,
    "new_sheet": false,
    "run_control": {
     "read_only": false
    }
   },
   "outputs": [
    {
     "name": "stdout",
     "output_type": "stream",
     "text": [
      "DS302903 CADGYTPMWQ\n",
      "AE049599 PACGWTYQPPR\n",
      "AF094030 FYTPWEMRTVE\n",
      "AR182930 ECPWALWQMVL\n"
     ]
    }
   ],
   "source": [
    "protein_sequences = {\n",
    "'AE049599': 'PACGWTYQPPR',\n",
    "'AR182930': 'ECPWALWQMVL',\n",
    "'AF094030': 'FYTPWEMRTVE',\n",
    "'DS302903': 'CADGYTPMWQ'\n",
    "}\n",
    "for acc_number, sequence in protein_sequences.items():\n",
    "    print(acc_number, sequence) "
   ]
  },
  {
   "cell_type": "markdown",
   "metadata": {
    "ExecuteTime": {
     "end_time": "2017-07-11T13:21:10.707464",
     "start_time": "2017-07-11T13:21:10.703985"
    },
    "button": false,
    "new_sheet": false,
    "run_control": {
     "read_only": false
    }
   },
   "source": [
    "### Example: Using dictionaries to keep counts\n",
    "\n",
    "We could also use a `for` loop to count how many of each type of item is in a list. For example, if we have a list of species sighted in a survey, we could use a dictionary to summarise the list."
   ]
  },
  {
   "cell_type": "code",
   "execution_count": 1,
   "metadata": {
    "ExecuteTime": {
     "end_time": "2017-07-11T13:21:25.213916",
     "start_time": "2017-07-11T13:21:25.205298"
    },
    "button": false,
    "new_sheet": false,
    "run_control": {
     "read_only": false
    },
    "scrolled": false
   },
   "outputs": [
    {
     "name": "stdout",
     "output_type": "stream",
     "text": [
      "3 sightings of Serinus canaria\n",
      "3 sightings of Fringilla coelebs\n",
      "2 sightings of Pongo pygmaeus\n",
      "1 sightings of Chloris chloris\n",
      "1 sightings of Eresus sandaliatus\n",
      "1 sightings of Gorilla gorilla\n",
      "1 sightings of Mus musculus\n",
      "2 sightings of Carduelis carduelis\n"
     ]
    }
   ],
   "source": [
    "species_sighted = [\"Gorilla gorilla\", \"Pongo pygmaeus\", \"Mus musculus\", \"Fringilla coelebs\",\n",
    "                   \"Chloris chloris\", \"Carduelis carduelis\", \"Serinus canaria\", \"Serinus canaria\",\n",
    "                   \"Eresus sandaliatus\", \"Fringilla coelebs\", \"Pongo pygmaeus\", \"Fringilla coelebs\",\n",
    "                   \"Carduelis carduelis\", \"Serinus canaria\"]\n",
    "\n",
    "species_dict = {} #make an empty dictionary to store species sightings\n",
    "for species in species_sighted:\n",
    "    \n",
    "    #if species not already in the dictionary, add with value = 1\n",
    "    if not species in species_dict:\n",
    "        species_dict[species] = 1\n",
    "        \n",
    "    #if already in the dictionary, add 1 to the value\n",
    "    else:\n",
    "        species_dict[species] += 1\n",
    "\n",
    "#now loop through dictionary and print out each key and value\n",
    "for key in species_dict:\n",
    "    print(\"{} sightings of {}\".format(species_dict[key],key))"
   ]
  },
  {
   "cell_type": "markdown",
   "metadata": {},
   "source": [
    "\n"
   ]
  },
  {
   "cell_type": "code",
   "execution_count": null,
   "metadata": {
    "collapsed": true
   },
   "outputs": [],
   "source": []
  },
  {
   "cell_type": "markdown",
   "metadata": {
    "button": false,
    "new_sheet": false,
    "run_control": {
     "read_only": false
    }
   },
   "source": [
    "# Exercises\n",
    "\n",
    "* Make a dictionary containing the data in the following table.\n",
    "\n",
    "|Scientific Name|\tCommon Name|\n",
    "|:-------|:-------|\n",
    "|*Fistulina hepatica*\t|Beefsteak|\n",
    "|*Laetiporus sulphureus*\t|Chicken-of-the-Woods|\n",
    "|*Flammulina velutipes* |Enoki|\n",
    "|*Hericium erinaceus*\t|Lion’s Mane|\n",
    "|*Pholiota nameko*\t|Nameko|\n",
    "|*Pleurotus ostreatus*\t|Pearl oyster|\n",
    "|*Ganoderma lucidium*\t|Reishi|\n",
    "|*Lentinus edodes*\t|Shiitake|\n",
    "\n",
    "  * Add the following to your dictionary: <br>\n",
    "*Pleurotus pulmonarius*: Summer oyster <br>\n",
    "*Pleurotus euosmos*: Tarragon <br>\n",
    "  * Print the common names for *Pholiota nameko* and *Fistulina hepatica*\n",
    "  * Replace the common name for *Laetiporus sulphureus* with Sulphur Shelf (this is another common name for this species which forms striking golden-yellow shelf-like fungal structures on tree trunks and branches.)\n",
    "  * Write a loop that loops through the dictionary and prints out all entries (Scientific Name and Common Name)"
   ]
  },
  {
   "cell_type": "code",
   "execution_count": null,
   "metadata": {
    "ExecuteTime": {
     "end_time": "2017-07-11T13:22:20.636879",
     "start_time": "2017-07-11T13:22:20.634633"
    },
    "button": false,
    "collapsed": true,
    "new_sheet": false,
    "run_control": {
     "frozen": false,
     "read_only": false
    }
   },
   "outputs": [],
   "source": []
  },
  {
   "cell_type": "code",
   "execution_count": null,
   "metadata": {
    "button": false,
    "collapsed": true,
    "new_sheet": false,
    "run_control": {
     "read_only": false
    }
   },
   "outputs": [],
   "source": []
  },
  {
   "cell_type": "code",
   "execution_count": null,
   "metadata": {
    "collapsed": true
   },
   "outputs": [],
   "source": []
  }
 ],
 "metadata": {
  "anaconda-cloud": {},
  "hide_input": false,
  "kernelspec": {
   "display_name": "Python 3",
   "language": "python",
   "name": "python3"
  },
  "language_info": {
   "codemirror_mode": {
    "name": "ipython",
    "version": 3
   },
   "file_extension": ".py",
   "mimetype": "text/x-python",
   "name": "python",
   "nbconvert_exporter": "python",
   "pygments_lexer": "ipython3",
   "version": "3.6.2"
  }
 },
 "nbformat": 4,
 "nbformat_minor": 1
}
