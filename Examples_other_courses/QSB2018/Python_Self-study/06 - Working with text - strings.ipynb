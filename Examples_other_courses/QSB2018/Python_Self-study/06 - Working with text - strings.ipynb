{
 "cells": [
  {
   "cell_type": "markdown",
   "metadata": {
    "button": false,
    "new_sheet": false,
    "run_control": {
     "read_only": false
    }
   },
   "source": [
    "## Working with text: Strings\n",
    "\n",
    "In biology, many types of data are predominantly text, for example DNA sequences, protein sequences, survey replies or gene identifiers. Even where you're predominantly handling numeric data, you'll most like need to deal with text components such as column headers, meta data or other label information. \n",
    "\n",
    "Python allows for very convenient handling, analysis and processing of text and has a wide variety of inbuilt methods and functions specialised for the task. From the previous section on variables, you’ll remember that we refer to text as ‘strings’ and that string variables can be set using either double or single quotes, as long as both quotes are the same:"
   ]
  },
  {
   "cell_type": "code",
   "execution_count": 2,
   "metadata": {
    "button": false,
    "collapsed": true,
    "new_sheet": false,
    "run_control": {
     "frozen": false,
     "read_only": false
    }
   },
   "outputs": [],
   "source": [
    "protein_sequence = 'CAWEWPRHRYT' #string assignment using single quotes (')\n",
    "\n",
    "protein_sequence = \"CAWEWPRHRYT\" #string assignment using double quotes (\")"
   ]
  },
  {
   "cell_type": "markdown",
   "metadata": {
    "button": false,
    "new_sheet": false,
    "run_control": {
     "read_only": false
    }
   },
   "source": [
    "#### Accessing characters in strings\n",
    "\n",
    "Individual characters in a string can be accessed by specifying the character's index in square brackets after the string name. The index refers to the position of the character from the beginning, with that position being position 0. Therefore the first character is at index 0, the second character at index 1 and so on. This principle is known as zero-indexing - position counting always starts at zero in Python. \n",
    "\n",
    "It is also possible to specify characters based on their position relative to the end of the string: the last character can be accessed using index -1, the second last at index -2, etc. "
   ]
  },
  {
   "cell_type": "code",
   "execution_count": 2,
   "metadata": {
    "button": false,
    "new_sheet": false,
    "run_control": {
     "frozen": false,
     "read_only": false
    }
   },
   "outputs": [
    {
     "name": "stdout",
     "output_type": "stream",
     "text": [
      "C\n",
      "E\n",
      "T\n"
     ]
    }
   ],
   "source": [
    "protein_sequence = 'CAWEWPRHRYT'\n",
    "print(protein_sequence[0]) #Prints the first character (at index 0) - i.e. C\n",
    "print(protein_sequence[3]) #Prints the fourth character (at index 3) - i.e. E\n",
    "print(protein_sequence[-1]) #Prints the character at the end of the string (T)"
   ]
  },
  {
   "cell_type": "markdown",
   "metadata": {
    "button": false,
    "new_sheet": false,
    "run_control": {
     "read_only": false
    }
   },
   "source": [
    "Similarly, parts of strings (known as substrings) can be accessed using the slice operator, denoted by `[ : ]`. Start and stop indices are specified before and after the colon respectively. The character at the location of the stop index is not included, so `[3:7]` will print from the 4th to 7th characters (indices 3 to 6). Where no character is specified before the slice operator e.g. `[:5]`, this will automatically count from position 0 (first character). If only a start position is given e.g. `[5:]`, the substring will end at the last position in the string."
   ]
  },
  {
   "cell_type": "code",
   "execution_count": 1,
   "metadata": {
    "button": false,
    "new_sheet": false,
    "run_control": {
     "frozen": false,
     "read_only": false
    }
   },
   "outputs": [
    {
     "name": "stdout",
     "output_type": "stream",
     "text": [
      "C\n",
      "AWEW\n",
      "CAWEWPR\n",
      "WEWPRHRYT\n",
      "T\n"
     ]
    }
   ],
   "source": [
    "protein_sequence='CAWEWPRHRYT'\n",
    "print(protein_sequence[0]) #Prints the first character (at index 0) - i.e. C\n",
    "print(protein_sequence[1:5]) #Prints from the 2nd character (index 1) to the 5th (index 4) (AWEW)\n",
    "print(protein_sequence[:7]) #Prints from the first character to the seventh, i.e. index6 (CAWEWPR)\n",
    "print(protein_sequence[2:]) #Prints from the 3rd character to the end of the string (WEWPRHRYT)\n",
    "print(protein_sequence[-1]) #Prints the character at the end of the string (T)"
   ]
  },
  {
   "cell_type": "markdown",
   "metadata": {},
   "source": [
    "#### Extended Slices\n",
    "\n",
    "Python also has an extended slice operator, denoted by `[ : : ]`. Here the first and second numbers work as for the regular slice operator (start and end points), but the third character indicates the step size. Thus [0:10:2] will return **every second** character from index 0 to index 9. "
   ]
  },
  {
   "cell_type": "code",
   "execution_count": 12,
   "metadata": {},
   "outputs": [
    {
     "name": "stdout",
     "output_type": "stream",
     "text": [
      "CWWRR\n",
      "CERY\n"
     ]
    }
   ],
   "source": [
    "protein_sequence='CAWEWPRHRYT'\n",
    "print(protein_sequence[0:10:2]) #CWWRR\n",
    "print(protein_sequence[0:10:3]) #CERY"
   ]
  },
  {
   "cell_type": "markdown",
   "metadata": {},
   "source": [
    "#### Reversing strings \n",
    "\n",
    "A special use of extended slices is to reverse the string - to do this the step size is given a value of negative 1 (`[::-1]`). There is no need to specify the range, but this can be done to limit the start and stop points if necessary (e.g. protein_sequence[::-1]"
   ]
  },
  {
   "cell_type": "code",
   "execution_count": 13,
   "metadata": {},
   "outputs": [
    {
     "name": "stdout",
     "output_type": "stream",
     "text": [
      "TYRHRPWEWAC\n",
      "TRRWWC\n"
     ]
    }
   ],
   "source": [
    "protein_sequence='CAWEWPRHRYT'\n",
    "print(protein_sequence[::-1]) #TYRHRPWEWAC (reverse the string)\n",
    "print(protein_sequence[::-2]) #TRRWWC (step backwards in twos)"
   ]
  },
  {
   "cell_type": "markdown",
   "metadata": {
    "button": false,
    "new_sheet": false,
    "run_control": {
     "read_only": false
    }
   },
   "source": [
    "#### Joining Strings Together (concatenation)\n",
    "\n",
    "Strings can joined together (referred to as 'concatenation') using the plus (+) sign."
   ]
  },
  {
   "cell_type": "code",
   "execution_count": 4,
   "metadata": {
    "button": false,
    "new_sheet": false,
    "run_control": {
     "frozen": false,
     "read_only": false
    }
   },
   "outputs": [
    {
     "name": "stdout",
     "output_type": "stream",
     "text": [
      "CAWEWPRHRYTGATTCGAWRPQY\n"
     ]
    }
   ],
   "source": [
    "protein_sequence = 'CAWEWPRHRYT' + 'GATTCGAWRPQY' \n",
    "print(protein_sequence)"
   ]
  },
  {
   "cell_type": "markdown",
   "metadata": {
    "button": false,
    "new_sheet": false,
    "run_control": {
     "read_only": false
    }
   },
   "source": [
    "#### Escape Characters\n",
    "\n",
    "Sometimes text includes 'invisible' characters that indicate how the text should be formatted - such as tabs or new line characters. Since it would be difficult to see these characters in our code, we use escape characters in Python strings instead. Escape characters are character sequences prefixed with a backslash, for example tabs and newline characters arre represented by the follwoing escape characters:\n",
    "\n",
    "<table>\n",
    "<tr>\n",
    "<td>\\n</td><td>Newline</td>\n",
    "</tr>\n",
    "<tr>\n",
    "<td>\\t</td><td>Tab</td>\n",
    "</tr>\n",
    "</table>"
   ]
  },
  {
   "cell_type": "code",
   "execution_count": 3,
   "metadata": {},
   "outputs": [
    {
     "name": "stdout",
     "output_type": "stream",
     "text": [
      "Line 1\n",
      "Line 2\n",
      "Line 3\n",
      "\n"
     ]
    }
   ],
   "source": [
    "print(\"Line 1\\nLine 2\\nLine 3\\n\") #\\n inserts a new line character"
   ]
  },
  {
   "cell_type": "markdown",
   "metadata": {},
   "source": [
    "Characters are also escaped if they would disrupt the string. For example to include a quotation mark inside a string, it needs to be escaped to prevent it prematurely terminating the string. In the case of quotation marks, this can also be achieved by using the alternative type of quotation mark, as shown in the following example which uses the common symbolic nomenclature for feet (') and inches (\")."
   ]
  },
  {
   "cell_type": "code",
   "execution_count": 5,
   "metadata": {
    "button": false,
    "collapsed": true,
    "new_sheet": false,
    "run_control": {
     "frozen": false,
     "read_only": false
    }
   },
   "outputs": [],
   "source": [
    "tree_girth = '3\"' #this works because the alternative type of quotation marks can be used\n",
    "tree_girth = \"3'6\\\"\" #double quotation marks must be escaped\n",
    "tree_girth = '3\\'6\"' #single quotation marks must be escaped"
   ]
  },
  {
   "cell_type": "markdown",
   "metadata": {
    "button": false,
    "new_sheet": false,
    "run_control": {
     "read_only": false
    }
   },
   "source": [
    "## Useful string methods and functions\n",
    "\n",
    "There are a variety of inbuilt Python functions and methods that can operate on strings.  A list of methods appropriate to an object can be shown by running the dir() function on a string - e.g. `dir(protein_sequence)`.\n",
    "\n",
    "The main difference between functions and methods that you will notice just now is the way that they are written:\n",
    "\n",
    "**Functions** are called as the function name followed by brackets - in the following example, calling the function len() on a string returns the length of the string. Print is also a function that prints whatever is in the brackets."
   ]
  },
  {
   "cell_type": "code",
   "execution_count": 1,
   "metadata": {
    "button": false,
    "new_sheet": false,
    "run_control": {
     "frozen": false,
     "read_only": false
    }
   },
   "outputs": [
    {
     "name": "stdout",
     "output_type": "stream",
     "text": [
      "11\n"
     ]
    }
   ],
   "source": [
    "protein_sequence = 'CAWEWPRHRYT'\n",
    "#The len() function returns the length of the string\n",
    "length_of_sequence = len(protein_sequence) \n",
    "print(length_of_sequence)"
   ]
  },
  {
   "cell_type": "markdown",
   "metadata": {
    "button": false,
    "new_sheet": false,
    "run_control": {
     "read_only": false
    }
   },
   "source": [
    "**Methods** are specified using dot notation after the object (variable) name, e.g.:"
   ]
  },
  {
   "cell_type": "code",
   "execution_count": 9,
   "metadata": {
    "button": false,
    "new_sheet": false,
    "run_control": {
     "frozen": false,
     "read_only": false
    }
   },
   "outputs": [
    {
     "name": "stdout",
     "output_type": "stream",
     "text": [
      "cawewprhryt\n"
     ]
    }
   ],
   "source": [
    "protein_sequence = 'CAWEWPRHRYT'\n",
    "#The .lower() method returns a string converted to lower case\n",
    "lower_case_seq = protein_sequence.lower()\n",
    "print(lower_case_seq)"
   ]
  },
  {
   "cell_type": "markdown",
   "metadata": {
    "button": false,
    "new_sheet": false,
    "run_control": {
     "read_only": false
    }
   },
   "source": [
    "A full list of string functions and methods is available in the [Python 3 documentation] (https://docs.python.org/3/library/stdtypes.html#string-methods). Most methods have additional arguments that can be specified such as start and end points, please see the Python documentation for this information. \n",
    "\n",
    "A few commonly used string functions and methods are described here:"
   ]
  },
  {
   "cell_type": "markdown",
   "metadata": {
    "button": false,
    "new_sheet": false,
    "run_control": {
     "read_only": false
    }
   },
   "source": [
    "#### str.capitalize()\n",
    "\n",
    "This method returns a copy of the string with its first character capitalized and the remainder converted to lower case."
   ]
  },
  {
   "cell_type": "code",
   "execution_count": 8,
   "metadata": {
    "button": false,
    "new_sheet": false,
    "run_control": {
     "frozen": false,
     "read_only": false
    }
   },
   "outputs": [
    {
     "name": "stdout",
     "output_type": "stream",
     "text": [
      "Agthyahyctgr\n"
     ]
    }
   ],
   "source": [
    "protein_sequence = 'agthyaHYctgr'\n",
    "print(protein_sequence.capitalize())"
   ]
  },
  {
   "cell_type": "markdown",
   "metadata": {
    "button": false,
    "new_sheet": false,
    "run_control": {
     "read_only": false
    }
   },
   "source": [
    "#### str.lower()\n",
    "\n",
    "Return a copy of the string with all the cased characters converted to lowercase."
   ]
  },
  {
   "cell_type": "code",
   "execution_count": 9,
   "metadata": {
    "button": false,
    "new_sheet": false,
    "run_control": {
     "read_only": false
    }
   },
   "outputs": [
    {
     "name": "stdout",
     "output_type": "stream",
     "text": [
      "atggagtcgatacgaattctgataa\n"
     ]
    }
   ],
   "source": [
    "dna_sequence = 'ATGGAGTCGATACGAATTCTGATAA'\n",
    "print(dna_sequence.lower())"
   ]
  },
  {
   "cell_type": "markdown",
   "metadata": {
    "button": false,
    "new_sheet": false,
    "run_control": {
     "read_only": false
    }
   },
   "source": [
    "#### str.upper()\n",
    "Return a copy of the string with all the cased characters converted to uppercase. "
   ]
  },
  {
   "cell_type": "code",
   "execution_count": 10,
   "metadata": {
    "button": false,
    "new_sheet": false,
    "run_control": {
     "read_only": false
    }
   },
   "outputs": [
    {
     "name": "stdout",
     "output_type": "stream",
     "text": [
      "ATGGAGTCGATACGAATTCTGATAA\n"
     ]
    }
   ],
   "source": [
    "dna_sequence = 'atggagtcgatacgaattctgataa'\n",
    "print(dna_sequence.upper())"
   ]
  },
  {
   "cell_type": "markdown",
   "metadata": {
    "button": false,
    "new_sheet": false,
    "run_control": {
     "read_only": false
    }
   },
   "source": [
    "#### str.count(sub) \n",
    "\n",
    "Counts the number of times a sub-string (sub) occurs within a string. Occurrences that overlap are counted only once. The example below counts the number of times that the EcoRI restriction enzyme site, GAATTC, occurns in the sequence:"
   ]
  },
  {
   "cell_type": "code",
   "execution_count": 11,
   "metadata": {
    "button": false,
    "new_sheet": false,
    "run_control": {
     "frozen": false,
     "read_only": false
    }
   },
   "outputs": [
    {
     "name": "stdout",
     "output_type": "stream",
     "text": [
      "2\n"
     ]
    }
   ],
   "source": [
    "dna_sequence = 'ATCGTAGCGAATTCGATTCGAAGCTTAGGAATTCGTAG'\n",
    "ecori_count = dna_sequence.count('GAATTC')\n",
    "print(ecori_count)"
   ]
  },
  {
   "cell_type": "markdown",
   "metadata": {
    "button": false,
    "new_sheet": false,
    "run_control": {
     "read_only": false
    }
   },
   "source": [
    "#### str.endswith(sub)\n",
    "\n",
    "This method returns True if the string ends with the specified suffix, otherwise it returns False. This method is useful for things such as checking filename extensions to limit which files are processed, or testing whether a primer sequence is present at the end of a string. "
   ]
  },
  {
   "cell_type": "code",
   "execution_count": 13,
   "metadata": {
    "button": false,
    "new_sheet": false,
    "run_control": {
     "frozen": false,
     "read_only": false
    }
   },
   "outputs": [
    {
     "name": "stdout",
     "output_type": "stream",
     "text": [
      "confocal_image.jpg is a JPEG image file\n"
     ]
    }
   ],
   "source": [
    "filename = 'confocal_image.jpg' \n",
    "if filename.endswith(\".jpg\"): #this example uses a conditional statement - you'll learn about them in the next workbook\n",
    "    print(filename + \" is a JPEG image file\")"
   ]
  },
  {
   "cell_type": "markdown",
   "metadata": {
    "button": false,
    "new_sheet": false,
    "run_control": {
     "read_only": false
    }
   },
   "source": [
    "#### str.find(sub)\n",
    "Return the lowest index in the string where substring 'sub' is found. Returns -1 if sub is not found."
   ]
  },
  {
   "cell_type": "code",
   "execution_count": 1,
   "metadata": {
    "button": false,
    "new_sheet": false,
    "run_control": {
     "frozen": false,
     "read_only": false
    }
   },
   "outputs": [
    {
     "name": "stdout",
     "output_type": "stream",
     "text": [
      "EcoRI site is at position 13\n"
     ]
    }
   ],
   "source": [
    "dna_sequence = \"ATGGAGTCGATACGAATTCTGATAA\"\n",
    "found_site = dna_sequence.find(\"GAATTC\")\n",
    "print(\"EcoRI site is at position \" + str(found_site))"
   ]
  },
  {
   "cell_type": "markdown",
   "metadata": {
    "button": false,
    "new_sheet": false,
    "run_control": {
     "read_only": false
    }
   },
   "source": [
    "#### str.format()\n",
    "\n",
    "This method formats the string on which it is called. Replacement fields delimited by braces `{}` can be replaced by variables, and can be simultaneously formatted, for example by rounding to two decimal places. The method returns a copy of the string where each replacement field is replaced with the string value of the corresponding argument.\n",
    "\n",
    "<div class=\"alert alert-info\">\n",
    "We will use the format method extensively because it allows us to very easily combine our programmatic output into a sentence in human-readable text, complete with units. This is shown in the examples below.\n",
    "</div>\n"
   ]
  },
  {
   "cell_type": "code",
   "execution_count": 14,
   "metadata": {
    "button": false,
    "new_sheet": false,
    "run_control": {
     "frozen": false,
     "read_only": false
    }
   },
   "outputs": [
    {
     "name": "stdout",
     "output_type": "stream",
     "text": [
      "The sum of 1 + 2 is 3\n"
     ]
    }
   ],
   "source": [
    "print(\"The sum of 1 + 2 is {0}\".format(1+2))"
   ]
  },
  {
   "cell_type": "markdown",
   "metadata": {
    "button": false,
    "new_sheet": false,
    "run_control": {
     "read_only": false
    }
   },
   "source": [
    "Replacement fields can be indexed by numbers, or if no index is specified then fields will be replaced in the order they are listed in the format method. "
   ]
  },
  {
   "cell_type": "code",
   "execution_count": 15,
   "metadata": {
    "button": false,
    "new_sheet": false,
    "run_control": {
     "frozen": false,
     "read_only": false
    }
   },
   "outputs": [
    {
     "name": "stdout",
     "output_type": "stream",
     "text": [
      "a, b, c\n",
      "a, b, c\n",
      "c, b, a\n"
     ]
    }
   ],
   "source": [
    "print('{0}, {1}, {2}'.format('a', 'b', 'c')) #replace based on index \n",
    "print('{}, {}, {}'.format('a', 'b', 'c')) #replace based on position\n",
    "print('{2}, {1}, {0}'.format('a', 'b', 'c')) #replace based on index"
   ]
  },
  {
   "cell_type": "markdown",
   "metadata": {
    "button": false,
    "new_sheet": false,
    "run_control": {
     "read_only": false
    }
   },
   "source": [
    "Replacements can also be made by accessing arguments by name:"
   ]
  },
  {
   "cell_type": "code",
   "execution_count": 14,
   "metadata": {
    "button": false,
    "new_sheet": false,
    "run_control": {
     "frozen": false,
     "read_only": false
    }
   },
   "outputs": [
    {
     "name": "stdout",
     "output_type": "stream",
     "text": [
      "Mean was 1294 and standard deviation was 23.2\n"
     ]
    }
   ],
   "source": [
    "print('Mean was {mean_cell_count} and standard deviation was {std_dev}'.format(std_dev = 23.2, mean_cell_count=1294))"
   ]
  },
  {
   "cell_type": "markdown",
   "metadata": {
    "button": false,
    "new_sheet": false,
    "run_control": {
     "read_only": false
    }
   },
   "source": [
    "Format can also change the display of numbers or strings, for example, it can be used to limit the number of decimal places or display numbers in scientific notation."
   ]
  },
  {
   "cell_type": "code",
   "execution_count": 17,
   "metadata": {
    "button": false,
    "new_sheet": false,
    "run_control": {
     "frozen": false,
     "read_only": false
    }
   },
   "outputs": [
    {
     "name": "stdout",
     "output_type": "stream",
     "text": [
      "The molecular weight of the protein is 892092.43 Da\n"
     ]
    }
   ],
   "source": [
    "mol_wt = 892092.429084\n",
    "print(\"The molecular weight of the protein is {0:.2f} Da\".format(mol_wt))"
   ]
  },
  {
   "cell_type": "code",
   "execution_count": 18,
   "metadata": {
    "button": false,
    "new_sheet": false,
    "run_control": {
     "frozen": false,
     "read_only": false
    }
   },
   "outputs": [
    {
     "name": "stdout",
     "output_type": "stream",
     "text": [
      "The number of atoms or molecules in one mole of a substance is equal to 6.022E+23\n"
     ]
    }
   ],
   "source": [
    "avogadros_constant = 602214141070409084099072\n",
    "print(\"The number of atoms or molecules in one mole of a substance is equal to {:.3E}\".format(avogadros_constant))"
   ]
  },
  {
   "cell_type": "markdown",
   "metadata": {
    "button": false,
    "new_sheet": false,
    "run_control": {
     "read_only": false
    }
   },
   "source": [
    "More information on the very wide range of options is available in the [official Python 3 documentation](https://docs.python.org/3/library/string.html#formatspec).\n",
    "\n"
   ]
  },
  {
   "cell_type": "markdown",
   "metadata": {
    "button": false,
    "new_sheet": false,
    "run_control": {
     "read_only": false
    }
   },
   "source": [
    "#### str.replace(old, new)\n",
    "Return a copy of the string with all occurrences of substring old replaced by new. "
   ]
  },
  {
   "cell_type": "code",
   "execution_count": 22,
   "metadata": {
    "button": false,
    "new_sheet": false,
    "run_control": {
     "frozen": false,
     "read_only": false
    }
   },
   "outputs": [
    {
     "name": "stdout",
     "output_type": "stream",
     "text": [
      "AUGGAGUCGAUACGAAUUCUGAUAA\n"
     ]
    }
   ],
   "source": [
    "dna_sequence = \"ATGGAGTCGATACGAATTCTGATAA\"\n",
    "rna_sequence = dna_sequence.replace(\"T\", \"U\")\n",
    "print(rna_sequence)"
   ]
  },
  {
   "cell_type": "markdown",
   "metadata": {
    "button": false,
    "new_sheet": false,
    "run_control": {
     "read_only": false
    }
   },
   "source": [
    "#### str.rstrip([chars])\n",
    "Return a copy of the string with specified trailing characters removed. The chars argument is a string specifying the set of characters to be removed. If omitted or None, the chars argument defaults to removing whitespace. The chars argument is not a suffix; rather, all combinations of its values are stripped.\n",
    "\n",
    "This method is particularly useful for removing newline characters `\\n` from the end of lines when processing files, as we'll cover later in this course. "
   ]
  },
  {
   "cell_type": "code",
   "execution_count": 20,
   "metadata": {
    "button": false,
    "new_sheet": false,
    "run_control": {
     "frozen": false,
     "read_only": false
    }
   },
   "outputs": [
    {
     "name": "stdout",
     "output_type": "stream",
     "text": [
      "Minions love b\n",
      "AN213214, TCR receptor homolog, Mus muculus\n",
      "Mus musc\n"
     ]
    }
   ],
   "source": [
    "sentence = 'Minions love bananas'\n",
    "new_sentence = sentence.rstrip('sna') #this will rstrip all s, n or a characters\n",
    "print(new_sentence)  #Minions love b\n",
    "\n",
    "print('AN213214, TCR receptor homolog, Mus muculus\\n'.rstrip()) #removes the newline character from the end of the line\n",
    "print('Mus musculus'.rstrip('lums') ) #argument 'm' is ignored"
   ]
  },
  {
   "cell_type": "markdown",
   "metadata": {
    "button": false,
    "new_sheet": false,
    "run_control": {
     "read_only": false
    }
   },
   "source": [
    "A similar method, `str.lstrip()` returns a copy of the string with leading characters removed.\n",
    "\n",
    "#### str.split(delimiter)\n",
    "\n",
    "This is extremely useful method that splits a string at each occurrence of the delimiter to produce a list. In the example below, the delimiter is set to space, therefore the method splits at all occurences of space. Other common delimiters would be commas `\",\"` or tabs `\"\\t\"`.\n",
    "\n",
    "We haven't covered lists yet - they are a data type in Python that will be covered soon, but like strings the individual elements in a list can be accessed by specifying the element index, as shown in the example below:"
   ]
  },
  {
   "cell_type": "code",
   "execution_count": 1,
   "metadata": {
    "button": false,
    "new_sheet": false,
    "run_control": {
     "frozen": false,
     "read_only": false
    }
   },
   "outputs": [
    {
     "name": "stdout",
     "output_type": "stream",
     "text": [
      "The third codon is AAT\n"
     ]
    }
   ],
   "source": [
    "dna_sequence = \"ATT ACG AAT TCT GAT AAT\"\n",
    "codons = dna_sequence.split(\" \")\n",
    "print(\"The third codon is \" + codons[2])"
   ]
  },
  {
   "cell_type": "markdown",
   "metadata": {
    "button": false,
    "new_sheet": false,
    "run_control": {
     "read_only": false
    }
   },
   "source": [
    "The split method is also really useful for processing data from common biological data files such as comma-separated values files, as it can split a line of data into subcomponents. We will make make extensive use of this method when we come to the section on \"Working with Files\"\n"
   ]
  },
  {
   "cell_type": "markdown",
   "metadata": {
    "button": false,
    "new_sheet": false,
    "run_control": {
     "read_only": false
    }
   },
   "source": [
    "# Exercises\n",
    "\n",
    "* Complete the code below to remove the newline (\\n) character from the string, and convert the string to UPPERCASE."
   ]
  },
  {
   "cell_type": "code",
   "execution_count": 25,
   "metadata": {
    "button": false,
    "collapsed": true,
    "new_sheet": false,
    "run_control": {
     "frozen": false,
     "read_only": false
    }
   },
   "outputs": [],
   "source": [
    "dna_seq = \"gctacgatcgatcgatcgattagctagctgat\\n\""
   ]
  },
  {
   "cell_type": "markdown",
   "metadata": {
    "button": false,
    "new_sheet": false,
    "run_control": {
     "read_only": false
    }
   },
   "source": [
    "Convert the following DNA sequence into RNA (replace thymine (T) bases with uracil (U) bases), then remove the spaces between codons."
   ]
  },
  {
   "cell_type": "code",
   "execution_count": 26,
   "metadata": {
    "button": false,
    "collapsed": true,
    "new_sheet": false,
    "run_control": {
     "frozen": false,
     "read_only": false
    }
   },
   "outputs": [],
   "source": [
    "dna_sequence = \"ATG GCT GCG TCA ACT CGC AAA TGC GTA GGC CAA CCG\""
   ]
  },
  {
   "cell_type": "markdown",
   "metadata": {
    "button": false,
    "new_sheet": false,
    "run_control": {
     "read_only": false
    }
   },
   "source": [
    "* Complete the code below using the .format method to insert the string variables into the printed string:"
   ]
  },
  {
   "cell_type": "code",
   "execution_count": 3,
   "metadata": {
    "button": false,
    "new_sheet": false,
    "run_control": {
     "frozen": false,
     "read_only": false
    }
   },
   "outputs": [
    {
     "name": "stdout",
     "output_type": "stream",
     "text": [
      "Beak depth measurements of Ground Finches ranged from {} mm to {} mm, with a mean of {} mm\n"
     ]
    }
   ],
   "source": [
    "mean_beak_depth_mm = 9.2\n",
    "max_beak_depth_mm = 11.1\n",
    "min_beak_depth_mm = 7.6\n",
    "#use the .format method to insert variables into the string below\n",
    "print(\"Beak depth measurements of Ground Finches ranged from {} mm to {} mm, with a mean of {} mm\") "
   ]
  },
  {
   "cell_type": "code",
   "execution_count": null,
   "metadata": {
    "collapsed": true
   },
   "outputs": [],
   "source": []
  }
 ],
 "metadata": {
  "anaconda-cloud": {},
  "hide_input": false,
  "kernelspec": {
   "display_name": "Python 3",
   "language": "python",
   "name": "python3"
  },
  "language_info": {
   "codemirror_mode": {
    "name": "ipython",
    "version": 3
   },
   "file_extension": ".py",
   "mimetype": "text/x-python",
   "name": "python",
   "nbconvert_exporter": "python",
   "pygments_lexer": "ipython3",
   "version": "3.6.2"
  }
 },
 "nbformat": 4,
 "nbformat_minor": 1
}
