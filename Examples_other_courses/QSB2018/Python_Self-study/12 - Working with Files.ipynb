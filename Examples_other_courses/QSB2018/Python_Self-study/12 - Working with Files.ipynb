{
 "cells": [
  {
   "cell_type": "markdown",
   "metadata": {
    "button": false,
    "new_sheet": false,
    "run_control": {
     "read_only": false
    }
   },
   "source": [
    "# Working with files\n",
    "\n",
    "If you're processing scientific data, it won't be long before you want to read your data from files. This section will also show you how to write your program's results to files, for example to keep them for further analysis or to open in another program.\n",
    "\n",
    "We'll assume in this lesson that your data is in a text file (one you could open with a standard text editor), rather than a binary file (which require you to know about how the file is encoded in binary).\n",
    "\n",
    "## Reading files\n",
    "\n",
    "To open a file, there are different methods you can use:\n",
    "\n",
    "First we use the `open()` function, this takes two arguments - filename and mode (see table 1 below). It is good coding to close your file after you are finished with it using the `close()` function.  "
   ]
  },
  {
   "cell_type": "code",
   "execution_count": 7,
   "metadata": {
    "button": false,
    "collapsed": true,
    "new_sheet": false,
    "run_control": {
     "read_only": false
    }
   },
   "outputs": [],
   "source": [
    "f = open('datafile.csv', 'r')\n",
    "f.close()"
   ]
  },
  {
   "cell_type": "markdown",
   "metadata": {
    "button": false,
    "new_sheet": false,
    "run_control": {
     "read_only": false
    }
   },
   "source": [
    "#### Table 1: modes for file.open()\n",
    "|Mode|Description|\n",
    "|:------:|:------|\n",
    "|r|Open file only for reading|\n",
    "|w|Open file only for writing|\n",
    "|a|Open for appending - data written is added to the end of the file|\n",
    "|r+|Open file for reading and writing|\n",
    "\n",
    "`open()` only opens the file - it doesn't do anything with the file contents. The file contents can be accessed in a few different ways, which vary depending on what you want to do with the data, and how much data is expected to be in the file.  "
   ]
  },
  {
   "cell_type": "markdown",
   "metadata": {
    "button": false,
    "new_sheet": false,
    "run_control": {
     "read_only": false
    }
   },
   "source": [
    "Files can be accessed as a sequence of individual lines using **loops**. There are other ways to open files, however as this approach menas you don't need to hold the whole file in memory at one time, it is a good approach for big data files and is the approach that will be used throughout this course.\n",
    "\n",
    "\n",
    "#### Loops\n",
    "\n",
    "You can loop over the file object to get individual lines one at a time to process. This is an extremely common way to process scientific data files as it is very memory efficient and fast, since the whole file doesn't need to be stored in memory at once."
   ]
  },
  {
   "cell_type": "code",
   "execution_count": 9,
   "metadata": {
    "button": false,
    "new_sheet": false,
    "run_control": {
     "read_only": false
    }
   },
   "outputs": [
    {
     "name": "stdout",
     "output_type": "stream",
     "text": [
      "EnsembleID,logFC,logCPM,PValue,FDR,description,external_gene_name\n",
      "\n",
      "ENSMUSG00000000085,-0.517098261,5.077189037,0.000921513,0.013475949,sex comb on midleg homolog 1 [Source:MGI Symbol;Acc:MGI:1352762],Scmh1\n",
      "\n",
      "ENSMUSG00000000142,3.163834082,-0.373208103,6.53E-08,5.58E-06,axin2 [Source:MGI Symbol;Acc:MGI:1270862],Axin2\n",
      "\n",
      "ENSMUSG00000000275,0.76032031,6.626927229,1.00E-05,0.00034474,tripartite motif-containing 25 [Source:MGI Symbol;Acc:MGI:102749],Trim25\n",
      "\n",
      "ENSMUSG00000000486,0.528756286,5.399726946,0.001804609,0.023120858,septin 1 [Source:MGI Symbol;Acc:MGI:1858916],sept1\n"
     ]
    }
   ],
   "source": [
    "#this code prints the file line by line\n",
    "f = open('datafile.csv', 'r') #open datafile.csv as read only\n",
    "for line in f:\n",
    "    print(line) #print each line one at a time\n",
    "f.close()"
   ]
  },
  {
   "cell_type": "markdown",
   "metadata": {
    "button": false,
    "new_sheet": false,
    "run_control": {
     "read_only": false
    }
   },
   "source": [
    "#### with open...\n",
    "\n",
    "There is a slightly better way to open files in Python that is commonly used by experienced programmers because it means that the file will automatically be closed when the block exits (even if the exit is because of an exception in your code block) - this is therefore more robust, and easier because you don't need to remember to use the `close()` function. To do this, the `open()` function and a `with` statement are combined:"
   ]
  },
  {
   "cell_type": "code",
   "execution_count": 10,
   "metadata": {
    "button": false,
    "new_sheet": false,
    "run_control": {
     "read_only": false
    }
   },
   "outputs": [
    {
     "name": "stdout",
     "output_type": "stream",
     "text": [
      "EnsembleID,logFC,logCPM,PValue,FDR,description,external_gene_name\n",
      "\n",
      "ENSMUSG00000000085,-0.517098261,5.077189037,0.000921513,0.013475949,sex comb on midleg homolog 1 [Source:MGI Symbol;Acc:MGI:1352762],Scmh1\n",
      "\n",
      "ENSMUSG00000000142,3.163834082,-0.373208103,6.53E-08,5.58E-06,axin2 [Source:MGI Symbol;Acc:MGI:1270862],Axin2\n",
      "\n",
      "ENSMUSG00000000275,0.76032031,6.626927229,1.00E-05,0.00034474,tripartite motif-containing 25 [Source:MGI Symbol;Acc:MGI:102749],Trim25\n",
      "\n",
      "ENSMUSG00000000486,0.528756286,5.399726946,0.001804609,0.023120858,septin 1 [Source:MGI Symbol;Acc:MGI:1858916],sept1\n"
     ]
    }
   ],
   "source": [
    "#this code prints the file line by line\n",
    "with open('datafile.csv', 'r') as f:\n",
    "    for line in f:\n",
    "        print(line)"
   ]
  },
  {
   "cell_type": "markdown",
   "metadata": {
    "button": false,
    "new_sheet": false,
    "run_control": {
     "read_only": false
    }
   },
   "source": [
    "### Processing Real Data Files\n",
    "\n",
    "Real data files take a variety of different formats, for example csv (comma-separated values) files are a common file type where the columns of data in each line are separated by commas. For notes on different filetypes, see the section 'Common biological data files and how to parse them'.\n",
    "\n",
    "Contents of oligos.csv:\n",
    "\n",
    "```\n",
    "gct1, ACTGATCCTATGACGGA, chr1, sense\n",
    "llt1, ACGTAGCACAGTTTCACG, chr17, anti-sense\n",
    "uta2, GCATCAGGATAGCCAG, chr14, anti-sense\n",
    "cis1, CTAGGATTGATCACAGT, chr1, sense\n",
    "```\n",
    "\n",
    "The csv file above consists of data fields separated by commas. Although it is not usually visable in a text editor, the end of each line is terminated by a newline character `\\n`. You'll usually want to remove this before you do anything else with the line, so that a newline character doesn't remain attached to the last entry in the line which may give unwanted effects when you further process that data.\n",
    "\n",
    "To remove the newline character from the end of the line, we can use the `rstrip()` method that we encountered in the strings section of this tutorial. "
   ]
  },
  {
   "cell_type": "code",
   "execution_count": 2,
   "metadata": {
    "button": false,
    "new_sheet": false,
    "run_control": {
     "read_only": false
    }
   },
   "outputs": [
    {
     "name": "stdout",
     "output_type": "stream",
     "text": [
      "gct1, ACTGATCCTATGACGGA, chr1, sense\n",
      "llt1, ACGTAGCACAGTTTCACG, chr17, anti-sense\n",
      "uta2, GCATCAGGATAGCCAG, chr14, anti-sense\n",
      "cis1, CTAGGATTGATCACAGT, chr1, sense\n"
     ]
    }
   ],
   "source": [
    "#this code prints the file line by line\n",
    "with open('oligos.csv', 'r') as f:\n",
    "    for line in f:\n",
    "        stripped_line = line.rstrip(\"\\n\")\n",
    "        print(stripped_line) #prints the line without the newline character at the end"
   ]
  },
  {
   "cell_type": "markdown",
   "metadata": {
    "button": false,
    "new_sheet": false,
    "run_control": {
     "read_only": false
    }
   },
   "source": [
    "Try modifying the above code to `print(line)` and compare to `print(stripped_line)` - note the effect of printing the extra newline if it is not removed. Individual print statements automatically print on a newline, so if the previous newline is still present, an additional empty line is inserted between rows of data."
   ]
  },
  {
   "cell_type": "markdown",
   "metadata": {
    "button": false,
    "new_sheet": false,
    "run_control": {
     "read_only": false
    }
   },
   "source": [
    "### Splitting up your data\n",
    "\n",
    "Once you have removed the new line, you might want to work with the individual data fields in each line if your line contains fields that are separated (delimited) by a particular character such as a comma or tab. \n",
    "\n",
    "In our file of oligo sequences, we need to split the up at the comma values. By using the `split()` method, we can separate the individual data and put them into a list. We can then use or process the individual list elements the same way we learned in the list section of the tutorial - by accessing the individual list elements using square bracket notation, eg. `example_list[2]`\n",
    "\n",
    "We usually also want to combine this action with using the `.rstrip()` method to remove the newline character from teh end of the line - if we don't do this then the last element of the list generates by `.split()` would have an invisible newline (\\n) character at the end of it, and that could inhibit processing the that data value. \n",
    "\n",
    "Note that in the example below, we can apply the split method immediately after the rstrip method by writing them sequentially."
   ]
  },
  {
   "cell_type": "code",
   "execution_count": 15,
   "metadata": {
    "button": false,
    "new_sheet": false,
    "run_control": {
     "read_only": false
    }
   },
   "outputs": [
    {
     "name": "stdout",
     "output_type": "stream",
     "text": [
      "18\n",
      "19\n",
      "17\n",
      "18\n"
     ]
    }
   ],
   "source": [
    "#this code calculates the length of each oligo in the file\n",
    "with open('oligos.csv', 'r') as f:\n",
    "    for line in f:\n",
    "        #remove newline then split at commas\n",
    "        data_list = line.rstrip(\"\\n\").split(\",\") \n",
    "        oligo_length=len(data_list[1])\n",
    "        print(oligo_length)  "
   ]
  },
  {
   "cell_type": "markdown",
   "metadata": {
    "button": false,
    "new_sheet": false,
    "run_control": {
     "read_only": false
    }
   },
   "source": [
    "The code above takes each individual line of the text file, one by one, removes the newline character at the end of the line, then splits the line at commas to form a new list called data_list. A variable, oligo_length, is assigned to the length of the second value in the list (accessed as datalist[1]), and the printed to screen.\n",
    "\n",
    "#### Example of working with the extracted data using list functions"
   ]
  },
  {
   "cell_type": "code",
   "execution_count": 3,
   "metadata": {
    "button": false,
    "new_sheet": false,
    "run_control": {
     "read_only": false
    }
   },
   "outputs": [
    {
     "name": "stdout",
     "output_type": "stream",
     "text": [
      "Contents of list is [18, 19, 17, 18]\n",
      "Sum of list values is 72\n",
      "Number of items in list is 4\n"
     ]
    }
   ],
   "source": [
    "#this code calculates the length of each oligo in the file, appends it to a list the calculates the total sumber of bases\n",
    "with open('oligos.csv', 'r') as f:\n",
    "    list_of_lengths = [] #create an empty list to add lengths to\n",
    "    \n",
    "    for line in f:\n",
    "        #remove newline then split at commas\n",
    "        data_list = line.rstrip(\"\\n\").split(\",\") \n",
    "        oligo_length=len(data_list[1])\n",
    "        list_of_lengths.append(oligo_length)\n",
    "        \n",
    "print(\"Contents of list is {}\".format(list_of_lengths))\n",
    "\n",
    "#Use the sum() function to calculate the sum of the list\n",
    "sum_of_lengths=sum(list_of_lengths)\n",
    "print(\"Sum of list values is {}\".format(sum_of_lengths))\n",
    "\n",
    "#Use the len() function to calculate the number of items in the list\n",
    "number_of_items=len(list_of_lengths)\n",
    "print(\"Number of items in list is {}\".format(number_of_items))"
   ]
  },
  {
   "cell_type": "markdown",
   "metadata": {
    "button": false,
    "new_sheet": false,
    "run_control": {
     "read_only": false
    }
   },
   "source": [
    "### Writing files\n",
    "\n",
    "Writing files is very similar to reading them, we specify the 'w' argument when opening the file to indicate that we can to write to the file. We can then use the write() method to write to our file object."
   ]
  },
  {
   "cell_type": "code",
   "execution_count": 4,
   "metadata": {
    "button": false,
    "collapsed": true,
    "new_sheet": false,
    "run_control": {
     "read_only": false
    }
   },
   "outputs": [],
   "source": [
    "with open(\"outputfile.txt\", 'w') as outfile:\n",
    "    outfile.write(\"This text will be written to the file\\n\")\n",
    "    outfile.write(\"This will be the second line\")"
   ]
  },
  {
   "cell_type": "markdown",
   "metadata": {
    "button": false,
    "new_sheet": false,
    "run_control": {
     "read_only": false
    }
   },
   "source": [
    "If you run the above code in your Jupyter notebook, you will then be able to view and open your newly created file from the file menu (the first page viewed when you log in). "
   ]
  },
  {
   "cell_type": "code",
   "execution_count": 26,
   "metadata": {
    "button": false,
    "collapsed": true,
    "new_sheet": false,
    "run_control": {
     "read_only": false
    }
   },
   "outputs": [],
   "source": [
    "#This code writes the contents of the dictionary to a file in FASTA format\n",
    "sequence_dict = { \"TIGR4\":\"ATCGATGCTA\", \"D39\":\"AGCTAGCCTA\", \"GC38\":\"CATGCTAGCT\"}\n",
    "with open(\"output_seqs.fasta\", 'w') as outfile:\n",
    "    for strain in sequence_dict:\n",
    "        outfile.write(\">{}\\n\".format(strain)) #writes key (strain) to FASTA header line\n",
    "        outfile.write(\"{}\\n\".format(sequence_dict[strain])) #writes value (sequence) to sequence line"
   ]
  },
  {
   "cell_type": "markdown",
   "metadata": {
    "button": false,
    "new_sheet": false,
    "run_control": {
     "read_only": false
    }
   },
   "source": [
    "# Exercise\n",
    "\n",
    "Your home folder contains a csv file called 'FD_CDR3_10000.csv' that contains peptide sequences in the format \"donor, sequence\" (example excerpt is shown below). \n",
    "\t\t\n",
    "\t\tFD003, CEFRDANIPWER\n",
    "\t\tFD004, CGATPQWERWE\n",
    "\t\tFD004, CATECGTAPWERYT\n",
    "\n",
    "* Write a program to read the file and add each CDR3 sequence to a list\n",
    "* Modify your program to calculate the mean peptide sequence length \n"
   ]
  },
  {
   "cell_type": "code",
   "execution_count": null,
   "metadata": {
    "button": false,
    "collapsed": true,
    "new_sheet": false,
    "run_control": {
     "read_only": false
    }
   },
   "outputs": [],
   "source": []
  }
 ],
 "metadata": {
  "anaconda-cloud": {},
  "kernelspec": {
   "display_name": "Python 3",
   "language": "python",
   "name": "python3"
  },
  "language_info": {
   "codemirror_mode": {
    "name": "ipython",
    "version": 3
   },
   "file_extension": ".py",
   "mimetype": "text/x-python",
   "name": "python",
   "nbconvert_exporter": "python",
   "pygments_lexer": "ipython3",
   "version": "3.6.2"
  }
 },
 "nbformat": 4,
 "nbformat_minor": 1
}
