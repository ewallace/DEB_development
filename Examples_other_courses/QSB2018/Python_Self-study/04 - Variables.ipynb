{
 "cells": [
  {
   "cell_type": "markdown",
   "metadata": {
    "button": false,
    "new_sheet": false,
    "run_control": {
     "read_only": false
    }
   },
   "source": [
    "### What are variables and why do we need them?\n",
    "\n",
    "When you're writing a program to perform a task, you usually need to store some information in the computer's memory that can be read or updated again later in the program. \n",
    "\n",
    "If you to count the number of times the DNA sequence GAT occurs in the sequence below, most people would work their way along the sequence and add 1 to their count every time they encountered the sequence GAT. \n",
    "\n",
    "```\n",
    "AGATGCTAGCTGAGATATCGATCG\n",
    "```\n",
    "\n",
    "You can think of the number you are storing in your head as a variable - somewhere to store the current count of GAT sequences. \n",
    "\n",
    "**Variables** are simply reserved computer memory locations for storing information and you can store many different types of data in them, such as numbers, text or lists of items. Each of these different types of data is stored in a different type of variable so that Python knows how much memory to allocate to it and what kind of operations to allow on the data. The table below shows a list of the available variable types and what kinds of data they can contain.\n",
    "\n",
    "### Variable Types\n",
    "\n",
    "All variables have a type - this indicates the kind of data that is stored in the variable, e.g. string, integer, float, list, dictionary.\n",
    "\n",
    "Over the next few notebooks we will look at each of the variable types in the table below. \n",
    "\n",
    "|Variable type|Description|Example|\n",
    "|:-------:|:-------|:-------|\n",
    "|Int | Integer: a positive or negative whole number (e.g. 32 or -7)|243|\n",
    "|Float | A floating point number - i.e. a number containing a decimal point (e.g. 4.89)|3.14159|\n",
    "|String | Text - for example DNA sequences, gene names or accession numbers|'Gastropoda'|\n",
    "|List | A data structure containing a sequence of items (of any variable type(s))|[2.17, 4, \"GCATCGATCG\"]|\n",
    "|Dictionary | A data structure composed of pairs of unique keys and (non-necessarily unique) values| {\"Scientific Name\":\"Mus musculus\", \"Common Name\":\"Mouse\", \"Genome size (Gb)\":2.8}|\n",
    "\n",
    "In Python, we can simply create and set a variable by typing its name then assigning a value to it using the `=` sign. You can decide what to call your variable as long as you don't use words already reserved in Python - there is advice on picking good variable names later in this section.\n",
    "\n",
    "To create a variable called `sequence_length`, you would type:"
   ]
  },
  {
   "cell_type": "code",
   "execution_count": 3,
   "metadata": {
    "button": false,
    "collapsed": true,
    "new_sheet": false,
    "run_control": {
     "frozen": false,
     "read_only": false
    }
   },
   "outputs": [],
   "source": [
    "sequence_length = 431"
   ]
  },
  {
   "cell_type": "markdown",
   "metadata": {
    "button": false,
    "new_sheet": false,
    "run_control": {
     "read_only": false
    }
   },
   "source": [
    "Since sequence_length is stored in memory, we can now recall it and print it to screen using the `print()` function:"
   ]
  },
  {
   "cell_type": "code",
   "execution_count": 4,
   "metadata": {
    "button": false,
    "new_sheet": false,
    "run_control": {
     "frozen": false,
     "read_only": false
    }
   },
   "outputs": [
    {
     "name": "stdout",
     "output_type": "stream",
     "text": [
      "431\n"
     ]
    }
   ],
   "source": [
    "sequence_length = 431\n",
    "print(sequence_length)"
   ]
  },
  {
   "cell_type": "markdown",
   "metadata": {
    "button": false,
    "new_sheet": false,
    "run_control": {
     "read_only": false
    }
   },
   "source": [
    "You can change the value of a variable at any point - in the example below we first set `sequence_length` to 431, print the value that `sequence_length` is set when the `print()` function is first called, then we change the value to 104 and print the value stored in `sequence_length` variable again. "
   ]
  },
  {
   "cell_type": "code",
   "execution_count": 5,
   "metadata": {
    "button": false,
    "new_sheet": false,
    "run_control": {
     "frozen": false,
     "read_only": false
    }
   },
   "outputs": [
    {
     "name": "stdout",
     "output_type": "stream",
     "text": [
      "431\n",
      "104\n"
     ]
    }
   ],
   "source": [
    "sequence_length = 431\n",
    "print(sequence_length)\n",
    "sequence_length = 104\n",
    "print(sequence_length)"
   ]
  },
  {
   "cell_type": "markdown",
   "metadata": {
    "button": false,
    "new_sheet": false,
    "run_control": {
     "read_only": false
    }
   },
   "source": [
    "Python also allows you to simultaneously assign the same value to multiple variables, or to assign multiple values to multiple variables at the same time. In the example code below, `num1`, `num2` and `num3` are all set to 0."
   ]
  },
  {
   "cell_type": "code",
   "execution_count": 6,
   "metadata": {
    "button": false,
    "new_sheet": false,
    "run_control": {
     "frozen": false,
     "read_only": false
    }
   },
   "outputs": [
    {
     "name": "stdout",
     "output_type": "stream",
     "text": [
      "0\n",
      "0\n",
      "0\n"
     ]
    }
   ],
   "source": [
    "num1 = num2 = num3 = 0\n",
    "print(num1)\n",
    "print(num2)\n",
    "print(num3)"
   ]
  },
  {
   "cell_type": "markdown",
   "metadata": {
    "button": false,
    "new_sheet": false,
    "run_control": {
     "read_only": false
    }
   },
   "source": [
    "Similarly, the code below simultaneously sets variables num1 and num2 to integers 7 and 14 respectively, and a string object containing the DNA sequence \"ACGTAGCTATTCG\" is assigned to the variable `seq1`.\n"
   ]
  },
  {
   "cell_type": "code",
   "execution_count": 7,
   "metadata": {
    "button": false,
    "new_sheet": false,
    "run_control": {
     "frozen": false,
     "read_only": false
    }
   },
   "outputs": [
    {
     "name": "stdout",
     "output_type": "stream",
     "text": [
      "7\n",
      "14\n",
      "ACGTAGCTATTCG\n"
     ]
    }
   ],
   "source": [
    "num1, num2, seq1 = ( 7, 14, \"ACGTAGCTATTCG\" )\n",
    "print(num1)\n",
    "print(num2)\n",
    "print(seq1)"
   ]
  },
  {
   "cell_type": "markdown",
   "metadata": {
    "button": false,
    "new_sheet": false,
    "run_control": {
     "read_only": false
    }
   },
   "source": [
    "### Basic Mathematical Operations\n",
    "\n",
    "We can also perform manipulations or calculations using our variable. In the first example below, we set our variable called `number_of_gastropods` to  1042 and another variable named `garden_area` to 168. We then set another variable, `gastropods_per_sqm` to the result of dividing `number_of_gastropods` by `garden_area`. Finally, we print the value stored in the variable `gastropods_per_sqm`. We have calculated the average number of gastropods (snails and slugs) per square metre. "
   ]
  },
  {
   "cell_type": "code",
   "execution_count": 9,
   "metadata": {
    "button": false,
    "new_sheet": false,
    "run_control": {
     "frozen": false,
     "read_only": false
    }
   },
   "outputs": [
    {
     "name": "stdout",
     "output_type": "stream",
     "text": [
      "6.2023809523809526\n"
     ]
    }
   ],
   "source": [
    "number_of_gastropods = 1042\n",
    "garden_area = 168\n",
    "gastropods_per_sqm = number_of_gastropods / garden_area\n",
    "print(gastropods_per_sqm)"
   ]
  },
  {
   "cell_type": "markdown",
   "metadata": {
    "button": false,
    "new_sheet": false,
    "run_control": {
     "read_only": false
    }
   },
   "source": [
    "In this second example, we directly print the result of adding the length of 2 oligonucleotide primers that are 28 nucleotides long to a DNA sequence that is 341 nucleotide long. The next section of the tutorial will cover arithmetic operations like this in more detail. "
   ]
  },
  {
   "cell_type": "code",
   "execution_count": 1,
   "metadata": {
    "button": false,
    "new_sheet": false,
    "run_control": {
     "frozen": false,
     "read_only": false
    }
   },
   "outputs": [
    {
     "name": "stdout",
     "output_type": "stream",
     "text": [
      "397\n"
     ]
    }
   ],
   "source": [
    "sequence_length = 341\n",
    "primer_length = 28\n",
    "print(sequence_length + 2*primer_length)"
   ]
  },
  {
   "cell_type": "markdown",
   "metadata": {
    "button": false,
    "new_sheet": false,
    "run_control": {
     "read_only": false
    }
   },
   "source": [
    "#### Assigning different variable types\n",
    "\n",
    "Python automatically infers what type of variable should be created according to the contents and the way you type it. If you surround a value with single or double quotation marks (' or \"), Python will know that the variable type should be a string. To set a string (i.e. text) variable called `cell_type` to 'Hepatocyte', simply type:\n"
   ]
  },
  {
   "cell_type": "code",
   "execution_count": 24,
   "metadata": {
    "button": false,
    "new_sheet": false,
    "run_control": {
     "frozen": false,
     "read_only": false
    }
   },
   "outputs": [
    {
     "name": "stdout",
     "output_type": "stream",
     "text": [
      "Hepatocyte\n"
     ]
    }
   ],
   "source": [
    "cell_type = 'Hepatocyte'\n",
    "print(cell_type)"
   ]
  },
  {
   "cell_type": "markdown",
   "metadata": {
    "button": false,
    "new_sheet": false,
    "run_control": {
     "read_only": false
    }
   },
   "source": [
    "We can check what kind of variable `cell_type` is by using the `type()` function. `type(cell_type)` returns the kind of variable, and we can use this along with the `print()` function to print this information to screen:"
   ]
  },
  {
   "cell_type": "code",
   "execution_count": 12,
   "metadata": {
    "button": false,
    "new_sheet": false,
    "run_control": {
     "frozen": false,
     "read_only": false
    }
   },
   "outputs": [
    {
     "name": "stdout",
     "output_type": "stream",
     "text": [
      "<class 'str'>\n"
     ]
    }
   ],
   "source": [
    "cell_type = 'Hepatocyte'\n",
    "print(type(cell_type))"
   ]
  },
  {
   "cell_type": "markdown",
   "metadata": {
    "button": false,
    "new_sheet": false,
    "run_control": {
     "read_only": false
    }
   },
   "source": [
    "### Controlling variable type\n",
    "\n",
    "When we assign a variable, Python sets the variable type based on how it is assigned. If we assign a numeric digit with no decimal points to a variable, Python will automatically make the variable type an integer (int). If we add a decimal point, Python will make the variable a float, and if we enclose it in quotation marks, Python will make the variable type a string."
   ]
  },
  {
   "cell_type": "code",
   "execution_count": 13,
   "metadata": {
    "button": false,
    "new_sheet": false,
    "run_control": {
     "frozen": false,
     "read_only": false
    }
   },
   "outputs": [
    {
     "name": "stdout",
     "output_type": "stream",
     "text": [
      "<class 'int'>\n",
      "<class 'float'>\n",
      "<class 'str'>\n"
     ]
    }
   ],
   "source": [
    "sequence_length_as_int = 9 \n",
    "sequence_length_as_float = 9.0\n",
    "sequence_length_as_string = \"9\"\n",
    "\n",
    "print(type(sequence_length_as_int))\n",
    "print(type(sequence_length_as_float))\n",
    "print(type(sequence_length_as_string))"
   ]
  },
  {
   "cell_type": "markdown",
   "metadata": {
    "button": false,
    "collapsed": true,
    "new_sheet": false,
    "run_control": {
     "read_only": false
    }
   },
   "source": [
    "#### Changing Variable Types\n",
    "\n",
    "The variable `cell_type` is a string variable (i.e. it contains text), therefore you cannot perform operations such as arithmatic on it the same way that you could on a an integer or float variable:\n"
   ]
  },
  {
   "cell_type": "code",
   "execution_count": 14,
   "metadata": {
    "button": false,
    "new_sheet": false,
    "run_control": {
     "frozen": false,
     "read_only": false
    }
   },
   "outputs": [
    {
     "ename": "TypeError",
     "evalue": "Can't convert 'int' object to str implicitly",
     "output_type": "error",
     "traceback": [
      "\u001b[0;31m---------------------------------------------------------------------------\u001b[0m",
      "\u001b[0;31mTypeError\u001b[0m                                 Traceback (most recent call last)",
      "\u001b[0;32m<ipython-input-14-dfe975053d90>\u001b[0m in \u001b[0;36m<module>\u001b[0;34m()\u001b[0m\n\u001b[1;32m      1\u001b[0m \u001b[0mcell_type\u001b[0m\u001b[0;34m=\u001b[0m \u001b[0;34m'Hepatocyte'\u001b[0m\u001b[0;34m\u001b[0m\u001b[0m\n\u001b[0;32m----> 2\u001b[0;31m \u001b[0mprint\u001b[0m\u001b[0;34m(\u001b[0m\u001b[0mcell_type\u001b[0m\u001b[0;34m+\u001b[0m\u001b[0;36m3\u001b[0m\u001b[0;34m)\u001b[0m\u001b[0;34m\u001b[0m\u001b[0m\n\u001b[0m",
      "\u001b[0;31mTypeError\u001b[0m: Can't convert 'int' object to str implicitly"
     ]
    }
   ],
   "source": [
    "cell_type = 'Hepatocyte'\n",
    "print(cell_type + 3)"
   ]
  },
  {
   "cell_type": "markdown",
   "metadata": {
    "button": false,
    "new_sheet": false,
    "run_control": {
     "read_only": false
    }
   },
   "source": [
    "We have our first error: this is telling us that we have tried to arithmetically add an integer (3) on to a string (Hepatocyte), and as a mathematical operation this is nonsense. This is what is known as a 'TypeError', and if you are handling scientific datasets you will probably encounter them frequently. It simply means that the variable type does not match that which the code is expecting, either because you have manually entered it wrongly or because Python has misinterpreted what type of data is stored. As you will see in future sections, when you import data from files, Python sometimes stores numbers as strings rather than int or float.\n",
    "\n",
    "As we previously learned, we can force Python to make a variable a string, even when entering a number:"
   ]
  },
  {
   "cell_type": "code",
   "execution_count": null,
   "metadata": {
    "button": false,
    "collapsed": true,
    "new_sheet": false,
    "run_control": {
     "frozen": false,
     "read_only": false
    }
   },
   "outputs": [],
   "source": [
    "sequence_length = 431 #sequence_length is stored as a number - you can perform mathematics operations on it\n",
    "sequence_length = '431' #sequence_length is stored and treated as a string (text)"
   ]
  },
  {
   "cell_type": "markdown",
   "metadata": {
    "button": false,
    "new_sheet": false,
    "run_control": {
     "read_only": false
    }
   },
   "source": [
    "The following division therefore won't work and will generate a type error because sequence\\_length is a string variable, not an int or float. "
   ]
  },
  {
   "cell_type": "code",
   "execution_count": null,
   "metadata": {
    "button": false,
    "collapsed": true,
    "new_sheet": false,
    "run_control": {
     "frozen": false,
     "read_only": false
    }
   },
   "outputs": [],
   "source": [
    "number_of_mismatches = 34\n",
    "sequence_length = '431'\n",
    "proportion_mismatched = number_of_mismatches / sequence_length\n",
    "print(proportion_mismatched)"
   ]
  },
  {
   "cell_type": "markdown",
   "metadata": {
    "button": false,
    "new_sheet": false,
    "run_control": {
     "read_only": false
    }
   },
   "source": [
    "However, you can convert any variable on-the-fly to a different type (assuming the data within makes sense as that type). To convert to an integer, we wrap the string in the expression int():"
   ]
  },
  {
   "cell_type": "code",
   "execution_count": null,
   "metadata": {
    "button": false,
    "collapsed": true,
    "new_sheet": false,
    "run_control": {
     "frozen": false,
     "read_only": false
    }
   },
   "outputs": [],
   "source": [
    "number_of_mismatches = 34\n",
    "sequence_length = '431'\n",
    "proportion_mismatched = number_of_mismatches / int(sequence_length)\n",
    "print(proportion_mismatched)"
   ]
  },
  {
   "cell_type": "markdown",
   "metadata": {
    "button": false,
    "new_sheet": false,
    "run_control": {
     "read_only": false
    }
   },
   "source": [
    "To convert to:\n",
    "* integer, use `int()`\n",
    "* string, use `str()`\n",
    "* float, use `float()`\n",
    "\n",
    "### What should I call my variable?\n",
    "\n",
    "Variables should generally be lowercase with words separated by underscores as necessary to improve readability. Some Python coders prefer mixedCase, where capital letters denote word boundaries. \n",
    "\n",
    "It is useful to make mneumonic variable names - that is names that help us remember why we created the variable in the first place and what value(s) it contains. The following three blocks of code produce the same results when run by the computer, but vary in how easy they are to understand for a human reader.\n"
   ]
  },
  {
   "cell_type": "code",
   "execution_count": 1,
   "metadata": {
    "button": false,
    "new_sheet": false,
    "run_control": {
     "frozen": false,
     "read_only": false
    }
   },
   "outputs": [
    {
     "name": "stdout",
     "output_type": "stream",
     "text": [
      "6.7\n"
     ]
    }
   ],
   "source": [
    "#The variable names in this example don't tell you anything useful about what they contain\n",
    "a = 670\n",
    "b = 100\n",
    "c = a / b\n",
    "print(c)"
   ]
  },
  {
   "cell_type": "code",
   "execution_count": 3,
   "metadata": {
    "button": false,
    "new_sheet": false,
    "run_control": {
     "frozen": false,
     "read_only": false
    }
   },
   "outputs": [
    {
     "name": "stdout",
     "output_type": "stream",
     "text": [
      "6.7\n"
     ]
    }
   ],
   "source": [
    "#These obscure variable names are obscure, irrelevant and therefore also unhelpful, but the mathematical operation is identical\n",
    "longjing = 670\n",
    "london = 100\n",
    "lemur = longjing / london\n",
    "print(lemur)"
   ]
  },
  {
   "cell_type": "code",
   "execution_count": 4,
   "metadata": {
    "button": false,
    "new_sheet": false,
    "run_control": {
     "frozen": false,
     "read_only": false
    }
   },
   "outputs": [
    {
     "name": "stdout",
     "output_type": "stream",
     "text": [
      "6.7\n"
     ]
    }
   ],
   "source": [
    "#These variable names make it clear that we must be calculating a concentration\n",
    "#This is much easier when you revisit your code after a couple of weeks\n",
    "milligrams = 670\n",
    "millilitres = 100\n",
    "concentration = milligrams / millilitres\n",
    "print(concentration) "
   ]
  },
  {
   "cell_type": "markdown",
   "metadata": {
    "button": false,
    "new_sheet": false,
    "run_control": {
     "read_only": false
    }
   },
   "source": [
    "### Variable naming guidelines\n",
    "\n",
    "You can call your variable almost anything you like, although it is useful to follow the guide below:\n",
    "\n",
    "* You cannot use any of Python's keywords - i.e. words that already have a meaning in the Python language (see table below). Also avoid words that can be confused with these terms (such as capitalized equivalents e.g. Yield), although doing so would not raise an error. \n",
    "\t\n",
    "* You should also avoid using function names as variable names. Later in this course we will learn more about functions - so far we have only used `print()`.  If you name your variable the same name as a function, then when you try to use that function you will encounter an error. Therefore avoid variable names such as sum (there is a function called `sum()`, and instead be more specific, e.g. sum\\_of\\_squares).\n",
    "\n",
    "* Variable names cannot start with a number.\n",
    "\n",
    "* For single-character names, avoid using l, O or I (lowercase letter el, oh or eye), as these may be indistinguishable from the numbers 1 or 0 or may be mixed up with themselves.\n",
    "\n",
    "* Variable names are case-sensitive, so dna\\_seq, dna\\_SEQ, and dna\\_Seq are all separate variables. Although technically we could use all of these combinations, it would be confusing both to the coder and anyone reading or editing the code.\n",
    "\n",
    "* Avoid names that are too wordy (e.g. number\\_of\\_amino\\_acid\\_residues\\_in\\_protein\\_motif) but do try to make it obvious what they are from the name (e.g. motif\\_residue\\_count) \n",
    "\n",
    "#### Reserved keywords in Python\n",
    "\n",
    "<table>\n",
    "<tr>\n",
    "<td>False</td>\n",
    "<td>class</td>\n",
    "<td>finally</td>\n",
    "<td>is</td>\n",
    "<td>return</td>\n",
    "</tr>\n",
    "<tr>\n",
    "<td>None</td>\n",
    "<td>continue</td>\n",
    "<td>for</td>\n",
    "<td>lambda</td>\n",
    "<td>try</td>\n",
    "</tr>\n",
    "<tr>\n",
    "<td>True</td>\n",
    "<td>def</td>\n",
    "<td>from</td>\n",
    "<td>nonlocal</td>\n",
    "<td>while</td>\n",
    "</tr>\n",
    "<tr>\n",
    "<td>and</td>\n",
    "<td>del</td>\n",
    "<td>global</td>\n",
    "<td>not</td>\n",
    "<td>with</td>\n",
    "</tr>\n",
    "<tr>\n",
    "<td>as</td>\n",
    "<td>elif</td>\n",
    "<td>if</td>\n",
    "<td>or</td>\n",
    "<td>yield</td>\n",
    "</tr>\n",
    "<tr>\n",
    "<td>assert</td>\n",
    "<td>else</td>\n",
    "<td>import</td>\n",
    "<td>pass</td>\n",
    "</tr>\n",
    "<tr>\n",
    "<td>break</td>\n",
    "<td>except</td>\n",
    "<td>in</td>\n",
    "<td>raise</td>\n",
    "</tr>\n",
    "<table>\n"
   ]
  },
  {
   "cell_type": "markdown",
   "metadata": {
    "button": false,
    "new_sheet": false,
    "run_control": {
     "read_only": false
    }
   },
   "source": [
    "## Exercise\n",
    "\n",
    "Each strand of DNA is made of nucleotides, which are also sometimes referred to as bases. There are four different bases in DNA: thymine (T), adenine (A), guanine (G) and cytosine (C). \n",
    "There are chemical cross-links between the two strands in DNA, formed by pairs of bases. They always pair up in a particular way, called complementary base pairing:\n",
    "                    adenine pairs with thymine  (A-T)\n",
    "                    guanine pairs with cytosine (G–C)\n",
    "                    \n",
    "The GC content is the percentage of bases on a DNA or RNA molecule that are either guanine or cytosine. The GC content can vary widely between different regions of an organism's genome and also varies widely between different organisms. GC content is often of interest to biologists as it can indicate the presence of DNA that may have originated from another organism's genome.  \n",
    "\n",
    "Complete the following code to calculate the percentage GC content and print the value.\n"
   ]
  },
  {
   "cell_type": "code",
   "execution_count": null,
   "metadata": {
    "button": false,
    "collapsed": true,
    "new_sheet": false,
    "run_control": {
     "frozen": false,
     "read_only": false
    }
   },
   "outputs": [],
   "source": [
    "dna_length = 14512 #length of DNA sequence in base pairs\n",
    "number_GC_bases = 8534 #this is the number of bases that were either G or C\n",
    "percentage_GC = #complete the code from here"
   ]
  },
  {
   "cell_type": "markdown",
   "metadata": {
    "button": false,
    "collapsed": true,
    "new_sheet": false,
    "run_control": {
     "read_only": false
    }
   },
   "source": [
    "* Correct the code below so that it can run without error. \n"
   ]
  },
  {
   "cell_type": "code",
   "execution_count": null,
   "metadata": {
    "button": false,
    "collapsed": true,
    "new_sheet": false,
    "run_control": {
     "frozen": false,
     "read_only": false
    }
   },
   "outputs": [],
   "source": [
    "max_response = '5.3' #dont edit this line\n",
    "half_max = max_response / 2 #max_response was declared as a string - add code to convert it to a float\n",
    "print(\"50% of max dose response was \" + half_max) #half_max is a float - convert it to a string"
   ]
  }
 ],
 "metadata": {
  "anaconda-cloud": {},
  "hide_input": false,
  "kernelspec": {
   "display_name": "Python 3",
   "language": "python",
   "name": "python3"
  },
  "language_info": {
   "codemirror_mode": {
    "name": "ipython",
    "version": 3
   },
   "file_extension": ".py",
   "mimetype": "text/x-python",
   "name": "python",
   "nbconvert_exporter": "python",
   "pygments_lexer": "ipython3",
   "version": "3.6.2"
  }
 },
 "nbformat": 4,
 "nbformat_minor": 1
}
