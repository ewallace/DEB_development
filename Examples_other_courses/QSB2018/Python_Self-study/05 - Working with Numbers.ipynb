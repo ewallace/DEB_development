{
 "cells": [
  {
   "cell_type": "markdown",
   "metadata": {
    "button": false,
    "new_sheet": false,
    "run_control": {
     "read_only": false
    }
   },
   "source": [
    "# Working with numbers\n",
    "\n",
    "Quantitative scientific data is, by definition, rich in numerical data which may need to be analysed through mathematical operations. Any type of mathematical operation can be performed by a Python program - from simple tasks like addition or subtraction to advanced mathematical algorithms.\n",
    "\n",
    "Here we set a variable we have called 'result' to the sum of two numbers, then print the result to screen. The `+` operator adds two numbers together."
   ]
  },
  {
   "cell_type": "code",
   "execution_count": 1,
   "metadata": {
    "button": false,
    "new_sheet": false,
    "run_control": {
     "frozen": false,
     "read_only": false
    }
   },
   "outputs": [
    {
     "name": "stdout",
     "output_type": "stream",
     "text": [
      "81\n"
     ]
    }
   ],
   "source": [
    "result = 24 + 57\n",
    "print(result)"
   ]
  },
  {
   "cell_type": "markdown",
   "metadata": {
    "button": false,
    "new_sheet": false,
    "run_control": {
     "read_only": false
    }
   },
   "source": [
    " The table below shows the other available operators for subtraction, division, multiplication etc. \n",
    "\n",
    "#### Table of arithmetic operators\n",
    "\n",
    "|Symbol|Operation|Example: <br>if a=5 and b=10:|\n",
    "|:-------:|:--------|:--------|\n",
    "|+|Addition - Adds values on either side of the operator|a + b gives 15|\n",
    "|-|Subtraction - Subtracts right hand operand from left hand operand|a - b gives -5|\n",
    "|\\*|Multiplication - Multiplies values on either side of the operator|a * b gives 50|\n",
    "|/|Division - Divides left hand operand by right hand operand|b / a gives 2|\n",
    "|%|Modulus - Divides left hand operand by right hand operand and returns remainder|b % a gives 0|\n",
    "|\\*\\*|Exponent - Performs exponential (power) calculation on operators|a**b will give 5 to the power 10|\n",
    "|//|Floor Division - Returns the result of a division as a whole number, without any decimal point|11//2 is equal to 5|\n",
    "\n",
    "We can also perform calculations directly on variables that are of appropriate types (int or float):"
   ]
  },
  {
   "cell_type": "code",
   "execution_count": 1,
   "metadata": {
    "button": false,
    "new_sheet": false,
    "run_control": {
     "frozen": false,
     "read_only": false
    }
   },
   "outputs": [
    {
     "name": "stdout",
     "output_type": "stream",
     "text": [
      "0.6\n"
     ]
    }
   ],
   "source": [
    "numerator = 3\n",
    "denominator = 4.0\n",
    "result = numerator / denominator\n",
    "print(result)"
   ]
  },
  {
   "cell_type": "markdown",
   "metadata": {
    "button": false,
    "new_sheet": false,
    "run_control": {
     "read_only": false
    }
   },
   "source": [
    "\n",
    "There are two different numeric data types in Python that we will encounter in this course.\n",
    "\n",
    "#### Numeric variable types\n",
    "\n",
    "\n",
    "|Type|Example|Description|\n",
    "|:------:|:------:|:------|\n",
    "|int|4|Signed integers: Often called integers or ints, are positive or negative whole numbers with no decimal point.|\n",
    "|float|3.1415| Floating point real values : Also known as floats, floats represent real numbers. They contain a decimal point between the integer and fractional parts.|\n",
    "\n",
    "As we learned in the previous section, we can convert between these numeric data types using the functions `int()` or `float()`. Note that converting to an integer doesn't round to the nearest whole number - it simply takes only the integer component of the number."
   ]
  },
  {
   "cell_type": "code",
   "execution_count": 4,
   "metadata": {
    "button": false,
    "new_sheet": false,
    "run_control": {
     "read_only": false
    }
   },
   "outputs": [
    {
     "name": "stdout",
     "output_type": "stream",
     "text": [
      "5\n",
      "4.0\n"
     ]
    }
   ],
   "source": [
    "print( int(5.821234) )\n",
    "print( float(4) )"
   ]
  },
  {
   "cell_type": "markdown",
   "metadata": {
    "button": false,
    "new_sheet": false,
    "run_control": {
     "read_only": false
    }
   },
   "source": [
    "## Exercise:\n",
    "\n",
    "* Write a Python script to calculate the result of 308160 / 320 + 560\n",
    "\n"
   ]
  },
  {
   "cell_type": "code",
   "execution_count": null,
   "metadata": {
    "button": false,
    "collapsed": true,
    "new_sheet": false,
    "run_control": {
     "read_only": false
    }
   },
   "outputs": [],
   "source": []
  },
  {
   "cell_type": "markdown",
   "metadata": {
    "button": false,
    "new_sheet": false,
    "run_control": {
     "read_only": false
    }
   },
   "source": [
    "* Write a Python script that will calculate the result of 313779 divided by 8 and convert this value to an integer (i.e. your answer should not contain a decimal point)."
   ]
  },
  {
   "cell_type": "code",
   "execution_count": null,
   "metadata": {
    "button": false,
    "collapsed": true,
    "new_sheet": false,
    "run_control": {
     "frozen": false,
     "read_only": false
    }
   },
   "outputs": [],
   "source": []
  },
  {
   "cell_type": "markdown",
   "metadata": {
    "button": false,
    "new_sheet": false,
    "run_control": {
     "read_only": false
    }
   },
   "source": [
    "* Use the modulus operator `%` to calculate the modulus of your choice of even number divided by two. Try with different even numbers - you should always get the same answer. What happens with odd numbers?\n",
    "    * This principle could be used in a program to test whether a number was even by testing whether the result of `a_number%2` is equal to 0\n",
    "    *  Another application could be to track whether the current position number in a piece of DNA was the end of a codon (triplet of bases in DNA), since if current_position%3 was zero, the current position would be the last base of a codon:\n",
    "    \n",
    "```\n",
    "Position  123  456  789...\n",
    "Sequence  ATG  CTA  GCG...\n",
    "```\n",
    "You'll use the modulus operator for that application later in this course, once you have learned how to work with sequence data. "
   ]
  },
  {
   "cell_type": "code",
   "execution_count": null,
   "metadata": {
    "button": false,
    "collapsed": true,
    "new_sheet": false,
    "run_control": {
     "frozen": false,
     "read_only": false
    }
   },
   "outputs": [],
   "source": []
  }
 ],
 "metadata": {
  "anaconda-cloud": {},
  "hide_input": false,
  "kernelspec": {
   "display_name": "Python 3",
   "language": "python",
   "name": "python3"
  },
  "language_info": {
   "codemirror_mode": {
    "name": "ipython",
    "version": 3
   },
   "file_extension": ".py",
   "mimetype": "text/x-python",
   "name": "python",
   "nbconvert_exporter": "python",
   "pygments_lexer": "ipython3",
   "version": "3.6.2"
  }
 },
 "nbformat": 4,
 "nbformat_minor": 1
}
