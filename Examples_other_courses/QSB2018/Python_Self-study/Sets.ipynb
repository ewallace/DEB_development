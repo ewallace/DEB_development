{
 "cells": [
  {
   "cell_type": "markdown",
   "metadata": {},
   "source": [
    "# Sets\n",
    "Another variable type that can be used to store multiple items is the `Set`. Sets are similar to lists, but they are an *un-ordered* collection of items that can contains *no duplicate values*. This can be useful in a variety of situations where we are only interested whether an item is present, and not how many times it occurs. We can also add and remove items from the set, and perform operations on two sets to compare their contents.\n",
    "\n",
    "Just like with lists, sets can hold elements of many different types - `int`, `float`, `string` etc. - but they cannot contain lists, dictionaries or other sets because these items could be changed after being added to the set, and the set must not contain duplicate items.\n",
    "\n",
    "### Creating a Set\n",
    "Sets can be created in a similar way to lists, but using the curly braces `{}` instead of angled ones."
   ]
  },
  {
   "cell_type": "code",
   "execution_count": 1,
   "metadata": {},
   "outputs": [
    {
     "name": "stdout",
     "output_type": "stream",
     "text": [
      "{'fibroblast', 'hepatocyte', 'erythrocyte', 'adipocyte'}\n"
     ]
    }
   ],
   "source": [
    "cell_types = {\"hepatocyte\", \"adipocyte\", \"erythrocyte\", \"fibroblast\"}\n",
    "\n",
    "print(cell_types)"
   ]
  },
  {
   "cell_type": "markdown",
   "metadata": {},
   "source": [
    "Sets can also be created from an existing list using the `set()` function."
   ]
  },
  {
   "cell_type": "code",
   "execution_count": 2,
   "metadata": {},
   "outputs": [
    {
     "name": "stdout",
     "output_type": "stream",
     "text": [
      "{'Lysine', 'Glutamine', 'Alanine'}\n"
     ]
    }
   ],
   "source": [
    "amino_acids = ['Lysine', 'Glutamine', 'Alanine', 'Lysine']\n",
    "\n",
    "amino_set = set(amino_acids)\n",
    "\n",
    "print(amino_set)"
   ]
  },
  {
   "cell_type": "markdown",
   "metadata": {},
   "source": [
    "**Note that in the second example, the duplicate value from `amino_acids` was removed when converted to a set.**"
   ]
  },
  {
   "cell_type": "markdown",
   "metadata": {},
   "source": [
    "<div class=\"alert alert-info\">\n",
    "Note that an empty set cannot be created with `my_set = {}` as this creates and empty dictionary (we will cover dictionaries in the next topic). To create an empty set one must use `my_set = set()`\n",
    "</div>"
   ]
  },
  {
   "cell_type": "markdown",
   "metadata": {},
   "source": [
    "### Set Containment\n",
    "One of the main uses of a set is simply to keep track of elements."
   ]
  },
  {
   "cell_type": "code",
   "execution_count": 3,
   "metadata": {},
   "outputs": [
    {
     "name": "stdout",
     "output_type": "stream",
     "text": [
      "{'A', 'C', 'G', 'T'}\n"
     ]
    }
   ],
   "source": [
    "sequence = \"ATGCTGACATGACTGTACATC\"\n",
    "\n",
    "nucleotides = set(sequence)\n",
    "\n",
    "print(nucleotides)"
   ]
  },
  {
   "cell_type": "code",
   "execution_count": 4,
   "metadata": {},
   "outputs": [
    {
     "name": "stdout",
     "output_type": "stream",
     "text": [
      "True\n"
     ]
    }
   ],
   "source": [
    "print( 'A' in nucleotides )"
   ]
  },
  {
   "cell_type": "code",
   "execution_count": 5,
   "metadata": {},
   "outputs": [
    {
     "name": "stdout",
     "output_type": "stream",
     "text": [
      "False\n"
     ]
    }
   ],
   "source": [
    "print( '*' in nucleotides )"
   ]
  },
  {
   "cell_type": "code",
   "execution_count": 6,
   "metadata": {},
   "outputs": [
    {
     "name": "stdout",
     "output_type": "stream",
     "text": [
      "{'ATG', 'TGA', 'CTG', 'ACA', 'ATC', 'TAC'}\n"
     ]
    }
   ],
   "source": [
    "codons = ['ATG', 'CTG', 'ACA', 'TGA', 'CTG', 'TAC', 'ATC']\n",
    "\n",
    "unique_codons = set(codons)\n",
    "\n",
    "print(unique_codons)"
   ]
  },
  {
   "cell_type": "code",
   "execution_count": 7,
   "metadata": {},
   "outputs": [
    {
     "name": "stdout",
     "output_type": "stream",
     "text": [
      "True\n"
     ]
    }
   ],
   "source": [
    "print( 'TGA' in unique_codons )"
   ]
  },
  {
   "cell_type": "code",
   "execution_count": 8,
   "metadata": {},
   "outputs": [
    {
     "name": "stdout",
     "output_type": "stream",
     "text": [
      "False\n"
     ]
    }
   ],
   "source": [
    "print( 'GTG' in unique_codons )"
   ]
  },
  {
   "cell_type": "markdown",
   "metadata": {},
   "source": [
    "#### Subset and Superset\n",
    "Sometimes it is useful to know whether one set contains all the elements of another. If set A contains all the elements of set B, then A is a *superset* of B, and B is a *subset* of A."
   ]
  },
  {
   "cell_type": "code",
   "execution_count": 9,
   "metadata": {},
   "outputs": [
    {
     "name": "stdout",
     "output_type": "stream",
     "text": [
      "They require the same amino acids\n"
     ]
    }
   ],
   "source": [
    "codons1 = {'ATG', 'CTG', 'ACA', 'TGA', 'CTG', 'TAC', 'ATC'}\n",
    "codons2 = {'ATG', 'TGA', 'CTG', 'TAC', 'ATC'}\n",
    "\n",
    "if codons2 <= codons1: # If codons2 is a subset of codons1\n",
    "    print(\"They require the same amino acids\")"
   ]
  },
  {
   "cell_type": "markdown",
   "metadata": {},
   "source": [
    "*This will also return true if the two sets are identical.*\n",
    "\n",
    "It is possible to check that B is strictly a subset of A (and not the same as)  with `B < A`.\n",
    "\n",
    "Similarly, it is possible to test if two sets are identical with the comparison operator we have already seen (`==`)."
   ]
  },
  {
   "cell_type": "markdown",
   "metadata": {},
   "source": [
    "### Set Operations\n",
    "\n",
    "#### Adding and Removing Elements\n",
    "Adding and removing elements from a set individually can be done with the `add()` and `remove()` methods:"
   ]
  },
  {
   "cell_type": "code",
   "execution_count": 10,
   "metadata": {},
   "outputs": [
    {
     "name": "stdout",
     "output_type": "stream",
     "text": [
      "{'ATG', 'TGA', 'CTG', 'ACA', 'GCC', 'ATC', 'TAC'}\n",
      "{'ATG', 'TGA', 'ACA', 'GCC', 'ATC', 'TAC'}\n"
     ]
    }
   ],
   "source": [
    "codons = {'ATG', 'CTG', 'ACA', 'TGA', 'CTG', 'TAC', 'ATC'}\n",
    "codons.add('GCC')\n",
    "print(codons)\n",
    "codons.remove('CTG')\n",
    "print(codons)"
   ]
  },
  {
   "cell_type": "markdown",
   "metadata": {},
   "source": [
    "In the same way as with removing elements from a list with the `remove()` method, if the element is not present in the set, python will throw an error.\n",
    "\n",
    "It is possible to add and remove multiple elements at once using operations below."
   ]
  },
  {
   "cell_type": "markdown",
   "metadata": {},
   "source": [
    "#### Loops\n",
    "It is possible to iterate through all the elements of the set, but remember that they are not ordered."
   ]
  },
  {
   "cell_type": "code",
   "execution_count": 11,
   "metadata": {},
   "outputs": [
    {
     "name": "stdout",
     "output_type": "stream",
     "text": [
      "True\n",
      "True\n",
      "True\n",
      "False\n",
      "False\n",
      "False\n"
     ]
    }
   ],
   "source": [
    "codons = ['ATG', 'CTG', 'ACA', 'TGA', 'CTG', 'TAC', 'ATC']\n",
    "\n",
    "unique_codons = set(codons)\n",
    "\n",
    "for codon in unique_codons:\n",
    "    print('G' in codon)"
   ]
  },
  {
   "cell_type": "markdown",
   "metadata": {},
   "source": [
    "*Note that the sequence of `True` and `False` do not match the original list*"
   ]
  },
  {
   "cell_type": "markdown",
   "metadata": {},
   "source": [
    "#### Union\n",
    "\n",
    "    A | B\n",
    "Returns a *new* set that contains all elements that were in either set."
   ]
  },
  {
   "cell_type": "code",
   "execution_count": 12,
   "metadata": {},
   "outputs": [
    {
     "name": "stdout",
     "output_type": "stream",
     "text": [
      "{'ATG', 'TGA', 'CTG', 'ACA', 'ATC', 'TAC'}\n",
      "{'CAT', 'TAG', 'ATC', 'GAC', 'TAC', 'CAG'}\n"
     ]
    }
   ],
   "source": [
    "sequence1 = \"ATGCTGACATGACTGTACATC\"\n",
    "sequence2 = \"TACCAGTAGATCCATCATGAC\"\n",
    "\n",
    "codons1 = ['ATG', 'CTG', 'ACA', 'TGA', 'CTG', 'TAC', 'ATC']\n",
    "codons2 = ['TAC', 'CAG', 'TAG', 'ATC', 'CAT', 'CAT', 'GAC']\n",
    "\n",
    "unique_codons1 = set(codons1)\n",
    "unique_codons2 = set(codons2)\n",
    "\n",
    "print(unique_codons1)\n",
    "print(unique_codons2)"
   ]
  },
  {
   "cell_type": "code",
   "execution_count": 13,
   "metadata": {},
   "outputs": [
    {
     "name": "stdout",
     "output_type": "stream",
     "text": [
      "{'ATG', 'CAT', 'TAG', 'TGA', 'ACA', 'CTG', 'ATC', 'GAC', 'TAC', 'CAG'}\n"
     ]
    }
   ],
   "source": [
    "unique_codons = unique_codons1 | unique_codons2\n",
    "print(unique_codons)"
   ]
  },
  {
   "cell_type": "markdown",
   "metadata": {},
   "source": [
    "#### Update\n",
    "\n",
    "    A |= B\n",
    "Adds all the elements of set B to set A"
   ]
  },
  {
   "cell_type": "code",
   "execution_count": 14,
   "metadata": {},
   "outputs": [
    {
     "name": "stdout",
     "output_type": "stream",
     "text": [
      "{'ATG', 'TGA', 'CTG', 'ACA', 'ATC', 'TAC'}\n"
     ]
    }
   ],
   "source": [
    "unique_codons = {'ATG', 'CTG', 'ACA', 'TGA', 'CTG', 'TAC', 'ATC'}\n",
    "print(unique_codons)"
   ]
  },
  {
   "cell_type": "code",
   "execution_count": 15,
   "metadata": {},
   "outputs": [
    {
     "name": "stdout",
     "output_type": "stream",
     "text": [
      "{'ATG', 'CAT', 'TAG', 'TGA', 'CTG', 'ACA', 'ATC', 'GAC', 'TAC', 'CAG'}\n"
     ]
    }
   ],
   "source": [
    "codons2 = {'TAC', 'CAG', 'TAG', 'ATC', 'CAT', 'CAT', 'GAC'}\n",
    "unique_codons |= codons2\n",
    "\n",
    "print(unique_codons)"
   ]
  },
  {
   "cell_type": "markdown",
   "metadata": {},
   "source": [
    "*In the same way as this operation is the same as `Union` but includes an equals sign to store the result in the set A, the following operations have equivalent alterations to store the result in A (`&=`, `-=`, `^=`).*"
   ]
  },
  {
   "cell_type": "markdown",
   "metadata": {},
   "source": [
    "#### Intersection\n",
    "    A & B\n",
    "Returns a *new* set that contains only elements present in both A *and* B"
   ]
  },
  {
   "cell_type": "code",
   "execution_count": 16,
   "metadata": {},
   "outputs": [
    {
     "name": "stdout",
     "output_type": "stream",
     "text": [
      "{'ATC', 'TAC'}\n"
     ]
    }
   ],
   "source": [
    "codons1 = {'ATG', 'CTG', 'ACA', 'TGA', 'CTG', 'TAC', 'ATC'}\n",
    "codons2 = {'TAC', 'CAG', 'TAG', 'ATC', 'CAT', 'CAT', 'GAC'}\n",
    "\n",
    "common_codons = codons1 & codons2\n",
    "print(common_codons)"
   ]
  },
  {
   "cell_type": "markdown",
   "metadata": {},
   "source": [
    "#### Difference\n",
    "    A - B\n",
    "Returns a *new* set that contains only elements that were present in A but not in B"
   ]
  },
  {
   "cell_type": "code",
   "execution_count": 17,
   "metadata": {},
   "outputs": [
    {
     "name": "stdout",
     "output_type": "stream",
     "text": [
      "{'ATG', 'CTG', 'ACA', 'TGA'}\n"
     ]
    }
   ],
   "source": [
    "codons1 = {'ATG', 'CTG', 'ACA', 'TGA', 'CTG', 'TAC', 'ATC'}\n",
    "codons2 = {'TAC', 'CAG', 'TAG', 'ATC', 'CAT', 'CAT', 'GAC'}\n",
    "\n",
    "unique_to_1 = codons1 - codons2\n",
    "print(unique_to_1)"
   ]
  },
  {
   "cell_type": "markdown",
   "metadata": {},
   "source": [
    "#### Symmetric Difference\n",
    "    A ^ B\n",
    "Returns a *new* set that contains elements that belong to either *only* A or *only* B (not both)"
   ]
  },
  {
   "cell_type": "code",
   "execution_count": 18,
   "metadata": {},
   "outputs": [
    {
     "name": "stdout",
     "output_type": "stream",
     "text": [
      "{'CAT', 'TAG', 'TGA', 'ACA', 'CTG', 'GAC', 'ATG', 'CAG'}\n"
     ]
    }
   ],
   "source": [
    "codons1 = {'ATG', 'CTG', 'ACA', 'TGA', 'CTG', 'TAC', 'ATC'}\n",
    "codons2 = {'TAC', 'CAG', 'TAG', 'ATC', 'CAT', 'CAT', 'GAC'}\n",
    "\n",
    "personal_codons = codons1 ^ codons2\n",
    "print(personal_codons)"
   ]
  },
  {
   "cell_type": "markdown",
   "metadata": {},
   "source": [
    "# Exercises\n",
    "\n",
    "- Find all the amino acids that are common to both these sequences"
   ]
  },
  {
   "cell_type": "code",
   "execution_count": 19,
   "metadata": {
    "collapsed": true
   },
   "outputs": [],
   "source": [
    "sequence1 = \"CAWEWPRHRYT\"\n",
    "sequence2 = \"GATTCGAWRPQY\""
   ]
  },
  {
   "cell_type": "markdown",
   "metadata": {},
   "source": [
    "- Find out which of these proteins can be created with the available amino acids"
   ]
  },
  {
   "cell_type": "code",
   "execution_count": 20,
   "metadata": {
    "collapsed": true
   },
   "outputs": [],
   "source": [
    "available = { 'C', 'G', 'R', 'T', 'Q', 'Y', 'A', 'H'}\n",
    "\n",
    "protein1 = \"AGTHYAHYCTGR\"\n",
    "protein2 = \"GATTCGAWRPQY\"\n",
    "protein3 = \"CAWEWPRHRYT\"\n"
   ]
  },
  {
   "cell_type": "markdown",
   "metadata": {},
   "source": [
    "- Which amino acids need to be added to the available pool for protein 3 to be synthesizable?"
   ]
  },
  {
   "cell_type": "code",
   "execution_count": null,
   "metadata": {
    "collapsed": true
   },
   "outputs": [],
   "source": []
  }
 ],
 "metadata": {
  "kernelspec": {
   "display_name": "Python 3",
   "language": "python",
   "name": "python3"
  },
  "language_info": {
   "codemirror_mode": {
    "name": "ipython",
    "version": 3
   },
   "file_extension": ".py",
   "mimetype": "text/x-python",
   "name": "python",
   "nbconvert_exporter": "python",
   "pygments_lexer": "ipython3",
   "version": "3.6.2"
  }
 },
 "nbformat": 4,
 "nbformat_minor": 2
}
