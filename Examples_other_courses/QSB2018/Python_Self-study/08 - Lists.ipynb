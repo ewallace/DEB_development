{
 "cells": [
  {
   "cell_type": "markdown",
   "metadata": {
    "button": false,
    "new_sheet": false,
    "run_control": {
     "read_only": false
    }
   },
   "source": [
    "# Lists\n",
    "\n",
    "The variable types that we have used up until now are very limiting - the variables have only stored single pieces of information (a number or a piece of text). To be able to handle complex biological datasets, we'll need to be able to store many numbers or strings (such as DNA sequences) within a single variable.\n",
    "\n",
    "An extremely common and useful data type in Python is the list. Lists are composed of individual 'elements' (sometimes also referred to as items), and those elements can be of many different types - int, float, string, or even lists or dictionaries (a data type we'll cover later in the course). Lists can contain mixtures of any of these data types, and are created as lists of elements separated by commas and contained within a set of square brackets:"
   ]
  },
  {
   "cell_type": "code",
   "execution_count": 1,
   "metadata": {
    "button": false,
    "collapsed": true,
    "new_sheet": false,
    "run_control": {
     "frozen": false,
     "read_only": false
    }
   },
   "outputs": [],
   "source": [
    "cell_types = [\"hepatocyte\", \"adipocyte\", \"erythrocyte\", \"fibroblast\"]\n",
    "\n",
    "subject_heights = [1.83, 1.57, 1.74, 1.61, 1.86, 1.75, 1.67] \n",
    "\n",
    "mixed_datatypes = [\"Kathmandu\", 5021, 11.823, \"Brian\", 11]"
   ]
  },
  {
   "cell_type": "markdown",
   "metadata": {
    "button": false,
    "new_sheet": false,
    "run_control": {
     "read_only": false
    }
   },
   "source": [
    "### Concatenating lists\n",
    "\n",
    "Lists can be joined together through concatenation using the + operator:"
   ]
  },
  {
   "cell_type": "code",
   "execution_count": 1,
   "metadata": {
    "button": false,
    "new_sheet": false,
    "run_control": {
     "frozen": false,
     "read_only": false
    }
   },
   "outputs": [
    {
     "name": "stdout",
     "output_type": "stream",
     "text": [
      "[1.83, 1.57, 1.74, 1.61, 1.86, 1.78, 1.75]\n"
     ]
    }
   ],
   "source": [
    "subject_heights = [1.83, 1.57, 1.74] + [1.61, 1.86, 1.78, 1.75] \n",
    "print(subject_heights)"
   ]
  },
  {
   "cell_type": "code",
   "execution_count": 1,
   "metadata": {
    "button": false,
    "new_sheet": false,
    "run_control": {
     "frozen": false,
     "read_only": false
    }
   },
   "outputs": [
    {
     "name": "stdout",
     "output_type": "stream",
     "text": [
      "['cow', 'sheep', 'goat', 'dog', 'cat']\n"
     ]
    }
   ],
   "source": [
    "domestic_animals = [\"dog\", \"cat\"]\n",
    "farm_animals = [\"cow\", \"sheep\", \"goat\"]\n",
    "animals = farm_animals + domestic_animals\n",
    "print(animals)"
   ]
  },
  {
   "cell_type": "markdown",
   "metadata": {
    "button": false,
    "new_sheet": false,
    "run_control": {
     "read_only": false
    }
   },
   "source": [
    "### Accessing Values in Lists\n",
    "\n",
    "Lists are an ordered data type - each item occurs at a position known as the index. Just as we were able to access individual characters in a string in the last section, the values stored in individual list elements can be recalled directly using the index for that element. The first element of the list is given the index 0, the second element is at index 1, and so on. For convenience, the last element in the list can be accessed at index -1 (you should experiment to see what is at index -2). "
   ]
  },
  {
   "cell_type": "code",
   "execution_count": 1,
   "metadata": {
    "button": false,
    "new_sheet": false,
    "run_control": {
     "frozen": false,
     "read_only": false
    }
   },
   "outputs": [
    {
     "name": "stdout",
     "output_type": "stream",
     "text": [
      "hepatocyte\n",
      "erythrocyte\n",
      "fibroblast\n"
     ]
    }
   ],
   "source": [
    "cell_types = [\"hepatocyte\", \"adipocyte\", \"erythrocyte\", \"monocyte\", \"fibroblast\"]\n",
    "\n",
    "print(cell_types[0]) #prints \"hepatocyte\"\n",
    "\n",
    "print(cell_types[2]) #prints \"erythrocyte\"\n",
    "\n",
    "print(cell_types[-1]) #prints \"fibroblast\""
   ]
  },
  {
   "cell_type": "markdown",
   "metadata": {
    "button": false,
    "new_sheet": false,
    "run_control": {
     "read_only": false
    }
   },
   "source": [
    "Multiple items can also be recalled at once by specifying a range of indices. Ranges are non-inclusive of the end number, so a range of 0:2 returns the elements at index 0 and 1, but not 2."
   ]
  },
  {
   "cell_type": "code",
   "execution_count": 3,
   "metadata": {
    "button": false,
    "new_sheet": false,
    "run_control": {
     "frozen": false,
     "read_only": false
    }
   },
   "outputs": [
    {
     "name": "stdout",
     "output_type": "stream",
     "text": [
      "['hepatocyte', 'adipocyte']\n"
     ]
    }
   ],
   "source": [
    "cell_types = [\"hepatocyte\", \"adipocyte\", \"erythrocyte\", \"monocyte\", \"fibroblast\"]\n",
    "print(cell_types[0:2]) "
   ]
  },
  {
   "cell_type": "markdown",
   "metadata": {
    "button": false,
    "new_sheet": false,
    "run_control": {
     "read_only": false
    }
   },
   "source": [
    "#### Extended slices\n",
    "\n",
    "Just as for strings, extended slices allow us to skip elements in a list, or reverse it."
   ]
  },
  {
   "cell_type": "code",
   "execution_count": 7,
   "metadata": {
    "button": false,
    "new_sheet": false,
    "run_control": {
     "read_only": false
    }
   },
   "outputs": [
    {
     "name": "stdout",
     "output_type": "stream",
     "text": [
      "['hepatocyte', 'erythrocyte', 'fibroblast']\n",
      "['fibroblast', 'monocyte', 'erythrocyte', 'adipocyte', 'hepatocyte']\n"
     ]
    }
   ],
   "source": [
    "cell_types = [\"hepatocyte\", \"adipocyte\", \"erythrocyte\", \"monocyte\", \"fibroblast\"]\n",
    "print(cell_types[0:5:2]) #prints every second list element\n",
    "print(cell_types[::-1]) #reverses the list order"
   ]
  },
  {
   "cell_type": "markdown",
   "metadata": {
    "button": false,
    "new_sheet": false,
    "run_control": {
     "read_only": false
    }
   },
   "source": [
    "### Adding Elements to Lists\n",
    "\n",
    "You can add additional elements to a list using the `extend`, `append` or `insert` methods.\n",
    "\n",
    "**append**: Appends an object at the end of a list. \n",
    "\n",
    "***Important Note:*** If an appended object is a list, the list will be inserted as a single element containing a list, the list items are not added (concatenated) to the original list (for this use `extend`). This is demonstrated in the second `append` example below."
   ]
  },
  {
   "cell_type": "code",
   "execution_count": 6,
   "metadata": {
    "button": false,
    "new_sheet": false,
    "run_control": {
     "frozen": false,
     "read_only": false
    }
   },
   "outputs": [
    {
     "name": "stdout",
     "output_type": "stream",
     "text": [
      "['hepatocyte', 'adipocyte', 'erythrocyte', 'monocyte']\n"
     ]
    }
   ],
   "source": [
    "cell_types = [\"hepatocyte\", \"adipocyte\", \"erythrocyte\"]\n",
    "cell_types.append(\"monocyte\")\n",
    "print(cell_types)"
   ]
  },
  {
   "cell_type": "code",
   "execution_count": 4,
   "metadata": {
    "button": false,
    "new_sheet": false,
    "run_control": {
     "frozen": false,
     "read_only": false
    }
   },
   "outputs": [
    {
     "name": "stdout",
     "output_type": "stream",
     "text": [
      "['hepatocyte', 'adipocyte', 'erythrocyte', ['monocyte', 'fibroblast']]\n"
     ]
    }
   ],
   "source": [
    "#adding a list object to a list\n",
    "cell_types = [\"hepatocyte\", \"adipocyte\", \"erythrocyte\"]\n",
    "cell_types.append([\"monocyte\" , \"fibroblast\"])\n",
    "print(cell_types)"
   ]
  },
  {
   "cell_type": "markdown",
   "metadata": {
    "button": false,
    "new_sheet": false,
    "run_control": {
     "read_only": false
    }
   },
   "source": [
    "**extend**: Extends a list by appending elements from the iterable (e.g. list, dictionary, tuple or even a string)"
   ]
  },
  {
   "cell_type": "code",
   "execution_count": 8,
   "metadata": {
    "button": false,
    "new_sheet": false,
    "run_control": {
     "frozen": false,
     "read_only": false
    }
   },
   "outputs": [
    {
     "name": "stdout",
     "output_type": "stream",
     "text": [
      "[10.1, 20.2, 17.8, 22.8, 15.5]\n"
     ]
    }
   ],
   "source": [
    "tree_girths = [10.1, 20.2, 17.8]\n",
    "tree_girths.extend([22.8, 15.5])\n",
    "print(tree_girths)"
   ]
  },
  {
   "cell_type": "markdown",
   "metadata": {
    "button": false,
    "new_sheet": false,
    "run_control": {
     "read_only": false
    }
   },
   "source": [
    "**insert**: Inserts an element into a list at a specified position"
   ]
  },
  {
   "cell_type": "code",
   "execution_count": 9,
   "metadata": {
    "button": false,
    "new_sheet": false,
    "run_control": {
     "frozen": false,
     "read_only": false
    }
   },
   "outputs": [
    {
     "name": "stdout",
     "output_type": "stream",
     "text": [
      "['hepatocyte', 'adipocyte', 'monocyte', 'erythrocyte']\n"
     ]
    }
   ],
   "source": [
    "cell_types = [\"hepatocyte\", \"adipocyte\", \"erythrocyte\"]\n",
    "#insert a string at index 2 (i.e. the third position)\n",
    "cell_types.insert(2, \"monocyte\") \n",
    "print(cell_types)"
   ]
  },
  {
   "cell_type": "markdown",
   "metadata": {},
   "source": [
    "#### Overwrite Elements\n",
    "It is also possible to edit the elements of the list using the same indexing notatation, assigning a value just as you would a variable."
   ]
  },
  {
   "cell_type": "code",
   "execution_count": 1,
   "metadata": {},
   "outputs": [
    {
     "name": "stdout",
     "output_type": "stream",
     "text": [
      "['hepatocyte', 'monocyte', 'erythrocyte']\n"
     ]
    }
   ],
   "source": [
    "cell_types = [\"hepatocyte\", \"adipocyte\", \"erythrocyte\"]\n",
    "# Change the second cell type\n",
    "cell_types[1] = \"monocyte\"\n",
    "print(cell_types)"
   ]
  },
  {
   "cell_type": "markdown",
   "metadata": {},
   "source": [
    "**Note that the cell type \"adipocyte\" has been removed from the list, and \"monocyte\" has been put in its place**"
   ]
  },
  {
   "cell_type": "markdown",
   "metadata": {
    "button": false,
    "new_sheet": false,
    "run_control": {
     "read_only": false
    }
   },
   "source": [
    "### Removing values from lists\n",
    "\n",
    "There are a number of ways to remove items from a list in Python:\n",
    "\n",
    "**del**: removes an element(s) from a list at the specified index\n"
   ]
  },
  {
   "cell_type": "code",
   "execution_count": 10,
   "metadata": {
    "button": false,
    "new_sheet": false,
    "run_control": {
     "frozen": false,
     "read_only": false
    }
   },
   "outputs": [
    {
     "name": "stdout",
     "output_type": "stream",
     "text": [
      "['hepatocyte', 'erythrocyte']\n"
     ]
    }
   ],
   "source": [
    "cell_types = [\"hepatocyte\" , \"adipocyte\" , \"erythrocyte\"]\n",
    "#delete element at index 1 (i.e. the second position)\n",
    "del cell_types[1]\n",
    "print(cell_types)"
   ]
  },
  {
   "cell_type": "markdown",
   "metadata": {
    "button": false,
    "new_sheet": false,
    "run_control": {
     "read_only": false
    }
   },
   "source": [
    "**remove**: removes the first matching value from a list"
   ]
  },
  {
   "cell_type": "code",
   "execution_count": 11,
   "metadata": {
    "button": false,
    "new_sheet": false,
    "run_control": {
     "frozen": false,
     "read_only": false
    }
   },
   "outputs": [
    {
     "name": "stdout",
     "output_type": "stream",
     "text": [
      "['adipocyte', 'erythrocyte']\n"
     ]
    }
   ],
   "source": [
    "cell_types = [ \"hepatocyte\" , \"adipocyte\" , \"erythrocyte\" ]\n",
    "#remove the first occurrence of \"hepatocyte\" \n",
    "cell_types.remove(\"hepatocyte\")\n",
    "print(cell_types)"
   ]
  },
  {
   "cell_type": "markdown",
   "metadata": {
    "button": false,
    "new_sheet": false,
    "run_control": {
     "read_only": false
    }
   },
   "source": [
    "**pop**: removes an element at specified index from a list and return its value. Useful if you want to remove elements from a list as you process them. "
   ]
  },
  {
   "cell_type": "code",
   "execution_count": 12,
   "metadata": {
    "button": false,
    "new_sheet": false,
    "run_control": {
     "frozen": false,
     "read_only": false
    }
   },
   "outputs": [
    {
     "name": "stdout",
     "output_type": "stream",
     "text": [
      "hepatocyte\n"
     ]
    }
   ],
   "source": [
    "cell_types = [ \"hepatocyte\" , \"adipocyte\" , \"erythrocyte\" ]\n",
    "removed_value = cell_types.pop(0)\n",
    "print(removed_value)"
   ]
  },
  {
   "cell_type": "markdown",
   "metadata": {
    "button": false,
    "new_sheet": false,
    "run_control": {
     "read_only": false
    }
   },
   "source": [
    "### Sorting lists\n",
    "\n",
    "Lists can be sorted using either the `sorted()` function or the `sort` method. The difference between the two options is that `sorted()` will return a new sorted list, leaving the original list intact, whereas `sort` will modify a list by sorting it in-place. "
   ]
  },
  {
   "cell_type": "code",
   "execution_count": 13,
   "metadata": {
    "button": false,
    "new_sheet": false,
    "run_control": {
     "frozen": false,
     "read_only": false
    }
   },
   "outputs": [
    {
     "name": "stdout",
     "output_type": "stream",
     "text": [
      "[1.57, 1.61, 1.67, 1.74, 1.75, 1.78, 1.83, 1.86]\n"
     ]
    }
   ],
   "source": [
    "#using .sort()\n",
    "subject_heights = [ 1.83 , 1.57 , 1.74 , 1.61 , 1.86 , 1.78 , 1.75 , 1.67 ] \n",
    "subject_heights.sort()\n",
    "print(subject_heights)"
   ]
  },
  {
   "cell_type": "code",
   "execution_count": 2,
   "metadata": {
    "button": false,
    "new_sheet": false,
    "run_control": {
     "frozen": false,
     "read_only": false
    }
   },
   "outputs": [
    {
     "name": "stdout",
     "output_type": "stream",
     "text": [
      "[1.57, 1.61, 1.67, 1.74, 1.75, 1.78, 1.83, 1.86]\n",
      "[1.83, 1.57, 1.74, 1.61, 1.86, 1.78, 1.75, 1.67]\n"
     ]
    }
   ],
   "source": [
    "#using sorted()\n",
    "subject_heights = [ 1.83 , 1.57 , 1.74 , 1.61 , 1.86 , 1.78 , 1.75 , 1.67 ] \n",
    "ascending_heights = sorted(subject_heights)\n",
    "print(ascending_heights)\n",
    "print(subject_heights) #original list in not modified / sorted"
   ]
  },
  {
   "cell_type": "markdown",
   "metadata": {
    "button": false,
    "new_sheet": false,
    "run_control": {
     "read_only": false
    }
   },
   "source": [
    "Elements can also be sorted in decending order by specifying the reverse=True flag when calling the `sorted()` function:"
   ]
  },
  {
   "cell_type": "code",
   "execution_count": 15,
   "metadata": {
    "button": false,
    "new_sheet": false,
    "run_control": {
     "frozen": false,
     "read_only": false
    }
   },
   "outputs": [
    {
     "name": "stdout",
     "output_type": "stream",
     "text": [
      "[1.86, 1.83, 1.78, 1.75, 1.74, 1.67, 1.61, 1.57]\n"
     ]
    }
   ],
   "source": [
    "subject_heights = [ 1.83 , 1.57 , 1.74 , 1.61 , 1.86 , 1.78 , 1.75 , 1.67 ] \n",
    "descending_heights = sorted(subject_heights, reverse=True)\n",
    "print(descending_heights)"
   ]
  },
  {
   "cell_type": "markdown",
   "metadata": {
    "button": false,
    "new_sheet": false,
    "run_control": {
     "read_only": false
    }
   },
   "source": [
    "#### Additional List Functions and methods\n",
    "\n",
    "Just as for strings, there are a variety of functions and methods that we can use on lists.\n",
    "\n",
    "|Function/Method| Description |\n",
    "|-------|-------|\n",
    "|len(list)| Returns the number of elements in the list.|\n",
    "|max(list)| Returns element from the list with highest value.|\n",
    "|min(list)| Returns element from the list with lowest value.|\n",
    "|list.reverse()| Reverses objects of list in place|\n",
    "|sum(list)| Returns the sum of all numeric values in a list|\n"
   ]
  },
  {
   "cell_type": "code",
   "execution_count": 12,
   "metadata": {
    "button": false,
    "new_sheet": false,
    "run_control": {
     "read_only": false
    }
   },
   "outputs": [
    {
     "name": "stdout",
     "output_type": "stream",
     "text": [
      "8\n",
      "1.86\n",
      "1.57\n",
      "[1.67, 1.75, 1.78, 1.86, 1.61, 1.74, 1.57, 1.83]\n",
      "13.81\n"
     ]
    }
   ],
   "source": [
    "subject_heights = [ 1.83 , 1.57 , 1.74 , 1.61 , 1.86 , 1.78 , 1.75 , 1.67 ] \n",
    "print(len(subject_heights)) #prints number of elements in the list (8)\n",
    "print(max(subject_heights)) #prints max value in list (1.86)\n",
    "print(min(subject_heights)) #prints minimum value in list (1.57)\n",
    "subject_heights.reverse()   #list is now reversed\n",
    "print(subject_heights)      #prints the now reversed list\n",
    "print(sum(subject_heights)) #prints sum of values in list (13.81)"
   ]
  },
  {
   "cell_type": "markdown",
   "metadata": {
    "button": false,
    "new_sheet": false,
    "run_control": {
     "read_only": false
    }
   },
   "source": [
    "# Exercises\n",
    "\n",
    "* Add together the following two lists of oligos and print the list in alphabetical order."
   ]
  },
  {
   "cell_type": "code",
   "execution_count": 16,
   "metadata": {
    "button": false,
    "collapsed": true,
    "new_sheet": false,
    "run_control": {
     "frozen": false,
     "read_only": false
    }
   },
   "outputs": [],
   "source": [
    "oligos_fwd = [\"ATGCTGA\", \"GATACAT\", \"CATGACTG\"]\n",
    "oligos_rev = [\"GATTCAT\", \"TACATCA\", \"TACCAGTA\"]"
   ]
  },
  {
   "cell_type": "markdown",
   "metadata": {
    "button": false,
    "new_sheet": false,
    "run_control": {
     "read_only": false
    }
   },
   "source": [
    "* Sort the following list in order then print the middle value in the list (this list has an uneven number of elements, so the middle value will be the median of values).\n",
    "\n",
    "Additional advanced exercise: can you use conditional statements to modify your code so that it also correctly calculates the median for an even number of samples?"
   ]
  },
  {
   "cell_type": "code",
   "execution_count": 1,
   "metadata": {
    "button": false,
    "collapsed": true,
    "new_sheet": false,
    "run_control": {
     "read_only": false
    }
   },
   "outputs": [],
   "source": [
    "eggs_laid = [10,11,14,16,13,14,12,10,16,11,12,13,16,11,10,14,16,16,15,12,11,13,14,15,12,14,12,15,13,13,11]\n",
    "\n"
   ]
  },
  {
   "cell_type": "markdown",
   "metadata": {
    "button": false,
    "collapsed": true,
    "new_sheet": false,
    "run_control": {
     "read_only": false
    }
   },
   "source": [
    "As part of earthworm awareness week, students from the University of Edinburgh sampled the number of earthworms at different sites. The number of earthworms in 0.5 cubic metres soil sample were entered in a list as the students collected the data:\n",
    "\n",
    "  * How many samples were taken in total? Hint: You should use the function 'len()'\n",
    "  * How many worms were counted in the 20th sample (remember that lists are zero-indexed) and in the last sample?.\n",
    "  * What were the minimum and maximum number of worms found in a single sample?\n",
    "  * What is the mean and median number of worms found per 0.5 cubic metre soil sample? Hint: sum() returns the sum of all values in the list."
   ]
  },
  {
   "cell_type": "code",
   "execution_count": 2,
   "metadata": {
    "button": false,
    "collapsed": true,
    "new_sheet": false,
    "run_control": {
     "frozen": false,
     "read_only": false
    }
   },
   "outputs": [],
   "source": [
    "number_of_worms = [24, 12, 16, 18, 21, 3, 8, 17, 32, 29, 13, 15, 30, 19, 5, 7, 18, 7, 19, 17, 25, 27, 19, 28, 14, 16, 29, 18, 4, 10, 23, 8, 18, 15, 16, 8]\n",
    "\n"
   ]
  },
  {
   "cell_type": "code",
   "execution_count": null,
   "metadata": {
    "collapsed": true
   },
   "outputs": [],
   "source": []
  }
 ],
 "metadata": {
  "anaconda-cloud": {},
  "hide_input": false,
  "kernelspec": {
   "display_name": "Python 3",
   "language": "python",
   "name": "python3"
  },
  "language_info": {
   "codemirror_mode": {
    "name": "ipython",
    "version": 3
   },
   "file_extension": ".py",
   "mimetype": "text/x-python",
   "name": "python",
   "nbconvert_exporter": "python",
   "pygments_lexer": "ipython3",
   "version": "3.6.2"
  }
 },
 "nbformat": 4,
 "nbformat_minor": 1
}
