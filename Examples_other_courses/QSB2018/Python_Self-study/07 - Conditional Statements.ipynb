{
 "cells": [
  {
   "cell_type": "markdown",
   "metadata": {
    "button": false,
    "new_sheet": false,
    "run_control": {
     "read_only": false
    }
   },
   "source": [
    "# Conditional Statements\n",
    "\n",
    "Whatever task you're writing your program to perform, it won't be long before you need it to make 'decisions'. For example, you may want to check whether a data field is in a particular format or contains a particular piece of data. Whenever we want to make our code respond to an input or to a variable it has stored in memory, we use a **conditional statement**, which tests whether a condition is met and according to the result executes a block, or blocks, or code. \n",
    "\n",
    "The most simple form of conditional statement is the `if` statement. This statement executes the following indented block of code *if* the statement is true.\n",
    "\n",
    "if statements take the following format:\n",
    "```python\n",
    "if <test expression>:\n",
    "    block of code\n",
    "```\n",
    "\n",
    "The block of code will run if the test condition evaluates to True, for example in the example below, the test expression whether the variable `cell_fluorescence` is greater than 100. "
   ]
  },
  {
   "cell_type": "code",
   "execution_count": 1,
   "metadata": {
    "button": false,
    "new_sheet": false,
    "run_control": {
     "frozen": false,
     "read_only": false
    }
   },
   "outputs": [
    {
     "name": "stdout",
     "output_type": "stream",
     "text": [
      "Cell fluorescence is higher than 100\n"
     ]
    }
   ],
   "source": [
    "cell_fluorescence = 243\n",
    "if cell_fluorescence > 100:\n",
    "    print(\"Cell fluorescence is higher than 100\")"
   ]
  },
  {
   "cell_type": "markdown",
   "metadata": {
    "button": false,
    "new_sheet": false,
    "run_control": {
     "read_only": false
    }
   },
   "source": [
    "In the example above, the message will be printed if the cell fluorescence is greater than a particular value. However, if the cell fluorescence is lower than that value, the code will do nothing. In these examples we are using the greater than `>` and less than `<` comparators. See the section later in this notebook on \"Different types of comparators\" for other comparators such as the equality operator `==`, which returns True if the values of the left hand side and right hand side are equal.\n",
    "\n",
    "#### if...else\n",
    "\n",
    "It is often useful to write code that will do one thing when a condition is True, and something else when it is False. For that we have the `if` and `else` statements."
   ]
  },
  {
   "cell_type": "code",
   "execution_count": 2,
   "metadata": {
    "button": false,
    "new_sheet": false,
    "run_control": {
     "frozen": false,
     "read_only": false
    }
   },
   "outputs": [
    {
     "name": "stdout",
     "output_type": "stream",
     "text": [
      "Cell fluorescence assay indicates cell is dead (fluorescence greater than 100)\n"
     ]
    }
   ],
   "source": [
    "cell_fluorescence = 243\n",
    "if cell_fluorescence > 100: #Cell assay yields high fluorescence if cell is dead\n",
    "    print(\"Cell fluorescence assay indicates cell is dead (fluorescence greater than 100)\")\n",
    "else: \n",
    "    print(\"Cell fluorescence assay indicates cell is alive (fluorescence not greater than 100)\")"
   ]
  },
  {
   "cell_type": "markdown",
   "metadata": {
    "button": false,
    "new_sheet": false,
    "run_control": {
     "read_only": false
    }
   },
   "source": [
    "#### Testing multiple conditions\n",
    "\n",
    "Two or more simultaneous conditions can be tested together. To combine the two expressions, we can use `and` or `or`.\n",
    "\n",
    "A conditional statement containing `and` will only execute if both of the expression are True. "
   ]
  },
  {
   "cell_type": "code",
   "execution_count": 6,
   "metadata": {
    "button": false,
    "new_sheet": false,
    "run_control": {
     "frozen": false,
     "read_only": false
    }
   },
   "outputs": [
    {
     "name": "stdout",
     "output_type": "stream",
     "text": [
      "Cell is a viable B cell\n"
     ]
    }
   ],
   "source": [
    "cell_fluorescence = 24 #Cell assay yields high fluorescence if cell is dead, otherwise cell is viable\n",
    "CD19_expression = 3029 #CD19 is a cell marker of B-cells, high expression indicates this is a B-cell\n",
    "\n",
    "if cell_fluorescence < 100 and CD19_expression > 1000:\n",
    "    print(\"Cell is a viable B cell\")"
   ]
  },
  {
   "cell_type": "markdown",
   "metadata": {
    "button": false,
    "new_sheet": false,
    "run_control": {
     "read_only": false
    }
   },
   "source": [
    "If a conditional statement contains `or`, it will execute the indented code block if *either* of the conditions evaluates as True. "
   ]
  },
  {
   "cell_type": "code",
   "execution_count": 7,
   "metadata": {
    "button": false,
    "new_sheet": false,
    "run_control": {
     "frozen": false,
     "read_only": false
    }
   },
   "outputs": [
    {
     "name": "stdout",
     "output_type": "stream",
     "text": [
      "Cell is either viable, or a B cell, or both\n"
     ]
    }
   ],
   "source": [
    "cell_fluorescence = 255 #Cell assay yields high fluorescence if cell is dead\n",
    "CD19_expression = 3029 #CD19 is a cell marker of B-cells\n",
    "\n",
    "if cell_fluorescence < 100 or CD19_expression > 1000:\n",
    "    print(\"Cell is either viable, or a B cell, or both\")"
   ]
  },
  {
   "cell_type": "markdown",
   "metadata": {
    "button": false,
    "new_sheet": false,
    "run_control": {
     "read_only": false
    }
   },
   "source": [
    "#### Chained Conditionals\n",
    "\n",
    "Sometimes there are more than two possibilities to consider. Using the `elif` statement we can test whether multiple conditions are true and execute corresponding code blocks. Use of the else statement is optional and will execute a code block if none of the preceding statements were true. "
   ]
  },
  {
   "cell_type": "code",
   "execution_count": 8,
   "metadata": {
    "button": false,
    "new_sheet": false,
    "run_control": {
     "frozen": false,
     "read_only": false
    }
   },
   "outputs": [
    {
     "name": "stdout",
     "output_type": "stream",
     "text": [
      "Gene is expressed at a low level\n"
     ]
    }
   ],
   "source": [
    "expression_level = 827\n",
    "if expression_level > 20000: \n",
    "    print(\"Gene is highly expressed\")\n",
    "elif expression_level > 5000:\n",
    "    print(\"Gene is moderately expressed\")\n",
    "elif expression_level > 20:\n",
    "    print(\"Gene is expressed at a low level\")\n",
    "else:\n",
    "    print(\"Gene expression not above background\")"
   ]
  },
  {
   "cell_type": "markdown",
   "metadata": {
    "button": false,
    "new_sheet": false,
    "run_control": {
     "read_only": false
    }
   },
   "source": [
    "#### Nested if statements\n",
    "\n",
    "Another way to make much more complex sets of conditions is to 'nest' `if` statements. The nested conditional statement will only be evaluated if the first condition is met:"
   ]
  },
  {
   "cell_type": "code",
   "execution_count": 9,
   "metadata": {
    "button": false,
    "new_sheet": false,
    "run_control": {
     "frozen": false,
     "read_only": false
    }
   },
   "outputs": [
    {
     "name": "stdout",
     "output_type": "stream",
     "text": [
      "Gene expression not differentally expressed (p value above threshold)\n"
     ]
    }
   ],
   "source": [
    "expression_fold_change = 4.3\n",
    "adjusted_p_value = 0.190\n",
    "#if fold change in expression is greater than 2, test p value\n",
    "if expression_fold_change > 2: \n",
    "    if adjusted_p_value < 0.05:\n",
    "        print(\"A significant difference in fold change was detected for this gene\")\n",
    "    else:\n",
    "        print(\"Gene expression not differentally expressed (p value above threshold)\")\n",
    "else:\n",
    "    if adjusted_p_value < 0.05:\n",
    "        print(\"Fold change below threshold, significant p value will be ignored\")\n",
    "    else:\n",
    "        print(\"Fold change and p value both did not meet required thresholds\")"
   ]
  },
  {
   "cell_type": "markdown",
   "metadata": {
    "button": false,
    "new_sheet": false,
    "run_control": {
     "read_only": false
    }
   },
   "source": [
    "\n",
    "### Different types of comparators\n",
    "\n",
    "#### Comparing values using Boolean expressions\n",
    "\n",
    "Boolean operators compare one variable value with another (it can work for numeric types, strings, lists, dicts) and return a value of True or False. If the comparison is True, then the expression evaluates to True, otherwise, it is False.\n",
    "\n",
    "<table>\n",
    "<tr>\n",
    "<td>==</td><td>equal to</td>\n",
    "</tr>\n",
    "<tr>\n",
    "<td> > </td><td>greater than</td>\n",
    "</tr>\n",
    "<tr>\n",
    "<td>>= </td><td>greater than or equal to</td>\n",
    "</tr>\n",
    "<tr>\n",
    "<td>< </td><td>less than</td>\n",
    "</tr>\n",
    "<tr>\n",
    "<td><= </td><td>less than or equal to</td>\n",
    "</tr>\n",
    "<tr>\n",
    "<td>!= </td><td>not equal to</td>\n",
    "</tr>\n",
    "</table>\n"
   ]
  },
  {
   "cell_type": "code",
   "execution_count": 1,
   "metadata": {
    "button": false,
    "new_sheet": false,
    "run_control": {
     "frozen": false,
     "read_only": false
    }
   },
   "outputs": [
    {
     "name": "stdout",
     "output_type": "stream",
     "text": [
      "False\n",
      "True\n",
      "False\n",
      "True\n",
      "True\n",
      "True\n",
      "False\n"
     ]
    }
   ],
   "source": [
    "print(1 == 2) #prints False\n",
    "print(1 == 1) #prints True\n",
    "print(1 >  2) #prints False\n",
    "print(1 <  2) #prints True\n",
    "print(1 >= 1) #prints True\n",
    "print(1 != 2) #prints True\n",
    "print(1 != 1) #prints False"
   ]
  },
  {
   "cell_type": "markdown",
   "metadata": {
    "button": false,
    "new_sheet": false,
    "run_control": {
     "read_only": false
    }
   },
   "source": [
    "#### Containment Comparison\n",
    "\n",
    "The comparator `in` tests whether a value is found inside another variable, such as a list, tuple, dictionary or string. \n",
    "\n",
    "<table>\n",
    "<tr>\n",
    "<td>\n",
    "x in y\n",
    "</td>\n",
    "<td>\n",
    "Returns true if x is contained in y\n",
    "</td>\n",
    "</tr>\n",
    "<tr>\n",
    "<td>\n",
    "x not in y\n",
    "</td>\n",
    "<td>\n",
    "Returns true if x is not contained in y\n",
    "</td>\n",
    "</tr>\n",
    "</table>\n",
    "\n",
    "|Container type|Where searched|\n",
    "| ------- | ------- |\n",
    "| lists and tuples | anywhere in the lists or tuple |\n",
    "| dicts | only checks the keys |\n",
    "| strings | checks whether the string contains the specified substring |\n",
    "\n",
    "The in comparator is particularly useful for checking whether an item is already in a list or key is already in a dictionary. \n",
    " \n"
   ]
  },
  {
   "cell_type": "markdown",
   "metadata": {},
   "source": [
    "### Mathematical conditions\n",
    "\n",
    "We can build up more complicated conditions by using any of the arithmetic operators we learned in 'Working with Numbers'. The condition must evaluate to either True or False, for example if x is 10, the expression x/4 == 2.5 will be True:"
   ]
  },
  {
   "cell_type": "code",
   "execution_count": 9,
   "metadata": {},
   "outputs": [
    {
     "name": "stdout",
     "output_type": "stream",
     "text": [
      "x is 10\n"
     ]
    }
   ],
   "source": [
    "x = 10\n",
    "if x / 4 == 2.5:\n",
    "    print(\"x is 10\")\n",
    "else: \n",
    "    print(\"x is not 10\")"
   ]
  },
  {
   "cell_type": "markdown",
   "metadata": {},
   "source": [
    "# Exercise\n",
    "\n",
    "Write a Python script to determine whether a given year (an integer variable, year) is a leap year. \n",
    "\n",
    "n.b. A leap year is every year whose number is perfectly divisible by 4 - except for years which are divisible by 100 but not divisible by 400. For example; the years 1600 and 2000 are leap years, but the years 1700, 1800, and 1900 are not. You may wish to use the modulus operator (%).\n",
    "\n"
   ]
  },
  {
   "cell_type": "code",
   "execution_count": null,
   "metadata": {
    "button": false,
    "collapsed": true,
    "new_sheet": false,
    "run_control": {
     "read_only": false
    }
   },
   "outputs": [],
   "source": [
    "year = 2000\n",
    "\n"
   ]
  }
 ],
 "metadata": {
  "anaconda-cloud": {},
  "hide_input": false,
  "kernelspec": {
   "display_name": "Python 3",
   "language": "python",
   "name": "python3"
  },
  "language_info": {
   "codemirror_mode": {
    "name": "ipython",
    "version": 3
   },
   "file_extension": ".py",
   "mimetype": "text/x-python",
   "name": "python",
   "nbconvert_exporter": "python",
   "pygments_lexer": "ipython3",
   "version": "3.6.2"
  }
 },
 "nbformat": 4,
 "nbformat_minor": 1
}
